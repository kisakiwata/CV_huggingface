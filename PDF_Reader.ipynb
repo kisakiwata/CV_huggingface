{
  "nbformat": 4,
  "nbformat_minor": 0,
  "metadata": {
    "colab": {
      "provenance": [],
      "gpuType": "T4",
      "mount_file_id": "1hi99HCYaVIlBCmczdfDiPZRefEfu6R5n",
      "authorship_tag": "ABX9TyOYAn8ok9LgshShlLVfe8nM",
      "include_colab_link": true
    },
    "kernelspec": {
      "name": "python3",
      "display_name": "Python 3"
    },
    "language_info": {
      "name": "python"
    },
    "accelerator": "GPU",
    "widgets": {
      "application/vnd.jupyter.widget-state+json": {
        "9c97951969794bc09e5d255160525627": {
          "model_module": "@jupyter-widgets/controls",
          "model_name": "HBoxModel",
          "model_module_version": "1.5.0",
          "state": {
            "_dom_classes": [],
            "_model_module": "@jupyter-widgets/controls",
            "_model_module_version": "1.5.0",
            "_model_name": "HBoxModel",
            "_view_count": null,
            "_view_module": "@jupyter-widgets/controls",
            "_view_module_version": "1.5.0",
            "_view_name": "HBoxView",
            "box_style": "",
            "children": [
              "IPY_MODEL_de144d953c9f472a80181313f1168ba1",
              "IPY_MODEL_3ee71dd713e64877ae12ae9d691f5120",
              "IPY_MODEL_344c41e1ee5049e481949bd923dd13b8"
            ],
            "layout": "IPY_MODEL_6cdad00fcb424ae6ac9b0f8dd6d55231"
          }
        },
        "de144d953c9f472a80181313f1168ba1": {
          "model_module": "@jupyter-widgets/controls",
          "model_name": "HTMLModel",
          "model_module_version": "1.5.0",
          "state": {
            "_dom_classes": [],
            "_model_module": "@jupyter-widgets/controls",
            "_model_module_version": "1.5.0",
            "_model_name": "HTMLModel",
            "_view_count": null,
            "_view_module": "@jupyter-widgets/controls",
            "_view_module_version": "1.5.0",
            "_view_name": "HTMLView",
            "description": "",
            "description_tooltip": null,
            "layout": "IPY_MODEL_b5676d0288fb42baa22b1aa9699a1522",
            "placeholder": "​",
            "style": "IPY_MODEL_e5a71ed897a8451da3dc858448b0c19c",
            "value": "Loading checkpoint shards: 100%"
          }
        },
        "3ee71dd713e64877ae12ae9d691f5120": {
          "model_module": "@jupyter-widgets/controls",
          "model_name": "FloatProgressModel",
          "model_module_version": "1.5.0",
          "state": {
            "_dom_classes": [],
            "_model_module": "@jupyter-widgets/controls",
            "_model_module_version": "1.5.0",
            "_model_name": "FloatProgressModel",
            "_view_count": null,
            "_view_module": "@jupyter-widgets/controls",
            "_view_module_version": "1.5.0",
            "_view_name": "ProgressView",
            "bar_style": "success",
            "description": "",
            "description_tooltip": null,
            "layout": "IPY_MODEL_427898fa1c314d0f9424f3220bdf0d49",
            "max": 2,
            "min": 0,
            "orientation": "horizontal",
            "style": "IPY_MODEL_b9e01ea697744e8ab8082ce47cfa3938",
            "value": 2
          }
        },
        "344c41e1ee5049e481949bd923dd13b8": {
          "model_module": "@jupyter-widgets/controls",
          "model_name": "HTMLModel",
          "model_module_version": "1.5.0",
          "state": {
            "_dom_classes": [],
            "_model_module": "@jupyter-widgets/controls",
            "_model_module_version": "1.5.0",
            "_model_name": "HTMLModel",
            "_view_count": null,
            "_view_module": "@jupyter-widgets/controls",
            "_view_module_version": "1.5.0",
            "_view_name": "HTMLView",
            "description": "",
            "description_tooltip": null,
            "layout": "IPY_MODEL_f6e3381fa42143efb06a442456d22475",
            "placeholder": "​",
            "style": "IPY_MODEL_2dbda4961a944347b75d12be9cdbb5c9",
            "value": " 2/2 [01:02&lt;00:00, 62.44s/it]"
          }
        },
        "6cdad00fcb424ae6ac9b0f8dd6d55231": {
          "model_module": "@jupyter-widgets/base",
          "model_name": "LayoutModel",
          "model_module_version": "1.2.0",
          "state": {
            "_model_module": "@jupyter-widgets/base",
            "_model_module_version": "1.2.0",
            "_model_name": "LayoutModel",
            "_view_count": null,
            "_view_module": "@jupyter-widgets/base",
            "_view_module_version": "1.2.0",
            "_view_name": "LayoutView",
            "align_content": null,
            "align_items": null,
            "align_self": null,
            "border": null,
            "bottom": null,
            "display": null,
            "flex": null,
            "flex_flow": null,
            "grid_area": null,
            "grid_auto_columns": null,
            "grid_auto_flow": null,
            "grid_auto_rows": null,
            "grid_column": null,
            "grid_gap": null,
            "grid_row": null,
            "grid_template_areas": null,
            "grid_template_columns": null,
            "grid_template_rows": null,
            "height": null,
            "justify_content": null,
            "justify_items": null,
            "left": null,
            "margin": null,
            "max_height": null,
            "max_width": null,
            "min_height": null,
            "min_width": null,
            "object_fit": null,
            "object_position": null,
            "order": null,
            "overflow": null,
            "overflow_x": null,
            "overflow_y": null,
            "padding": null,
            "right": null,
            "top": null,
            "visibility": null,
            "width": null
          }
        },
        "b5676d0288fb42baa22b1aa9699a1522": {
          "model_module": "@jupyter-widgets/base",
          "model_name": "LayoutModel",
          "model_module_version": "1.2.0",
          "state": {
            "_model_module": "@jupyter-widgets/base",
            "_model_module_version": "1.2.0",
            "_model_name": "LayoutModel",
            "_view_count": null,
            "_view_module": "@jupyter-widgets/base",
            "_view_module_version": "1.2.0",
            "_view_name": "LayoutView",
            "align_content": null,
            "align_items": null,
            "align_self": null,
            "border": null,
            "bottom": null,
            "display": null,
            "flex": null,
            "flex_flow": null,
            "grid_area": null,
            "grid_auto_columns": null,
            "grid_auto_flow": null,
            "grid_auto_rows": null,
            "grid_column": null,
            "grid_gap": null,
            "grid_row": null,
            "grid_template_areas": null,
            "grid_template_columns": null,
            "grid_template_rows": null,
            "height": null,
            "justify_content": null,
            "justify_items": null,
            "left": null,
            "margin": null,
            "max_height": null,
            "max_width": null,
            "min_height": null,
            "min_width": null,
            "object_fit": null,
            "object_position": null,
            "order": null,
            "overflow": null,
            "overflow_x": null,
            "overflow_y": null,
            "padding": null,
            "right": null,
            "top": null,
            "visibility": null,
            "width": null
          }
        },
        "e5a71ed897a8451da3dc858448b0c19c": {
          "model_module": "@jupyter-widgets/controls",
          "model_name": "DescriptionStyleModel",
          "model_module_version": "1.5.0",
          "state": {
            "_model_module": "@jupyter-widgets/controls",
            "_model_module_version": "1.5.0",
            "_model_name": "DescriptionStyleModel",
            "_view_count": null,
            "_view_module": "@jupyter-widgets/base",
            "_view_module_version": "1.2.0",
            "_view_name": "StyleView",
            "description_width": ""
          }
        },
        "427898fa1c314d0f9424f3220bdf0d49": {
          "model_module": "@jupyter-widgets/base",
          "model_name": "LayoutModel",
          "model_module_version": "1.2.0",
          "state": {
            "_model_module": "@jupyter-widgets/base",
            "_model_module_version": "1.2.0",
            "_model_name": "LayoutModel",
            "_view_count": null,
            "_view_module": "@jupyter-widgets/base",
            "_view_module_version": "1.2.0",
            "_view_name": "LayoutView",
            "align_content": null,
            "align_items": null,
            "align_self": null,
            "border": null,
            "bottom": null,
            "display": null,
            "flex": null,
            "flex_flow": null,
            "grid_area": null,
            "grid_auto_columns": null,
            "grid_auto_flow": null,
            "grid_auto_rows": null,
            "grid_column": null,
            "grid_gap": null,
            "grid_row": null,
            "grid_template_areas": null,
            "grid_template_columns": null,
            "grid_template_rows": null,
            "height": null,
            "justify_content": null,
            "justify_items": null,
            "left": null,
            "margin": null,
            "max_height": null,
            "max_width": null,
            "min_height": null,
            "min_width": null,
            "object_fit": null,
            "object_position": null,
            "order": null,
            "overflow": null,
            "overflow_x": null,
            "overflow_y": null,
            "padding": null,
            "right": null,
            "top": null,
            "visibility": null,
            "width": null
          }
        },
        "b9e01ea697744e8ab8082ce47cfa3938": {
          "model_module": "@jupyter-widgets/controls",
          "model_name": "ProgressStyleModel",
          "model_module_version": "1.5.0",
          "state": {
            "_model_module": "@jupyter-widgets/controls",
            "_model_module_version": "1.5.0",
            "_model_name": "ProgressStyleModel",
            "_view_count": null,
            "_view_module": "@jupyter-widgets/base",
            "_view_module_version": "1.2.0",
            "_view_name": "StyleView",
            "bar_color": null,
            "description_width": ""
          }
        },
        "f6e3381fa42143efb06a442456d22475": {
          "model_module": "@jupyter-widgets/base",
          "model_name": "LayoutModel",
          "model_module_version": "1.2.0",
          "state": {
            "_model_module": "@jupyter-widgets/base",
            "_model_module_version": "1.2.0",
            "_model_name": "LayoutModel",
            "_view_count": null,
            "_view_module": "@jupyter-widgets/base",
            "_view_module_version": "1.2.0",
            "_view_name": "LayoutView",
            "align_content": null,
            "align_items": null,
            "align_self": null,
            "border": null,
            "bottom": null,
            "display": null,
            "flex": null,
            "flex_flow": null,
            "grid_area": null,
            "grid_auto_columns": null,
            "grid_auto_flow": null,
            "grid_auto_rows": null,
            "grid_column": null,
            "grid_gap": null,
            "grid_row": null,
            "grid_template_areas": null,
            "grid_template_columns": null,
            "grid_template_rows": null,
            "height": null,
            "justify_content": null,
            "justify_items": null,
            "left": null,
            "margin": null,
            "max_height": null,
            "max_width": null,
            "min_height": null,
            "min_width": null,
            "object_fit": null,
            "object_position": null,
            "order": null,
            "overflow": null,
            "overflow_x": null,
            "overflow_y": null,
            "padding": null,
            "right": null,
            "top": null,
            "visibility": null,
            "width": null
          }
        },
        "2dbda4961a944347b75d12be9cdbb5c9": {
          "model_module": "@jupyter-widgets/controls",
          "model_name": "DescriptionStyleModel",
          "model_module_version": "1.5.0",
          "state": {
            "_model_module": "@jupyter-widgets/controls",
            "_model_module_version": "1.5.0",
            "_model_name": "DescriptionStyleModel",
            "_view_count": null,
            "_view_module": "@jupyter-widgets/base",
            "_view_module_version": "1.2.0",
            "_view_name": "StyleView",
            "description_width": ""
          }
        }
      }
    }
  },
  "cells": [
    {
      "cell_type": "markdown",
      "metadata": {
        "id": "view-in-github",
        "colab_type": "text"
      },
      "source": [
        "<a href=\"https://colab.research.google.com/github/kisakiwata/CV_huggingface/blob/main/PDF_Reader.ipynb\" target=\"_parent\"><img src=\"https://colab.research.google.com/assets/colab-badge.svg\" alt=\"Open In Colab\"/></a>"
      ]
    },
    {
      "cell_type": "code",
      "execution_count": 2,
      "metadata": {
        "colab": {
          "base_uri": "https://localhost:8080/",
          "height": 1000
        },
        "id": "cuuau09OnEBZ",
        "outputId": "8b52543d-3764-4e38-a51b-30196245e417"
      },
      "outputs": [
        {
          "output_type": "stream",
          "name": "stdout",
          "text": [
            "\u001b[2K     \u001b[90m━━━━━━━━━━━━━━━━━━━━━━━━━━━━━━━━━━━━━━━━\u001b[0m \u001b[32m1.9/1.9 MB\u001b[0m \u001b[31m17.9 MB/s\u001b[0m eta \u001b[36m0:00:00\u001b[0m\n",
            "\u001b[2K     \u001b[90m━━━━━━━━━━━━━━━━━━━━━━━━━━━━━━━━━━━━━━━━\u001b[0m \u001b[32m43.3/43.3 kB\u001b[0m \u001b[31m6.2 MB/s\u001b[0m eta \u001b[36m0:00:00\u001b[0m\n",
            "\u001b[2K     \u001b[90m━━━━━━━━━━━━━━━━━━━━━━━━━━━━━━━━━━━━━━━━\u001b[0m \u001b[32m49.4/49.4 kB\u001b[0m \u001b[31m6.8 MB/s\u001b[0m eta \u001b[36m0:00:00\u001b[0m\n",
            "\u001b[2K     \u001b[90m━━━━━━━━━━━━━━━━━━━━━━━━━━━━━━━━━━━━━━━━\u001b[0m \u001b[32m276.6/276.6 kB\u001b[0m \u001b[31m4.7 MB/s\u001b[0m eta \u001b[36m0:00:00\u001b[0m\n",
            "\u001b[2K     \u001b[90m━━━━━━━━━━━━━━━━━━━━━━━━━━━━━━━━━━━━━━━━\u001b[0m \u001b[32m48.0/48.0 kB\u001b[0m \u001b[31m1.4 MB/s\u001b[0m eta \u001b[36m0:00:00\u001b[0m\n",
            "\u001b[2K     \u001b[90m━━━━━━━━━━━━━━━━━━━━━━━━━━━━━━━━━━━━━━━━\u001b[0m \u001b[32m2.0/2.0 MB\u001b[0m \u001b[31m25.8 MB/s\u001b[0m eta \u001b[36m0:00:00\u001b[0m\n",
            "\u001b[2K     \u001b[90m━━━━━━━━━━━━━━━━━━━━━━━━━━━━━━━━━━━━━━━━\u001b[0m \u001b[32m77.0/77.0 kB\u001b[0m \u001b[31m10.3 MB/s\u001b[0m eta \u001b[36m0:00:00\u001b[0m\n",
            "\u001b[2K     \u001b[90m━━━━━━━━━━━━━━━━━━━━━━━━━━━━━━━━━━━━━━━━\u001b[0m \u001b[32m2.7/2.7 MB\u001b[0m \u001b[31m81.7 MB/s\u001b[0m eta \u001b[36m0:00:00\u001b[0m\n",
            "\u001b[2K     \u001b[90m━━━━━━━━━━━━━━━━━━━━━━━━━━━━━━━━━━━━━━━━\u001b[0m \u001b[32m17.6/17.6 MB\u001b[0m \u001b[31m76.4 MB/s\u001b[0m eta \u001b[36m0:00:00\u001b[0m\n",
            "\u001b[2K     \u001b[90m━━━━━━━━━━━━━━━━━━━━━━━━━━━━━━━━━━━━━━━━\u001b[0m \u001b[32m1.7/1.7 MB\u001b[0m \u001b[31m16.9 MB/s\u001b[0m eta \u001b[36m0:00:00\u001b[0m\n",
            "\u001b[2K     \u001b[90m━━━━━━━━━━━━━━━━━━━━━━━━━━━━━━━━━━━━━━━━\u001b[0m \u001b[32m358.9/358.9 kB\u001b[0m \u001b[31m40.5 MB/s\u001b[0m eta \u001b[36m0:00:00\u001b[0m\n",
            "\u001b[2K     \u001b[90m━━━━━━━━━━━━━━━━━━━━━━━━━━━━━━━━━━━━━━━━\u001b[0m \u001b[32m275.1/275.1 kB\u001b[0m \u001b[31m29.4 MB/s\u001b[0m eta \u001b[36m0:00:00\u001b[0m\n",
            "\u001b[2K     \u001b[90m━━━━━━━━━━━━━━━━━━━━━━━━━━━━━━━━━━━━━━━━\u001b[0m \u001b[32m981.5/981.5 kB\u001b[0m \u001b[31m62.9 MB/s\u001b[0m eta \u001b[36m0:00:00\u001b[0m\n",
            "\u001b[?25h  Preparing metadata (setup.py) ... \u001b[?25l\u001b[?25hdone\n",
            "\u001b[2K     \u001b[90m━━━━━━━━━━━━━━━━━━━━━━━━━━━━━━━━━━━━━━━━\u001b[0m \u001b[32m3.2/3.2 MB\u001b[0m \u001b[31m65.2 MB/s\u001b[0m eta \u001b[36m0:00:00\u001b[0m\n",
            "\u001b[?25h  Building wheel for langdetect (setup.py) ... \u001b[?25l\u001b[?25hdone\n",
            "\u001b[2K     \u001b[90m━━━━━━━━━━━━━━━━━━━━━━━━━━━━━━━━━━━━━━━━\u001b[0m \u001b[32m232.6/232.6 kB\u001b[0m \u001b[31m3.2 MB/s\u001b[0m eta \u001b[36m0:00:00\u001b[0m\n",
            "\u001b[?25hCollecting chromadb\n",
            "  Downloading chromadb-0.4.15-py3-none-any.whl (479 kB)\n",
            "\u001b[2K     \u001b[90m━━━━━━━━━━━━━━━━━━━━━━━━━━━━━━━━━━━━━━━━\u001b[0m \u001b[32m479.8/479.8 kB\u001b[0m \u001b[31m6.6 MB/s\u001b[0m eta \u001b[36m0:00:00\u001b[0m\n",
            "\u001b[?25hRequirement already satisfied: requests>=2.28 in /usr/local/lib/python3.10/dist-packages (from chromadb) (2.31.0)\n",
            "Requirement already satisfied: pydantic>=1.9 in /usr/local/lib/python3.10/dist-packages (from chromadb) (1.10.13)\n",
            "Collecting chroma-hnswlib==0.7.3 (from chromadb)\n",
            "  Downloading chroma_hnswlib-0.7.3-cp310-cp310-manylinux_2_17_x86_64.manylinux2014_x86_64.whl (2.4 MB)\n",
            "\u001b[2K     \u001b[90m━━━━━━━━━━━━━━━━━━━━━━━━━━━━━━━━━━━━━━━━\u001b[0m \u001b[32m2.4/2.4 MB\u001b[0m \u001b[31m50.3 MB/s\u001b[0m eta \u001b[36m0:00:00\u001b[0m\n",
            "\u001b[?25hCollecting fastapi>=0.95.2 (from chromadb)\n",
            "  Downloading fastapi-0.104.0-py3-none-any.whl (92 kB)\n",
            "\u001b[2K     \u001b[90m━━━━━━━━━━━━━━━━━━━━━━━━━━━━━━━━━━━━━━━━\u001b[0m \u001b[32m92.9/92.9 kB\u001b[0m \u001b[31m10.9 MB/s\u001b[0m eta \u001b[36m0:00:00\u001b[0m\n",
            "\u001b[?25hCollecting uvicorn[standard]>=0.18.3 (from chromadb)\n",
            "  Downloading uvicorn-0.23.2-py3-none-any.whl (59 kB)\n",
            "\u001b[2K     \u001b[90m━━━━━━━━━━━━━━━━━━━━━━━━━━━━━━━━━━━━━━━━\u001b[0m \u001b[32m59.5/59.5 kB\u001b[0m \u001b[31m9.9 MB/s\u001b[0m eta \u001b[36m0:00:00\u001b[0m\n",
            "\u001b[?25hCollecting posthog>=2.4.0 (from chromadb)\n",
            "  Downloading posthog-3.0.2-py2.py3-none-any.whl (37 kB)\n",
            "Requirement already satisfied: typing-extensions>=4.5.0 in /usr/local/lib/python3.10/dist-packages (from chromadb) (4.5.0)\n",
            "Collecting pulsar-client>=3.1.0 (from chromadb)\n",
            "  Downloading pulsar_client-3.3.0-cp310-cp310-manylinux_2_17_x86_64.manylinux2014_x86_64.whl (5.4 MB)\n",
            "\u001b[2K     \u001b[90m━━━━━━━━━━━━━━━━━━━━━━━━━━━━━━━━━━━━━━━━\u001b[0m \u001b[32m5.4/5.4 MB\u001b[0m \u001b[31m102.5 MB/s\u001b[0m eta \u001b[36m0:00:00\u001b[0m\n",
            "\u001b[?25hCollecting onnxruntime>=1.14.1 (from chromadb)\n",
            "  Downloading onnxruntime-1.16.1-cp310-cp310-manylinux_2_17_x86_64.manylinux2014_x86_64.whl (6.2 MB)\n",
            "\u001b[2K     \u001b[90m━━━━━━━━━━━━━━━━━━━━━━━━━━━━━━━━━━━━━━━━\u001b[0m \u001b[32m6.2/6.2 MB\u001b[0m \u001b[31m99.9 MB/s\u001b[0m eta \u001b[36m0:00:00\u001b[0m\n",
            "\u001b[?25hCollecting opentelemetry-api>=1.2.0 (from chromadb)\n",
            "  Downloading opentelemetry_api-1.20.0-py3-none-any.whl (57 kB)\n",
            "\u001b[2K     \u001b[90m━━━━━━━━━━━━━━━━━━━━━━━━━━━━━━━━━━━━━━━━\u001b[0m \u001b[32m57.5/57.5 kB\u001b[0m \u001b[31m8.9 MB/s\u001b[0m eta \u001b[36m0:00:00\u001b[0m\n",
            "\u001b[?25hCollecting opentelemetry-exporter-otlp-proto-grpc>=1.2.0 (from chromadb)\n",
            "  Downloading opentelemetry_exporter_otlp_proto_grpc-1.20.0-py3-none-any.whl (18 kB)\n",
            "Collecting opentelemetry-sdk>=1.2.0 (from chromadb)\n",
            "  Downloading opentelemetry_sdk-1.20.0-py3-none-any.whl (103 kB)\n",
            "\u001b[2K     \u001b[90m━━━━━━━━━━━━━━━━━━━━━━━━━━━━━━━━━━━━━━━━\u001b[0m \u001b[32m103.9/103.9 kB\u001b[0m \u001b[31m17.3 MB/s\u001b[0m eta \u001b[36m0:00:00\u001b[0m\n",
            "\u001b[?25hCollecting tokenizers>=0.13.2 (from chromadb)\n",
            "  Downloading tokenizers-0.14.1-cp310-cp310-manylinux_2_17_x86_64.manylinux2014_x86_64.whl (3.8 MB)\n",
            "\u001b[2K     \u001b[90m━━━━━━━━━━━━━━━━━━━━━━━━━━━━━━━━━━━━━━━━\u001b[0m \u001b[32m3.8/3.8 MB\u001b[0m \u001b[31m76.3 MB/s\u001b[0m eta \u001b[36m0:00:00\u001b[0m\n",
            "\u001b[?25hCollecting pypika>=0.48.9 (from chromadb)\n",
            "  Downloading PyPika-0.48.9.tar.gz (67 kB)\n",
            "\u001b[2K     \u001b[90m━━━━━━━━━━━━━━━━━━━━━━━━━━━━━━━━━━━━━━━━\u001b[0m \u001b[32m67.3/67.3 kB\u001b[0m \u001b[31m11.0 MB/s\u001b[0m eta \u001b[36m0:00:00\u001b[0m\n",
            "\u001b[?25h  Installing build dependencies ... \u001b[?25l\u001b[?25hdone\n",
            "  Getting requirements to build wheel ... \u001b[?25l\u001b[?25hdone\n",
            "  Preparing metadata (pyproject.toml) ... \u001b[?25l\u001b[?25hdone\n",
            "Requirement already satisfied: tqdm>=4.65.0 in /usr/local/lib/python3.10/dist-packages (from chromadb) (4.66.1)\n",
            "Collecting overrides>=7.3.1 (from chromadb)\n",
            "  Downloading overrides-7.4.0-py3-none-any.whl (17 kB)\n",
            "Requirement already satisfied: importlib-resources in /usr/local/lib/python3.10/dist-packages (from chromadb) (6.1.0)\n",
            "Requirement already satisfied: grpcio>=1.58.0 in /usr/local/lib/python3.10/dist-packages (from chromadb) (1.59.0)\n",
            "Collecting bcrypt>=4.0.1 (from chromadb)\n",
            "  Downloading bcrypt-4.0.1-cp36-abi3-manylinux_2_28_x86_64.whl (593 kB)\n",
            "\u001b[2K     \u001b[90m━━━━━━━━━━━━━━━━━━━━━━━━━━━━━━━━━━━━━━━━\u001b[0m \u001b[32m593.7/593.7 kB\u001b[0m \u001b[31m45.8 MB/s\u001b[0m eta \u001b[36m0:00:00\u001b[0m\n",
            "\u001b[?25hRequirement already satisfied: typer>=0.9.0 in /usr/local/lib/python3.10/dist-packages (from chromadb) (0.9.0)\n",
            "Collecting kubernetes>=28.1.0 (from chromadb)\n",
            "  Downloading kubernetes-28.1.0-py2.py3-none-any.whl (1.6 MB)\n",
            "\u001b[2K     \u001b[90m━━━━━━━━━━━━━━━━━━━━━━━━━━━━━━━━━━━━━━━━\u001b[0m \u001b[32m1.6/1.6 MB\u001b[0m \u001b[31m69.4 MB/s\u001b[0m eta \u001b[36m0:00:00\u001b[0m\n",
            "\u001b[?25hRequirement already satisfied: tenacity>=8.2.3 in /usr/local/lib/python3.10/dist-packages (from chromadb) (8.2.3)\n",
            "Requirement already satisfied: numpy>=1.22.5 in /usr/local/lib/python3.10/dist-packages (from chromadb) (1.23.5)\n",
            "Requirement already satisfied: anyio<4.0.0,>=3.7.1 in /usr/local/lib/python3.10/dist-packages (from fastapi>=0.95.2->chromadb) (3.7.1)\n",
            "Collecting starlette<0.28.0,>=0.27.0 (from fastapi>=0.95.2->chromadb)\n",
            "  Downloading starlette-0.27.0-py3-none-any.whl (66 kB)\n",
            "\u001b[2K     \u001b[90m━━━━━━━━━━━━━━━━━━━━━━━━━━━━━━━━━━━━━━━━\u001b[0m \u001b[32m67.0/67.0 kB\u001b[0m \u001b[31m10.1 MB/s\u001b[0m eta \u001b[36m0:00:00\u001b[0m\n",
            "\u001b[?25hCollecting typing-extensions>=4.5.0 (from chromadb)\n",
            "  Downloading typing_extensions-4.8.0-py3-none-any.whl (31 kB)\n",
            "Requirement already satisfied: certifi>=14.05.14 in /usr/local/lib/python3.10/dist-packages (from kubernetes>=28.1.0->chromadb) (2023.7.22)\n",
            "Requirement already satisfied: six>=1.9.0 in /usr/local/lib/python3.10/dist-packages (from kubernetes>=28.1.0->chromadb) (1.16.0)\n",
            "Requirement already satisfied: python-dateutil>=2.5.3 in /usr/local/lib/python3.10/dist-packages (from kubernetes>=28.1.0->chromadb) (2.8.2)\n",
            "Requirement already satisfied: pyyaml>=5.4.1 in /usr/local/lib/python3.10/dist-packages (from kubernetes>=28.1.0->chromadb) (6.0.1)\n",
            "Requirement already satisfied: google-auth>=1.0.1 in /usr/local/lib/python3.10/dist-packages (from kubernetes>=28.1.0->chromadb) (2.17.3)\n",
            "Requirement already satisfied: websocket-client!=0.40.0,!=0.41.*,!=0.42.*,>=0.32.0 in /usr/local/lib/python3.10/dist-packages (from kubernetes>=28.1.0->chromadb) (1.6.4)\n",
            "Requirement already satisfied: requests-oauthlib in /usr/local/lib/python3.10/dist-packages (from kubernetes>=28.1.0->chromadb) (1.3.1)\n",
            "Requirement already satisfied: oauthlib>=3.2.2 in /usr/local/lib/python3.10/dist-packages (from kubernetes>=28.1.0->chromadb) (3.2.2)\n",
            "Collecting urllib3<2.0,>=1.24.2 (from kubernetes>=28.1.0->chromadb)\n",
            "  Downloading urllib3-1.26.18-py2.py3-none-any.whl (143 kB)\n",
            "\u001b[2K     \u001b[90m━━━━━━━━━━━━━━━━━━━━━━━━━━━━━━━━━━━━━━━━\u001b[0m \u001b[32m143.8/143.8 kB\u001b[0m \u001b[31m15.7 MB/s\u001b[0m eta \u001b[36m0:00:00\u001b[0m\n",
            "\u001b[?25hCollecting coloredlogs (from onnxruntime>=1.14.1->chromadb)\n",
            "  Downloading coloredlogs-15.0.1-py2.py3-none-any.whl (46 kB)\n",
            "\u001b[2K     \u001b[90m━━━━━━━━━━━━━━━━━━━━━━━━━━━━━━━━━━━━━━━━\u001b[0m \u001b[32m46.0/46.0 kB\u001b[0m \u001b[31m6.0 MB/s\u001b[0m eta \u001b[36m0:00:00\u001b[0m\n",
            "\u001b[?25hRequirement already satisfied: flatbuffers in /usr/local/lib/python3.10/dist-packages (from onnxruntime>=1.14.1->chromadb) (23.5.26)\n",
            "Requirement already satisfied: packaging in /usr/local/lib/python3.10/dist-packages (from onnxruntime>=1.14.1->chromadb) (23.2)\n",
            "Requirement already satisfied: protobuf in /usr/local/lib/python3.10/dist-packages (from onnxruntime>=1.14.1->chromadb) (3.20.3)\n",
            "Requirement already satisfied: sympy in /usr/local/lib/python3.10/dist-packages (from onnxruntime>=1.14.1->chromadb) (1.12)\n",
            "Collecting deprecated>=1.2.6 (from opentelemetry-api>=1.2.0->chromadb)\n",
            "  Downloading Deprecated-1.2.14-py2.py3-none-any.whl (9.6 kB)\n",
            "Requirement already satisfied: importlib-metadata<7.0,>=6.0 in /usr/local/lib/python3.10/dist-packages (from opentelemetry-api>=1.2.0->chromadb) (6.8.0)\n",
            "Requirement already satisfied: backoff<3.0.0,>=1.10.0 in /usr/local/lib/python3.10/dist-packages (from opentelemetry-exporter-otlp-proto-grpc>=1.2.0->chromadb) (2.2.1)\n",
            "Requirement already satisfied: googleapis-common-protos~=1.52 in /usr/local/lib/python3.10/dist-packages (from opentelemetry-exporter-otlp-proto-grpc>=1.2.0->chromadb) (1.61.0)\n",
            "Collecting opentelemetry-exporter-otlp-proto-common==1.20.0 (from opentelemetry-exporter-otlp-proto-grpc>=1.2.0->chromadb)\n",
            "  Downloading opentelemetry_exporter_otlp_proto_common-1.20.0-py3-none-any.whl (17 kB)\n",
            "Collecting opentelemetry-proto==1.20.0 (from opentelemetry-exporter-otlp-proto-grpc>=1.2.0->chromadb)\n",
            "  Downloading opentelemetry_proto-1.20.0-py3-none-any.whl (50 kB)\n",
            "\u001b[2K     \u001b[90m━━━━━━━━━━━━━━━━━━━━━━━━━━━━━━━━━━━━━━━━\u001b[0m \u001b[32m50.8/50.8 kB\u001b[0m \u001b[31m8.2 MB/s\u001b[0m eta \u001b[36m0:00:00\u001b[0m\n",
            "\u001b[?25hCollecting opentelemetry-semantic-conventions==0.41b0 (from opentelemetry-sdk>=1.2.0->chromadb)\n",
            "  Downloading opentelemetry_semantic_conventions-0.41b0-py3-none-any.whl (26 kB)\n",
            "Collecting monotonic>=1.5 (from posthog>=2.4.0->chromadb)\n",
            "  Downloading monotonic-1.6-py2.py3-none-any.whl (8.2 kB)\n",
            "Requirement already satisfied: charset-normalizer<4,>=2 in /usr/local/lib/python3.10/dist-packages (from requests>=2.28->chromadb) (3.3.1)\n",
            "Requirement already satisfied: idna<4,>=2.5 in /usr/local/lib/python3.10/dist-packages (from requests>=2.28->chromadb) (3.4)\n",
            "Collecting huggingface_hub<0.18,>=0.16.4 (from tokenizers>=0.13.2->chromadb)\n",
            "  Downloading huggingface_hub-0.17.3-py3-none-any.whl (295 kB)\n",
            "\u001b[2K     \u001b[90m━━━━━━━━━━━━━━━━━━━━━━━━━━━━━━━━━━━━━━━━\u001b[0m \u001b[32m295.0/295.0 kB\u001b[0m \u001b[31m39.0 MB/s\u001b[0m eta \u001b[36m0:00:00\u001b[0m\n",
            "\u001b[?25hRequirement already satisfied: click<9.0.0,>=7.1.1 in /usr/local/lib/python3.10/dist-packages (from typer>=0.9.0->chromadb) (8.1.7)\n",
            "Collecting h11>=0.8 (from uvicorn[standard]>=0.18.3->chromadb)\n",
            "  Downloading h11-0.14.0-py3-none-any.whl (58 kB)\n",
            "\u001b[2K     \u001b[90m━━━━━━━━━━━━━━━━━━━━━━━━━━━━━━━━━━━━━━━━\u001b[0m \u001b[32m58.3/58.3 kB\u001b[0m \u001b[31m9.9 MB/s\u001b[0m eta \u001b[36m0:00:00\u001b[0m\n",
            "\u001b[?25hCollecting httptools>=0.5.0 (from uvicorn[standard]>=0.18.3->chromadb)\n",
            "  Downloading httptools-0.6.1-cp310-cp310-manylinux_2_5_x86_64.manylinux1_x86_64.manylinux_2_17_x86_64.manylinux2014_x86_64.whl (341 kB)\n",
            "\u001b[2K     \u001b[90m━━━━━━━━━━━━━━━━━━━━━━━━━━━━━━━━━━━━━━━━\u001b[0m \u001b[32m341.4/341.4 kB\u001b[0m \u001b[31m45.0 MB/s\u001b[0m eta \u001b[36m0:00:00\u001b[0m\n",
            "\u001b[?25hRequirement already satisfied: python-dotenv>=0.13 in /usr/local/lib/python3.10/dist-packages (from uvicorn[standard]>=0.18.3->chromadb) (1.0.0)\n",
            "Collecting uvloop!=0.15.0,!=0.15.1,>=0.14.0 (from uvicorn[standard]>=0.18.3->chromadb)\n",
            "  Downloading uvloop-0.19.0-cp310-cp310-manylinux_2_17_x86_64.manylinux2014_x86_64.whl (3.4 MB)\n",
            "\u001b[2K     \u001b[90m━━━━━━━━━━━━━━━━━━━━━━━━━━━━━━━━━━━━━━━━\u001b[0m \u001b[32m3.4/3.4 MB\u001b[0m \u001b[31m110.7 MB/s\u001b[0m eta \u001b[36m0:00:00\u001b[0m\n",
            "\u001b[?25hCollecting watchfiles>=0.13 (from uvicorn[standard]>=0.18.3->chromadb)\n",
            "  Downloading watchfiles-0.21.0-cp310-cp310-manylinux_2_17_x86_64.manylinux2014_x86_64.whl (1.3 MB)\n",
            "\u001b[2K     \u001b[90m━━━━━━━━━━━━━━━━━━━━━━━━━━━━━━━━━━━━━━━━\u001b[0m \u001b[32m1.3/1.3 MB\u001b[0m \u001b[31m69.2 MB/s\u001b[0m eta \u001b[36m0:00:00\u001b[0m\n",
            "\u001b[?25hCollecting websockets>=10.4 (from uvicorn[standard]>=0.18.3->chromadb)\n",
            "  Downloading websockets-12.0-cp310-cp310-manylinux_2_5_x86_64.manylinux1_x86_64.manylinux_2_17_x86_64.manylinux2014_x86_64.whl (130 kB)\n",
            "\u001b[2K     \u001b[90m━━━━━━━━━━━━━━━━━━━━━━━━━━━━━━━━━━━━━━━━\u001b[0m \u001b[32m130.2/130.2 kB\u001b[0m \u001b[31m17.8 MB/s\u001b[0m eta \u001b[36m0:00:00\u001b[0m\n",
            "\u001b[?25hRequirement already satisfied: sniffio>=1.1 in /usr/local/lib/python3.10/dist-packages (from anyio<4.0.0,>=3.7.1->fastapi>=0.95.2->chromadb) (1.3.0)\n",
            "Requirement already satisfied: exceptiongroup in /usr/local/lib/python3.10/dist-packages (from anyio<4.0.0,>=3.7.1->fastapi>=0.95.2->chromadb) (1.1.3)\n",
            "Requirement already satisfied: wrapt<2,>=1.10 in /usr/local/lib/python3.10/dist-packages (from deprecated>=1.2.6->opentelemetry-api>=1.2.0->chromadb) (1.14.1)\n",
            "Requirement already satisfied: cachetools<6.0,>=2.0.0 in /usr/local/lib/python3.10/dist-packages (from google-auth>=1.0.1->kubernetes>=28.1.0->chromadb) (5.3.2)\n",
            "Requirement already satisfied: pyasn1-modules>=0.2.1 in /usr/local/lib/python3.10/dist-packages (from google-auth>=1.0.1->kubernetes>=28.1.0->chromadb) (0.3.0)\n",
            "Requirement already satisfied: rsa<5,>=3.1.4 in /usr/local/lib/python3.10/dist-packages (from google-auth>=1.0.1->kubernetes>=28.1.0->chromadb) (4.9)\n",
            "Requirement already satisfied: filelock in /usr/local/lib/python3.10/dist-packages (from huggingface_hub<0.18,>=0.16.4->tokenizers>=0.13.2->chromadb) (3.12.4)\n",
            "Requirement already satisfied: fsspec in /usr/local/lib/python3.10/dist-packages (from huggingface_hub<0.18,>=0.16.4->tokenizers>=0.13.2->chromadb) (2023.6.0)\n",
            "Requirement already satisfied: zipp>=0.5 in /usr/local/lib/python3.10/dist-packages (from importlib-metadata<7.0,>=6.0->opentelemetry-api>=1.2.0->chromadb) (3.17.0)\n",
            "Collecting humanfriendly>=9.1 (from coloredlogs->onnxruntime>=1.14.1->chromadb)\n",
            "  Downloading humanfriendly-10.0-py2.py3-none-any.whl (86 kB)\n",
            "\u001b[2K     \u001b[90m━━━━━━━━━━━━━━━━━━━━━━━━━━━━━━━━━━━━━━━━\u001b[0m \u001b[32m86.8/86.8 kB\u001b[0m \u001b[31m14.3 MB/s\u001b[0m eta \u001b[36m0:00:00\u001b[0m\n",
            "\u001b[?25hRequirement already satisfied: mpmath>=0.19 in /usr/local/lib/python3.10/dist-packages (from sympy->onnxruntime>=1.14.1->chromadb) (1.3.0)\n",
            "Requirement already satisfied: pyasn1<0.6.0,>=0.4.6 in /usr/local/lib/python3.10/dist-packages (from pyasn1-modules>=0.2.1->google-auth>=1.0.1->kubernetes>=28.1.0->chromadb) (0.5.0)\n",
            "Building wheels for collected packages: pypika\n",
            "  Building wheel for pypika (pyproject.toml) ... \u001b[?25l\u001b[?25hdone\n",
            "  Created wheel for pypika: filename=PyPika-0.48.9-py2.py3-none-any.whl size=53723 sha256=25a2eaa4b3b6bf453d3fdaade1a95d4e5636910dd150e770f8664a3d294f07fc\n",
            "  Stored in directory: /root/.cache/pip/wheels/e1/26/51/d0bffb3d2fd82256676d7ad3003faea3bd6dddc9577af665f4\n",
            "Successfully built pypika\n",
            "Installing collected packages: pypika, monotonic, websockets, uvloop, urllib3, typing-extensions, pulsar-client, overrides, opentelemetry-semantic-conventions, opentelemetry-proto, humanfriendly, httptools, h11, deprecated, chroma-hnswlib, bcrypt, watchfiles, uvicorn, starlette, opentelemetry-exporter-otlp-proto-common, opentelemetry-api, coloredlogs, posthog, opentelemetry-sdk, onnxruntime, huggingface_hub, fastapi, tokenizers, opentelemetry-exporter-otlp-proto-grpc, kubernetes, chromadb\n",
            "  Attempting uninstall: urllib3\n",
            "    Found existing installation: urllib3 2.0.7\n",
            "    Uninstalling urllib3-2.0.7:\n",
            "      Successfully uninstalled urllib3-2.0.7\n",
            "  Attempting uninstall: typing-extensions\n",
            "    Found existing installation: typing_extensions 4.5.0\n",
            "    Uninstalling typing_extensions-4.5.0:\n",
            "      Successfully uninstalled typing_extensions-4.5.0\n",
            "\u001b[31mERROR: pip's dependency resolver does not currently take into account all the packages that are installed. This behaviour is the source of the following dependency conflicts.\n",
            "lida 0.0.10 requires kaleido, which is not installed.\n",
            "lida 0.0.10 requires python-multipart, which is not installed.\n",
            "tensorflow-probability 0.22.0 requires typing-extensions<4.6.0, but you have typing-extensions 4.8.0 which is incompatible.\u001b[0m\u001b[31m\n",
            "\u001b[0mSuccessfully installed bcrypt-4.0.1 chroma-hnswlib-0.7.3 chromadb-0.4.15 coloredlogs-15.0.1 deprecated-1.2.14 fastapi-0.104.0 h11-0.14.0 httptools-0.6.1 huggingface_hub-0.17.3 humanfriendly-10.0 kubernetes-28.1.0 monotonic-1.6 onnxruntime-1.16.1 opentelemetry-api-1.20.0 opentelemetry-exporter-otlp-proto-common-1.20.0 opentelemetry-exporter-otlp-proto-grpc-1.20.0 opentelemetry-proto-1.20.0 opentelemetry-sdk-1.20.0 opentelemetry-semantic-conventions-0.41b0 overrides-7.4.0 posthog-3.0.2 pulsar-client-3.3.0 pypika-0.48.9 starlette-0.27.0 tokenizers-0.14.1 typing-extensions-4.8.0 urllib3-1.26.18 uvicorn-0.23.2 uvloop-0.19.0 watchfiles-0.21.0 websockets-12.0\n"
          ]
        },
        {
          "output_type": "display_data",
          "data": {
            "application/vnd.colab-display-data+json": {
              "pip_warning": {
                "packages": [
                  "urllib3"
                ]
              }
            }
          },
          "metadata": {}
        },
        {
          "output_type": "stream",
          "name": "stdout",
          "text": [
            "Collecting pdfminer\n",
            "  Downloading pdfminer-20191125.tar.gz (4.2 MB)\n",
            "\u001b[2K     \u001b[90m━━━━━━━━━━━━━━━━━━━━━━━━━━━━━━━━━━━━━━━━\u001b[0m \u001b[32m4.2/4.2 MB\u001b[0m \u001b[31m32.4 MB/s\u001b[0m eta \u001b[36m0:00:00\u001b[0m\n",
            "\u001b[?25h  Preparing metadata (setup.py) ... \u001b[?25l\u001b[?25hdone\n",
            "Collecting pycryptodome (from pdfminer)\n",
            "  Downloading pycryptodome-3.19.0-cp35-abi3-manylinux_2_17_x86_64.manylinux2014_x86_64.whl (2.1 MB)\n",
            "\u001b[2K     \u001b[90m━━━━━━━━━━━━━━━━━━━━━━━━━━━━━━━━━━━━━━━━\u001b[0m \u001b[32m2.1/2.1 MB\u001b[0m \u001b[31m95.5 MB/s\u001b[0m eta \u001b[36m0:00:00\u001b[0m\n",
            "\u001b[?25hBuilding wheels for collected packages: pdfminer\n",
            "  Building wheel for pdfminer (setup.py) ... \u001b[?25l\u001b[?25hdone\n",
            "  Created wheel for pdfminer: filename=pdfminer-20191125-py3-none-any.whl size=6140074 sha256=4f4dcb212216df24ff909f0037cebea6cdffc8f3c1c16d4f317fcecdc0c3caa0\n",
            "  Stored in directory: /root/.cache/pip/wheels/4e/c1/68/f7bd0a8f514661f76b5cbe3b5f76e0033d79f1296012cbbf72\n",
            "Successfully built pdfminer\n",
            "Installing collected packages: pycryptodome, pdfminer\n",
            "Successfully installed pdfminer-20191125 pycryptodome-3.19.0\n"
          ]
        }
      ],
      "source": [
        "!pip install --quiet --upgrade langchain\n",
        "!pip install --quiet pypdf\n",
        "!pip install --quiet load_dotenv\n",
        "!pip install --quiet cohere tiktoken openai\n",
        "! pip install --quiet faiss-cpu\n",
        "! pip install --quiet unstructured\n",
        "! pip install --quiet pdf2image\n",
        "! pip install --quiet PyPDF2\n",
        "! pip install chromadb\n",
        "! pip install pdfminer"
      ]
    },
    {
      "cell_type": "code",
      "source": [
        "from google.colab import drive\n",
        "drive.mount('/content/drive')"
      ],
      "metadata": {
        "colab": {
          "base_uri": "https://localhost:8080/"
        },
        "id": "fdNDzN8soLA6",
        "outputId": "04e250dc-7119-439c-b8aa-ebb786465c24"
      },
      "execution_count": 3,
      "outputs": [
        {
          "output_type": "stream",
          "name": "stdout",
          "text": [
            "Drive already mounted at /content/drive; to attempt to forcibly remount, call drive.mount(\"/content/drive\", force_remount=True).\n"
          ]
        }
      ]
    },
    {
      "cell_type": "code",
      "source": [
        "# check if the path exists\n",
        "import dotenv\n",
        "import os\n",
        "os.path.isdir('/content/drive/MyDrive/Colab/Transformer')"
      ],
      "metadata": {
        "colab": {
          "base_uri": "https://localhost:8080/"
        },
        "id": "v3XMCVbzluhP",
        "outputId": "a931720f-e303-4efe-b4a3-d8b33375b7e6"
      },
      "execution_count": 4,
      "outputs": [
        {
          "output_type": "execute_result",
          "data": {
            "text/plain": [
              "True"
            ]
          },
          "metadata": {},
          "execution_count": 4
        }
      ]
    },
    {
      "cell_type": "code",
      "source": [
        "\n",
        "dotenv.load_dotenv(os.path.join('/content/drive/MyDrive/Colab/Transformer', '.env'))"
      ],
      "metadata": {
        "colab": {
          "base_uri": "https://localhost:8080/"
        },
        "id": "auXJkm6Cpi5n",
        "outputId": "5b508201-4701-4cee-aa39-2def09c2919c"
      },
      "execution_count": 5,
      "outputs": [
        {
          "output_type": "execute_result",
          "data": {
            "text/plain": [
              "True"
            ]
          },
          "metadata": {},
          "execution_count": 5
        }
      ]
    },
    {
      "cell_type": "code",
      "source": [
        "import langchain\n",
        "import openai\n",
        "from langchain.embeddings.openai import OpenAIEmbeddings\n",
        "from langchain.embeddings.cache import CacheBackedEmbeddings\n",
        "from langchain.vectorstores import FAISS\n",
        "from langchain.storage import LocalFileStore\n",
        "from langchain.document_loaders import PyPDFDirectoryLoader\n",
        "from langchain.chains import RetrievalQA\n",
        "from langchain.chat_models import ChatOpenAI\n",
        "from langchain.document_loaders import OnlinePDFLoader\n",
        "import tiktoken\n",
        "import requests\n",
        "from langchain.storage import LocalFileStore\n",
        "from langchain.embeddings.openai import OpenAIEmbeddings\n",
        "from langchain.embeddings.cache import CacheBackedEmbeddings\n",
        "from langchain.vectorstores import FAISS\n",
        "from langchain.text_splitter import TokenTextSplitter\n",
        "from langchain.chains import RetrievalQA\n",
        "from langchain.chat_models import ChatOpenAI\n",
        "import glob\n",
        "from langchain.document_loaders import UnstructuredPDFLoader\n",
        "from langchain.indexes import VectorstoreIndexCreator\n",
        "from requests.exceptions import ReadTimeout, ConnectionError, ConnectTimeout\n",
        "from PyPDF2 import PdfReader\n",
        "from langchain.docstore.document import Document\n",
        "from langchain.document_loaders.pdf import PDFPlumberLoader, PyPDFLoader\n",
        "from langchain.document_loaders import TextLoader\n",
        "from langchain.vectorstores import Chroma"
      ],
      "metadata": {
        "id": "iGNA6xnHnMUf"
      },
      "execution_count": 6,
      "outputs": []
    },
    {
      "cell_type": "markdown",
      "source": [
        "# make documents one single PDF first and then load to textloader + splitdocumetns"
      ],
      "metadata": {
        "id": "IbwfsUN9WJDi"
      }
    },
    {
      "cell_type": "code",
      "source": [
        "def find_latest_txt_file(directory):\n",
        "    # Get a list of text files in the specified directory\n",
        "    txt_files = glob.glob(os.path.join(directory, '*.txt'))\n",
        "\n",
        "    if not txt_files:\n",
        "        return None  # No text files found in the directory\n",
        "\n",
        "    # Sort the text files by modification time (newest first)\n",
        "    txt_files.sort(key=os.path.getmtime, reverse=True)\n",
        "\n",
        "    # Return the path of the latest text file\n",
        "    return txt_files[0]\n",
        "\n",
        "\n",
        "# where our embeddings will be stored\n",
        "store = LocalFileStore(\"./cache/\")\n",
        "\n",
        "# Path to the text file containing PDF links\n",
        "dirname = '/content/drive/MyDrive/Colab/Transformer'\n",
        "LINK_DIRECTORY = os.path.join(dirname,'link_collection')\n",
        "text_file_path = find_latest_txt_file(LINK_DIRECTORY)\n",
        "\n",
        "# Read the text file and load the PDFs\n",
        "with open(text_file_path, 'r') as file:\n",
        "    pdf_links = file.read().splitlines()"
      ],
      "metadata": {
        "id": "2z0ITOlYZzTB"
      },
      "execution_count": 7,
      "outputs": []
    },
    {
      "cell_type": "code",
      "source": [
        "# store all the pdfs under data folder\n",
        "\n",
        "import os\n",
        "import requests\n",
        "\n",
        "# Create a \"data\" folder if it doesn't exist\n",
        "if not os.path.exists(\"data\"):\n",
        "    os.makedirs(\"data\")\n",
        "\n",
        "for pdf_link in pdf_links:\n",
        "    try:\n",
        "        response = requests.get(pdf_link, timeout=10)  # Adjust the timeout value as needed\n",
        "        if response.status_code == 200:\n",
        "            # Extract the filename from the URL\n",
        "            filename = pdf_link.split(\"/\")[-1]\n",
        "            # Combine with \"data/\" to specify the folder\n",
        "            file_path = os.path.join(\"data\", filename)\n",
        "\n",
        "            with open(file_path, 'wb') as f:\n",
        "                f.write(response.content)\n",
        "                print(f\"PDF link {pdf_link} downloaded and saved as {file_path}\")\n",
        "        else:\n",
        "            print(f\"PDF link {pdf_link} returned status code {response.status_code}. Skipping...\")\n",
        "    except Exception as e:\n",
        "        print(f\"Error processing {pdf_link}: {e}\")"
      ],
      "metadata": {
        "colab": {
          "base_uri": "https://localhost:8080/"
        },
        "id": "aylRCkKwnJ0M",
        "outputId": "1c8c812d-c7ac-49fe-b4ed-9a9f419a4c79"
      },
      "execution_count": 8,
      "outputs": [
        {
          "output_type": "stream",
          "name": "stdout",
          "text": [
            "PDF link https://www.researchgate.net/profile/Real-Carbonneau/publication/220208887_Machine_Learning-Based_Demand_Forecasting_in_Supply_Chains/links/57c4463a08ae32a03dad3de9/Machine-Learning-Based-Demand-Forecasting-in-Supply-Chains.pdf returned status code 403. Skipping...\n",
            "PDF link https://www.academia.edu/download/50837650/Application_of_machine_learning_techniqu20161211-20061-1tgykkg.pdf returned status code 404. Skipping...\n",
            "Error processing https://www.hindawi.com/journals/complexity/2019/9067367/abs/: [Errno 21] Is a directory: 'data/'\n",
            "PDF link https://journal.oscm-forum.org/journal/journal/download/20201206171323_Paper_1_Vol._14_No_._1,_2021_.pdf downloaded and saved as data/20201206171323_Paper_1_Vol._14_No_._1,_2021_.pdf\n",
            "PDF link https://www.sciencedirect.com/science/article/pii/S1877050921001654/pdf?md5=c7ce42d7736c04e5fd2f97f3ba2acbdf&pid=1-s2.0-S1877050921001654-main.pdf returned status code 403. Skipping...\n",
            "PDF link https://www.academia.edu/download/92962396/00207543.2020.184433220221024-1-1mmay69.pdf returned status code 404. Skipping...\n",
            "PDF link http://ndl.ethernet.edu.et/bitstream/123456789/35112/1/Distributed%20artificial%20intelligence%20%20agent%20technology%20and%20collaborative%20applications.pdf#page=353 downloaded and saved as data/Distributed%20artificial%20intelligence%20%20agent%20technology%20and%20collaborative%20applications.pdf#page=353\n",
            "PDF link https://www.researchgate.net/profile/Senthilselvi-Ayothi/publication/365933082_Analysis_of_demand_forecasting_of_agriculture_using_machine_learning_algorithm/links/645a5d402edb8e5f094adc6f/Analysis-of-demand-forecasting-of-agriculture-using-machine-learning-algorithm.pdf returned status code 403. Skipping...\n",
            "PDF link https://www.researchgate.net/profile/Md-Rahman-195/publication/355899930_Supply_Chain_Management_with_Demand_Forecasting_of_Covid-19_Vaccine_using_Blockchain_and_Machine_Learning/links/6183c8290be8ec17a96b9f3a/Supply-Chain-Management-with-Demand-Forecasting-of-Covid-19-Vaccine-using-Blockchain-and-Machine-Learning.pdf returned status code 403. Skipping...\n",
            "PDF link https://www.researchgate.net/profile/M-El-Khaili/publication/361003548_Demand_Forecasting_Model_using_Deep_Learning_Methods_for_Supply_Chain_Management_40/links/6298655f6886635d5cb75cb1/Demand-Forecasting-Model-using-Deep-Learning-Methods-for-Supply-Chain-Management-40.pdf returned status code 403. Skipping...\n",
            "PDF link https://www.researchgate.net/profile/Abdellatif-El-Afia/publication/273643110_Intelligent_system_based_support_vector_regression_for_supply_chain_demand_forecasting/links/5632875d08ae911fcd491196/Intelligent-system-based-support-vector-regression-for-supply-chain-demand-forecasting.pdf returned status code 403. Skipping...\n",
            "PDF link https://www.researchgate.net/profile/Vahid-Kayvanfar/publication/358567204_Demand_forecasting_based_machine_learning_algorithms_on_customer_information_an_applied_approach/links/645a0a615762c95ac3817b46/Demand-forecasting-based-machine-learning-algorithms-on-customer-information-an-applied-approach.pdf returned status code 403. Skipping...\n",
            "Error processing https://www.econstor.eu/bitstream/10419/209380/1/hicl-2019-27-413.pdf: HTTPSConnectionPool(host='www.econstor.eu', port=443): Read timed out. (read timeout=10)\n",
            "PDF link https://www.mdpi.com/2078-2489/14/1/31/pdf downloaded and saved as data/pdf\n",
            "Error processing https://www.hindawi.com/journals/wcmc/2021/9969357/: [Errno 21] Is a directory: 'data/'\n",
            "PDF link https://www.researchgate.net/profile/Manas-Gaur/publication/276964796_Comparison_between_Nearest_Neighbours_and_Bayesian_Network_for_demand_forecasting_in_supply_chain_management/links/555c9fd308ae86c06b5d3b6c/Comparison-between-Nearest-Neighbours-and-Bayesian-Network-for-demand-forecasting-in-supply-chain-management.pdf returned status code 403. Skipping...\n",
            "PDF link https://www.igi-global.com/article/forecasting-supply-chain-demand-approach-using-knowledge-management-processes-and-supervised-learning-techniques/282734 downloaded and saved as data/282734\n",
            "PDF link https://www.sciencedirect.com/science/article/pii/S2772390922000518 returned status code 403. Skipping...\n",
            "Error processing https://www.hindawi.com/journals/mpe/2021/1476043/: [Errno 21] Is a directory: 'data/'\n",
            "PDF link https://journalofbigdata.springeropen.com/articles/10.1186/s40537-020-00329-2 downloaded and saved as data/s40537-020-00329-2\n",
            "PDF link https://www.mdpi.com/2571-9394/4/2/31/pdf downloaded and saved as data/pdf\n",
            "PDF link https://www.mdpi.com/2313-7673/8/3/312 downloaded and saved as data/312\n",
            "PDF link https://pdfs.semanticscholar.org/b93d/ff2b2e244c36892c680a1706ac648b6f50f5.pdf downloaded and saved as data/ff2b2e244c36892c680a1706ac648b6f50f5.pdf\n",
            "PDF link https://www.mdpi.com/2227-9717/9/2/247/htm downloaded and saved as data/htm\n",
            "PDF link http://repositorium.uminho.pt/bitstream/1822/70911/4/DSS_2020.pdf downloaded and saved as data/DSS_2020.pdf\n",
            "PDF link https://www.researchgate.net/profile/Md-Ariful-Arif/publication/342217684_Comparison_Study_Product_Demand_Forecasting_with_Machine_Learning_for_Shop/links/60894c58299bf112bbe33ffb/Comparison-Study-Product-Demand-Forecasting-with-Machine-Learning-for-Shop.pdf returned status code 403. Skipping...\n",
            "PDF link https://link.springer.com/article/10.1007/s43069-022-00166-4 downloaded and saved as data/s43069-022-00166-4\n",
            "PDF link https://scholar.google.com/scholar?output=instlink&q=info:30TMOVOevW0J:scholar.google.com/&hl=en&num=20&as_sdt=0,5&scillfp=7508323690361676505&oi=lle returned status code 429. Skipping...\n",
            "PDF link https://www.sciencedirect.com/science/article/pii/S2351978920302699/pdf?md5=d8ea2ad43d8815d721bcc259880c2467&pid=1-s2.0-S2351978920302699-main.pdf returned status code 403. Skipping...\n",
            "PDF link https://pure.jgu.edu.in/5077/1/Predictive%20analytics%20for%20demand%20forecasting%20%20A%20deep%20learning-based.pdf downloaded and saved as data/Predictive%20analytics%20for%20demand%20forecasting%20%20A%20deep%20learning-based.pdf\n",
            "PDF link https://ieeexplore.ieee.org/iel7/6287639/8948470/09121220.pdf returned status code 418. Skipping...\n",
            "PDF link https://tigerprints.clemson.edu/cgi/viewcontent.cgi?article=4374&context=all_theses downloaded and saved as data/viewcontent.cgi?article=4374&context=all_theses\n",
            "PDF link https://www.researchgate.net/profile/Du-Ni/publication/338101452_A_systematic_review_of_the_research_trends_of_machine_learning_in_supply_chain_management/links/5dfe473692851c8364907c6c/A-systematic-review-of-the-research-trends-of-machine-learning-in-supply-chain-management.pdf returned status code 403. Skipping...\n",
            "PDF link https://research.bangor.ac.uk/portal/files/28070604/2020_Deep_learning.pdf downloaded and saved as data/2020_Deep_learning.pdf\n",
            "PDF link https://www.academia.edu/download/73560917/pdf.pdf returned status code 404. Skipping...\n",
            "PDF link https://downloads.hindawi.com/journals/mpe/2022/4109070.pdf downloaded and saved as data/4109070.pdf\n",
            "PDF link https://www.mdpi.com/2076-3417/11/15/6787/pdf downloaded and saved as data/pdf\n",
            "PDF link https://link.springer.com/article/10.1186/s40537-020-00345-2 downloaded and saved as data/s40537-020-00345-2\n",
            "PDF link https://hal.science/hal-01881362/document downloaded and saved as data/document\n",
            "PDF link https://pdfs.semanticscholar.org/a955/2fddefe8cdbdd6aaa5d6349dab07284f95fe.pdf returned status code 202. Skipping...\n",
            "PDF link https://www.researchgate.net/profile/Evangelos-Spiliotis/publication/344374729_Comparison_of_statistical_and_machine_learning_methods_for_daily_SKU_demand_forecasting/links/5f6d947d299bf1b53ef0b2fd/Comparison-of-statistical-and-machine-learning-methods-for-daily-SKU-demand-forecasting.pdf returned status code 403. Skipping...\n",
            "PDF link https://www.researchgate.net/profile/Rony-Mitra/publication/364792264_Demand_Forecasting_of_a_Multinational_Retail_Company_using_Deep_Learning_Frameworks/links/649dfa04b9ed6874a5e70b0e/Demand-Forecasting-of-a-Multinational-Retail-Company-using-Deep-Learning-Frameworks.pdf returned status code 403. Skipping...\n",
            "PDF link https://www.researchgate.net/profile/Nicolas-Vandeput/publication/350440225_Data_Science_for_Supply_Chain_Forecasting/links/605f6168299bf173677295a6/Data-Science-for-Supply-Chain-Forecasting.pdf returned status code 403. Skipping...\n",
            "PDF link https://dspace.mit.edu/bitstream/handle/1721.1/136919/10479_2020_3666_ReferencePDF.pdf?sequence=1&isAllowed=y downloaded and saved as data/10479_2020_3666_ReferencePDF.pdf?sequence=1&isAllowed=y\n",
            "PDF link https://www.mdpi.com/2227-9717/9/9/1578/pdf downloaded and saved as data/pdf\n",
            "PDF link https://tore.tuhh.de/bitstreams/dc1523d7-ad29-4cc9-9e74-e99250ea0f54/download downloaded and saved as data/download\n",
            "PDF link https://brunoagard.mgi.polymtl.ca/fr/publications/doc/2015/2015_INCOM-Murray.pdf downloaded and saved as data/2015_INCOM-Murray.pdf\n",
            "PDF link https://cdn.techscience.cn/ueditor/files/iasc/TSP_IASC_31-1/TSP_IASC_19658/TSP_IASC_19658.pdf downloaded and saved as data/TSP_IASC_19658.pdf\n",
            "PDF link https://bgsiran.ir/journal/ojs-3.1.1-4/index.php/IJIEOR/article/download/37/28 downloaded and saved as data/28\n",
            "Error processing https://repository.derby.ac.uk/download/e4f6a487a34b87d78a3905b714c2e56010c1420c1c4c744af3a3875aa7ec656d/928478/COR%20Revised_271219.pdf: HTTPSConnectionPool(host='repository.derby.ac.uk', port=443): Max retries exceeded with url: /download/e4f6a487a34b87d78a3905b714c2e56010c1420c1c4c744af3a3875aa7ec656d/928478/COR%20Revised_271219.pdf (Caused by SSLError(SSLCertVerificationError(1, '[SSL: CERTIFICATE_VERIFY_FAILED] certificate verify failed: unable to get local issuer certificate (_ssl.c:1007)')))\n",
            "PDF link https://www.researchgate.net/profile/Sandhya-Makkar-2/publication/334096071_Applications_of_Machine_Learning_Techniques_in_Supply_Chain_Optimization/links/5d52942e92851c93b62c11d1/Applications-of-Machine-Learning-Techniques-in-Supply-Chain-Optimization.pdf returned status code 403. Skipping...\n",
            "PDF link https://www.sciencedirect.com/science/article/pii/S0959652622014627 returned status code 403. Skipping...\n",
            "PDF link http://irjaes.com/wp-content/uploads/2022/09/IRJAES-V7N3P271Y22.pdf returned status code 406. Skipping...\n",
            "PDF link https://www.journal-aprie.com/article_127616_c9709b74e7808d865be111b8015d580d.pdf downloaded and saved as data/article_127616_c9709b74e7808d865be111b8015d580d.pdf\n",
            "PDF link http://www.m.www.na-businesspress.com/JSIS/JSIS14-3/DashR_14_3_.pdf downloaded and saved as data/DashR_14_3_.pdf\n",
            "Error processing https://e-tarjome.com/storage/panel/fileuploads/2019-01-28/1548666561_E10504-e-tarjome.pdf: HTTPSConnectionPool(host='e-tarjome.com', port=443): Max retries exceeded with url: /storage/panel/fileuploads/2019-01-28/1548666561_E10504-e-tarjome.pdf (Caused by ConnectTimeoutError(<urllib3.connection.HTTPSConnection object at 0x7db9949dd000>, 'Connection to e-tarjome.com timed out. (connect timeout=10)'))\n",
            "PDF link https://www.researchgate.net/profile/Arvind-Jayant/publication/344469957_Application_of_Machine_Learning_Technique_for_demand_forecasting_A_Case_Study_of_manufacturing_industry/links/5f7ac2c9a6fdcc00865732c7/Application-of-Machine-Learning-Technique-for-demand-forecasting-A-Case-Study-of-manufacturing-industry.pdf#page=397 returned status code 403. Skipping...\n",
            "PDF link https://link.springer.com/article/10.1007/s10479-021-04429-x downloaded and saved as data/s10479-021-04429-x\n",
            "PDF link https://www.mdpi.com/2071-1050/15/9/7399/pdf downloaded and saved as data/pdf\n",
            "PDF link https://onlinelibrary.wiley.com/doi/pdf/10.1002/joom.1257 returned status code 403. Skipping...\n",
            "PDF link https://www.mdpi.com/2227-7390/8/4/565/pdf downloaded and saved as data/pdf\n",
            "PDF link https://www.scirp.org/html/3-1731403_103718.htm downloaded and saved as data/3-1731403_103718.htm\n",
            "Error processing https://repositorium.sdum.uminho.pt/bitstream/1822/73399/1/PhDThesis_JNCG_PDEIS.pdf: HTTPSConnectionPool(host='repositorium.sdum.uminho.pt', port=443): Max retries exceeded with url: /bitstream/1822/73399/1/PhDThesis_JNCG_PDEIS.pdf (Caused by SSLError(SSLCertVerificationError(1, '[SSL: CERTIFICATE_VERIFY_FAILED] certificate verify failed: unable to get local issuer certificate (_ssl.c:1007)')))\n",
            "PDF link https://www.zbw.eu/econis-archiv/bitstream/11159/489649/1/EBP080226345_0.pdf returned status code 401. Skipping...\n",
            "PDF link https://www.researchgate.net/profile/Yong-Hong-Kuo-2/publication/360482161_Reinforcement_learning_for_logistics_and_supply_chain_management_Methodologies_state_of_the_art_and_future_opportunities/links/62851c2ea93a5471227a29af/Reinforcement-learning-for-logistics-and-supply-chain-management-Methodologies-state-of-the-art-and-future-opportunities.pdf returned status code 403. Skipping...\n",
            "PDF link https://www.tandfonline.com/doi/pdf/10.1080/13675567.2022.2100334 returned status code 403. Skipping...\n",
            "PDF link https://scholarspace.manoa.hawaii.edu/bitstreams/409f73cf-c9eb-4993-9b02-284bc2255283/download downloaded and saved as data/download\n",
            "PDF link https://oro.open.ac.uk/58257/1/Applying%20ML...%20Accepted%20version.pdf downloaded and saved as data/Applying%20ML...%20Accepted%20version.pdf\n",
            "PDF link https://www.researchgate.net/profile/Elcio-Tarallo-2/publication/338172563_Machine_Learning_in_Predicting_Demand_for_Fast-Moving_Consumer_Goods_An_Exploratory_Research/links/5fa18166458515b7cfb5f0c5/Machine-Learning-in-Predicting-Demand-for-Fast-Moving-Consumer-Goods-An-Exploratory-Research.pdf returned status code 403. Skipping...\n",
            "PDF link https://spectrum.library.concordia.ca/id/eprint/991116/1/Esmaeili_MASc_F2022.pdf downloaded and saved as data/Esmaeili_MASc_F2022.pdf\n",
            "PDF link https://www.sciencedirect.com/science/article/pii/S2212827122004036/pdf?md5=f109bc8df5b4e7e699827e17e696e3c5&pid=1-s2.0-S2212827122004036-main.pdf returned status code 403. Skipping...\n",
            "PDF link https://ieeexplore.ieee.org/iel7/6287639/6514899/08449937.pdf returned status code 418. Skipping...\n",
            "PDF link https://www.researchgate.net/profile/Bahrudin-Hrnjica/publication/333307229_Energy_Demand_Forecasting_Using_Deep_Learning/links/5f1bf76445851515ef4799f7/Energy-Demand-Forecasting-Using-Deep-Learning.pdf returned status code 403. Skipping...\n",
            "PDF link https://www.sciencedirect.com/science/article/pii/S2949863523000237 returned status code 403. Skipping...\n",
            "PDF link https://www.researchgate.net/profile/Teja-Silaparasetti/publication/327225380_An_Intelligent_Approach_to_Demand_Forecasting/links/5b81521f92851c1e123168cf/An-Intelligent-Approach-to-Demand-Forecasting.pdf returned status code 403. Skipping...\n",
            "PDF link https://www.researchgate.net/profile/Faiza-Mehmood/publication/362590185_EGD-SNet_A_computational_search_engine_for_predicting_an_end-to-end_machine_learning_pipeline_for_Energy_Generation_Demand_Forecasting/links/63b41c9803aad5368e60a6db/EGD-SNet-A-computational-search-engine-for-predicting-an-end-to-end-machine-learning-pipeline-for-Energy-Generation-Demand-Forecasting.pdf returned status code 403. Skipping...\n",
            "PDF link https://arxiv.org/pdf/1909.13084 downloaded and saved as data/1909.13084\n",
            "PDF link https://www.researchgate.net/profile/Arief-Ramadhan-2/publication/371808323_Machine_learning_in_drug_supply_chain_management_during_disease_outbreaks_a_systematic_review/links/64963e5db9ed6874a5d1a9b3/Machine-learning-in-drug-supply-chain-management-during-disease-outbreaks-a-systematic-review.pdf?origin=journalDetail&_tp=eyJwYWdlIjoiam91cm5hbERldGFpbCJ9 returned status code 403. Skipping...\n",
            "PDF link https://www.researchgate.net/profile/Jasmin-Bharadiya-4/publication/371902170_Machine_Learning_and_AI_in_Business_Intelligence_Trends_and_Opportunities/links/649afb478de7ed28ba5c99bb/Machine-Learning-and-AI-in-Business-Intelligence-Trends-and-Opportunities.pdf?origin=journalDetail&_tp=eyJwYWdlIjoiam91cm5hbERldGFpbCJ9 returned status code 403. Skipping...\n",
            "PDF link https://www.mckinsey.com/~/media/McKinsey/Industries/Consumer%20Packaged%20Goods/Our%20Insights/Supply%20Chain%204%200%20in%20consumer%20goods/Supply-Chain-4-0-in-consumer-goods-vf.pdf downloaded and saved as data/Supply-Chain-4-0-in-consumer-goods-vf.pdf\n",
            "PDF link https://lutpub.lut.fi/bitstream/handle/10024/162256/awan_et_al_artificial_intelligence_aam.pdf?sequence=1 downloaded and saved as data/awan_et_al_artificial_intelligence_aam.pdf?sequence=1\n",
            "PDF link https://riunet.upv.es/bitstream/handle/10251/171329/Lorente-LeyvaAlemanyPeluffo-Ordonez%20-%20A%20Comparison%20of%20Machine%20Learning%20and%20Classical%20Demand%20Forec....pdf?sequence=7 downloaded and saved as data/Lorente-LeyvaAlemanyPeluffo-Ordonez%20-%20A%20Comparison%20of%20Machine%20Learning%20and%20Classical%20Demand%20Forec....pdf?sequence=7\n",
            "PDF link https://link.springer.com/article/10.1007/s12063-022-00336-x downloaded and saved as data/s12063-022-00336-x\n",
            "PDF link https://www.frontiersin.org/articles/10.3389/fevo.2023.1160684/full downloaded and saved as data/full\n",
            "PDF link https://www.ncbi.nlm.nih.gov/pmc/articles/PMC7413852/ returned status code 403. Skipping...\n",
            "PDF link https://www.mdpi.com/2076-3417/11/13/6199/pdf downloaded and saved as data/pdf\n",
            "PDF link https://www.sciencedirect.com/science/article/pii/S2405959522000200 returned status code 403. Skipping...\n",
            "PDF link https://www.academia.edu/download/64056312/Demand%20Forecasting.pdf returned status code 404. Skipping...\n",
            "PDF link http://dln.jaipuria.ac.in:8080/jspui/bitstream/123456789/14491/1/The%20role%20of%20artificial%20intelligence%20in%20supply%20chain%20management.pdf downloaded and saved as data/The%20role%20of%20artificial%20intelligence%20in%20supply%20chain%20management.pdf\n",
            "PDF link https://www.sciencedirect.com/science/article/pii/S2772662223001650 returned status code 403. Skipping...\n",
            "PDF link https://ieeexplore.ieee.org/iel7/6287639/10005208/10098799.pdf returned status code 418. Skipping...\n",
            "PDF link https://www.sciencedirect.com/science/article/pii/S2307187723000585 returned status code 403. Skipping...\n",
            "PDF link https://www.sciencedirect.com/science/article/pii/S1877050920323322/pdf?md5=6a8dfd1a93e9e06158d44cfffe2335b8&pid=1-s2.0-S1877050920323322-main.pdf returned status code 403. Skipping...\n",
            "PDF link https://www.igi-global.com/article/demand-forecast-of-railway-transportation-logistics-supply-chain-based-on-machine-learning-model/323441 downloaded and saved as data/323441\n",
            "PDF link https://www.mdpi.com/2076-3417/13/19/11112 downloaded and saved as data/11112\n",
            "PDF link https://www.mdpi.com/2227-7390/11/11/2502 downloaded and saved as data/2502\n",
            "PDF link https://www.sciencedirect.com/science/article/pii/S2352484723000173 returned status code 403. Skipping...\n",
            "PDF link https://www.mdpi.com/1424-8220/23/3/1467 downloaded and saved as data/1467\n",
            "PDF link http://bgsiran.ir/journal/ojs-3.1.1-4/index.php/IJIEOR/article/download/50/40 downloaded and saved as data/40\n",
            "PDF link https://ieeexplore.ieee.org/iel7/6287639/9668973/09665737.pdf returned status code 418. Skipping...\n",
            "PDF link https://ieeexplore.ieee.org/iel7/6287639/9668973/09665737.pdf returned status code 418. Skipping...\n",
            "PDF link https://www.academia.edu/download/64825504/AHMED_FARZANA_87_102.pdf returned status code 404. Skipping...\n",
            "PDF link https://www.academia.edu/download/62130483/244-Article_Text-440-2-10-2019122120200218-100654-1z6d42.pdf returned status code 404. Skipping...\n",
            "PDF link https://talenta.usu.ac.id/aquacoastmarine/article/download/9290/5780 downloaded and saved as data/5780\n",
            "PDF link https://arxiv.org/pdf/1909.02716 downloaded and saved as data/1909.02716\n",
            "PDF link https://orca.cardiff.ac.uk/id/eprint/145278/1/Aggregation_in_supply_chain%20%282%29.pdf downloaded and saved as data/Aggregation_in_supply_chain%20%282%29.pdf\n",
            "PDF link https://www.diva-portal.org/smash/get/diva2:1367098/FULLTEXT02 returned status code 403. Skipping...\n",
            "PDF link https://ieeexplore.ieee.org/iel7/6287639/9668973/09945969.pdf returned status code 418. Skipping...\n",
            "PDF link https://arxiv.org/pdf/2009.09756 downloaded and saved as data/2009.09756\n",
            "PDF link https://www.mdpi.com/2073-4441/14/8/1291 downloaded and saved as data/1291\n",
            "PDF link http://ndl.ethernet.edu.et/bitstream/123456789/23290/1/21%202011.pdf#page=129 downloaded and saved as data/21%202011.pdf#page=129\n",
            "PDF link https://drive.google.com/file/d/19aJ8D8q2YR9wlKdZnFchD5MokLdNNhKo/view downloaded and saved as data/view\n",
            "PDF link https://drive.google.com/file/d/19aJ8D8q2YR9wlKdZnFchD5MokLdNNhKo/view downloaded and saved as data/view\n",
            "PDF link https://www.tandfonline.com/doi/pdf/10.1080/00207543.2022.2063089 returned status code 403. Skipping...\n",
            "PDF link https://www.researchgate.net/profile/Huthaifa-Al-Khazraji/publication/361008883_An_intelligent_demand_forecasting_model_using_a_hybrid_of_metaheuristic_optimization_and_deep_learning_algorithm_for_predicting_concrete_block_production/links/62b72d8189e4f1160c9ae70d/An-intelligent-demand-forecasting-model-using-a-hybrid-of-metaheuristic-optimization-and-deep-learning-algorithm-for-predicting-concrete-block-production.pdf returned status code 403. Skipping...\n",
            "PDF link https://www.tandfonline.com/doi/pdf/10.1080/16258312.2021.1967081 returned status code 403. Skipping...\n",
            "PDF link https://hal.science/hal-02428545/document downloaded and saved as data/document\n",
            "PDF link https://www.mdpi.com/2079-9292/11/22/3681/pdf downloaded and saved as data/pdf\n",
            "PDF link https://www.zbw.eu/econis-archiv/bitstream/11159/625003/1/EBP09634895X_0.pdf returned status code 401. Skipping...\n",
            "PDF link https://www.mdpi.com/2079-9292/10/3/227/pdf downloaded and saved as data/pdf\n",
            "PDF link https://www.researchgate.net/profile/Enzo-Frazzon/publication/327485845_Predictive_and_Adaptive_Management_Approach_for_Omnichannel_Retailing_Supply_Chains/links/5ca0855445851506d736749c/Predictive-and-Adaptive-Management-Approach-for-Omnichannel-Retailing-Supply-Chains.pdf returned status code 403. Skipping...\n",
            "PDF link https://journal.hep.com.cn/fese/EN/abstract/article/2095-2201/33192 downloaded and saved as data/33192\n",
            "PDF link https://www.mdpi.com/1996-1073/15/21/7972/pdf downloaded and saved as data/pdf\n",
            "PDF link https://link.springer.com/article/10.1007/s10479-021-04366-9 downloaded and saved as data/s10479-021-04366-9\n",
            "PDF link https://trepo.tuni.fi/bitstream/handle/10024/135943/HeinoAino.pdf?sequence=2 downloaded and saved as data/HeinoAino.pdf?sequence=2\n",
            "PDF link https://www.researchgate.net/profile/Xiaoxin-Zhu-4/publication/333382315_A_comprehensive_literature_review_of_the_demand_forecasting_methods_of_emergency_resources_from_the_perspective_of_artificial_intelligence/links/5e65b29392851c7ce05354ea/A-comprehensive-literature-review-of-the-demand-forecasting-methods-of-emergency-resources-from-the-perspective-of-artificial-intelligence.pdf returned status code 403. Skipping...\n",
            "PDF link https://www.sciencedirect.com/science/article/pii/S2212827120304236/pdf?md5=7b6ca0ea02f5284ae41d5e7075026945&pid=1-s2.0-S2212827120304236-main.pdf returned status code 403. Skipping...\n",
            "PDF link https://www.sciencedirect.com/science/article/pii/S1532046422000910 returned status code 403. Skipping...\n",
            "Error processing https://jpom.ui.ac.ir/article_27478.html?lang=en: HTTPSConnectionPool(host='jpom.ui.ac.ir', port=443): Max retries exceeded with url: /article_27478.html?lang=en (Caused by ConnectTimeoutError(<urllib3.connection.HTTPSConnection object at 0x7db9949df8b0>, 'Connection to jpom.ui.ac.ir timed out. (connect timeout=10)'))\n",
            "PDF link https://www.sciencedirect.com/science/article/pii/S1877050922003908/pdf?md5=b431a4f4d4d03004287b6474b5cfde26&pid=1-s2.0-S1877050922003908-main.pdf returned status code 403. Skipping...\n",
            "PDF link https://alicemengqi.github.io/site/files/End_to_End_revision3-10.pdf downloaded and saved as data/End_to_End_revision3-10.pdf\n",
            "PDF link https://www.researchgate.net/profile/Luciano-Viverit-2/publication/370432837_Application_of_machine_learning_to_cluster_hotel_booking_curves_for_hotel_demand_forecasting/links/645ce99ef43b8a29ba44cfb4/Application-of-machine-learning-to-cluster-hotel-booking-curves-for-hotel-demand-forecasting.pdf?origin=journalDetail&_tp=eyJwYWdlIjoiam91cm5hbERldGFpbCJ9 returned status code 403. Skipping...\n",
            "PDF link https://www.is.ovgu.de/is_media/Master+und+Bachelor_Arbeiten/MasterThesis_RobbyHenkelmann-download-1-p-4746.pdf downloaded and saved as data/MasterThesis_RobbyHenkelmann-download-1-p-4746.pdf\n",
            "PDF link https://www.mdpi.com/2073-4441/13/3/310/pdf downloaded and saved as data/pdf\n",
            "PDF link https://arxiv.org/pdf/2008.07486 downloaded and saved as data/2008.07486\n",
            "PDF link https://ntnuopen.ntnu.no/ntnu-xmlui/bitstream/handle/11250/3093293/no.ntnu:inspera:146717033:31707976.pdf?sequence=1 downloaded and saved as data/no.ntnu:inspera:146717033:31707976.pdf?sequence=1\n",
            "PDF link http://coral.ise.lehigh.edu/sctheory/files/2019/05/FoSCT-2e-Sample-Chapter.pdf returned status code 403. Skipping...\n",
            "PDF link https://www.researchgate.net/profile/Jian-Wu-Bi/publication/347812154_International_tourism_demand_forecasting_with_machine_learning_models_The_power_of_the_number_of_lagged_inputs/links/605df059299bf173676e800d/International-tourism-demand-forecasting-with-machine-learning-models-The-power-of-the-number-of-lagged-inputs.pdf returned status code 403. Skipping...\n",
            "PDF link https://www.researchgate.net/profile/Rogelio-Oliva/publication/351821260_Cross-item_learning_for_volatile_demand_forecasting_An_intervention_with_predictive_analytics/links/60abd69145851522bc150491/Cross-item-learning-for-volatile-demand-forecasting-An-intervention-with-predictive-analytics.pdf returned status code 403. Skipping...\n",
            "PDF link https://ieeexplore.ieee.org/iel7/6287639/8948470/09223744.pdf returned status code 418. Skipping...\n",
            "PDF link https://www.researchgate.net/profile/Rogelio-Oliva/publication/351821260_Cross-item_learning_for_volatile_demand_forecasting_An_intervention_with_predictive_analytics/links/60abd69145851522bc150491/Cross-item-learning-for-volatile-demand-forecasting-An-intervention-with-predictive-analytics.pdf returned status code 403. Skipping...\n",
            "PDF link https://ieeexplore.ieee.org/iel7/6287639/8948470/09223744.pdf returned status code 418. Skipping...\n",
            "PDF link https://www.mdpi.com/2071-1050/13/23/13050 downloaded and saved as data/13050\n",
            "PDF link https://annals-csis.org/Volume_11/drp/pdf/224.pdf downloaded and saved as data/224.pdf\n",
            "PDF link https://thuvienso.hoasen.edu.vn/bitstream/handle/123456789/12768/Contents.pdf?sequence=1&isAllowed=y downloaded and saved as data/Contents.pdf?sequence=1&isAllowed=y\n",
            "PDF link https://arxiv.org/pdf/2201.04651 downloaded and saved as data/2201.04651\n",
            "PDF link https://hrcak.srce.hr/file/377949 downloaded and saved as data/377949\n",
            "PDF link https://dspace.mit.edu/bitstream/handle/1721.1/117612/Chan_Kharfan_2018_Capstone.pdf?sequence=1%26isAllowed%3Dy downloaded and saved as data/Chan_Kharfan_2018_Capstone.pdf?sequence=1%26isAllowed%3Dy\n",
            "PDF link https://www.mdpi.com/1999-4893/14/8/240/pdf downloaded and saved as data/pdf\n",
            "PDF link https://bgsiran.ir/journal/ojs-3.1.1-4/index.php/IJIEOR/article/download/43/33 downloaded and saved as data/33\n",
            "Error processing https://www.hindawi.com/journals/jhe/2019/6123745/: [Errno 21] Is a directory: 'data/'\n",
            "PDF link https://espace.library.uq.edu.au/view/UQ:00cada6/UQ00cada6_OA.pdf downloaded and saved as data/UQ00cada6_OA.pdf\n",
            "PDF link https://www.researchgate.net/profile/Edvard-Tijan/publication/356241152_Advanced_Data_Analytics_in_Logistics_Demand_Forecasting/links/6198c2ac07be5f31b79fa278/Advanced-Data-Analytics-in-Logistics-Demand-Forecasting.pdf returned status code 403. Skipping...\n",
            "PDF link https://bgsiran.ir/journal/ojs-3.1.1-4/index.php/IJIEOR/article/download/34/25 downloaded and saved as data/25\n",
            "PDF link https://www.sciencedirect.com/science/article/pii/S2772662222000066 returned status code 403. Skipping...\n",
            "PDF link https://arxiv.org/pdf/2009.03262 downloaded and saved as data/2009.03262\n",
            "PDF link https://www.mdpi.com/2071-1050/14/23/15889 downloaded and saved as data/15889\n",
            "PDF link https://link.springer.com/article/10.1007/s10479-022-05015-5 downloaded and saved as data/s10479-022-05015-5\n",
            "PDF link http://www.smartag.net.cn/EN/article/downloadArticleFile.do?attachType=PDF&id=21173 downloaded and saved as data/downloadArticleFile.do?attachType=PDF&id=21173\n",
            "PDF link https://hal.science/hal-02304581/file/NCTA'2019%20Hal.pdf downloaded and saved as data/NCTA'2019%20Hal.pdf\n",
            "PDF link https://www.sciencedirect.com/science/article/pii/S2444569X23000513 returned status code 403. Skipping...\n",
            "PDF link https://arxiv.org/pdf/2002.07964 downloaded and saved as data/2002.07964\n",
            "Error processing https://www.hindawi.com/journals/jfq/2022/4496449/: [Errno 21] Is a directory: 'data/'\n",
            "PDF link https://arxiv.org/pdf/2009.07052 downloaded and saved as data/2009.07052\n",
            "PDF link http://dspace.ucuenca.edu.ec/bitstream/123456789/40454/1/prePostPrint.pdf downloaded and saved as data/prePostPrint.pdf\n",
            "PDF link https://www.mdpi.com/2571-9394/3/2/19/pdf downloaded and saved as data/pdf\n",
            "PDF link https://www.researchgate.net/profile/Nimai-Das-Adhikari-2/publication/325914504_Ensemble_methodology_for_demand_forecasting/links/5b322bd6aca2720785e91893/Ensemble-methodology-for-demand-forecasting.pdf returned status code 403. Skipping...\n",
            "PDF link https://iopscience.iop.org/article/10.1088/1742-6596/1918/4/042012/pdf downloaded and saved as data/pdf\n",
            "PDF link https://link.springer.com/content/pdf/10.1007/s10723-021-09561-3.pdf downloaded and saved as data/s10723-021-09561-3.pdf\n",
            "PDF link https://link.springer.com/article/10.1007/s00521-022-07889-9 downloaded and saved as data/s00521-022-07889-9\n",
            "PDF link https://www.mdpi.com/2076-3417/10/19/6681/pdf downloaded and saved as data/pdf\n",
            "PDF link https://journals.sagepub.com/doi/full/10.1177/03611981211003896 returned status code 403. Skipping...\n",
            "PDF link https://www.mdpi.com/2227-9717/10/1/26 downloaded and saved as data/26\n",
            "PDF link https://bura.brunel.ac.uk/bitstream/2438/17809/2/FullText.pdf downloaded and saved as data/FullText.pdf\n",
            "PDF link https://ieeexplore.ieee.org/iel7/6287639/6514899/09066970.pdf returned status code 418. Skipping...\n",
            "PDF link https://link.springer.com/article/10.1007/s10489-022-03251-7 downloaded and saved as data/s10489-022-03251-7\n",
            "PDF link https://dergipark.org.tr/en/pub/tekstilvekonfeksiyon/issue/63422/809867?utm_source=researcher_app&utm_medium=referral&utm_campaign=RESR_MRKT_Researcher_inbound downloaded and saved as data/809867?utm_source=researcher_app&utm_medium=referral&utm_campaign=RESR_MRKT_Researcher_inbound\n",
            "PDF link https://repositorio-aberto.up.pt/bitstream/10216/114091/2/277665.pdf downloaded and saved as data/277665.pdf\n",
            "PDF link https://arxiv.org/pdf/1803.03800 downloaded and saved as data/1803.03800\n",
            "PDF link https://www.scirp.org/journal/paperinformation.aspx?paperid=121980 downloaded and saved as data/paperinformation.aspx?paperid=121980\n",
            "PDF link https://www.mdpi.com/2071-1050/14/15/9295/pdf downloaded and saved as data/pdf\n",
            "PDF link https://ro.uow.edu.au/cgi/viewcontent.cgi?article=4512&context=eispapers1 downloaded and saved as data/viewcontent.cgi?article=4512&context=eispapers1\n",
            "PDF link https://www.academia.edu/download/43451883/IJETTCS-2016-02-24-58.pdf returned status code 404. Skipping...\n",
            "PDF link https://www.sciencedirect.com/science/article/pii/S0169207021001710 returned status code 403. Skipping...\n",
            "PDF link https://www.sciencedirect.com/science/article/pii/S2590174522000770 returned status code 403. Skipping...\n",
            "PDF link http://acta.uni-obuda.hu/Kolkova_Navratil_115.pdf downloaded and saved as data/Kolkova_Navratil_115.pdf\n",
            "PDF link https://dspace.bracu.ac.bd/xmlui/bitstream/handle/10361/18037/18301065,%2018301266,%2018101349,%2018101558_CSE.pdf?sequence=1&isAllowed=y downloaded and saved as data/18301065,%2018301266,%2018101349,%2018101558_CSE.pdf?sequence=1&isAllowed=y\n",
            "PDF link https://www.sciencedirect.com/science/article/pii/S1877050922003076/pdf?md5=4fa7b0f0c9bc2305015a399447dae9af&pid=1-s2.0-S1877050922003076-main.pdf returned status code 403. Skipping...\n",
            "PDF link https://www.researchgate.net/profile/Saikouk-Tarik/post/Instructions_on_how_to_conduct_a_systematic_literature_review/attachment/603d54fe6e8959000110b556/AS%3A996653792247811%401614632189911/download/Artificialintelligenceapplicationsinsupplychain.pdf returned status code 403. Skipping...\n",
            "PDF link https://digital.car.chula.ac.th/cgi/viewcontent.cgi?article=5643&context=chulaetd downloaded and saved as data/viewcontent.cgi?article=5643&context=chulaetd\n",
            "PDF link https://iopscience.iop.org/article/10.1088/1742-6596/1714/1/012003/pdf downloaded and saved as data/pdf\n",
            "PDF link https://www.sciencedirect.com/science/article/pii/S0196890423010531 returned status code 403. Skipping...\n",
            "Error processing https://e-tarjome.com/storage/panel/fileuploads/2021-08-25/1629887817_E15578.pdf: HTTPSConnectionPool(host='e-tarjome.com', port=443): Max retries exceeded with url: /storage/panel/fileuploads/2021-08-25/1629887817_E15578.pdf (Caused by ConnectTimeoutError(<urllib3.connection.HTTPSConnection object at 0x7db994a49a50>, 'Connection to e-tarjome.com timed out. (connect timeout=10)'))\n",
            "PDF link https://www.mdpi.com/2077-0472/11/4/312/pdf downloaded and saved as data/pdf\n",
            "Error processing https://www.hindawi.com/journals/complexity/2022/9928836/: [Errno 21] Is a directory: 'data/'\n",
            "Error processing https://www.hindawi.com/journals/jfq/2021/4535567/: [Errno 21] Is a directory: 'data/'\n",
            "PDF link https://ojs.aaai.org/index.php/AAAI/article/view/4247/4125 downloaded and saved as data/4125\n",
            "Error processing https://www.econstor.eu/bitstream/10419/209378/1/hicl-2019-27-355.pdf: HTTPSConnectionPool(host='www.econstor.eu', port=443): Read timed out. (read timeout=10)\n",
            "PDF link https://yadda.icm.edu.pl/yadda/element/bwmeta1.element.baztech-2fc3c432-fdf7-4415-8745-acb49347e5f8/c/Kmiecik_1_2022.pdf downloaded and saved as data/Kmiecik_1_2022.pdf\n",
            "PDF link https://norma.ncirl.ie/6251/1/sruthiprabakaranparuthipattu.pdf downloaded and saved as data/sruthiprabakaranparuthipattu.pdf\n",
            "PDF link http://dln.jaipuria.ac.in:8080/jspui/bitstream/123456789/2549/1/The%20secret%20to%20smarter%20fresh-food%20replenishment_%20Machine%20learning%20_%20McKinsey%20%26%20Company.pdf downloaded and saved as data/The%20secret%20to%20smarter%20fresh-food%20replenishment_%20Machine%20learning%20_%20McKinsey%20%26%20Company.pdf\n",
            "PDF link https://www.mdpi.com/1996-1073/13/22/6154/pdf downloaded and saved as data/pdf\n",
            "Error processing https://journals.iau.ir/article_680604_fff1b0931279db64bd6e8728d0cd3171.pdf: HTTPSConnectionPool(host='journals.iau.ir', port=443): Max retries exceeded with url: /article_680604_fff1b0931279db64bd6e8728d0cd3171.pdf (Caused by ConnectTimeoutError(<urllib3.connection.HTTPSConnection object at 0x7db9949de110>, 'Connection to journals.iau.ir timed out. (connect timeout=10)'))\n",
            "PDF link https://pubs.thesciencein.org/journal/index.php/jist/article/download/a711/427 downloaded and saved as data/427\n",
            "PDF link https://pure.tue.nl/ws/portalfiles/portal/308216358/Master_Thesis_Els_Vlooswijk.pdf downloaded and saved as data/Master_Thesis_Els_Vlooswijk.pdf\n",
            "PDF link https://www.sciencedirect.com/science/article/pii/S2666764922000121 returned status code 403. Skipping...\n",
            "PDF link https://www.al-kindipublisher.com/index.php/jmss/article/download/5598/4759 downloaded and saved as data/4759\n",
            "PDF link https://www.sciencedirect.com/science/article/pii/S2949863523000250 returned status code 403. Skipping...\n",
            "PDF link https://scholar.sun.ac.za/bitstream/handle/10019.1/124902/oosthuizen_artificial_2022.pdf?sequence=1&isAllowed=y downloaded and saved as data/oosthuizen_artificial_2022.pdf?sequence=1&isAllowed=y\n",
            "PDF link https://scholar.google.com/scholar?output=instlink&q=info:JeR3TO4nZzIJ:scholar.google.com/&hl=en&num=20&as_sdt=0,41&scillfp=3463952089581935487&oi=lle returned status code 429. Skipping...\n",
            "PDF link https://ej-eng.org/index.php/ejeng/article/download/2254/980 downloaded and saved as data/980\n",
            "PDF link https://www.sciencedirect.com/science/article/pii/S221282712100370X/pdf?md5=360dc286b3d4eb0124be9e54cb2589a8&pid=1-s2.0-S221282712100370X-main.pdf returned status code 403. Skipping...\n",
            "PDF link https://www.academia.edu/download/84992682/9067367.pdf returned status code 404. Skipping...\n",
            "PDF link https://scholar.google.com/scholar?output=instlink&q=info:rdOIKCTj3ogJ:scholar.google.com/&hl=en&num=20&as_sdt=0,41&scillfp=8713277532395762294&oi=lle returned status code 429. Skipping...\n",
            "PDF link https://www.academia.edu/download/64607787/IRJET-V7I51014.pdf returned status code 404. Skipping...\n",
            "PDF link https://ntnuopen.ntnu.no/ntnu-xmlui/handle/11250/3018224 downloaded and saved as data/3018224\n",
            "PDF link http://oastats.mit.edu/bitstream/handle/1721.1/126503/scm2020-nowadly-using-machine-learning-approaches-to-improve-long-range-demand-forecasting-capstone.pdf?sequence=1&isAllowed=y downloaded and saved as data/scm2020-nowadly-using-machine-learning-approaches-to-improve-long-range-demand-forecasting-capstone.pdf?sequence=1&isAllowed=y\n",
            "PDF link https://www.inderscienceonline.com/doi/pdf/10.1504/IJRM.2021.114970 returned status code 403. Skipping...\n",
            "PDF link https://www.ijisae.org/index.php/IJISAE/article/download/2859/1438 downloaded and saved as data/1438\n",
            "PDF link http://www.matthewalanham.com/Students/2018_MWDSI_A%20Comparative%20Study%20of%20Machine%20Learning%20Frameworks%20for%20Demand%20Forecasting.pdf downloaded and saved as data/2018_MWDSI_A%20Comparative%20Study%20of%20Machine%20Learning%20Frameworks%20for%20Demand%20Forecasting.pdf\n",
            "PDF link https://scholar.google.com/scholar?output=instlink&q=info:fPOsR2KYRzEJ:scholar.google.com/&hl=en&num=20&as_sdt=0,41&scillfp=17984948917908405824&oi=lle returned status code 429. Skipping...\n",
            "PDF link https://www.mdpi.com/2076-3417/10/3/829/pdf downloaded and saved as data/pdf\n",
            "PDF link https://www.researchgate.net/profile/Tadele-Mamo-2/publication/363178704_Demand_Forecasting_in_Supply_Chains_Using_Ensemble_SVR-RFR_Model/links/6310a67c61e4553b9557ebc4/Demand-Forecasting-in-Supply-Chains-Using-Ensemble-SVR-RFR-Model.pdf returned status code 403. Skipping...\n",
            "PDF link http://repository.sgu.ac.id/2298/2/ONE%20MEUS%20GINTING%2021951009%20TOC.pdf downloaded and saved as data/ONE%20MEUS%20GINTING%2021951009%20TOC.pdf\n",
            "PDF link https://www.sciencedirect.com/science/article/pii/S1877050921018111/pdf?md5=d8a1635f442027080443d29148f01fec&pid=1-s2.0-S1877050921018111-main.pdf returned status code 403. Skipping...\n",
            "PDF link https://arxiv.org/pdf/1905.07902 downloaded and saved as data/1905.07902\n",
            "PDF link https://www.researchgate.net/profile/Samuel-Fosso-Wamba/publication/350943552_Industry_experiences_of_artificial_intelligence_AI_benefits_and_challenges_in_operations_and_supply_chain_management/links/62384ae5d545b77294090c87/Industry-experiences-of-artificial-intelligence-AI-benefits-and-challenges-in-operations-and-supply-chain-management.pdf returned status code 403. Skipping...\n",
            "PDF link http://ethesisarchive.library.tu.ac.th/thesis/2022/TU_2022_6422040557_16669_22752.pdf downloaded and saved as data/TU_2022_6422040557_16669_22752.pdf\n",
            "PDF link https://iacis.org/iis/2020/1_iis_2020_12-21.pdf downloaded and saved as data/1_iis_2020_12-21.pdf\n",
            "PDF link https://www.tandfonline.com/doi/pdf/10.1080/09537287.2021.1882690 returned status code 403. Skipping...\n",
            "PDF link https://arxiv.org/pdf/2011.04476 downloaded and saved as data/2011.04476\n",
            "PDF link https://www.repository.cam.ac.uk/bitstream/handle/1810/298194/v6_AB.docx?sequence=1 downloaded and saved as data/v6_AB.docx?sequence=1\n",
            "PDF link https://www.sciencedirect.com/science/article/pii/S187705091832091X/pdf?md5=80454952121d17f3497c58c486c7f793&pid=1-s2.0-S187705091832091X-main.pdf returned status code 403. Skipping...\n",
            "PDF link https://eduzonejournal.com/index.php/eiprmj/article/download/341/296 downloaded and saved as data/296\n",
            "PDF link https://www.teses.usp.br/teses/disponiveis/3/3143/tde-05092022-095859/publico/JulianoMarcalLopesCorr22.pdf downloaded and saved as data/JulianoMarcalLopesCorr22.pdf\n",
            "PDF link https://www.mdpi.com/1996-1073/15/21/7856/pdf downloaded and saved as data/pdf\n",
            "PDF link https://www.researchgate.net/profile/Fatima-Achamrah/publication/355409129_Solving_inventory_routing_with_transshipment_and_substitution_under_dynamic_and_stochastic_demands_using_genetic_algorithm_and_deep_reinforcement_learning/links/6387d63978f94b73a0ba64e9/Solving-inventory-routing-with-transshipment-and-substitution-under-dynamic-and-stochastic-demands-using-genetic-algorithm-and-deep-reinforcement-learning.pdf returned status code 403. Skipping...\n",
            "PDF link https://www.researchgate.net/profile/Dario-Bonino/publication/317429248_Agent_Marketplaces_and_Deep_learning_in_Enterprises_The_COMPOSITION_project/links/5e7dd8ae299bf1a91b7f1fa9/Agent-Marketplaces-and-Deep-learning-in-Enterprises-The-COMPOSITION-project.pdf returned status code 403. Skipping...\n",
            "PDF link https://re.public.polimi.it/bitstream/11311/1225946/1/IFAC_WenjinHao.pdf downloaded and saved as data/IFAC_WenjinHao.pdf\n",
            "PDF link https://scholar.smu.edu/cgi/viewcontent.cgi?article=1157&context=datasciencereview downloaded and saved as data/viewcontent.cgi?article=1157&context=datasciencereview\n",
            "PDF link https://www.researchgate.net/profile/Manish-Shashi-3/publication/360811181_Artificial_Intelligence_Digital_Enablers_in_Facilitating_Demand_Forecasting_of_Biopharmaceutical_Supply_Chains/links/628ccca0d4e5243d9b961c87/Artificial-Intelligence-Digital-Enablers-in-Facilitating-Demand-Forecasting-of-Biopharmaceutical-Supply-Chains.pdf returned status code 403. Skipping...\n",
            "PDF link https://dspace.mit.edu/bitstream/handle/1721.1/127104/1191824525-MIT.pdf?sequence=1&isAllowed=y downloaded and saved as data/1191824525-MIT.pdf?sequence=1&isAllowed=y\n",
            "PDF link https://www.researchgate.net/profile/Kim-Phuc-Tran/publication/361800298_Enabling_Smart_Supply_Chain_Management_with_Artificial_Intelligence/links/62c5dd942bdd98698ad8c12d/Enabling-Smart-Supply-Chain-Management-with-Artificial-Intelligence.pdf returned status code 403. Skipping...\n",
            "PDF link https://journals.gaftim.com/index.php/ijcim/article/download/232/129 downloaded and saved as data/129\n",
            "PDF link https://www.researchgate.net/profile/Manish-Shashi-3/publication/360811181_Artificial_Intelligence_Digital_Enablers_in_Facilitating_Demand_Forecasting_of_Biopharmaceutical_Supply_Chains/links/628ccca0d4e5243d9b961c87/Artificial-Intelligence-Digital-Enablers-in-Facilitating-Demand-Forecasting-of-Biopharmaceutical-Supply-Chains.pdf returned status code 403. Skipping...\n",
            "PDF link https://dspace.mit.edu/bitstream/handle/1721.1/127104/1191824525-MIT.pdf?sequence=1&isAllowed=y downloaded and saved as data/1191824525-MIT.pdf?sequence=1&isAllowed=y\n",
            "PDF link https://www.researchgate.net/profile/Kim-Phuc-Tran/publication/361800298_Enabling_Smart_Supply_Chain_Management_with_Artificial_Intelligence/links/62c5dd942bdd98698ad8c12d/Enabling-Smart-Supply-Chain-Management-with-Artificial-Intelligence.pdf returned status code 403. Skipping...\n",
            "PDF link https://journals.gaftim.com/index.php/ijcim/article/download/232/129 downloaded and saved as data/129\n",
            "PDF link https://journals.plos.org/plosone/article?id=10.1371/journal.pone.0219889 downloaded and saved as data/journal.pone.0219889\n",
            "PDF link https://www.researchgate.net/profile/Angie-Nguyen-4/publication/353346220_Data_analytics_in_pharmaceutical_supply_chains_state_of_the_art_opportunities_and_challenges/links/60ffff3d2bf3553b2915ea24/Data-analytics-in-pharmaceutical-supply-chains-state-of-the-art-opportunities-and-challenges.pdf returned status code 403. Skipping...\n",
            "PDF link https://garph.co.uk/IJAREAS/Jan2014/2.pdf downloaded and saved as data/2.pdf\n",
            "PDF link https://ijaem.net/issue_dcp/Artificial%20Neural%20network%20for%20effective%20demand%20forecasting%20of%20Product.pdf downloaded and saved as data/Artificial%20Neural%20network%20for%20effective%20demand%20forecasting%20of%20Product.pdf\n",
            "PDF link https://ieeexplore.ieee.org/iel7/6287639/9668973/09678385.pdf returned status code 418. Skipping...\n",
            "PDF link https://www.researchgate.net/profile/Fatima-Achamrah/publication/355409129_Solving_inventory_routing_with_transshipment_and_substitution_under_dynamic_and_stochastic_demands_using_genetic_algorithm_and_deep_reinforcement_learning/links/6387d63978f94b73a0ba64e9/Solving-inventory-routing-with-transshipment-and-substitution-under-dynamic-and-stochastic-demands-using-genetic-algorithm-and-deep-reinforcement-learning.pdf returned status code 403. Skipping...\n",
            "PDF link https://www.mdpi.com/2306-5338/5/4/54/pdf downloaded and saved as data/pdf\n",
            "PDF link https://ieeexplore.ieee.org/iel7/6287639/6514899/10159385.pdf returned status code 418. Skipping...\n",
            "PDF link https://hal.science/hal-03195611/document downloaded and saved as data/document\n",
            "PDF link https://www.sciencedirect.com/science/article/pii/S0377042709007286 returned status code 403. Skipping...\n",
            "PDF link https://scholar.smu.edu/cgi/viewcontent.cgi?article=1083&context=datasciencereview downloaded and saved as data/viewcontent.cgi?article=1083&context=datasciencereview\n",
            "PDF link https://scholar.smu.edu/cgi/viewcontent.cgi?article=1137&context=datasciencereview downloaded and saved as data/viewcontent.cgi?article=1137&context=datasciencereview\n",
            "PDF link http://bgsiran.ir/journal/ojs-3.1.1-4/index.php/IJIEOR/article/download/31/22 downloaded and saved as data/22\n",
            "PDF link https://www.mdpi.com/1996-1073/15/3/750 downloaded and saved as data/750\n",
            "PDF link https://www.mdpi.com/2227-7390/11/3/501 downloaded and saved as data/501\n",
            "PDF link https://eprints.qut.edu.au/242464/1/Bryce%2BDevlin%2BThesis%282%29.pdf returned status code 403. Skipping...\n",
            "PDF link https://www.researchgate.net/profile/D-Karthika/publication/354726783_A_Recent_Review_Article_on_Demand_Forecasting/links/6149e5dda3df59440ba12a7b/A-Recent-Review-Article-on-Demand-Forecasting.pdf returned status code 403. Skipping...\n",
            "PDF link https://www.researchgate.net/profile/Jian-Wu-Bi/publication/355931235_Forecasting_Daily_Tourism_Demand_for_Tourist_Attractions_with_Big_Data_An_Ensemble_Deep_Learning_Method/links/640f20ff92cfd54f84f8f05b/Forecasting-Daily-Tourism-Demand-for-Tourist-Attractions-with-Big-Data-An-Ensemble-Deep-Learning-Method.pdf returned status code 403. Skipping...\n",
            "PDF link https://www.esann.org/sites/default/files/proceedings/legacy/es2013-45.pdf downloaded and saved as data/es2013-45.pdf\n",
            "PDF link https://www.researchgate.net/profile/Sheraz-Aslam/publication/350107778_A_Survey_on_Deep_Learning_Methods_for_Power_Load_and_Renewable_Energy_Forecasting_in_Smart_Microgrids/links/605467b4299bf1736752b422/A-Survey-on-Deep-Learning-Methods-for-Power-Load-and-Renewable-Energy-Forecasting-in-Smart-Microgrids.pdf returned status code 403. Skipping...\n",
            "PDF link https://www.researchgate.net/profile/Abhijit-Gosavi/publication/277632982_A_Reinforcement_Learning_Approach_for_Inventory_Replenishment_in_Vendor-Managed_Inventory_Systems_With_Consignment_Inventory/links/571d336e08aee3ddc56ac739/A-Reinforcement-Learning-Approach-for-Inventory-Replenishment-in-Vendor-Managed-Inventory-Systems-With-Consignment-Inventory.pdf returned status code 403. Skipping...\n",
            "PDF link https://www.ijee.net/article_104792_fb260cac96de098700ac7195b24a58e7.pdf downloaded and saved as data/article_104792_fb260cac96de098700ac7195b24a58e7.pdf\n",
            "PDF link https://arxiv.org/pdf/2308.11939 downloaded and saved as data/2308.11939\n",
            "PDF link https://search.proquest.com/openview/052a399b150b02f2ecd7a6d6fa9c7017/1?pq-origsite=gscholar&cbl=51922&diss=y downloaded and saved as data/1?pq-origsite=gscholar&cbl=51922&diss=y\n",
            "PDF link https://www.researchgate.net/profile/Juan-Carlos-Quiroz-Flores/publication/371035962_Improving_Demand_Forecasting_by_Implementing_Machine_Learning_in_Poultry_Production_Company/links/646f8ea25fb30b716c51c7ec/Improving-Demand-Forecasting-by-Implementing-Machine-Learning-in-Poultry-Production-Company.pdf returned status code 403. Skipping...\n",
            "PDF link https://www.researchgate.net/profile/Amit-Kumar-Sharma-2/publication/358649401_Demand_Forecasting_Using_Coupling_Of_Machine_Learning_And_Time_Series_Models_For_The_Automotive_After_Market_Sector/links/622194d29f7b3246340c770e/Demand-Forecasting-Using-Coupling-Of-Machine-Learning-And-Time-Series-Models-For-The-Automotive-After-Market-Sector.pdf returned status code 403. Skipping...\n",
            "PDF link https://arxiv.org/pdf/2101.02305 downloaded and saved as data/2101.02305\n",
            "PDF link https://www.researchgate.net/profile/Patrik-Jonsson-3/publication/324545269_Big_data_in_spare_parts_supply_chains_The_potential_of_using_product-in-use_data_in_aftermarket_demand_planning/links/5d0d141a92851cf44040d0f1/Big-data-in-spare-parts-supply-chains-The-potential-of-using-product-in-use-data-in-aftermarket-demand-planning.pdf returned status code 403. Skipping...\n",
            "PDF link https://www.researchgate.net/profile/Sultan-Qasem/publication/336722268_A_PART-Based_Algorithm_for_Prediction_of_Daily_Demand_Orders/links/5daf4edb92851c577eb99f36/A-PART-Based-Algorithm-for-Prediction-of-Daily-Demand-Orders.pdf returned status code 403. Skipping...\n",
            "PDF link https://scholar.smu.edu/cgi/viewcontent.cgi?article=1131&context=datasciencereview downloaded and saved as data/viewcontent.cgi?article=1131&context=datasciencereview\n",
            "PDF link https://www.researchgate.net/profile/Michael-Schrage/publication/343583742_Digital-rst_enterprise_success_demands_clarity-_rst_supply_chain_design/links/5f32a045299bf13404b7e1b8/Digital-rst-enterprise-success-demands-clarity-rst-supply-chain-design.pdf returned status code 403. Skipping...\n",
            "PDF link https://www.diva-portal.org/smash/get/diva2:1619876/FULLTEXT02 returned status code 403. Skipping...\n",
            "PDF link https://proceedings.neurips.cc/paper_files/paper/2016/file/03255088ed63354a54e0e5ed957e9008-Paper.pdf downloaded and saved as data/03255088ed63354a54e0e5ed957e9008-Paper.pdf\n",
            "PDF link https://lup.lub.lu.se/student-papers/record/8950000/file/8950008.pdf downloaded and saved as data/8950008.pdf\n",
            "PDF link https://norma.ncirl.ie/6271/1/aryanrajput.pdf downloaded and saved as data/aryanrajput.pdf\n",
            "PDF link https://www.scielo.br/j/prod/a/MHmsQyjYjMshXLmD6Q6xbkJ/citation/?lang=en returned status code 404. Skipping...\n",
            "PDF link https://proceedings.neurips.cc/paper_files/paper/2016/file/03255088ed63354a54e0e5ed957e9008-Paper.pdf downloaded and saved as data/03255088ed63354a54e0e5ed957e9008-Paper.pdf\n",
            "PDF link https://lup.lub.lu.se/student-papers/record/8950000/file/8950008.pdf downloaded and saved as data/8950008.pdf\n",
            "PDF link https://norma.ncirl.ie/6271/1/aryanrajput.pdf downloaded and saved as data/aryanrajput.pdf\n",
            "PDF link https://www.scielo.br/j/prod/a/MHmsQyjYjMshXLmD6Q6xbkJ/citation/?lang=en returned status code 404. Skipping...\n",
            "PDF link https://www.spiedigitallibrary.org/conference-proceedings-of-spie/12506/125066D/Research-on-retail-demand-forecasting-based-on-deep-learning/10.1117/12.2661780.pdf downloaded and saved as data/12.2661780.pdf\n",
            "PDF link https://www.ajhtl.com/uploads/7/1/6/3/7163688/article_16_11_2_770-780.pdf downloaded and saved as data/article_16_11_2_770-780.pdf\n",
            "PDF link https://www.mdpi.com/1424-8220/20/10/2990/pdf downloaded and saved as data/pdf\n",
            "PDF link https://iopscience.iop.org/article/10.1088/1742-6596/1925/1/012033/pdf downloaded and saved as data/pdf\n",
            "PDF link https://www.academia.edu/download/98517237/20190625110833378.pdf returned status code 404. Skipping...\n",
            "PDF link https://www.doria.fi/bitstream/handle/10024/168566/macias_camilo.pdf?sequence=2 downloaded and saved as data/macias_camilo.pdf?sequence=2\n",
            "PDF link https://ijcis.com/index.php/IJCIS/article/download/85/42 returned status code 406. Skipping...\n",
            "Error processing https://www.hindawi.com/journals/sp/2019/8319549/: [Errno 21] Is a directory: 'data/'\n",
            "PDF link https://www.mdpi.com/2220-9964/11/5/277 downloaded and saved as data/277\n",
            "PDF link https://www.mdpi.com/2305-6290/5/4/84 downloaded and saved as data/84\n",
            "PDF link https://www.matthewalanham.com/Students/2018_MWDSI_LSTM.pdf downloaded and saved as data/2018_MWDSI_LSTM.pdf\n",
            "PDF link http://www.ijml.org/vol12/1096-IJMLC-2171.pdf downloaded and saved as data/1096-IJMLC-2171.pdf\n",
            "PDF link https://www.academia.edu/download/96894821/76_27196_EMr_15sep22_18jan22_N.pdf returned status code 404. Skipping...\n",
            "PDF link https://www.doria.fi/bitstream/handle/10024/181510/lindfors_albin.pdf?sequence=2 downloaded and saved as data/lindfors_albin.pdf?sequence=2\n",
            "PDF link https://citeseerx.ist.psu.edu/document?repid=rep1&type=pdf&doi=8f0c7d4b317b165d4125dfcf7bff595990d6ee59 downloaded and saved as data/document?repid=rep1&type=pdf&doi=8f0c7d4b317b165d4125dfcf7bff595990d6ee59\n",
            "PDF link https://arxiv.org/pdf/2210.13965 downloaded and saved as data/2210.13965\n",
            "PDF link https://www.sciencedirect.com/science/article/am/pii/S026840122031481X returned status code 403. Skipping...\n",
            "PDF link https://www.mdpi.com/2071-1050/15/9/7179 downloaded and saved as data/7179\n",
            "PDF link https://digital.library.txstate.edu/bitstream/handle/10877/8164/GHANBARI-THESIS-2019.pdf?sequence=1 downloaded and saved as data/GHANBARI-THESIS-2019.pdf?sequence=1\n",
            "PDF link https://www.researchgate.net/profile/Samane-Sharifi-Monfared/publication/358970130_Demand_forecasting_of_automotive_OEMs_to_Tier1_suppliers_using_time_series_machine_learning_and_deep_learning_methods_with_proposing_a_novel_model_for_demand_forecasting_of_small_data/links/621fedbde474e407ea1e096a/Demand-forecasting-of-automotive-OEMs-to-Tier1-suppliers-using-time-series-machine-learning-and-deep-learning-methods-with-proposing-a-novel-model-for-demand-forecasting-of-small-data.pdf returned status code 403. Skipping...\n",
            "PDF link https://www.academia.edu/download/43514967/SKU_demand_forecasting_in_the_presence_o20160308-11493-1oyjps8.pdf returned status code 404. Skipping...\n",
            "Error processing https://www.hindawi.com/journals/jat/2022/5934670/: [Errno 21] Is a directory: 'data/'\n",
            "PDF link https://journals.gaftim.com/index.php/ijcim/article/download/75/36 downloaded and saved as data/36\n",
            "PDF link https://www.sciencedirect.com/science/article/pii/S2214716019301988 returned status code 403. Skipping...\n",
            "PDF link http://mtol.teilar.gr/vol11_2017/Karakitsiou_Mavromati.pdf downloaded and saved as data/Karakitsiou_Mavromati.pdf\n",
            "PDF link https://www.mdpi.com/2071-1050/15/9/7179 downloaded and saved as data/7179\n",
            "PDF link https://digital.library.txstate.edu/bitstream/handle/10877/8164/GHANBARI-THESIS-2019.pdf?sequence=1 downloaded and saved as data/GHANBARI-THESIS-2019.pdf?sequence=1\n",
            "PDF link https://www.researchgate.net/profile/Samane-Sharifi-Monfared/publication/358970130_Demand_forecasting_of_automotive_OEMs_to_Tier1_suppliers_using_time_series_machine_learning_and_deep_learning_methods_with_proposing_a_novel_model_for_demand_forecasting_of_small_data/links/621fedbde474e407ea1e096a/Demand-forecasting-of-automotive-OEMs-to-Tier1-suppliers-using-time-series-machine-learning-and-deep-learning-methods-with-proposing-a-novel-model-for-demand-forecasting-of-small-data.pdf returned status code 403. Skipping...\n",
            "PDF link https://www.academia.edu/download/43514967/SKU_demand_forecasting_in_the_presence_o20160308-11493-1oyjps8.pdf returned status code 404. Skipping...\n",
            "Error processing https://www.hindawi.com/journals/jat/2022/5934670/: [Errno 21] Is a directory: 'data/'\n",
            "PDF link https://journals.gaftim.com/index.php/ijcim/article/download/75/36 downloaded and saved as data/36\n",
            "PDF link https://www.sciencedirect.com/science/article/pii/S2214716019301988 returned status code 403. Skipping...\n",
            "PDF link https://iwaponline.com/jh/article-pdf/25/3/895/1228842/jh0250895.pdf returned status code 403. Skipping...\n",
            "PDF link https://www.eduzonejournal.com/index.php/eiprmj/article/download/342/297 downloaded and saved as data/297\n",
            "PDF link https://arxiv.org/pdf/2309.02248 downloaded and saved as data/2309.02248\n",
            "PDF link https://www.sciencedirect.com/science/article/pii/S2351978921001396/pdf?md5=4166224680be6ed02ea992a92a8a48c4&pid=1-s2.0-S2351978921001396-main.pdf returned status code 403. Skipping...\n",
            "PDF link https://iris.unimore.it/bitstream/11380/1170844/5/Lolli_et_al___2019___Machine_learning_for_multi_criteria_inventory_classification_applied_to_intermittent_demand.pdf downloaded and saved as data/Lolli_et_al___2019___Machine_learning_for_multi_criteria_inventory_classification_applied_to_intermittent_demand.pdf\n",
            "PDF link https://www.sciencedirect.com/science/article/pii/S2351978920303243/pdf?md5=9d479058fd86e9581421e13ccc659d5a&pid=1-s2.0-S2351978920303243-main.pdf returned status code 403. Skipping...\n",
            "PDF link https://proceedings.mlr.press/v179/mendil22a/mendil22a.pdf downloaded and saved as data/mendil22a.pdf\n",
            "PDF link https://www.mdpi.com/2071-1050/15/18/13592 downloaded and saved as data/13592\n",
            "PDF link https://ieeexplore.ieee.org/iel7/6287639/6514899/09585704.pdf returned status code 418. Skipping...\n",
            "PDF link https://www.sciencedirect.com/science/article/pii/S2352484721006958 returned status code 403. Skipping...\n",
            "PDF link http://www.ieomsociety.org/detroit2020/papers/300.pdf downloaded and saved as data/300.pdf\n",
            "PDF link https://arxiv.org/pdf/2005.03244 downloaded and saved as data/2005.03244\n",
            "PDF link https://www.researchgate.net/profile/Aleksandr-Kljucnikov/publication/357250823_Demand_forecasting_An_alternative_approach_based_on_technical_indicator_Pbands/links/61cf10f9d4500608167df80a/Demand-forecasting-An-alternative-approach-based-on-technical-indicator-Pbands.pdf?_sg%5B0%5D=started_experiment_milestone&origin=journalDetail returned status code 403. Skipping...\n",
            "PDF link https://www.academia.edu/download/43451880/IJETTCS-2016-02-24-56.pdf returned status code 404. Skipping...\n",
            "PDF link https://downloads.hindawi.com/journals/sp/2021/1894768.pdf downloaded and saved as data/1894768.pdf\n",
            "PDF link https://matthewalanham.com/Students/2018_MWDSI_Forecasting%20Intermittent%20Demand%20Patterns%20with%20Time%20Series.pdf downloaded and saved as data/2018_MWDSI_Forecasting%20Intermittent%20Demand%20Patterns%20with%20Time%20Series.pdf\n",
            "PDF link https://citeseerx.ist.psu.edu/document?repid=rep1&type=pdf&doi=f11843f31e65838d6fa5db4494e828648c8642bb downloaded and saved as data/document?repid=rep1&type=pdf&doi=f11843f31e65838d6fa5db4494e828648c8642bb\n",
            "PDF link https://www.researchgate.net/profile/Ahmet-Tekin-4/publication/361712574_Store-based_Demand_Forecasting_of_a_Company_via_Ensemble_Learning/links/62d95f07aa5823729ed3c309/Store-based-Demand-Forecasting-of-a-Company-via-Ensemble-Learning.pdf returned status code 403. Skipping...\n",
            "PDF link https://iwaponline.com/ws/article/23/2/624/93125 returned status code 403. Skipping...\n",
            "PDF link https://www.researchgate.net/profile/Ahmet-Tekin-4/publication/354143814_Demand_Forecasting_of_a_Company_that_Produces_by_Mass_Customization_with_Machine_Learning/links/61274edc0360302a005bfa82/Demand-Forecasting-of-a-Company-that-Produces-by-Mass-Customization-with-Machine-Learning.pdf returned status code 403. Skipping...\n",
            "PDF link https://dergipark.org.tr/en/download/article-file/1057471 downloaded and saved as data/1057471\n",
            "PDF link https://scholar.google.com/scholar?output=instlink&q=info:1h3q2HY7X8YJ:scholar.google.com/&hl=en&num=20&as_sdt=0,5&scillfp=17502170646158606124&oi=lle returned status code 429. Skipping...\n",
            "PDF link https://applied-math.uibk.ac.at/images/Preprints/2016/pp_28_2016.pdf downloaded and saved as data/pp_28_2016.pdf\n",
            "PDF link https://www.politesi.polimi.it/bitstream/10589/154494/3/2020_04_Perego.pdf downloaded and saved as data/2020_04_Perego.pdf\n",
            "PDF link https://thuvienso.hoasen.edu.vn/bitstream/handle/123456789/10540/Contents.pdf?sequence=4&isAllowed=y downloaded and saved as data/Contents.pdf?sequence=4&isAllowed=y\n",
            "PDF link https://www.tandfonline.com/doi/pdf/10.1080/09537287.2021.1993373 returned status code 403. Skipping...\n",
            "PDF link https://www.mdpi.com/2411-5134/4/1/8/pdf downloaded and saved as data/pdf\n",
            "PDF link https://thuvienso.hoasen.edu.vn/bitstream/handle/123456789/10540/Contents.pdf?sequence=4&isAllowed=y downloaded and saved as data/Contents.pdf?sequence=4&isAllowed=y\n",
            "PDF link https://www.tandfonline.com/doi/pdf/10.1080/09537287.2021.1993373 returned status code 403. Skipping...\n",
            "PDF link https://www.mdpi.com/2071-1050/14/9/5412 downloaded and saved as data/5412\n",
            "PDF link https://arxiv.org/pdf/2304.05174 downloaded and saved as data/2304.05174\n",
            "PDF link https://www.sbt-durabi.org/articles/pdf/0KVE/durabi-2021-012-02-7.pdf downloaded and saved as data/durabi-2021-012-02-7.pdf\n",
            "PDF link https://www.sciencedirect.com/science/article/pii/S2666546822000052 returned status code 403. Skipping...\n",
            "PDF link https://www.mdpi.com/1996-1073/14/22/7644 downloaded and saved as data/7644\n",
            "PDF link https://www.amazon.science/publications/sample-path-generation-for-probabilistic-demand-forecasting downloaded and saved as data/sample-path-generation-for-probabilistic-demand-forecasting\n",
            "PDF link https://www.e3s-conferences.org/articles/e3sconf/pdf/2023/28/e3sconf_icmed-icmpc2023_01089.pdf downloaded and saved as data/e3sconf_icmed-icmpc2023_01089.pdf\n",
            "PDF link https://www.academia.edu/download/83302161/1_s2.0_S1364032120300228_main.pdf returned status code 404. Skipping...\n",
            "Error processing https://ijeee.edu.iq/Papers/Vol19-Issue2/1570891982.pdf: HTTPSConnectionPool(host='ijeee.edu.iq', port=443): Max retries exceeded with url: /Papers/Vol19-Issue2/1570891982.pdf (Caused by SSLError(SSLCertVerificationError(1, '[SSL: CERTIFICATE_VERIFY_FAILED] certificate verify failed: unable to get local issuer certificate (_ssl.c:1007)')))\n",
            "PDF link https://annals-csis.org/proceedings/2022/pliks/256.pdf downloaded and saved as data/256.pdf\n",
            "PDF link https://scholar.google.com/scholar?output=instlink&q=info:a2RkEgQ4hjQJ:scholar.google.com/&hl=en&num=20&as_sdt=0,5&scillfp=7265342963961330567&oi=lle returned status code 429. Skipping...\n",
            "PDF link https://research.tue.nl/files/237028752/BNAICBeNeLearn_2022_submission_4148.pdf downloaded and saved as data/BNAICBeNeLearn_2022_submission_4148.pdf\n",
            "PDF link https://www.sciencedirect.com/science/article/pii/S0360544223008241 returned status code 403. Skipping...\n",
            "PDF link https://arxiv.org/pdf/2205.09508 downloaded and saved as data/2205.09508\n",
            "PDF link https://www.mdpi.com/2076-3417/11/13/6112/pdf downloaded and saved as data/pdf\n",
            "PDF link https://publica.fraunhofer.de/bitstreams/2a349c7e-f843-4845-bea1-e95af7152a0d/download downloaded and saved as data/download\n",
            "PDF link https://www.preprints.org/manuscript/202011.0205/download/final_file downloaded and saved as data/final_file\n",
            "PDF link https://www.anylogic.ru/upload/iblock/6a2/6a2ef048218bb262a8f9053d3bf2425c.pdf downloaded and saved as data/6a2ef048218bb262a8f9053d3bf2425c.pdf\n",
            "Error processing http://scientiairanica.sharif.edu/article_20789_183e9662826ea92c91fcd359191e6d06.pdf: HTTPConnectionPool(host='scientiairanica.sharif.edu', port=80): Max retries exceeded with url: /article_20789_183e9662826ea92c91fcd359191e6d06.pdf (Caused by ConnectTimeoutError(<urllib3.connection.HTTPConnection object at 0x7db9949dc8e0>, 'Connection to scientiairanica.sharif.edu timed out. (connect timeout=10)'))\n",
            "PDF link https://ora.ox.ac.uk/objects/uuid:27efa85a-783a-42fe-95aa-fad37c879eb9/files/svh53ww17c downloaded and saved as data/svh53ww17c\n",
            "PDF link https://journals.sfu.ca/ijietap/index.php/ijie/article/download/9035/1417/52231 returned status code 403. Skipping...\n",
            "PDF link https://hal.science/hal-03544286/document downloaded and saved as data/document\n",
            "PDF link http://dl.lib.uom.lk/bitstream/handle/123/21427/8.%20Review%20of%20Methodologies%20Used%20in%20Electricity%20Supply%20and%20Demand%20Forecasting.pdf?sequence=1 downloaded and saved as data/8.%20Review%20of%20Methodologies%20Used%20in%20Electricity%20Supply%20and%20Demand%20Forecasting.pdf?sequence=1\n",
            "PDF link https://library.samdu.uz/files/c5397bcbaeb0c8a5884ef9971f653d65_Machine%20Learning%20for%20%20Time%20Series%20Forecasting%20%20with%20Python.pdf downloaded and saved as data/c5397bcbaeb0c8a5884ef9971f653d65_Machine%20Learning%20for%20%20Time%20Series%20Forecasting%20%20with%20Python.pdf\n",
            "PDF link https://www.researchgate.net/profile/Katharina-Lingelbach/publication/353041616_Demand_Forecasting_Using_Ensemble_Learning_for_Effective_Scheduling_of_Logistic_Orders/links/6116180c1e95fe241aca6f48/Demand-Forecasting-Using-Ensemble-Learning-for-Effective-Scheduling-of-Logistic-Orders.pdf returned status code 403. Skipping...\n",
            "PDF link https://arxiv.org/pdf/2303.05698 downloaded and saved as data/2303.05698\n",
            "PDF link https://www.researchgate.net/profile/Satyandra-Gupta/publication/372911630_The_Role_of_Deep_Learning_in_Manufacturing_Applications_Challenges_and_Opportunities/links/64d3a519d3e680065aa3ae95/The-Role-of-Deep-Learning-in-Manufacturing-Applications-Challenges-and-Opportunities.pdf returned status code 403. Skipping...\n",
            "PDF link https://www.researchgate.net/profile/Qixiu-Cheng/publication/314157336_Analysis_and_Forecasting_of_the_Day-to-day_Travel_Demand_Variations_for_Large-_scale_Transportation_Networks_A_Deep_Learning_Approach/links/58b8172b92851c471d4a0789/Analysis-and-Forecasting-of-the-Day-to-day-Travel-Demand-Variations-for-Large-scale-Transportation-Networks-A-Deep-Learning-Approach.pdf returned status code 403. Skipping...\n",
            "PDF link https://www.researchgate.net/profile/Samit-Bhanja/publication/350645999_Electrical_Power_Demand_Forecasting_of_Smart_Buildings_A_Deep_Learning_Approach/links/6168edcf66e6b95f07cb703a/Electrical-Power-Demand-Forecasting-of-Smart-Buildings-A-Deep-Learning-Approach.pdf returned status code 403. Skipping...\n",
            "PDF link https://dergipark.org.tr/en/download/article-file/763239 downloaded and saved as data/763239\n",
            "PDF link https://scholar.google.com/scholar?output=instlink&q=info:4H2ExurflIsJ:scholar.google.com/&hl=en&num=20&as_sdt=0,4&scillfp=3951928836221039364&oi=lle returned status code 429. Skipping...\n",
            "PDF link https://www.mdpi.com/2077-1312/9/9/968?trk=organization_guest_main-feed-card-text downloaded and saved as data/968?trk=organization_guest_main-feed-card-text\n",
            "PDF link https://www.sciencedirect.com/science/article/pii/S2352710220334604 returned status code 403. Skipping...\n",
            "PDF link https://arxiv.org/pdf/1607.02177 downloaded and saved as data/1607.02177\n",
            "PDF link http://sclab.yonsei.ac.kr/publications/Papers/IC/2020_ICDM_JYK.pdf downloaded and saved as data/2020_ICDM_JYK.pdf\n",
            "PDF link https://citeseerx.ist.psu.edu/document?repid=rep1&type=pdf&doi=cd2ed814ba05b401c2f34af50d830ed0858ed678 downloaded and saved as data/document?repid=rep1&type=pdf&doi=cd2ed814ba05b401c2f34af50d830ed0858ed678\n",
            "PDF link https://expeditiorepositorio.utadeo.edu.co/bitstream/handle/20.500.12010/27585/Tesis%20de%20Maestr%C3%ADa%20-%2011-07-2022%20%28Jos%C3%A9%20Nicol%C3%A1s%20Valbuena%20Godoy%29.pdf?sequence=1&isAllowed=y downloaded and saved as data/Tesis%20de%20Maestr%C3%ADa%20-%2011-07-2022%20%28Jos%C3%A9%20Nicol%C3%A1s%20Valbuena%20Godoy%29.pdf?sequence=1&isAllowed=y\n",
            "PDF link https://www.sciencedirect.com/science/article/pii/S2226585622000280 returned status code 403. Skipping...\n",
            "PDF link https://www.sciencedirect.com/science/article/pii/S0378778822007642 returned status code 403. Skipping...\n",
            "PDF link https://diposit.ub.edu/dspace/bitstream/2445/117730/1/Book%20Machine%20Learning%20(2017)%20-%20Chapter%202%20-%20pp%2059-90%20-%20postprint.pdf downloaded and saved as data/Book%20Machine%20Learning%20(2017)%20-%20Chapter%202%20-%20pp%2059-90%20-%20postprint.pdf\n",
            "PDF link https://par.nsf.gov/servlets/purl/10174756 downloaded and saved as data/10174756\n",
            "PDF link https://www.sciencedirect.com/science/article/pii/S2226585622000280 returned status code 403. Skipping...\n",
            "PDF link https://www.sciencedirect.com/science/article/pii/S0378778822007642 returned status code 403. Skipping...\n",
            "PDF link https://diposit.ub.edu/dspace/bitstream/2445/117730/1/Book%20Machine%20Learning%20(2017)%20-%20Chapter%202%20-%20pp%2059-90%20-%20postprint.pdf downloaded and saved as data/Book%20Machine%20Learning%20(2017)%20-%20Chapter%202%20-%20pp%2059-90%20-%20postprint.pdf\n",
            "PDF link https://par.nsf.gov/servlets/purl/10174756 downloaded and saved as data/10174756\n",
            "PDF link https://www.sciencedirect.com/science/article/pii/S0169207022001364 returned status code 403. Skipping...\n",
            "PDF link https://pdfs.semanticscholar.org/2710/978690f5508dfe4398af92cc4edd2b1ee4ba.pdf downloaded and saved as data/978690f5508dfe4398af92cc4edd2b1ee4ba.pdf\n",
            "PDF link https://eprints.qut.edu.au/129249/1/preprints201905.0175.v1.pdf returned status code 403. Skipping...\n",
            "PDF link https://varshaprabhakar07.github.io/img/3.pdf downloaded and saved as data/3.pdf\n",
            "PDF link https://www.researchgate.net/profile/Vinit-Gunjan/publication/339028256_Modern_Approaches_in_Machine_Learning_and_Cognitive_Science_A_Walkthrough_Latest_Trends_in_AI_Latest_Trends_in_AI/links/62d3c3285aab971198b65a5d/Modern-Approaches-in-Machine-Learning-and-Cognitive-Science-A-Walkthrough-Latest-Trends-in-AI-Latest-Trends-in-AI.pdf#page=64 returned status code 403. Skipping...\n",
            "PDF link https://www.researchgate.net/profile/Juan-Carlos-Quiroz-Flores/publication/374093316_Improving_Demand_Analysis_and_Supply_Chain_Management_for_Hair_Products_During_the_COVID-19_Pandemic_A_Machine_Learning_Approach/links/65189d1a3ab6cb4ec6ae7389/Improving-Demand-Analysis-and-Supply-Chain-Management-for-Hair-Products-During-the-COVID-19-Pandemic-A-Machine-Learning-Approach.pdf returned status code 403. Skipping...\n",
            "PDF link https://www.sciencedirect.com/science/article/pii/S0169207022001364 returned status code 403. Skipping...\n",
            "PDF link https://pdfs.semanticscholar.org/2710/978690f5508dfe4398af92cc4edd2b1ee4ba.pdf downloaded and saved as data/978690f5508dfe4398af92cc4edd2b1ee4ba.pdf\n",
            "PDF link https://eprints.qut.edu.au/129249/1/preprints201905.0175.v1.pdf returned status code 403. Skipping...\n",
            "PDF link https://varshaprabhakar07.github.io/img/3.pdf downloaded and saved as data/3.pdf\n",
            "PDF link https://www.researchgate.net/profile/Vinit-Gunjan/publication/339028256_Modern_Approaches_in_Machine_Learning_and_Cognitive_Science_A_Walkthrough_Latest_Trends_in_AI_Latest_Trends_in_AI/links/62d3c3285aab971198b65a5d/Modern-Approaches-in-Machine-Learning-and-Cognitive-Science-A-Walkthrough-Latest-Trends-in-AI-Latest-Trends-in-AI.pdf#page=64 returned status code 403. Skipping...\n",
            "PDF link https://www.researchgate.net/profile/Juan-Carlos-Quiroz-Flores/publication/374093316_Improving_Demand_Analysis_and_Supply_Chain_Management_for_Hair_Products_During_the_COVID-19_Pandemic_A_Machine_Learning_Approach/links/65189d1a3ab6cb4ec6ae7389/Improving-Demand-Analysis-and-Supply-Chain-Management-for-Hair-Products-During-the-COVID-19-Pandemic-A-Machine-Learning-Approach.pdf returned status code 403. Skipping...\n",
            "PDF link https://www.solent.ac.uk/documents/degree-shows/ajibola-olaosebikan-project-scaids.pdf downloaded and saved as data/ajibola-olaosebikan-project-scaids.pdf\n",
            "PDF link https://www.researchgate.net/profile/Dauvergne-Peter/publication/344075411_Is_artificial_intelligence_greening_global_supply_chains_Exposing_the_political_economy_of_environmental_costs/links/6294db1655273755ebc37ead/Is-artificial-intelligence-greening-global-supply-chains-Exposing-the-political-economy-of-environmental-costs.pdf returned status code 403. Skipping...\n",
            "PDF link https://drive.google.com/file/d/1vnyVlWJtac5pij73JJGTEx_MNfAuWcBK/view downloaded and saved as data/view\n",
            "PDF link https://www.researchgate.net/profile/Anusha-Ganesan/publication/362618293_Demand_Forecasting_for_Primary_Crop_Production_using_Different_Machine_learning_algorithms_A_Comparative_Analysis/links/62f46b7079550d6d1c7192ac/Demand-Forecasting-for-Primary-Crop-Production-using-Different-Machine-learning-algorithms-A-Comparative-Analysis.pdf returned status code 403. Skipping...\n",
            "PDF link https://www.cp.eng.chula.ac.th/~prabhas/paper/2022/vithitsoontorn_Demand_Forecasting_2022.pdf downloaded and saved as data/vithitsoontorn_Demand_Forecasting_2022.pdf\n",
            "PDF link https://www.zbw.eu/econis-archiv/bitstream/11159/517154/1/EBP08578074X_0.pdf returned status code 401. Skipping...\n",
            "PDF link https://www.fujitsu.com/global/documents/about/resources/publications/fstj/archives/vol55-2/paper05.pdf downloaded and saved as data/paper05.pdf\n",
            "PDF link https://www.researchgate.net/profile/Mario-Caterino-2/publication/364790927_Demand_forecasting_for_delivery_platforms_by_using_neural_network/links/635b917812cbac6a3e02de81/Demand-forecasting-for-delivery-platforms-by-using-neural-network.pdf returned status code 403. Skipping...\n",
            "PDF link https://open.metu.edu.tr/bitstream/handle/11511/96806/Ahmed%20Assar%20Final%20Thesis%20%20Jury%20and%20Admin%20corrections.pdf downloaded and saved as data/Ahmed%20Assar%20Final%20Thesis%20%20Jury%20and%20Admin%20corrections.pdf\n",
            "PDF link https://www.researchgate.net/profile/Frederick-Wehrle/publication/277903016_Impacts_of_adaptive_collaboration_on_demand_forecasting_accuracy_of_different_product_categories_throughout_the_product_life_cycle/links/55e95b8508aeb65162647b68/Impacts-of-adaptive-collaboration-on-demand-forecasting-accuracy-of-different-product-categories-throughout-the-product-life-cycle.pdf returned status code 403. Skipping...\n",
            "PDF link https://link.springer.com/article/10.1186/s12911-022-01787-9 downloaded and saved as data/s12911-022-01787-9\n",
            "PDF link https://www.sciencedirect.com/science/article/pii/S0167923620301561 returned status code 403. Skipping...\n",
            "PDF link https://www.researchgate.net/profile/Mohsen-Attaran/publication/327215281_Machine_Learning_The_New_'Big_Thing'_for_Competitive_Advantage/links/5ba4322a45851574f7dabf33/Machine-Learning-The-New-Big-Thing-for-Competitive-Advantage.pdf?_sg%5B0%5D=started_experiment_milestone&origin=journalDetail&_rtd=e30%3D returned status code 403. Skipping...\n",
            "PDF link https://www.marshallplan.at/images/All-Papers/MP-2018/Friedl+Eva+Maria_802.pdf downloaded and saved as data/Friedl+Eva+Maria_802.pdf\n",
            "PDF link https://mm.aueb.gr/publications/f0e31bae-a526-49bf-bd76-a0c1f8670b36.pdf downloaded and saved as data/f0e31bae-a526-49bf-bd76-a0c1f8670b36.pdf\n",
            "PDF link http://ceur-ws.org/Vol-2786/Paper41.pdf downloaded and saved as data/Paper41.pdf\n",
            "PDF link https://hamsabastani.github.io/appliedml.pdf downloaded and saved as data/appliedml.pdf\n",
            "PDF link https://www.diva-portal.org/smash/get/diva2:1337269/FULLTEXT01.pdf returned status code 403. Skipping...\n",
            "PDF link https://eudl.eu/pdf/10.1007/978-3-030-32388-2_51 downloaded and saved as data/978-3-030-32388-2_51\n",
            "PDF link https://imt-mines-albi.hal.science/hal-04001932/document downloaded and saved as data/document\n",
            "PDF link https://www.academia.edu/download/90995702/s10479-019-03148-820220913-1-y12dyu.pdf returned status code 404. Skipping...\n",
            "PDF link https://norma.ncirl.ie/6594/1/sasikumarjayapal.pdf downloaded and saved as data/sasikumarjayapal.pdf\n",
            "PDF link https://www.preprints.org/manuscript/202304.0144/download/final_file downloaded and saved as data/final_file\n",
            "PDF link https://www.igi-global.com/viewtitle.aspx?titleid=324086 downloaded and saved as data/viewtitle.aspx?titleid=324086\n",
            "PDF link https://www.researchgate.net/profile/Viswanath-Ganesan/publication/340088950_Adaptive_Inventory_Replenishment_for_Dynamic_Supply_Chains_with_Uncertain_Market_Demand/links/63328ff46063772afd95a6f4/Adaptive-Inventory-Replenishment-for-Dynamic-Supply-Chains-with-Uncertain-Market-Demand.pdf returned status code 403. Skipping...\n",
            "PDF link https://link.springer.com/article/10.1007/s10479-023-05390-7 downloaded and saved as data/s10479-023-05390-7\n",
            "PDF link https://eudl.eu/pdf/10.1007/978-3-030-32388-2_51 downloaded and saved as data/978-3-030-32388-2_51\n",
            "PDF link https://imt-mines-albi.hal.science/hal-04001932/document downloaded and saved as data/document\n",
            "PDF link https://www.academia.edu/download/90995702/s10479-019-03148-820220913-1-y12dyu.pdf returned status code 404. Skipping...\n",
            "PDF link https://norma.ncirl.ie/6594/1/sasikumarjayapal.pdf downloaded and saved as data/sasikumarjayapal.pdf\n",
            "PDF link https://www.preprints.org/manuscript/202304.0144/download/final_file downloaded and saved as data/final_file\n",
            "PDF link https://www.igi-global.com/viewtitle.aspx?titleid=324086 downloaded and saved as data/viewtitle.aspx?titleid=324086\n",
            "PDF link https://www.researchgate.net/profile/Viswanath-Ganesan/publication/340088950_Adaptive_Inventory_Replenishment_for_Dynamic_Supply_Chains_with_Uncertain_Market_Demand/links/63328ff46063772afd95a6f4/Adaptive-Inventory-Replenishment-for-Dynamic-Supply-Chains-with-Uncertain-Market-Demand.pdf returned status code 403. Skipping...\n",
            "PDF link https://link.springer.com/article/10.1007/s10479-023-05390-7 downloaded and saved as data/s10479-023-05390-7\n",
            "PDF link https://bibliotekanauki.pl/articles/1956028.pdf downloaded and saved as data/1956028.pdf\n",
            "PDF link https://core.ac.uk/download/pdf/211846026.pdf downloaded and saved as data/211846026.pdf\n",
            "PDF link https://www.academia.edu/download/57625404/V4I3-1997.pdf returned status code 404. Skipping...\n",
            "PDF link https://www.mdpi.com/2071-1050/14/5/2546 downloaded and saved as data/2546\n",
            "PDF link https://bip.polsl.pl/wp-content/uploads/sites/4/2023/08/Badura_praca_doktorska.pdf downloaded and saved as data/Badura_praca_doktorska.pdf\n",
            "PDF link https://www.mdpi.com/2227-7390/10/14/2547/pdf downloaded and saved as data/pdf\n",
            "PDF link https://www.mdpi.com/2504-2289/6/1/17 downloaded and saved as data/17\n",
            "PDF link https://www.researchgate.net/profile/Dinesh-Swami/publication/348679847_Hybrid_Secure_Data_Transfer_Scheme_Using_Cryptography_and_Steganography/links/631327e2acd814437ffd3882/Hybrid-Secure-Data-Transfer-Scheme-Using-Cryptography-and-Steganography.pdf#page=167 returned status code 403. Skipping...\n",
            "PDF link https://dial.uclouvain.be/pr/boreal/object/boreal%3A278584/datastream/PDF_01/view downloaded and saved as data/view\n",
            "PDF link https://arxiv.org/pdf/2008.08522 downloaded and saved as data/2008.08522\n",
            "PDF link https://dspace.mit.edu/bitstream/handle/1721.1/99565/924315586-MIT.pdf?sequence=1&isAllowed=y. returned status code 429. Skipping...\n",
            "PDF link https://www.igi-global.com/viewtitle.aspx?titleid=325217 downloaded and saved as data/viewtitle.aspx?titleid=325217\n",
            "PDF link http://www.na-businesspress.com/JSIS/MisraWeb.pdf downloaded and saved as data/MisraWeb.pdf\n",
            "PDF link https://research.tue.nl/files/163433079/Master_Thesis_Jeroen_Vermeulen.pdf downloaded and saved as data/Master_Thesis_Jeroen_Vermeulen.pdf\n",
            "PDF link https://www.researchgate.net/profile/Fenghua-Zhu/publication/343776815_Taxi_Demand_Prediction_Using_Parallel_Multi-Task_Learning_Model/links/5ff307b3299bf140886d94bf/Taxi-Demand-Prediction-Using-Parallel-Multi-Task-Learning-Model.pdf returned status code 403. Skipping...\n",
            "PDF link https://journals.sagepub.com/doi/full/10.5772/56840 returned status code 403. Skipping...\n",
            "PDF link https://esource.dbs.ie/bitstream/handle/10788/3714/msc_vasudev_s_2019.pdf?sequence=1&isAllowed=y downloaded and saved as data/msc_vasudev_s_2019.pdf?sequence=1&isAllowed=y\n",
            "PDF link https://openreview.net/pdf?id=2c0hdQDvf5g downloaded and saved as data/pdf?id=2c0hdQDvf5g\n",
            "PDF link https://arxiv.org/pdf/1706.02899 downloaded and saved as data/1706.02899\n",
            "PDF link https://www.researchgate.net/profile/Marcel-Goic/publication/364316450_Using_Meta-Learning_in_Automatic_Demand_Forecasts_with_a_Large_Number_of_Products/links/6346d0e6ff870c55ce1daa5a/Using-Meta-Learning-in-Automatic-Demand-Forecasts-with-a-Large-Number-of-Products.pdf returned status code 403. Skipping...\n",
            "PDF link https://www.researchgate.net/profile/Nimai-Das-Adhikari-2/publication/327729991_An_Intelligent_Approach_to_Demand_Forecasting_ICCNCT_2018/links/5c05b066a6fdcc315f9ad7e9/An-Intelligent-Approach-to-Demand-Forecasting-ICCNCT-2018.pdf returned status code 403. Skipping...\n",
            "PDF link https://www.academia.edu/download/55541157/W0612142147.pdf returned status code 404. Skipping...\n",
            "PDF link https://journals.economic-research.pl/eq/article/download/2013/1956 downloaded and saved as data/1956\n",
            "PDF link https://scholarworks.rit.edu/cgi/viewcontent.cgi?article=12227&context=theses downloaded and saved as data/viewcontent.cgi?article=12227&context=theses\n",
            "PDF link http://odr.chalmers.se/bitstreams/110527be-3579-4016-a8dd-23452058b891/download downloaded and saved as data/download\n",
            "PDF link http://odr.chalmers.se/bitstreams/110527be-3579-4016-a8dd-23452058b891/download downloaded and saved as data/download\n",
            "PDF link https://journals.sagepub.com/doi/full/10.5772/51088 returned status code 403. Skipping...\n",
            "PDF link https://www.sciencedirect.com/science/article/pii/S1364032122003653 returned status code 403. Skipping...\n",
            "PDF link https://www.researchgate.net/profile/Ahilan-Kanagasundaram-2/publication/356129365_Electricity_Loaddemand_Forecasting_in_Sri_Lanka_using_Deep_Learning_Techniques/links/6193a94807be5f31b7895230/Electricity-Load-demand-Forecasting-in-Sri-Lanka-using-Deep-Learning-Techniques.pdf returned status code 403. Skipping...\n",
            "PDF link https://www.academia.edu/download/70991149/A_20review_20of_20soft_20computing_20applications_20in_20supply_20chain.pdf returned status code 404. Skipping...\n",
            "PDF link https://www.mdpi.com/1999-4893/13/11/274/pdf downloaded and saved as data/pdf\n",
            "PDF link https://www.zbw.eu/econis-archiv/bitstream/11159/606515/1/EBP089907450_0.pdf returned status code 401. Skipping...\n",
            "PDF link https://www.nature.com/articles/s41560-020-0662-1 downloaded and saved as data/s41560-020-0662-1\n",
            "PDF link https://www.academia.edu/download/63537931/j.ijpe.2010.07.00420200605-494-emfglu.pdf returned status code 404. Skipping...\n",
            "PDF link https://citeseerx.ist.psu.edu/document?repid=rep1&type=pdf&doi=22b0309c79106953c4f155f3119c03c875614897 downloaded and saved as data/document?repid=rep1&type=pdf&doi=22b0309c79106953c4f155f3119c03c875614897\n",
            "PDF link https://icare.hse.ru/data/2018/10/24/1142421716/Teterina.pdf downloaded and saved as data/Teterina.pdf\n",
            "PDF link https://iopscience.iop.org/article/10.1088/1742-6596/2033/1/012167/pdf downloaded and saved as data/pdf\n",
            "PDF link https://www.misi.edu.my/wp-content/uploads/thesisresearch/2018/Apurv-Marcus.pdf downloaded and saved as data/Apurv-Marcus.pdf\n",
            "PDF link https://eprints.ncl.ac.uk/file_store/production/252287/2CA476B7-E8A7-4320-BCDF-6F9DB23FB943.pdf downloaded and saved as data/2CA476B7-E8A7-4320-BCDF-6F9DB23FB943.pdf\n",
            "PDF link https://www.zbw.eu/econis-archiv/bitstream/11159/533378/1/EBP089883446_0.pdf returned status code 401. Skipping...\n",
            "PDF link http://papers.phmsociety.org/index.php/phmap/article/download/3696/2163 downloaded and saved as data/2163\n",
            "PDF link http://eprints.upnyk.ac.id/33302/1/2023_Janapati_Sinta%202.pdf returned status code 404. Skipping...\n",
            "PDF link https://www.atlantis-press.com/article/125979173.pdf downloaded and saved as data/125979173.pdf\n",
            "PDF link https://www.researchgate.net/profile/Kerim-Hodzic/publication/338363135_Warehouse_Demand_Forecasting_based_on_Long_Short-Term_Memory_neural_networks/links/5e2ffc224585152d156f7f35/Warehouse-Demand-Forecasting-based-on-Long-Short-Term-Memory-neural-networks.pdf returned status code 403. Skipping...\n",
            "PDF link https://www.irjmets.com/uploadedfiles/paper/issue_4_april_2022/21003/final/fin_irjmets1650120394.pdf downloaded and saved as data/fin_irjmets1650120394.pdf\n",
            "PDF link https://www.researchgate.net/profile/Shuojiang-Xu/publication/334639747_Demand_forecasting_of_medical_device_with_online_big_data/links/5e11d0e792851c8364b121e3/Demand-forecasting-of-medical-device-with-online-big-data returned status code 403. Skipping...\n",
            "PDF link https://www.mdpi.com/2071-1050/13/12/6812/pdf downloaded and saved as data/pdf\n",
            "PDF link https://www.diva-portal.org/smash/get/diva2:1337390/FULLTEXT02 returned status code 403. Skipping...\n",
            "PDF link https://www.researchgate.net/profile/Kerim-Hodzic/publication/338363135_Warehouse_Demand_Forecasting_based_on_Long_Short-Term_Memory_neural_networks/links/5e2ffc224585152d156f7f35/Warehouse-Demand-Forecasting-based-on-Long-Short-Term-Memory-neural-networks.pdf returned status code 403. Skipping...\n",
            "PDF link https://www.irjmets.com/uploadedfiles/paper/issue_4_april_2022/21003/final/fin_irjmets1650120394.pdf downloaded and saved as data/fin_irjmets1650120394.pdf\n",
            "PDF link https://www.researchgate.net/profile/Shuojiang-Xu/publication/334639747_Demand_forecasting_of_medical_device_with_online_big_data/links/5e11d0e792851c8364b121e3/Demand-forecasting-of-medical-device-with-online-big-data returned status code 403. Skipping...\n",
            "PDF link https://www.mdpi.com/2071-1050/13/12/6812/pdf downloaded and saved as data/pdf\n",
            "PDF link https://www.diva-portal.org/smash/get/diva2:1337390/FULLTEXT02 returned status code 403. Skipping...\n",
            "PDF link https://www.mdpi.com/2071-1050/15/4/3628/pdf downloaded and saved as data/pdf\n",
            "PDF link https://journals.goldfieldsci.com/jees/article/download/14/16 downloaded and saved as data/16\n",
            "PDF link https://www.researchgate.net/profile/Vinay-Chamola/publication/349916877_Smart_Water_Conservation_through_a_Machine_Learning_and_Blockchain-enabled_Decentralized_Edge_Computing_Network/links/60474d4692851c077f282ab6/Smart-Water-Conservation-through-a-Machine-Learning-and-Blockchain-enabled-Decentralized-Edge-Computing-Network.pdf returned status code 403. Skipping...\n",
            "PDF link https://iopscience.iop.org/article/10.1088/1755-1315/692/4/042017/pdf downloaded and saved as data/pdf\n",
            "PDF link http://ceur-ws.org/Vol-2486/icaiw_wdea_5.pdf downloaded and saved as data/icaiw_wdea_5.pdf\n",
            "PDF link https://www.researchgate.net/profile/Songpo-Yang/publication/308831316_Adaptive_inventory_control_and_bullwhip_effect_analysis_for_supply_chains_with_non-stationary_demand/links/5a1bee9fa6fdcc50adeca75a/Adaptive-inventory-control-and-bullwhip-effect-analysis-for-supply-chains-with-non-stationary-demand.pdf returned status code 403. Skipping...\n",
            "PDF link https://dalspace.library.dal.ca/bitstream/handle/10222/81831/IbrahimOguntola2022.pdf?sequence=1&isAllowed=y downloaded and saved as data/IbrahimOguntola2022.pdf?sequence=1&isAllowed=y\n",
            "PDF link https://www.emerald.com/insight/content/doi/10.1108/MSCRA-10-2020-0028/full/html downloaded and saved as data/html\n"
          ]
        }
      ]
    },
    {
      "cell_type": "code",
      "source": [
        "from PyPDF2 import PdfMerger\n",
        "import requests\n",
        "import sys\n",
        "import os\n",
        "\n",
        "# Create a \"data\" folder if it doesn't exist\n",
        "if not os.path.exists(\"data\"):\n",
        "    os.makedirs(\"data\")\n",
        "\n",
        "merger = PdfMerger()\n",
        "for pdf_link in pdf_links:\n",
        "    try:\n",
        "        response = requests.get(pdf_link, timeout=10)  # Adjust the timeout value as needed\n",
        "        if response.status_code == 200:\n",
        "            # Extract the filename from the URL\n",
        "            filename = pdf_link.split(\"/\")[-1]\n",
        "            # Combine with \"data/\" to specify the folder\n",
        "            file_path = os.path.join(\"data\", filename)\n",
        "            with open(file_path, 'wb') as f:\n",
        "                f.write(response.content)\n",
        "                print(f\"PDF link {pdf_link} downloaded and saved as {file_path}\")\n",
        "\n",
        "        else:\n",
        "            print(f\"PDF link {pdf_link} returned status code {response.status_code}. Skipping...\")\n",
        "    # except PdfReadError as e:\n",
        "    #         print(title)\n",
        "    #         sys.exit()\n",
        "\n",
        "    except Exception as e:\n",
        "        print(f\"Error processing {pdf_link}: {e}\")\n",
        "\n",
        "\n",
        "merger.append(filename)\n",
        "# Save the merged PDF as \"result.pdf\"\n",
        "merger.write(\"result.pdf\")\n",
        "merger.close()\n"
      ],
      "metadata": {
        "colab": {
          "base_uri": "https://localhost:8080/",
          "height": 1000
        },
        "id": "SnCLd-caq1AU",
        "outputId": "2c4992b0-6ca6-4033-cf26-70195830d37b"
      },
      "execution_count": 11,
      "outputs": [
        {
          "output_type": "stream",
          "name": "stdout",
          "text": [
            "PDF link https://www.researchgate.net/profile/Real-Carbonneau/publication/220208887_Machine_Learning-Based_Demand_Forecasting_in_Supply_Chains/links/57c4463a08ae32a03dad3de9/Machine-Learning-Based-Demand-Forecasting-in-Supply-Chains.pdf returned status code 403. Skipping...\n",
            "PDF link https://www.academia.edu/download/50837650/Application_of_machine_learning_techniqu20161211-20061-1tgykkg.pdf returned status code 404. Skipping...\n",
            "Error processing https://www.hindawi.com/journals/complexity/2019/9067367/abs/: [Errno 21] Is a directory: 'data/'\n",
            "PDF link https://journal.oscm-forum.org/journal/journal/download/20201206171323_Paper_1_Vol._14_No_._1,_2021_.pdf downloaded and saved as data/20201206171323_Paper_1_Vol._14_No_._1,_2021_.pdf\n",
            "PDF link https://www.sciencedirect.com/science/article/pii/S1877050921001654/pdf?md5=c7ce42d7736c04e5fd2f97f3ba2acbdf&pid=1-s2.0-S1877050921001654-main.pdf returned status code 403. Skipping...\n",
            "PDF link https://www.academia.edu/download/92962396/00207543.2020.184433220221024-1-1mmay69.pdf returned status code 404. Skipping...\n",
            "PDF link http://ndl.ethernet.edu.et/bitstream/123456789/35112/1/Distributed%20artificial%20intelligence%20%20agent%20technology%20and%20collaborative%20applications.pdf#page=353 downloaded and saved as data/Distributed%20artificial%20intelligence%20%20agent%20technology%20and%20collaborative%20applications.pdf#page=353\n",
            "PDF link https://www.researchgate.net/profile/Senthilselvi-Ayothi/publication/365933082_Analysis_of_demand_forecasting_of_agriculture_using_machine_learning_algorithm/links/645a5d402edb8e5f094adc6f/Analysis-of-demand-forecasting-of-agriculture-using-machine-learning-algorithm.pdf returned status code 403. Skipping...\n",
            "PDF link https://www.researchgate.net/profile/Md-Rahman-195/publication/355899930_Supply_Chain_Management_with_Demand_Forecasting_of_Covid-19_Vaccine_using_Blockchain_and_Machine_Learning/links/6183c8290be8ec17a96b9f3a/Supply-Chain-Management-with-Demand-Forecasting-of-Covid-19-Vaccine-using-Blockchain-and-Machine-Learning.pdf returned status code 403. Skipping...\n",
            "PDF link https://www.researchgate.net/profile/M-El-Khaili/publication/361003548_Demand_Forecasting_Model_using_Deep_Learning_Methods_for_Supply_Chain_Management_40/links/6298655f6886635d5cb75cb1/Demand-Forecasting-Model-using-Deep-Learning-Methods-for-Supply-Chain-Management-40.pdf returned status code 403. Skipping...\n",
            "PDF link https://www.researchgate.net/profile/Abdellatif-El-Afia/publication/273643110_Intelligent_system_based_support_vector_regression_for_supply_chain_demand_forecasting/links/5632875d08ae911fcd491196/Intelligent-system-based-support-vector-regression-for-supply-chain-demand-forecasting.pdf returned status code 403. Skipping...\n",
            "PDF link https://www.researchgate.net/profile/Vahid-Kayvanfar/publication/358567204_Demand_forecasting_based_machine_learning_algorithms_on_customer_information_an_applied_approach/links/645a0a615762c95ac3817b46/Demand-forecasting-based-machine-learning-algorithms-on-customer-information-an-applied-approach.pdf returned status code 403. Skipping...\n",
            "Error processing https://www.econstor.eu/bitstream/10419/209380/1/hicl-2019-27-413.pdf: HTTPSConnectionPool(host='www.econstor.eu', port=443): Read timed out. (read timeout=10)\n",
            "PDF link https://www.mdpi.com/2078-2489/14/1/31/pdf downloaded and saved as data/pdf\n",
            "Error processing https://www.hindawi.com/journals/wcmc/2021/9969357/: [Errno 21] Is a directory: 'data/'\n",
            "PDF link https://www.researchgate.net/profile/Manas-Gaur/publication/276964796_Comparison_between_Nearest_Neighbours_and_Bayesian_Network_for_demand_forecasting_in_supply_chain_management/links/555c9fd308ae86c06b5d3b6c/Comparison-between-Nearest-Neighbours-and-Bayesian-Network-for-demand-forecasting-in-supply-chain-management.pdf returned status code 403. Skipping...\n",
            "PDF link https://www.igi-global.com/article/forecasting-supply-chain-demand-approach-using-knowledge-management-processes-and-supervised-learning-techniques/282734 downloaded and saved as data/282734\n",
            "PDF link https://www.sciencedirect.com/science/article/pii/S2772390922000518 returned status code 403. Skipping...\n",
            "Error processing https://www.hindawi.com/journals/mpe/2021/1476043/: [Errno 21] Is a directory: 'data/'\n",
            "PDF link https://journalofbigdata.springeropen.com/articles/10.1186/s40537-020-00329-2 downloaded and saved as data/s40537-020-00329-2\n",
            "PDF link https://www.mdpi.com/2571-9394/4/2/31/pdf downloaded and saved as data/pdf\n",
            "PDF link https://www.mdpi.com/2313-7673/8/3/312 downloaded and saved as data/312\n",
            "PDF link https://pdfs.semanticscholar.org/b93d/ff2b2e244c36892c680a1706ac648b6f50f5.pdf downloaded and saved as data/ff2b2e244c36892c680a1706ac648b6f50f5.pdf\n",
            "PDF link https://www.mdpi.com/2227-9717/9/2/247/htm downloaded and saved as data/htm\n",
            "PDF link http://repositorium.uminho.pt/bitstream/1822/70911/4/DSS_2020.pdf downloaded and saved as data/DSS_2020.pdf\n",
            "PDF link https://www.researchgate.net/profile/Md-Ariful-Arif/publication/342217684_Comparison_Study_Product_Demand_Forecasting_with_Machine_Learning_for_Shop/links/60894c58299bf112bbe33ffb/Comparison-Study-Product-Demand-Forecasting-with-Machine-Learning-for-Shop.pdf returned status code 403. Skipping...\n",
            "PDF link https://link.springer.com/article/10.1007/s43069-022-00166-4 downloaded and saved as data/s43069-022-00166-4\n",
            "PDF link https://scholar.google.com/scholar?output=instlink&q=info:30TMOVOevW0J:scholar.google.com/&hl=en&num=20&as_sdt=0,5&scillfp=7508323690361676505&oi=lle returned status code 429. Skipping...\n",
            "PDF link https://www.sciencedirect.com/science/article/pii/S2351978920302699/pdf?md5=d8ea2ad43d8815d721bcc259880c2467&pid=1-s2.0-S2351978920302699-main.pdf returned status code 403. Skipping...\n",
            "PDF link https://pure.jgu.edu.in/5077/1/Predictive%20analytics%20for%20demand%20forecasting%20%20A%20deep%20learning-based.pdf downloaded and saved as data/Predictive%20analytics%20for%20demand%20forecasting%20%20A%20deep%20learning-based.pdf\n",
            "PDF link https://ieeexplore.ieee.org/iel7/6287639/8948470/09121220.pdf returned status code 418. Skipping...\n",
            "PDF link https://tigerprints.clemson.edu/cgi/viewcontent.cgi?article=4374&context=all_theses downloaded and saved as data/viewcontent.cgi?article=4374&context=all_theses\n",
            "PDF link https://www.researchgate.net/profile/Du-Ni/publication/338101452_A_systematic_review_of_the_research_trends_of_machine_learning_in_supply_chain_management/links/5dfe473692851c8364907c6c/A-systematic-review-of-the-research-trends-of-machine-learning-in-supply-chain-management.pdf returned status code 403. Skipping...\n",
            "PDF link https://research.bangor.ac.uk/portal/files/28070604/2020_Deep_learning.pdf downloaded and saved as data/2020_Deep_learning.pdf\n",
            "PDF link https://www.academia.edu/download/73560917/pdf.pdf returned status code 404. Skipping...\n",
            "PDF link https://downloads.hindawi.com/journals/mpe/2022/4109070.pdf downloaded and saved as data/4109070.pdf\n",
            "PDF link https://www.mdpi.com/2076-3417/11/15/6787/pdf downloaded and saved as data/pdf\n",
            "PDF link https://link.springer.com/article/10.1186/s40537-020-00345-2 downloaded and saved as data/s40537-020-00345-2\n",
            "PDF link https://hal.science/hal-01881362/document downloaded and saved as data/document\n",
            "PDF link https://pdfs.semanticscholar.org/a955/2fddefe8cdbdd6aaa5d6349dab07284f95fe.pdf returned status code 202. Skipping...\n",
            "PDF link https://www.researchgate.net/profile/Evangelos-Spiliotis/publication/344374729_Comparison_of_statistical_and_machine_learning_methods_for_daily_SKU_demand_forecasting/links/5f6d947d299bf1b53ef0b2fd/Comparison-of-statistical-and-machine-learning-methods-for-daily-SKU-demand-forecasting.pdf returned status code 403. Skipping...\n",
            "PDF link https://www.researchgate.net/profile/Rony-Mitra/publication/364792264_Demand_Forecasting_of_a_Multinational_Retail_Company_using_Deep_Learning_Frameworks/links/649dfa04b9ed6874a5e70b0e/Demand-Forecasting-of-a-Multinational-Retail-Company-using-Deep-Learning-Frameworks.pdf returned status code 403. Skipping...\n",
            "PDF link https://www.researchgate.net/profile/Nicolas-Vandeput/publication/350440225_Data_Science_for_Supply_Chain_Forecasting/links/605f6168299bf173677295a6/Data-Science-for-Supply-Chain-Forecasting.pdf returned status code 403. Skipping...\n",
            "PDF link https://dspace.mit.edu/bitstream/handle/1721.1/136919/10479_2020_3666_ReferencePDF.pdf?sequence=1&isAllowed=y returned status code 429. Skipping...\n",
            "PDF link https://www.mdpi.com/2227-9717/9/9/1578/pdf downloaded and saved as data/pdf\n",
            "PDF link https://tore.tuhh.de/bitstreams/dc1523d7-ad29-4cc9-9e74-e99250ea0f54/download downloaded and saved as data/download\n",
            "PDF link https://brunoagard.mgi.polymtl.ca/fr/publications/doc/2015/2015_INCOM-Murray.pdf downloaded and saved as data/2015_INCOM-Murray.pdf\n",
            "PDF link https://cdn.techscience.cn/ueditor/files/iasc/TSP_IASC_31-1/TSP_IASC_19658/TSP_IASC_19658.pdf downloaded and saved as data/TSP_IASC_19658.pdf\n",
            "PDF link https://bgsiran.ir/journal/ojs-3.1.1-4/index.php/IJIEOR/article/download/37/28 downloaded and saved as data/28\n",
            "Error processing https://repository.derby.ac.uk/download/e4f6a487a34b87d78a3905b714c2e56010c1420c1c4c744af3a3875aa7ec656d/928478/COR%20Revised_271219.pdf: HTTPSConnectionPool(host='repository.derby.ac.uk', port=443): Max retries exceeded with url: /download/e4f6a487a34b87d78a3905b714c2e56010c1420c1c4c744af3a3875aa7ec656d/928478/COR%20Revised_271219.pdf (Caused by SSLError(SSLCertVerificationError(1, '[SSL: CERTIFICATE_VERIFY_FAILED] certificate verify failed: unable to get local issuer certificate (_ssl.c:1007)')))\n",
            "PDF link https://www.researchgate.net/profile/Sandhya-Makkar-2/publication/334096071_Applications_of_Machine_Learning_Techniques_in_Supply_Chain_Optimization/links/5d52942e92851c93b62c11d1/Applications-of-Machine-Learning-Techniques-in-Supply-Chain-Optimization.pdf returned status code 403. Skipping...\n",
            "PDF link https://www.sciencedirect.com/science/article/pii/S0959652622014627 returned status code 403. Skipping...\n",
            "PDF link http://irjaes.com/wp-content/uploads/2022/09/IRJAES-V7N3P271Y22.pdf returned status code 406. Skipping...\n",
            "PDF link https://www.journal-aprie.com/article_127616_c9709b74e7808d865be111b8015d580d.pdf downloaded and saved as data/article_127616_c9709b74e7808d865be111b8015d580d.pdf\n",
            "PDF link http://www.m.www.na-businesspress.com/JSIS/JSIS14-3/DashR_14_3_.pdf downloaded and saved as data/DashR_14_3_.pdf\n",
            "Error processing https://e-tarjome.com/storage/panel/fileuploads/2019-01-28/1548666561_E10504-e-tarjome.pdf: HTTPSConnectionPool(host='e-tarjome.com', port=443): Max retries exceeded with url: /storage/panel/fileuploads/2019-01-28/1548666561_E10504-e-tarjome.pdf (Caused by ConnectTimeoutError(<urllib3.connection.HTTPSConnection object at 0x7db98e6a48b0>, 'Connection to e-tarjome.com timed out. (connect timeout=10)'))\n",
            "PDF link https://www.researchgate.net/profile/Arvind-Jayant/publication/344469957_Application_of_Machine_Learning_Technique_for_demand_forecasting_A_Case_Study_of_manufacturing_industry/links/5f7ac2c9a6fdcc00865732c7/Application-of-Machine-Learning-Technique-for-demand-forecasting-A-Case-Study-of-manufacturing-industry.pdf#page=397 returned status code 403. Skipping...\n",
            "PDF link https://link.springer.com/article/10.1007/s10479-021-04429-x downloaded and saved as data/s10479-021-04429-x\n",
            "PDF link https://www.mdpi.com/2071-1050/15/9/7399/pdf downloaded and saved as data/pdf\n",
            "PDF link https://onlinelibrary.wiley.com/doi/pdf/10.1002/joom.1257 returned status code 403. Skipping...\n",
            "PDF link https://www.mdpi.com/2227-7390/8/4/565/pdf downloaded and saved as data/pdf\n",
            "PDF link https://www.scirp.org/html/3-1731403_103718.htm downloaded and saved as data/3-1731403_103718.htm\n",
            "Error processing https://repositorium.sdum.uminho.pt/bitstream/1822/73399/1/PhDThesis_JNCG_PDEIS.pdf: HTTPSConnectionPool(host='repositorium.sdum.uminho.pt', port=443): Max retries exceeded with url: /bitstream/1822/73399/1/PhDThesis_JNCG_PDEIS.pdf (Caused by SSLError(SSLCertVerificationError(1, '[SSL: CERTIFICATE_VERIFY_FAILED] certificate verify failed: unable to get local issuer certificate (_ssl.c:1007)')))\n",
            "PDF link https://www.zbw.eu/econis-archiv/bitstream/11159/489649/1/EBP080226345_0.pdf returned status code 401. Skipping...\n",
            "PDF link https://www.researchgate.net/profile/Yong-Hong-Kuo-2/publication/360482161_Reinforcement_learning_for_logistics_and_supply_chain_management_Methodologies_state_of_the_art_and_future_opportunities/links/62851c2ea93a5471227a29af/Reinforcement-learning-for-logistics-and-supply-chain-management-Methodologies-state-of-the-art-and-future-opportunities.pdf returned status code 403. Skipping...\n",
            "PDF link https://www.tandfonline.com/doi/pdf/10.1080/13675567.2022.2100334 returned status code 403. Skipping...\n",
            "PDF link https://scholarspace.manoa.hawaii.edu/bitstreams/409f73cf-c9eb-4993-9b02-284bc2255283/download downloaded and saved as data/download\n",
            "PDF link https://oro.open.ac.uk/58257/1/Applying%20ML...%20Accepted%20version.pdf downloaded and saved as data/Applying%20ML...%20Accepted%20version.pdf\n",
            "PDF link https://www.researchgate.net/profile/Elcio-Tarallo-2/publication/338172563_Machine_Learning_in_Predicting_Demand_for_Fast-Moving_Consumer_Goods_An_Exploratory_Research/links/5fa18166458515b7cfb5f0c5/Machine-Learning-in-Predicting-Demand-for-Fast-Moving-Consumer-Goods-An-Exploratory-Research.pdf returned status code 403. Skipping...\n",
            "PDF link https://spectrum.library.concordia.ca/id/eprint/991116/1/Esmaeili_MASc_F2022.pdf downloaded and saved as data/Esmaeili_MASc_F2022.pdf\n",
            "PDF link https://www.sciencedirect.com/science/article/pii/S2212827122004036/pdf?md5=f109bc8df5b4e7e699827e17e696e3c5&pid=1-s2.0-S2212827122004036-main.pdf returned status code 403. Skipping...\n",
            "PDF link https://ieeexplore.ieee.org/iel7/6287639/6514899/08449937.pdf returned status code 418. Skipping...\n",
            "PDF link https://www.researchgate.net/profile/Bahrudin-Hrnjica/publication/333307229_Energy_Demand_Forecasting_Using_Deep_Learning/links/5f1bf76445851515ef4799f7/Energy-Demand-Forecasting-Using-Deep-Learning.pdf returned status code 403. Skipping...\n",
            "PDF link https://www.sciencedirect.com/science/article/pii/S2949863523000237 returned status code 403. Skipping...\n",
            "PDF link https://www.researchgate.net/profile/Teja-Silaparasetti/publication/327225380_An_Intelligent_Approach_to_Demand_Forecasting/links/5b81521f92851c1e123168cf/An-Intelligent-Approach-to-Demand-Forecasting.pdf returned status code 403. Skipping...\n",
            "PDF link https://www.researchgate.net/profile/Faiza-Mehmood/publication/362590185_EGD-SNet_A_computational_search_engine_for_predicting_an_end-to-end_machine_learning_pipeline_for_Energy_Generation_Demand_Forecasting/links/63b41c9803aad5368e60a6db/EGD-SNet-A-computational-search-engine-for-predicting-an-end-to-end-machine-learning-pipeline-for-Energy-Generation-Demand-Forecasting.pdf returned status code 403. Skipping...\n",
            "PDF link https://arxiv.org/pdf/1909.13084 downloaded and saved as data/1909.13084\n",
            "PDF link https://www.researchgate.net/profile/Arief-Ramadhan-2/publication/371808323_Machine_learning_in_drug_supply_chain_management_during_disease_outbreaks_a_systematic_review/links/64963e5db9ed6874a5d1a9b3/Machine-learning-in-drug-supply-chain-management-during-disease-outbreaks-a-systematic-review.pdf?origin=journalDetail&_tp=eyJwYWdlIjoiam91cm5hbERldGFpbCJ9 returned status code 403. Skipping...\n",
            "PDF link https://www.researchgate.net/profile/Jasmin-Bharadiya-4/publication/371902170_Machine_Learning_and_AI_in_Business_Intelligence_Trends_and_Opportunities/links/649afb478de7ed28ba5c99bb/Machine-Learning-and-AI-in-Business-Intelligence-Trends-and-Opportunities.pdf?origin=journalDetail&_tp=eyJwYWdlIjoiam91cm5hbERldGFpbCJ9 returned status code 403. Skipping...\n",
            "PDF link https://www.mckinsey.com/~/media/McKinsey/Industries/Consumer%20Packaged%20Goods/Our%20Insights/Supply%20Chain%204%200%20in%20consumer%20goods/Supply-Chain-4-0-in-consumer-goods-vf.pdf downloaded and saved as data/Supply-Chain-4-0-in-consumer-goods-vf.pdf\n",
            "PDF link https://lutpub.lut.fi/bitstream/handle/10024/162256/awan_et_al_artificial_intelligence_aam.pdf?sequence=1 downloaded and saved as data/awan_et_al_artificial_intelligence_aam.pdf?sequence=1\n",
            "PDF link https://riunet.upv.es/bitstream/handle/10251/171329/Lorente-LeyvaAlemanyPeluffo-Ordonez%20-%20A%20Comparison%20of%20Machine%20Learning%20and%20Classical%20Demand%20Forec....pdf?sequence=7 downloaded and saved as data/Lorente-LeyvaAlemanyPeluffo-Ordonez%20-%20A%20Comparison%20of%20Machine%20Learning%20and%20Classical%20Demand%20Forec....pdf?sequence=7\n",
            "PDF link https://link.springer.com/article/10.1007/s12063-022-00336-x downloaded and saved as data/s12063-022-00336-x\n",
            "PDF link https://www.frontiersin.org/articles/10.3389/fevo.2023.1160684/full downloaded and saved as data/full\n",
            "PDF link https://www.ncbi.nlm.nih.gov/pmc/articles/PMC7413852/ returned status code 403. Skipping...\n",
            "PDF link https://www.mdpi.com/2076-3417/11/13/6199/pdf downloaded and saved as data/pdf\n",
            "PDF link https://www.sciencedirect.com/science/article/pii/S2405959522000200 returned status code 403. Skipping...\n",
            "PDF link https://www.academia.edu/download/64056312/Demand%20Forecasting.pdf returned status code 404. Skipping...\n",
            "PDF link http://dln.jaipuria.ac.in:8080/jspui/bitstream/123456789/14491/1/The%20role%20of%20artificial%20intelligence%20in%20supply%20chain%20management.pdf downloaded and saved as data/The%20role%20of%20artificial%20intelligence%20in%20supply%20chain%20management.pdf\n",
            "PDF link https://www.sciencedirect.com/science/article/pii/S2772662223001650 returned status code 403. Skipping...\n",
            "PDF link https://ieeexplore.ieee.org/iel7/6287639/10005208/10098799.pdf returned status code 418. Skipping...\n",
            "PDF link https://www.sciencedirect.com/science/article/pii/S2307187723000585 returned status code 403. Skipping...\n",
            "PDF link https://www.sciencedirect.com/science/article/pii/S1877050920323322/pdf?md5=6a8dfd1a93e9e06158d44cfffe2335b8&pid=1-s2.0-S1877050920323322-main.pdf returned status code 403. Skipping...\n",
            "PDF link https://www.igi-global.com/article/demand-forecast-of-railway-transportation-logistics-supply-chain-based-on-machine-learning-model/323441 downloaded and saved as data/323441\n",
            "PDF link https://www.mdpi.com/2076-3417/13/19/11112 downloaded and saved as data/11112\n",
            "PDF link https://www.mdpi.com/2227-7390/11/11/2502 downloaded and saved as data/2502\n",
            "PDF link https://www.sciencedirect.com/science/article/pii/S2352484723000173 returned status code 403. Skipping...\n",
            "PDF link https://www.mdpi.com/1424-8220/23/3/1467 downloaded and saved as data/1467\n",
            "PDF link http://bgsiran.ir/journal/ojs-3.1.1-4/index.php/IJIEOR/article/download/50/40 downloaded and saved as data/40\n",
            "PDF link https://ieeexplore.ieee.org/iel7/6287639/9668973/09665737.pdf returned status code 418. Skipping...\n",
            "PDF link https://ieeexplore.ieee.org/iel7/6287639/9668973/09665737.pdf returned status code 418. Skipping...\n",
            "PDF link https://www.academia.edu/download/64825504/AHMED_FARZANA_87_102.pdf returned status code 404. Skipping...\n",
            "PDF link https://www.academia.edu/download/62130483/244-Article_Text-440-2-10-2019122120200218-100654-1z6d42.pdf returned status code 404. Skipping...\n",
            "PDF link https://talenta.usu.ac.id/aquacoastmarine/article/download/9290/5780 downloaded and saved as data/5780\n",
            "PDF link https://arxiv.org/pdf/1909.02716 downloaded and saved as data/1909.02716\n",
            "PDF link https://orca.cardiff.ac.uk/id/eprint/145278/1/Aggregation_in_supply_chain%20%282%29.pdf downloaded and saved as data/Aggregation_in_supply_chain%20%282%29.pdf\n",
            "PDF link https://www.diva-portal.org/smash/get/diva2:1367098/FULLTEXT02 returned status code 403. Skipping...\n",
            "PDF link https://ieeexplore.ieee.org/iel7/6287639/9668973/09945969.pdf returned status code 418. Skipping...\n",
            "PDF link https://arxiv.org/pdf/2009.09756 downloaded and saved as data/2009.09756\n",
            "PDF link https://www.mdpi.com/2073-4441/14/8/1291 downloaded and saved as data/1291\n",
            "PDF link http://ndl.ethernet.edu.et/bitstream/123456789/23290/1/21%202011.pdf#page=129 downloaded and saved as data/21%202011.pdf#page=129\n",
            "PDF link https://drive.google.com/file/d/19aJ8D8q2YR9wlKdZnFchD5MokLdNNhKo/view downloaded and saved as data/view\n",
            "PDF link https://drive.google.com/file/d/19aJ8D8q2YR9wlKdZnFchD5MokLdNNhKo/view downloaded and saved as data/view\n",
            "PDF link https://www.tandfonline.com/doi/pdf/10.1080/00207543.2022.2063089 returned status code 403. Skipping...\n",
            "PDF link https://www.researchgate.net/profile/Huthaifa-Al-Khazraji/publication/361008883_An_intelligent_demand_forecasting_model_using_a_hybrid_of_metaheuristic_optimization_and_deep_learning_algorithm_for_predicting_concrete_block_production/links/62b72d8189e4f1160c9ae70d/An-intelligent-demand-forecasting-model-using-a-hybrid-of-metaheuristic-optimization-and-deep-learning-algorithm-for-predicting-concrete-block-production.pdf returned status code 403. Skipping...\n",
            "PDF link https://www.tandfonline.com/doi/pdf/10.1080/16258312.2021.1967081 returned status code 403. Skipping...\n",
            "PDF link https://hal.science/hal-02428545/document downloaded and saved as data/document\n",
            "PDF link https://www.mdpi.com/2079-9292/11/22/3681/pdf downloaded and saved as data/pdf\n",
            "PDF link https://www.zbw.eu/econis-archiv/bitstream/11159/625003/1/EBP09634895X_0.pdf returned status code 401. Skipping...\n",
            "PDF link https://www.mdpi.com/2079-9292/10/3/227/pdf downloaded and saved as data/pdf\n",
            "PDF link https://www.researchgate.net/profile/Enzo-Frazzon/publication/327485845_Predictive_and_Adaptive_Management_Approach_for_Omnichannel_Retailing_Supply_Chains/links/5ca0855445851506d736749c/Predictive-and-Adaptive-Management-Approach-for-Omnichannel-Retailing-Supply-Chains.pdf returned status code 403. Skipping...\n",
            "PDF link https://journal.hep.com.cn/fese/EN/abstract/article/2095-2201/33192 downloaded and saved as data/33192\n",
            "PDF link https://www.mdpi.com/1996-1073/15/21/7972/pdf downloaded and saved as data/pdf\n",
            "PDF link https://link.springer.com/article/10.1007/s10479-021-04366-9 downloaded and saved as data/s10479-021-04366-9\n",
            "PDF link https://trepo.tuni.fi/bitstream/handle/10024/135943/HeinoAino.pdf?sequence=2 downloaded and saved as data/HeinoAino.pdf?sequence=2\n",
            "PDF link https://www.researchgate.net/profile/Xiaoxin-Zhu-4/publication/333382315_A_comprehensive_literature_review_of_the_demand_forecasting_methods_of_emergency_resources_from_the_perspective_of_artificial_intelligence/links/5e65b29392851c7ce05354ea/A-comprehensive-literature-review-of-the-demand-forecasting-methods-of-emergency-resources-from-the-perspective-of-artificial-intelligence.pdf returned status code 403. Skipping...\n",
            "PDF link https://www.sciencedirect.com/science/article/pii/S2212827120304236/pdf?md5=7b6ca0ea02f5284ae41d5e7075026945&pid=1-s2.0-S2212827120304236-main.pdf returned status code 403. Skipping...\n",
            "PDF link https://www.sciencedirect.com/science/article/pii/S1532046422000910 returned status code 403. Skipping...\n",
            "Error processing https://jpom.ui.ac.ir/article_27478.html?lang=en: HTTPSConnectionPool(host='jpom.ui.ac.ir', port=443): Max retries exceeded with url: /article_27478.html?lang=en (Caused by ConnectTimeoutError(<urllib3.connection.HTTPSConnection object at 0x7db98e6ad450>, 'Connection to jpom.ui.ac.ir timed out. (connect timeout=10)'))\n",
            "PDF link https://www.sciencedirect.com/science/article/pii/S1877050922003908/pdf?md5=b431a4f4d4d03004287b6474b5cfde26&pid=1-s2.0-S1877050922003908-main.pdf returned status code 403. Skipping...\n",
            "PDF link https://alicemengqi.github.io/site/files/End_to_End_revision3-10.pdf downloaded and saved as data/End_to_End_revision3-10.pdf\n",
            "PDF link https://www.researchgate.net/profile/Luciano-Viverit-2/publication/370432837_Application_of_machine_learning_to_cluster_hotel_booking_curves_for_hotel_demand_forecasting/links/645ce99ef43b8a29ba44cfb4/Application-of-machine-learning-to-cluster-hotel-booking-curves-for-hotel-demand-forecasting.pdf?origin=journalDetail&_tp=eyJwYWdlIjoiam91cm5hbERldGFpbCJ9 returned status code 403. Skipping...\n",
            "PDF link https://www.is.ovgu.de/is_media/Master+und+Bachelor_Arbeiten/MasterThesis_RobbyHenkelmann-download-1-p-4746.pdf downloaded and saved as data/MasterThesis_RobbyHenkelmann-download-1-p-4746.pdf\n",
            "PDF link https://www.mdpi.com/2073-4441/13/3/310/pdf downloaded and saved as data/pdf\n",
            "PDF link https://arxiv.org/pdf/2008.07486 downloaded and saved as data/2008.07486\n",
            "PDF link https://ntnuopen.ntnu.no/ntnu-xmlui/bitstream/handle/11250/3093293/no.ntnu:inspera:146717033:31707976.pdf?sequence=1 downloaded and saved as data/no.ntnu:inspera:146717033:31707976.pdf?sequence=1\n",
            "PDF link http://coral.ise.lehigh.edu/sctheory/files/2019/05/FoSCT-2e-Sample-Chapter.pdf returned status code 403. Skipping...\n",
            "PDF link https://www.researchgate.net/profile/Jian-Wu-Bi/publication/347812154_International_tourism_demand_forecasting_with_machine_learning_models_The_power_of_the_number_of_lagged_inputs/links/605df059299bf173676e800d/International-tourism-demand-forecasting-with-machine-learning-models-The-power-of-the-number-of-lagged-inputs.pdf returned status code 403. Skipping...\n",
            "PDF link https://www.researchgate.net/profile/Rogelio-Oliva/publication/351821260_Cross-item_learning_for_volatile_demand_forecasting_An_intervention_with_predictive_analytics/links/60abd69145851522bc150491/Cross-item-learning-for-volatile-demand-forecasting-An-intervention-with-predictive-analytics.pdf returned status code 403. Skipping...\n",
            "PDF link https://ieeexplore.ieee.org/iel7/6287639/8948470/09223744.pdf returned status code 418. Skipping...\n",
            "PDF link https://www.researchgate.net/profile/Rogelio-Oliva/publication/351821260_Cross-item_learning_for_volatile_demand_forecasting_An_intervention_with_predictive_analytics/links/60abd69145851522bc150491/Cross-item-learning-for-volatile-demand-forecasting-An-intervention-with-predictive-analytics.pdf returned status code 403. Skipping...\n",
            "PDF link https://ieeexplore.ieee.org/iel7/6287639/8948470/09223744.pdf returned status code 418. Skipping...\n",
            "PDF link https://www.mdpi.com/2071-1050/13/23/13050 downloaded and saved as data/13050\n",
            "PDF link https://annals-csis.org/Volume_11/drp/pdf/224.pdf downloaded and saved as data/224.pdf\n",
            "PDF link https://thuvienso.hoasen.edu.vn/bitstream/handle/123456789/12768/Contents.pdf?sequence=1&isAllowed=y downloaded and saved as data/Contents.pdf?sequence=1&isAllowed=y\n",
            "PDF link https://arxiv.org/pdf/2201.04651 downloaded and saved as data/2201.04651\n",
            "PDF link https://hrcak.srce.hr/file/377949 downloaded and saved as data/377949\n",
            "PDF link https://dspace.mit.edu/bitstream/handle/1721.1/117612/Chan_Kharfan_2018_Capstone.pdf?sequence=1%26isAllowed%3Dy downloaded and saved as data/Chan_Kharfan_2018_Capstone.pdf?sequence=1%26isAllowed%3Dy\n",
            "PDF link https://www.mdpi.com/1999-4893/14/8/240/pdf downloaded and saved as data/pdf\n",
            "PDF link https://bgsiran.ir/journal/ojs-3.1.1-4/index.php/IJIEOR/article/download/43/33 downloaded and saved as data/33\n",
            "Error processing https://www.hindawi.com/journals/jhe/2019/6123745/: [Errno 21] Is a directory: 'data/'\n"
          ]
        },
        {
          "output_type": "error",
          "ename": "KeyboardInterrupt",
          "evalue": "ignored",
          "traceback": [
            "\u001b[0;31m---------------------------------------------------------------------------\u001b[0m",
            "\u001b[0;31mKeyboardInterrupt\u001b[0m                         Traceback (most recent call last)",
            "\u001b[0;32m<ipython-input-11-1dd630897e68>\u001b[0m in \u001b[0;36m<cell line: 11>\u001b[0;34m()\u001b[0m\n\u001b[1;32m     11\u001b[0m \u001b[0;32mfor\u001b[0m \u001b[0mpdf_link\u001b[0m \u001b[0;32min\u001b[0m \u001b[0mpdf_links\u001b[0m\u001b[0;34m:\u001b[0m\u001b[0;34m\u001b[0m\u001b[0;34m\u001b[0m\u001b[0m\n\u001b[1;32m     12\u001b[0m     \u001b[0;32mtry\u001b[0m\u001b[0;34m:\u001b[0m\u001b[0;34m\u001b[0m\u001b[0;34m\u001b[0m\u001b[0m\n\u001b[0;32m---> 13\u001b[0;31m         \u001b[0mresponse\u001b[0m \u001b[0;34m=\u001b[0m \u001b[0mrequests\u001b[0m\u001b[0;34m.\u001b[0m\u001b[0mget\u001b[0m\u001b[0;34m(\u001b[0m\u001b[0mpdf_link\u001b[0m\u001b[0;34m,\u001b[0m \u001b[0mtimeout\u001b[0m\u001b[0;34m=\u001b[0m\u001b[0;36m10\u001b[0m\u001b[0;34m)\u001b[0m  \u001b[0;31m# Adjust the timeout value as needed\u001b[0m\u001b[0;34m\u001b[0m\u001b[0;34m\u001b[0m\u001b[0m\n\u001b[0m\u001b[1;32m     14\u001b[0m         \u001b[0;32mif\u001b[0m \u001b[0mresponse\u001b[0m\u001b[0;34m.\u001b[0m\u001b[0mstatus_code\u001b[0m \u001b[0;34m==\u001b[0m \u001b[0;36m200\u001b[0m\u001b[0;34m:\u001b[0m\u001b[0;34m\u001b[0m\u001b[0;34m\u001b[0m\u001b[0m\n\u001b[1;32m     15\u001b[0m             \u001b[0;31m# Extract the filename from the URL\u001b[0m\u001b[0;34m\u001b[0m\u001b[0;34m\u001b[0m\u001b[0m\n",
            "\u001b[0;32m/usr/local/lib/python3.10/dist-packages/requests/api.py\u001b[0m in \u001b[0;36mget\u001b[0;34m(url, params, **kwargs)\u001b[0m\n\u001b[1;32m     71\u001b[0m     \"\"\"\n\u001b[1;32m     72\u001b[0m \u001b[0;34m\u001b[0m\u001b[0m\n\u001b[0;32m---> 73\u001b[0;31m     \u001b[0;32mreturn\u001b[0m \u001b[0mrequest\u001b[0m\u001b[0;34m(\u001b[0m\u001b[0;34m\"get\"\u001b[0m\u001b[0;34m,\u001b[0m \u001b[0murl\u001b[0m\u001b[0;34m,\u001b[0m \u001b[0mparams\u001b[0m\u001b[0;34m=\u001b[0m\u001b[0mparams\u001b[0m\u001b[0;34m,\u001b[0m \u001b[0;34m**\u001b[0m\u001b[0mkwargs\u001b[0m\u001b[0;34m)\u001b[0m\u001b[0;34m\u001b[0m\u001b[0;34m\u001b[0m\u001b[0m\n\u001b[0m\u001b[1;32m     74\u001b[0m \u001b[0;34m\u001b[0m\u001b[0m\n\u001b[1;32m     75\u001b[0m \u001b[0;34m\u001b[0m\u001b[0m\n",
            "\u001b[0;32m/usr/local/lib/python3.10/dist-packages/requests/api.py\u001b[0m in \u001b[0;36mrequest\u001b[0;34m(method, url, **kwargs)\u001b[0m\n\u001b[1;32m     57\u001b[0m     \u001b[0;31m# cases, and look like a memory leak in others.\u001b[0m\u001b[0;34m\u001b[0m\u001b[0;34m\u001b[0m\u001b[0m\n\u001b[1;32m     58\u001b[0m     \u001b[0;32mwith\u001b[0m \u001b[0msessions\u001b[0m\u001b[0;34m.\u001b[0m\u001b[0mSession\u001b[0m\u001b[0;34m(\u001b[0m\u001b[0;34m)\u001b[0m \u001b[0;32mas\u001b[0m \u001b[0msession\u001b[0m\u001b[0;34m:\u001b[0m\u001b[0;34m\u001b[0m\u001b[0;34m\u001b[0m\u001b[0m\n\u001b[0;32m---> 59\u001b[0;31m         \u001b[0;32mreturn\u001b[0m \u001b[0msession\u001b[0m\u001b[0;34m.\u001b[0m\u001b[0mrequest\u001b[0m\u001b[0;34m(\u001b[0m\u001b[0mmethod\u001b[0m\u001b[0;34m=\u001b[0m\u001b[0mmethod\u001b[0m\u001b[0;34m,\u001b[0m \u001b[0murl\u001b[0m\u001b[0;34m=\u001b[0m\u001b[0murl\u001b[0m\u001b[0;34m,\u001b[0m \u001b[0;34m**\u001b[0m\u001b[0mkwargs\u001b[0m\u001b[0;34m)\u001b[0m\u001b[0;34m\u001b[0m\u001b[0;34m\u001b[0m\u001b[0m\n\u001b[0m\u001b[1;32m     60\u001b[0m \u001b[0;34m\u001b[0m\u001b[0m\n\u001b[1;32m     61\u001b[0m \u001b[0;34m\u001b[0m\u001b[0m\n",
            "\u001b[0;32m/usr/local/lib/python3.10/dist-packages/requests/sessions.py\u001b[0m in \u001b[0;36mrequest\u001b[0;34m(self, method, url, params, data, headers, cookies, files, auth, timeout, allow_redirects, proxies, hooks, stream, verify, cert, json)\u001b[0m\n\u001b[1;32m    587\u001b[0m         }\n\u001b[1;32m    588\u001b[0m         \u001b[0msend_kwargs\u001b[0m\u001b[0;34m.\u001b[0m\u001b[0mupdate\u001b[0m\u001b[0;34m(\u001b[0m\u001b[0msettings\u001b[0m\u001b[0;34m)\u001b[0m\u001b[0;34m\u001b[0m\u001b[0;34m\u001b[0m\u001b[0m\n\u001b[0;32m--> 589\u001b[0;31m         \u001b[0mresp\u001b[0m \u001b[0;34m=\u001b[0m \u001b[0mself\u001b[0m\u001b[0;34m.\u001b[0m\u001b[0msend\u001b[0m\u001b[0;34m(\u001b[0m\u001b[0mprep\u001b[0m\u001b[0;34m,\u001b[0m \u001b[0;34m**\u001b[0m\u001b[0msend_kwargs\u001b[0m\u001b[0;34m)\u001b[0m\u001b[0;34m\u001b[0m\u001b[0;34m\u001b[0m\u001b[0m\n\u001b[0m\u001b[1;32m    590\u001b[0m \u001b[0;34m\u001b[0m\u001b[0m\n\u001b[1;32m    591\u001b[0m         \u001b[0;32mreturn\u001b[0m \u001b[0mresp\u001b[0m\u001b[0;34m\u001b[0m\u001b[0;34m\u001b[0m\u001b[0m\n",
            "\u001b[0;32m/usr/local/lib/python3.10/dist-packages/requests/sessions.py\u001b[0m in \u001b[0;36msend\u001b[0;34m(self, request, **kwargs)\u001b[0m\n\u001b[1;32m    701\u001b[0m \u001b[0;34m\u001b[0m\u001b[0m\n\u001b[1;32m    702\u001b[0m         \u001b[0;31m# Send the request\u001b[0m\u001b[0;34m\u001b[0m\u001b[0;34m\u001b[0m\u001b[0m\n\u001b[0;32m--> 703\u001b[0;31m         \u001b[0mr\u001b[0m \u001b[0;34m=\u001b[0m \u001b[0madapter\u001b[0m\u001b[0;34m.\u001b[0m\u001b[0msend\u001b[0m\u001b[0;34m(\u001b[0m\u001b[0mrequest\u001b[0m\u001b[0;34m,\u001b[0m \u001b[0;34m**\u001b[0m\u001b[0mkwargs\u001b[0m\u001b[0;34m)\u001b[0m\u001b[0;34m\u001b[0m\u001b[0;34m\u001b[0m\u001b[0m\n\u001b[0m\u001b[1;32m    704\u001b[0m \u001b[0;34m\u001b[0m\u001b[0m\n\u001b[1;32m    705\u001b[0m         \u001b[0;31m# Total elapsed time of the request (approximately)\u001b[0m\u001b[0;34m\u001b[0m\u001b[0;34m\u001b[0m\u001b[0m\n",
            "\u001b[0;32m/usr/local/lib/python3.10/dist-packages/requests/adapters.py\u001b[0m in \u001b[0;36msend\u001b[0;34m(self, request, stream, timeout, verify, cert, proxies)\u001b[0m\n\u001b[1;32m    484\u001b[0m \u001b[0;34m\u001b[0m\u001b[0m\n\u001b[1;32m    485\u001b[0m         \u001b[0;32mtry\u001b[0m\u001b[0;34m:\u001b[0m\u001b[0;34m\u001b[0m\u001b[0;34m\u001b[0m\u001b[0m\n\u001b[0;32m--> 486\u001b[0;31m             resp = conn.urlopen(\n\u001b[0m\u001b[1;32m    487\u001b[0m                 \u001b[0mmethod\u001b[0m\u001b[0;34m=\u001b[0m\u001b[0mrequest\u001b[0m\u001b[0;34m.\u001b[0m\u001b[0mmethod\u001b[0m\u001b[0;34m,\u001b[0m\u001b[0;34m\u001b[0m\u001b[0;34m\u001b[0m\u001b[0m\n\u001b[1;32m    488\u001b[0m                 \u001b[0murl\u001b[0m\u001b[0;34m=\u001b[0m\u001b[0murl\u001b[0m\u001b[0;34m,\u001b[0m\u001b[0;34m\u001b[0m\u001b[0;34m\u001b[0m\u001b[0m\n",
            "\u001b[0;32m/usr/local/lib/python3.10/dist-packages/urllib3/connectionpool.py\u001b[0m in \u001b[0;36murlopen\u001b[0;34m(self, method, url, body, headers, retries, redirect, assert_same_host, timeout, pool_timeout, release_conn, chunked, body_pos, preload_content, decode_content, **response_kw)\u001b[0m\n\u001b[1;32m    789\u001b[0m                     \u001b[0;34m\"#https-proxy-error-http-proxy\"\u001b[0m\u001b[0;34m,\u001b[0m\u001b[0;34m\u001b[0m\u001b[0;34m\u001b[0m\u001b[0m\n\u001b[1;32m    790\u001b[0m                     \u001b[0mSSLError\u001b[0m\u001b[0;34m(\u001b[0m\u001b[0me\u001b[0m\u001b[0;34m)\u001b[0m\u001b[0;34m,\u001b[0m\u001b[0;34m\u001b[0m\u001b[0;34m\u001b[0m\u001b[0m\n\u001b[0;32m--> 791\u001b[0;31m                 )\n\u001b[0m\u001b[1;32m    792\u001b[0m             \u001b[0;32melif\u001b[0m \u001b[0misinstance\u001b[0m\u001b[0;34m(\u001b[0m\u001b[0me\u001b[0m\u001b[0;34m,\u001b[0m \u001b[0;34m(\u001b[0m\u001b[0mBaseSSLError\u001b[0m\u001b[0;34m,\u001b[0m \u001b[0mCertificateError\u001b[0m\u001b[0;34m)\u001b[0m\u001b[0;34m)\u001b[0m\u001b[0;34m:\u001b[0m\u001b[0;34m\u001b[0m\u001b[0;34m\u001b[0m\u001b[0m\n\u001b[1;32m    793\u001b[0m                 \u001b[0me\u001b[0m \u001b[0;34m=\u001b[0m \u001b[0mSSLError\u001b[0m\u001b[0;34m(\u001b[0m\u001b[0me\u001b[0m\u001b[0;34m)\u001b[0m\u001b[0;34m\u001b[0m\u001b[0;34m\u001b[0m\u001b[0m\n",
            "\u001b[0;32m/usr/local/lib/python3.10/dist-packages/urllib3/connectionpool.py\u001b[0m in \u001b[0;36m_make_request\u001b[0;34m(self, conn, method, url, body, headers, retries, timeout, chunked, response_conn, preload_content, decode_content, enforce_content_length)\u001b[0m\n\u001b[1;32m    466\u001b[0m                     \u001b[0;31m# Otherwise it looks like a bug in the code.\u001b[0m\u001b[0;34m\u001b[0m\u001b[0;34m\u001b[0m\u001b[0m\n\u001b[1;32m    467\u001b[0m                     \u001b[0msix\u001b[0m\u001b[0;34m.\u001b[0m\u001b[0mraise_from\u001b[0m\u001b[0;34m(\u001b[0m\u001b[0me\u001b[0m\u001b[0;34m,\u001b[0m \u001b[0;32mNone\u001b[0m\u001b[0;34m)\u001b[0m\u001b[0;34m\u001b[0m\u001b[0;34m\u001b[0m\u001b[0m\n\u001b[0;32m--> 468\u001b[0;31m         \u001b[0;32mexcept\u001b[0m \u001b[0;34m(\u001b[0m\u001b[0mSocketTimeout\u001b[0m\u001b[0;34m,\u001b[0m \u001b[0mBaseSSLError\u001b[0m\u001b[0;34m,\u001b[0m \u001b[0mSocketError\u001b[0m\u001b[0;34m)\u001b[0m \u001b[0;32mas\u001b[0m \u001b[0me\u001b[0m\u001b[0;34m:\u001b[0m\u001b[0;34m\u001b[0m\u001b[0;34m\u001b[0m\u001b[0m\n\u001b[0m\u001b[1;32m    469\u001b[0m             \u001b[0mself\u001b[0m\u001b[0;34m.\u001b[0m\u001b[0m_raise_timeout\u001b[0m\u001b[0;34m(\u001b[0m\u001b[0merr\u001b[0m\u001b[0;34m=\u001b[0m\u001b[0me\u001b[0m\u001b[0;34m,\u001b[0m \u001b[0murl\u001b[0m\u001b[0;34m=\u001b[0m\u001b[0murl\u001b[0m\u001b[0;34m,\u001b[0m \u001b[0mtimeout_value\u001b[0m\u001b[0;34m=\u001b[0m\u001b[0mread_timeout\u001b[0m\u001b[0;34m)\u001b[0m\u001b[0;34m\u001b[0m\u001b[0;34m\u001b[0m\u001b[0m\n\u001b[1;32m    470\u001b[0m             \u001b[0;32mraise\u001b[0m\u001b[0;34m\u001b[0m\u001b[0;34m\u001b[0m\u001b[0m\n",
            "\u001b[0;32m/usr/local/lib/python3.10/dist-packages/urllib3/connectionpool.py\u001b[0m in \u001b[0;36m_validate_conn\u001b[0;34m(self, conn)\u001b[0m\n\u001b[1;32m   1095\u001b[0m         \u001b[0;34m:\u001b[0m\u001b[0;32mclass\u001b[0m\u001b[0;34m:\u001b[0m\u001b[0;31m`\u001b[0m\u001b[0;34m.\u001b[0m\u001b[0mConnectionPool\u001b[0m\u001b[0;31m`\u001b[0m\u001b[0;34m.\u001b[0m \u001b[0mUseful\u001b[0m \u001b[0;32mfor\u001b[0m \u001b[0mspecifying\u001b[0m \u001b[0mthings\u001b[0m \u001b[0mlike\u001b[0m\u001b[0;34m\u001b[0m\u001b[0;34m\u001b[0m\u001b[0m\n\u001b[1;32m   1096\u001b[0m         \u001b[0mtimeout\u001b[0m\u001b[0;34m,\u001b[0m \u001b[0mmaxsize\u001b[0m\u001b[0;34m,\u001b[0m \u001b[0mheaders\u001b[0m\u001b[0;34m,\u001b[0m \u001b[0metc\u001b[0m\u001b[0;34m.\u001b[0m\u001b[0;34m\u001b[0m\u001b[0;34m\u001b[0m\u001b[0m\n\u001b[0;32m-> 1097\u001b[0;31m \u001b[0;34m\u001b[0m\u001b[0m\n\u001b[0m\u001b[1;32m   1098\u001b[0m     \u001b[0mExample\u001b[0m\u001b[0;34m:\u001b[0m\u001b[0;34m:\u001b[0m\u001b[0;34m\u001b[0m\u001b[0;34m\u001b[0m\u001b[0m\n\u001b[1;32m   1099\u001b[0m \u001b[0;34m\u001b[0m\u001b[0m\n",
            "\u001b[0;32m/usr/local/lib/python3.10/dist-packages/urllib3/connection.py\u001b[0m in \u001b[0;36mconnect\u001b[0;34m(self)\u001b[0m\n",
            "\u001b[0;32m/usr/local/lib/python3.10/dist-packages/urllib3/connection.py\u001b[0m in \u001b[0;36m_ssl_wrap_socket_and_match_hostname\u001b[0;34m(sock, cert_reqs, ssl_version, ssl_minimum_version, ssl_maximum_version, cert_file, key_file, key_password, ca_certs, ca_cert_dir, ca_cert_data, assert_hostname, assert_fingerprint, server_hostname, ssl_context, tls_in_tls)\u001b[0m\n",
            "\u001b[0;32m/usr/local/lib/python3.10/dist-packages/urllib3/util/ssl_.py\u001b[0m in \u001b[0;36mssl_wrap_socket\u001b[0;34m(sock, keyfile, certfile, cert_reqs, ca_certs, server_hostname, ssl_version, ciphers, ssl_context, ca_cert_dir, key_password, ca_cert_data, tls_in_tls)\u001b[0m\n\u001b[1;32m    444\u001b[0m             \u001b[0;34m\"#ssl-warnings\"\u001b[0m\u001b[0;34m,\u001b[0m\u001b[0;34m\u001b[0m\u001b[0;34m\u001b[0m\u001b[0m\n\u001b[1;32m    445\u001b[0m             \u001b[0mSNIMissingWarning\u001b[0m\u001b[0;34m,\u001b[0m\u001b[0;34m\u001b[0m\u001b[0;34m\u001b[0m\u001b[0m\n\u001b[0;32m--> 446\u001b[0;31m         )\n\u001b[0m\u001b[1;32m    447\u001b[0m \u001b[0;34m\u001b[0m\u001b[0m\n\u001b[1;32m    448\u001b[0m     \u001b[0;32mif\u001b[0m \u001b[0msend_sni\u001b[0m\u001b[0;34m:\u001b[0m\u001b[0;34m\u001b[0m\u001b[0;34m\u001b[0m\u001b[0m\n",
            "\u001b[0;31mKeyboardInterrupt\u001b[0m: "
          ]
        }
      ]
    },
    {
      "cell_type": "code",
      "source": [],
      "metadata": {
        "id": "UfbxHB4X94FU"
      },
      "execution_count": null,
      "outputs": []
    },
    {
      "cell_type": "code",
      "source": [
        "import os\n",
        "from PyPDF2 import PdfMerger\n",
        "\n",
        "# List all PDF files in the \"data\" folder\n",
        "pdfs = [os.path.join(\"data\", filename) for filename in os.listdir(\"data\") if filename.endswith(\".pdf\")]\n",
        "\n",
        "merger = PdfMerger()\n",
        "\n",
        "for pdf in pdfs:\n",
        "    try:\n",
        "        merger.append(pdf)\n",
        "    except Exception as e:\n",
        "        print(f\"Error appending {pdf}: {e}\")\n",
        "\n",
        "# Save the merged PDF as \"result.pdf\"\n",
        "merger.write(\"result.pdf\")\n",
        "merger.close()\n"
      ],
      "metadata": {
        "colab": {
          "base_uri": "https://localhost:8080/"
        },
        "id": "ja1ZmhGPnq52",
        "outputId": "898426ca-2a66-4f2b-a260-572592a7d4b4"
      },
      "execution_count": 13,
      "outputs": [
        {
          "output_type": "stream",
          "name": "stderr",
          "text": [
            "WARNING:PyPDF2._reader:incorrect startxref pointer(2)\n",
            "WARNING:PyPDF2._reader:incorrect startxref pointer(2)\n"
          ]
        },
        {
          "output_type": "stream",
          "name": "stdout",
          "text": [
            "Error appending data/c5397bcbaeb0c8a5884ef9971f653d65_Machine%20Learning%20for%20%20Time%20Series%20Forecasting%20%20with%20Python.pdf: EOF marker not found\n"
          ]
        },
        {
          "output_type": "stream",
          "name": "stderr",
          "text": [
            "WARNING:PyPDF2._reader:incorrect startxref pointer(1)\n"
          ]
        },
        {
          "output_type": "stream",
          "name": "stdout",
          "text": [
            "Error appending data/UQ00cada6_OA.pdf: not enough values to unpack (expected 3, got 2)\n"
          ]
        },
        {
          "output_type": "stream",
          "name": "stderr",
          "text": [
            "WARNING:PyPDF2.generic._data_structures:Multiple definitions in dictionary at byte 0x156e2 for key /Type\n",
            "WARNING:PyPDF2.generic._data_structures:Multiple definitions in dictionary at byte 0x3004a for key /Type\n",
            "WARNING:PyPDF2.generic._data_structures:Multiple definitions in dictionary at byte 0x300ba for key /Type\n",
            "WARNING:PyPDF2.generic._data_structures:Multiple definitions in dictionary at byte 0x3012b for key /Type\n",
            "WARNING:PyPDF2.generic._data_structures:Multiple definitions in dictionary at byte 0x301a4 for key /Type\n"
          ]
        }
      ]
    },
    {
      "cell_type": "code",
      "source": [
        "from pdfminer.pdfparser import PDFParser\n",
        "from pdfminer.pdfdocument import PDFDocument\n",
        "from pdfminer.pdfpage import PDFPage\n",
        "from pdfminer.pdfinterp import resolve1\n",
        "\n",
        "# check the length of pages\n",
        "\n",
        "\n",
        "file = open(\"/content/result.pdf\", 'rb')\n",
        "parser = PDFParser(file)\n",
        "document = PDFDocument(parser)\n",
        "\n",
        "# This will give you the count of pages\n",
        "print(resolve1(document.catalog['Pages'])['Count'])"
      ],
      "metadata": {
        "colab": {
          "base_uri": "https://localhost:8080/"
        },
        "id": "FTR765UteOfy",
        "outputId": "eced869f-8303-4325-8a33-c864def6726a"
      },
      "execution_count": 14,
      "outputs": [
        {
          "output_type": "stream",
          "name": "stdout",
          "text": [
            "2615\n"
          ]
        }
      ]
    },
    {
      "cell_type": "code",
      "source": [
        "# Create a TokenTextSplitter instance\n",
        "text_splitter = TokenTextSplitter(chunk_size=500, chunk_overlap=25)\n",
        "\n",
        "pdf_loader = PyPDFLoader(\"/content/result.pdf\") #UnstructuredPDFLoader not working\n",
        "\n",
        "pages = pdf_loader.load_and_split()\n",
        "\n",
        "\n",
        "# Split the single document into chunks using the TokenTextSplitter\n",
        "# pages = text_splitter.split_text(single_document)\n",
        "print(f\"length of pages of single document is {len(pages)}\")\n",
        "\n",
        "# instantiate embedding model\n",
        "embeddings_model = OpenAIEmbeddings()\n",
        "\n",
        "embedder = CacheBackedEmbeddings.from_bytes_store(\n",
        "    embeddings_model,\n",
        "    store\n",
        ")\n",
        "\n",
        "# create vector store, we use FAISS in this case\n",
        "vector_store = FAISS.from_documents(pages, embedder)\n",
        "\n",
        "# # you could use FAISS or Chroma for vector storages\n",
        "# db = Chroma.from_documents(pages, embedder)\n",
        "# retriever = db.as_retriever()\n",
        "\n",
        "# this is the entire retrieval system\n",
        "medium_qa_chain = RetrievalQA.from_chain_type(\n",
        "    llm=ChatOpenAI(),\n",
        "    retriever=vector_store.as_retriever(), #retriever, #,\n",
        "    return_source_documents=True,\n",
        "    verbose=True\n",
        ")\n",
        "\n",
        "\n",
        "sample_prompts = [\"What is the most common application of machine learning for inventory maangement?\",\n",
        "                  \"What is the most common application of machine learning for demand forcasting in supply chain maangement?\"]\n",
        "\n",
        "for prompt in sample_prompts:\n",
        "\n",
        "    #vanilla OpenAI Response\n",
        "    response = openmixer.Completion.create(\n",
        "        engine=\"text-davinci-003\",\n",
        "        prompt=prompt,\n",
        "        max_tokens = 500)\n",
        "\n",
        "    # RAG Augmented Response\n",
        "    response_rag = medium_qa_chain({\"query\":prompt})"
      ],
      "metadata": {
        "colab": {
          "base_uri": "https://localhost:8080/",
          "height": 1000
        },
        "id": "y_f4iEcosyKV",
        "outputId": "bb83ec54-5999-4328-9256-8548562732bc"
      },
      "execution_count": 21,
      "outputs": [
        {
          "output_type": "stream",
          "name": "stdout",
          "text": [
            "length of pages of single document is 2833\n"
          ]
        },
        {
          "output_type": "stream",
          "name": "stderr",
          "text": [
            "WARNING:langchain.embeddings.openai:Retrying langchain.embeddings.openai.embed_with_retry.<locals>._embed_with_retry in 4.0 seconds as it raised RateLimitError: You exceeded your current quota, please check your plan and billing details..\n",
            "WARNING:langchain.embeddings.openai:Retrying langchain.embeddings.openai.embed_with_retry.<locals>._embed_with_retry in 4.0 seconds as it raised RateLimitError: You exceeded your current quota, please check your plan and billing details..\n",
            "WARNING:langchain.embeddings.openai:Retrying langchain.embeddings.openai.embed_with_retry.<locals>._embed_with_retry in 4.0 seconds as it raised RateLimitError: You exceeded your current quota, please check your plan and billing details..\n",
            "WARNING:langchain.embeddings.openai:Retrying langchain.embeddings.openai.embed_with_retry.<locals>._embed_with_retry in 8.0 seconds as it raised RateLimitError: You exceeded your current quota, please check your plan and billing details..\n",
            "WARNING:langchain.embeddings.openai:Retrying langchain.embeddings.openai.embed_with_retry.<locals>._embed_with_retry in 10.0 seconds as it raised RateLimitError: You exceeded your current quota, please check your plan and billing details..\n"
          ]
        },
        {
          "output_type": "error",
          "ename": "RateLimitError",
          "evalue": "ignored",
          "traceback": [
            "\u001b[0;31m---------------------------------------------------------------------------\u001b[0m",
            "\u001b[0;31mRateLimitError\u001b[0m                            Traceback (most recent call last)",
            "\u001b[0;32m<ipython-input-21-9ac44415946f>\u001b[0m in \u001b[0;36m<cell line: 22>\u001b[0;34m()\u001b[0m\n\u001b[1;32m     20\u001b[0m \u001b[0;34m\u001b[0m\u001b[0m\n\u001b[1;32m     21\u001b[0m \u001b[0;31m# create vector store, we use FAISS in this case\u001b[0m\u001b[0;34m\u001b[0m\u001b[0;34m\u001b[0m\u001b[0m\n\u001b[0;32m---> 22\u001b[0;31m \u001b[0mvector_store\u001b[0m \u001b[0;34m=\u001b[0m \u001b[0mFAISS\u001b[0m\u001b[0;34m.\u001b[0m\u001b[0mfrom_documents\u001b[0m\u001b[0;34m(\u001b[0m\u001b[0mpages\u001b[0m\u001b[0;34m,\u001b[0m \u001b[0membedder\u001b[0m\u001b[0;34m)\u001b[0m\u001b[0;34m\u001b[0m\u001b[0;34m\u001b[0m\u001b[0m\n\u001b[0m\u001b[1;32m     23\u001b[0m \u001b[0;34m\u001b[0m\u001b[0m\n\u001b[1;32m     24\u001b[0m \u001b[0;31m# # you could use FAISS or Chroma for vector storages\u001b[0m\u001b[0;34m\u001b[0m\u001b[0;34m\u001b[0m\u001b[0m\n",
            "\u001b[0;32m/usr/local/lib/python3.10/dist-packages/langchain/schema/vectorstore.py\u001b[0m in \u001b[0;36mfrom_documents\u001b[0;34m(cls, documents, embedding, **kwargs)\u001b[0m\n\u001b[1;32m    436\u001b[0m         \u001b[0mtexts\u001b[0m \u001b[0;34m=\u001b[0m \u001b[0;34m[\u001b[0m\u001b[0md\u001b[0m\u001b[0;34m.\u001b[0m\u001b[0mpage_content\u001b[0m \u001b[0;32mfor\u001b[0m \u001b[0md\u001b[0m \u001b[0;32min\u001b[0m \u001b[0mdocuments\u001b[0m\u001b[0;34m]\u001b[0m\u001b[0;34m\u001b[0m\u001b[0;34m\u001b[0m\u001b[0m\n\u001b[1;32m    437\u001b[0m         \u001b[0mmetadatas\u001b[0m \u001b[0;34m=\u001b[0m \u001b[0;34m[\u001b[0m\u001b[0md\u001b[0m\u001b[0;34m.\u001b[0m\u001b[0mmetadata\u001b[0m \u001b[0;32mfor\u001b[0m \u001b[0md\u001b[0m \u001b[0;32min\u001b[0m \u001b[0mdocuments\u001b[0m\u001b[0;34m]\u001b[0m\u001b[0;34m\u001b[0m\u001b[0;34m\u001b[0m\u001b[0m\n\u001b[0;32m--> 438\u001b[0;31m         \u001b[0;32mreturn\u001b[0m \u001b[0mcls\u001b[0m\u001b[0;34m.\u001b[0m\u001b[0mfrom_texts\u001b[0m\u001b[0;34m(\u001b[0m\u001b[0mtexts\u001b[0m\u001b[0;34m,\u001b[0m \u001b[0membedding\u001b[0m\u001b[0;34m,\u001b[0m \u001b[0mmetadatas\u001b[0m\u001b[0;34m=\u001b[0m\u001b[0mmetadatas\u001b[0m\u001b[0;34m,\u001b[0m \u001b[0;34m**\u001b[0m\u001b[0mkwargs\u001b[0m\u001b[0;34m)\u001b[0m\u001b[0;34m\u001b[0m\u001b[0;34m\u001b[0m\u001b[0m\n\u001b[0m\u001b[1;32m    439\u001b[0m \u001b[0;34m\u001b[0m\u001b[0m\n\u001b[1;32m    440\u001b[0m     \u001b[0;34m@\u001b[0m\u001b[0mclassmethod\u001b[0m\u001b[0;34m\u001b[0m\u001b[0;34m\u001b[0m\u001b[0m\n",
            "\u001b[0;32m/usr/local/lib/python3.10/dist-packages/langchain/vectorstores/faiss.py\u001b[0m in \u001b[0;36mfrom_texts\u001b[0;34m(cls, texts, embedding, metadatas, ids, **kwargs)\u001b[0m\n\u001b[1;32m    630\u001b[0m                 \u001b[0mfaiss\u001b[0m \u001b[0;34m=\u001b[0m \u001b[0mFAISS\u001b[0m\u001b[0;34m.\u001b[0m\u001b[0mfrom_texts\u001b[0m\u001b[0;34m(\u001b[0m\u001b[0mtexts\u001b[0m\u001b[0;34m,\u001b[0m \u001b[0membeddings\u001b[0m\u001b[0;34m)\u001b[0m\u001b[0;34m\u001b[0m\u001b[0;34m\u001b[0m\u001b[0m\n\u001b[1;32m    631\u001b[0m         \"\"\"\n\u001b[0;32m--> 632\u001b[0;31m         \u001b[0membeddings\u001b[0m \u001b[0;34m=\u001b[0m \u001b[0membedding\u001b[0m\u001b[0;34m.\u001b[0m\u001b[0membed_documents\u001b[0m\u001b[0;34m(\u001b[0m\u001b[0mtexts\u001b[0m\u001b[0;34m)\u001b[0m\u001b[0;34m\u001b[0m\u001b[0;34m\u001b[0m\u001b[0m\n\u001b[0m\u001b[1;32m    633\u001b[0m         return cls.__from(\n\u001b[1;32m    634\u001b[0m             \u001b[0mtexts\u001b[0m\u001b[0;34m,\u001b[0m\u001b[0;34m\u001b[0m\u001b[0;34m\u001b[0m\u001b[0m\n",
            "\u001b[0;32m/usr/local/lib/python3.10/dist-packages/langchain/embeddings/cache.py\u001b[0m in \u001b[0;36membed_documents\u001b[0;34m(self, texts)\u001b[0m\n\u001b[1;32m    116\u001b[0m \u001b[0;34m\u001b[0m\u001b[0m\n\u001b[1;32m    117\u001b[0m         \u001b[0;32mif\u001b[0m \u001b[0mmissing_texts\u001b[0m\u001b[0;34m:\u001b[0m\u001b[0;34m\u001b[0m\u001b[0;34m\u001b[0m\u001b[0m\n\u001b[0;32m--> 118\u001b[0;31m             \u001b[0mmissing_vectors\u001b[0m \u001b[0;34m=\u001b[0m \u001b[0mself\u001b[0m\u001b[0;34m.\u001b[0m\u001b[0munderlying_embeddings\u001b[0m\u001b[0;34m.\u001b[0m\u001b[0membed_documents\u001b[0m\u001b[0;34m(\u001b[0m\u001b[0mmissing_texts\u001b[0m\u001b[0;34m)\u001b[0m\u001b[0;34m\u001b[0m\u001b[0;34m\u001b[0m\u001b[0m\n\u001b[0m\u001b[1;32m    119\u001b[0m             self.document_embedding_store.mset(\n\u001b[1;32m    120\u001b[0m                 \u001b[0mlist\u001b[0m\u001b[0;34m(\u001b[0m\u001b[0mzip\u001b[0m\u001b[0;34m(\u001b[0m\u001b[0mmissing_texts\u001b[0m\u001b[0;34m,\u001b[0m \u001b[0mmissing_vectors\u001b[0m\u001b[0;34m)\u001b[0m\u001b[0;34m)\u001b[0m\u001b[0;34m\u001b[0m\u001b[0;34m\u001b[0m\u001b[0m\n",
            "\u001b[0;32m/usr/local/lib/python3.10/dist-packages/langchain/embeddings/openai.py\u001b[0m in \u001b[0;36membed_documents\u001b[0;34m(self, texts, chunk_size)\u001b[0m\n\u001b[1;32m    488\u001b[0m         \u001b[0;31m# NOTE: to keep things simple, we assume the list may contain texts longer\u001b[0m\u001b[0;34m\u001b[0m\u001b[0;34m\u001b[0m\u001b[0m\n\u001b[1;32m    489\u001b[0m         \u001b[0;31m#       than the maximum context and use length-safe embedding function.\u001b[0m\u001b[0;34m\u001b[0m\u001b[0;34m\u001b[0m\u001b[0m\n\u001b[0;32m--> 490\u001b[0;31m         \u001b[0;32mreturn\u001b[0m \u001b[0mself\u001b[0m\u001b[0;34m.\u001b[0m\u001b[0m_get_len_safe_embeddings\u001b[0m\u001b[0;34m(\u001b[0m\u001b[0mtexts\u001b[0m\u001b[0;34m,\u001b[0m \u001b[0mengine\u001b[0m\u001b[0;34m=\u001b[0m\u001b[0mself\u001b[0m\u001b[0;34m.\u001b[0m\u001b[0mdeployment\u001b[0m\u001b[0;34m)\u001b[0m\u001b[0;34m\u001b[0m\u001b[0;34m\u001b[0m\u001b[0m\n\u001b[0m\u001b[1;32m    491\u001b[0m \u001b[0;34m\u001b[0m\u001b[0m\n\u001b[1;32m    492\u001b[0m     async def aembed_documents(\n",
            "\u001b[0;32m/usr/local/lib/python3.10/dist-packages/langchain/embeddings/openai.py\u001b[0m in \u001b[0;36m_get_len_safe_embeddings\u001b[0;34m(self, texts, engine, chunk_size)\u001b[0m\n\u001b[1;32m    372\u001b[0m \u001b[0;34m\u001b[0m\u001b[0m\n\u001b[1;32m    373\u001b[0m         \u001b[0;32mfor\u001b[0m \u001b[0mi\u001b[0m \u001b[0;32min\u001b[0m \u001b[0m_iter\u001b[0m\u001b[0;34m:\u001b[0m\u001b[0;34m\u001b[0m\u001b[0;34m\u001b[0m\u001b[0m\n\u001b[0;32m--> 374\u001b[0;31m             response = embed_with_retry(\n\u001b[0m\u001b[1;32m    375\u001b[0m                 \u001b[0mself\u001b[0m\u001b[0;34m,\u001b[0m\u001b[0;34m\u001b[0m\u001b[0;34m\u001b[0m\u001b[0m\n\u001b[1;32m    376\u001b[0m                 \u001b[0minput\u001b[0m\u001b[0;34m=\u001b[0m\u001b[0mtokens\u001b[0m\u001b[0;34m[\u001b[0m\u001b[0mi\u001b[0m \u001b[0;34m:\u001b[0m \u001b[0mi\u001b[0m \u001b[0;34m+\u001b[0m \u001b[0m_chunk_size\u001b[0m\u001b[0;34m]\u001b[0m\u001b[0;34m,\u001b[0m\u001b[0;34m\u001b[0m\u001b[0;34m\u001b[0m\u001b[0m\n",
            "\u001b[0;32m/usr/local/lib/python3.10/dist-packages/langchain/embeddings/openai.py\u001b[0m in \u001b[0;36membed_with_retry\u001b[0;34m(embeddings, **kwargs)\u001b[0m\n\u001b[1;32m    105\u001b[0m         \u001b[0;32mreturn\u001b[0m \u001b[0m_check_response\u001b[0m\u001b[0;34m(\u001b[0m\u001b[0mresponse\u001b[0m\u001b[0;34m,\u001b[0m \u001b[0mskip_empty\u001b[0m\u001b[0;34m=\u001b[0m\u001b[0membeddings\u001b[0m\u001b[0;34m.\u001b[0m\u001b[0mskip_empty\u001b[0m\u001b[0;34m)\u001b[0m\u001b[0;34m\u001b[0m\u001b[0;34m\u001b[0m\u001b[0m\n\u001b[1;32m    106\u001b[0m \u001b[0;34m\u001b[0m\u001b[0m\n\u001b[0;32m--> 107\u001b[0;31m     \u001b[0;32mreturn\u001b[0m \u001b[0m_embed_with_retry\u001b[0m\u001b[0;34m(\u001b[0m\u001b[0;34m**\u001b[0m\u001b[0mkwargs\u001b[0m\u001b[0;34m)\u001b[0m\u001b[0;34m\u001b[0m\u001b[0;34m\u001b[0m\u001b[0m\n\u001b[0m\u001b[1;32m    108\u001b[0m \u001b[0;34m\u001b[0m\u001b[0m\n\u001b[1;32m    109\u001b[0m \u001b[0;34m\u001b[0m\u001b[0m\n",
            "\u001b[0;32m/usr/local/lib/python3.10/dist-packages/tenacity/__init__.py\u001b[0m in \u001b[0;36mwrapped_f\u001b[0;34m(*args, **kw)\u001b[0m\n\u001b[1;32m    287\u001b[0m         \u001b[0;34m@\u001b[0m\u001b[0mfunctools\u001b[0m\u001b[0;34m.\u001b[0m\u001b[0mwraps\u001b[0m\u001b[0;34m(\u001b[0m\u001b[0mf\u001b[0m\u001b[0;34m)\u001b[0m\u001b[0;34m\u001b[0m\u001b[0;34m\u001b[0m\u001b[0m\n\u001b[1;32m    288\u001b[0m         \u001b[0;32mdef\u001b[0m \u001b[0mwrapped_f\u001b[0m\u001b[0;34m(\u001b[0m\u001b[0;34m*\u001b[0m\u001b[0margs\u001b[0m\u001b[0;34m:\u001b[0m \u001b[0mt\u001b[0m\u001b[0;34m.\u001b[0m\u001b[0mAny\u001b[0m\u001b[0;34m,\u001b[0m \u001b[0;34m**\u001b[0m\u001b[0mkw\u001b[0m\u001b[0;34m:\u001b[0m \u001b[0mt\u001b[0m\u001b[0;34m.\u001b[0m\u001b[0mAny\u001b[0m\u001b[0;34m)\u001b[0m \u001b[0;34m->\u001b[0m \u001b[0mt\u001b[0m\u001b[0;34m.\u001b[0m\u001b[0mAny\u001b[0m\u001b[0;34m:\u001b[0m\u001b[0;34m\u001b[0m\u001b[0;34m\u001b[0m\u001b[0m\n\u001b[0;32m--> 289\u001b[0;31m             \u001b[0;32mreturn\u001b[0m \u001b[0mself\u001b[0m\u001b[0;34m(\u001b[0m\u001b[0mf\u001b[0m\u001b[0;34m,\u001b[0m \u001b[0;34m*\u001b[0m\u001b[0margs\u001b[0m\u001b[0;34m,\u001b[0m \u001b[0;34m**\u001b[0m\u001b[0mkw\u001b[0m\u001b[0;34m)\u001b[0m\u001b[0;34m\u001b[0m\u001b[0;34m\u001b[0m\u001b[0m\n\u001b[0m\u001b[1;32m    290\u001b[0m \u001b[0;34m\u001b[0m\u001b[0m\n\u001b[1;32m    291\u001b[0m         \u001b[0;32mdef\u001b[0m \u001b[0mretry_with\u001b[0m\u001b[0;34m(\u001b[0m\u001b[0;34m*\u001b[0m\u001b[0margs\u001b[0m\u001b[0;34m:\u001b[0m \u001b[0mt\u001b[0m\u001b[0;34m.\u001b[0m\u001b[0mAny\u001b[0m\u001b[0;34m,\u001b[0m \u001b[0;34m**\u001b[0m\u001b[0mkwargs\u001b[0m\u001b[0;34m:\u001b[0m \u001b[0mt\u001b[0m\u001b[0;34m.\u001b[0m\u001b[0mAny\u001b[0m\u001b[0;34m)\u001b[0m \u001b[0;34m->\u001b[0m \u001b[0mWrappedFn\u001b[0m\u001b[0;34m:\u001b[0m\u001b[0;34m\u001b[0m\u001b[0;34m\u001b[0m\u001b[0m\n",
            "\u001b[0;32m/usr/local/lib/python3.10/dist-packages/tenacity/__init__.py\u001b[0m in \u001b[0;36m__call__\u001b[0;34m(self, fn, *args, **kwargs)\u001b[0m\n\u001b[1;32m    377\u001b[0m         \u001b[0mretry_state\u001b[0m \u001b[0;34m=\u001b[0m \u001b[0mRetryCallState\u001b[0m\u001b[0;34m(\u001b[0m\u001b[0mretry_object\u001b[0m\u001b[0;34m=\u001b[0m\u001b[0mself\u001b[0m\u001b[0;34m,\u001b[0m \u001b[0mfn\u001b[0m\u001b[0;34m=\u001b[0m\u001b[0mfn\u001b[0m\u001b[0;34m,\u001b[0m \u001b[0margs\u001b[0m\u001b[0;34m=\u001b[0m\u001b[0margs\u001b[0m\u001b[0;34m,\u001b[0m \u001b[0mkwargs\u001b[0m\u001b[0;34m=\u001b[0m\u001b[0mkwargs\u001b[0m\u001b[0;34m)\u001b[0m\u001b[0;34m\u001b[0m\u001b[0;34m\u001b[0m\u001b[0m\n\u001b[1;32m    378\u001b[0m         \u001b[0;32mwhile\u001b[0m \u001b[0;32mTrue\u001b[0m\u001b[0;34m:\u001b[0m\u001b[0;34m\u001b[0m\u001b[0;34m\u001b[0m\u001b[0m\n\u001b[0;32m--> 379\u001b[0;31m             \u001b[0mdo\u001b[0m \u001b[0;34m=\u001b[0m \u001b[0mself\u001b[0m\u001b[0;34m.\u001b[0m\u001b[0miter\u001b[0m\u001b[0;34m(\u001b[0m\u001b[0mretry_state\u001b[0m\u001b[0;34m=\u001b[0m\u001b[0mretry_state\u001b[0m\u001b[0;34m)\u001b[0m\u001b[0;34m\u001b[0m\u001b[0;34m\u001b[0m\u001b[0m\n\u001b[0m\u001b[1;32m    380\u001b[0m             \u001b[0;32mif\u001b[0m \u001b[0misinstance\u001b[0m\u001b[0;34m(\u001b[0m\u001b[0mdo\u001b[0m\u001b[0;34m,\u001b[0m \u001b[0mDoAttempt\u001b[0m\u001b[0;34m)\u001b[0m\u001b[0;34m:\u001b[0m\u001b[0;34m\u001b[0m\u001b[0;34m\u001b[0m\u001b[0m\n\u001b[1;32m    381\u001b[0m                 \u001b[0;32mtry\u001b[0m\u001b[0;34m:\u001b[0m\u001b[0;34m\u001b[0m\u001b[0;34m\u001b[0m\u001b[0m\n",
            "\u001b[0;32m/usr/local/lib/python3.10/dist-packages/tenacity/__init__.py\u001b[0m in \u001b[0;36miter\u001b[0;34m(self, retry_state)\u001b[0m\n\u001b[1;32m    323\u001b[0m             \u001b[0mretry_exc\u001b[0m \u001b[0;34m=\u001b[0m \u001b[0mself\u001b[0m\u001b[0;34m.\u001b[0m\u001b[0mretry_error_cls\u001b[0m\u001b[0;34m(\u001b[0m\u001b[0mfut\u001b[0m\u001b[0;34m)\u001b[0m\u001b[0;34m\u001b[0m\u001b[0;34m\u001b[0m\u001b[0m\n\u001b[1;32m    324\u001b[0m             \u001b[0;32mif\u001b[0m \u001b[0mself\u001b[0m\u001b[0;34m.\u001b[0m\u001b[0mreraise\u001b[0m\u001b[0;34m:\u001b[0m\u001b[0;34m\u001b[0m\u001b[0;34m\u001b[0m\u001b[0m\n\u001b[0;32m--> 325\u001b[0;31m                 \u001b[0;32mraise\u001b[0m \u001b[0mretry_exc\u001b[0m\u001b[0;34m.\u001b[0m\u001b[0mreraise\u001b[0m\u001b[0;34m(\u001b[0m\u001b[0;34m)\u001b[0m\u001b[0;34m\u001b[0m\u001b[0;34m\u001b[0m\u001b[0m\n\u001b[0m\u001b[1;32m    326\u001b[0m             \u001b[0;32mraise\u001b[0m \u001b[0mretry_exc\u001b[0m \u001b[0;32mfrom\u001b[0m \u001b[0mfut\u001b[0m\u001b[0;34m.\u001b[0m\u001b[0mexception\u001b[0m\u001b[0;34m(\u001b[0m\u001b[0;34m)\u001b[0m\u001b[0;34m\u001b[0m\u001b[0;34m\u001b[0m\u001b[0m\n\u001b[1;32m    327\u001b[0m \u001b[0;34m\u001b[0m\u001b[0m\n",
            "\u001b[0;32m/usr/local/lib/python3.10/dist-packages/tenacity/__init__.py\u001b[0m in \u001b[0;36mreraise\u001b[0;34m(self)\u001b[0m\n\u001b[1;32m    156\u001b[0m     \u001b[0;32mdef\u001b[0m \u001b[0mreraise\u001b[0m\u001b[0;34m(\u001b[0m\u001b[0mself\u001b[0m\u001b[0;34m)\u001b[0m \u001b[0;34m->\u001b[0m \u001b[0mt\u001b[0m\u001b[0;34m.\u001b[0m\u001b[0mNoReturn\u001b[0m\u001b[0;34m:\u001b[0m\u001b[0;34m\u001b[0m\u001b[0;34m\u001b[0m\u001b[0m\n\u001b[1;32m    157\u001b[0m         \u001b[0;32mif\u001b[0m \u001b[0mself\u001b[0m\u001b[0;34m.\u001b[0m\u001b[0mlast_attempt\u001b[0m\u001b[0;34m.\u001b[0m\u001b[0mfailed\u001b[0m\u001b[0;34m:\u001b[0m\u001b[0;34m\u001b[0m\u001b[0;34m\u001b[0m\u001b[0m\n\u001b[0;32m--> 158\u001b[0;31m             \u001b[0;32mraise\u001b[0m \u001b[0mself\u001b[0m\u001b[0;34m.\u001b[0m\u001b[0mlast_attempt\u001b[0m\u001b[0;34m.\u001b[0m\u001b[0mresult\u001b[0m\u001b[0;34m(\u001b[0m\u001b[0;34m)\u001b[0m\u001b[0;34m\u001b[0m\u001b[0;34m\u001b[0m\u001b[0m\n\u001b[0m\u001b[1;32m    159\u001b[0m         \u001b[0;32mraise\u001b[0m \u001b[0mself\u001b[0m\u001b[0;34m\u001b[0m\u001b[0;34m\u001b[0m\u001b[0m\n\u001b[1;32m    160\u001b[0m \u001b[0;34m\u001b[0m\u001b[0m\n",
            "\u001b[0;32m/usr/lib/python3.10/concurrent/futures/_base.py\u001b[0m in \u001b[0;36mresult\u001b[0;34m(self, timeout)\u001b[0m\n\u001b[1;32m    449\u001b[0m                     \u001b[0;32mraise\u001b[0m \u001b[0mCancelledError\u001b[0m\u001b[0;34m(\u001b[0m\u001b[0;34m)\u001b[0m\u001b[0;34m\u001b[0m\u001b[0;34m\u001b[0m\u001b[0m\n\u001b[1;32m    450\u001b[0m                 \u001b[0;32melif\u001b[0m \u001b[0mself\u001b[0m\u001b[0;34m.\u001b[0m\u001b[0m_state\u001b[0m \u001b[0;34m==\u001b[0m \u001b[0mFINISHED\u001b[0m\u001b[0;34m:\u001b[0m\u001b[0;34m\u001b[0m\u001b[0;34m\u001b[0m\u001b[0m\n\u001b[0;32m--> 451\u001b[0;31m                     \u001b[0;32mreturn\u001b[0m \u001b[0mself\u001b[0m\u001b[0;34m.\u001b[0m\u001b[0m__get_result\u001b[0m\u001b[0;34m(\u001b[0m\u001b[0;34m)\u001b[0m\u001b[0;34m\u001b[0m\u001b[0;34m\u001b[0m\u001b[0m\n\u001b[0m\u001b[1;32m    452\u001b[0m \u001b[0;34m\u001b[0m\u001b[0m\n\u001b[1;32m    453\u001b[0m                 \u001b[0mself\u001b[0m\u001b[0;34m.\u001b[0m\u001b[0m_condition\u001b[0m\u001b[0;34m.\u001b[0m\u001b[0mwait\u001b[0m\u001b[0;34m(\u001b[0m\u001b[0mtimeout\u001b[0m\u001b[0;34m)\u001b[0m\u001b[0;34m\u001b[0m\u001b[0;34m\u001b[0m\u001b[0m\n",
            "\u001b[0;32m/usr/lib/python3.10/concurrent/futures/_base.py\u001b[0m in \u001b[0;36m__get_result\u001b[0;34m(self)\u001b[0m\n\u001b[1;32m    401\u001b[0m         \u001b[0;32mif\u001b[0m \u001b[0mself\u001b[0m\u001b[0;34m.\u001b[0m\u001b[0m_exception\u001b[0m\u001b[0;34m:\u001b[0m\u001b[0;34m\u001b[0m\u001b[0;34m\u001b[0m\u001b[0m\n\u001b[1;32m    402\u001b[0m             \u001b[0;32mtry\u001b[0m\u001b[0;34m:\u001b[0m\u001b[0;34m\u001b[0m\u001b[0;34m\u001b[0m\u001b[0m\n\u001b[0;32m--> 403\u001b[0;31m                 \u001b[0;32mraise\u001b[0m \u001b[0mself\u001b[0m\u001b[0;34m.\u001b[0m\u001b[0m_exception\u001b[0m\u001b[0;34m\u001b[0m\u001b[0;34m\u001b[0m\u001b[0m\n\u001b[0m\u001b[1;32m    404\u001b[0m             \u001b[0;32mfinally\u001b[0m\u001b[0;34m:\u001b[0m\u001b[0;34m\u001b[0m\u001b[0;34m\u001b[0m\u001b[0m\n\u001b[1;32m    405\u001b[0m                 \u001b[0;31m# Break a reference cycle with the exception in self._exception\u001b[0m\u001b[0;34m\u001b[0m\u001b[0;34m\u001b[0m\u001b[0m\n",
            "\u001b[0;32m/usr/local/lib/python3.10/dist-packages/tenacity/__init__.py\u001b[0m in \u001b[0;36m__call__\u001b[0;34m(self, fn, *args, **kwargs)\u001b[0m\n\u001b[1;32m    380\u001b[0m             \u001b[0;32mif\u001b[0m \u001b[0misinstance\u001b[0m\u001b[0;34m(\u001b[0m\u001b[0mdo\u001b[0m\u001b[0;34m,\u001b[0m \u001b[0mDoAttempt\u001b[0m\u001b[0;34m)\u001b[0m\u001b[0;34m:\u001b[0m\u001b[0;34m\u001b[0m\u001b[0;34m\u001b[0m\u001b[0m\n\u001b[1;32m    381\u001b[0m                 \u001b[0;32mtry\u001b[0m\u001b[0;34m:\u001b[0m\u001b[0;34m\u001b[0m\u001b[0;34m\u001b[0m\u001b[0m\n\u001b[0;32m--> 382\u001b[0;31m                     \u001b[0mresult\u001b[0m \u001b[0;34m=\u001b[0m \u001b[0mfn\u001b[0m\u001b[0;34m(\u001b[0m\u001b[0;34m*\u001b[0m\u001b[0margs\u001b[0m\u001b[0;34m,\u001b[0m \u001b[0;34m**\u001b[0m\u001b[0mkwargs\u001b[0m\u001b[0;34m)\u001b[0m\u001b[0;34m\u001b[0m\u001b[0;34m\u001b[0m\u001b[0m\n\u001b[0m\u001b[1;32m    383\u001b[0m                 \u001b[0;32mexcept\u001b[0m \u001b[0mBaseException\u001b[0m\u001b[0;34m:\u001b[0m  \u001b[0;31m# noqa: B902\u001b[0m\u001b[0;34m\u001b[0m\u001b[0;34m\u001b[0m\u001b[0m\n\u001b[1;32m    384\u001b[0m                     \u001b[0mretry_state\u001b[0m\u001b[0;34m.\u001b[0m\u001b[0mset_exception\u001b[0m\u001b[0;34m(\u001b[0m\u001b[0msys\u001b[0m\u001b[0;34m.\u001b[0m\u001b[0mexc_info\u001b[0m\u001b[0;34m(\u001b[0m\u001b[0;34m)\u001b[0m\u001b[0;34m)\u001b[0m  \u001b[0;31m# type: ignore[arg-type]\u001b[0m\u001b[0;34m\u001b[0m\u001b[0;34m\u001b[0m\u001b[0m\n",
            "\u001b[0;32m/usr/local/lib/python3.10/dist-packages/langchain/embeddings/openai.py\u001b[0m in \u001b[0;36m_embed_with_retry\u001b[0;34m(**kwargs)\u001b[0m\n\u001b[1;32m    102\u001b[0m     \u001b[0;34m@\u001b[0m\u001b[0mretry_decorator\u001b[0m\u001b[0;34m\u001b[0m\u001b[0;34m\u001b[0m\u001b[0m\n\u001b[1;32m    103\u001b[0m     \u001b[0;32mdef\u001b[0m \u001b[0m_embed_with_retry\u001b[0m\u001b[0;34m(\u001b[0m\u001b[0;34m**\u001b[0m\u001b[0mkwargs\u001b[0m\u001b[0;34m:\u001b[0m \u001b[0mAny\u001b[0m\u001b[0;34m)\u001b[0m \u001b[0;34m->\u001b[0m \u001b[0mAny\u001b[0m\u001b[0;34m:\u001b[0m\u001b[0;34m\u001b[0m\u001b[0;34m\u001b[0m\u001b[0m\n\u001b[0;32m--> 104\u001b[0;31m         \u001b[0mresponse\u001b[0m \u001b[0;34m=\u001b[0m \u001b[0membeddings\u001b[0m\u001b[0;34m.\u001b[0m\u001b[0mclient\u001b[0m\u001b[0;34m.\u001b[0m\u001b[0mcreate\u001b[0m\u001b[0;34m(\u001b[0m\u001b[0;34m**\u001b[0m\u001b[0mkwargs\u001b[0m\u001b[0;34m)\u001b[0m\u001b[0;34m\u001b[0m\u001b[0;34m\u001b[0m\u001b[0m\n\u001b[0m\u001b[1;32m    105\u001b[0m         \u001b[0;32mreturn\u001b[0m \u001b[0m_check_response\u001b[0m\u001b[0;34m(\u001b[0m\u001b[0mresponse\u001b[0m\u001b[0;34m,\u001b[0m \u001b[0mskip_empty\u001b[0m\u001b[0;34m=\u001b[0m\u001b[0membeddings\u001b[0m\u001b[0;34m.\u001b[0m\u001b[0mskip_empty\u001b[0m\u001b[0;34m)\u001b[0m\u001b[0;34m\u001b[0m\u001b[0;34m\u001b[0m\u001b[0m\n\u001b[1;32m    106\u001b[0m \u001b[0;34m\u001b[0m\u001b[0m\n",
            "\u001b[0;32m/usr/local/lib/python3.10/dist-packages/openai/api_resources/embedding.py\u001b[0m in \u001b[0;36mcreate\u001b[0;34m(cls, *args, **kwargs)\u001b[0m\n\u001b[1;32m     31\u001b[0m         \u001b[0;32mwhile\u001b[0m \u001b[0;32mTrue\u001b[0m\u001b[0;34m:\u001b[0m\u001b[0;34m\u001b[0m\u001b[0;34m\u001b[0m\u001b[0m\n\u001b[1;32m     32\u001b[0m             \u001b[0;32mtry\u001b[0m\u001b[0;34m:\u001b[0m\u001b[0;34m\u001b[0m\u001b[0;34m\u001b[0m\u001b[0m\n\u001b[0;32m---> 33\u001b[0;31m                 \u001b[0mresponse\u001b[0m \u001b[0;34m=\u001b[0m \u001b[0msuper\u001b[0m\u001b[0;34m(\u001b[0m\u001b[0;34m)\u001b[0m\u001b[0;34m.\u001b[0m\u001b[0mcreate\u001b[0m\u001b[0;34m(\u001b[0m\u001b[0;34m*\u001b[0m\u001b[0margs\u001b[0m\u001b[0;34m,\u001b[0m \u001b[0;34m**\u001b[0m\u001b[0mkwargs\u001b[0m\u001b[0;34m)\u001b[0m\u001b[0;34m\u001b[0m\u001b[0;34m\u001b[0m\u001b[0m\n\u001b[0m\u001b[1;32m     34\u001b[0m \u001b[0;34m\u001b[0m\u001b[0m\n\u001b[1;32m     35\u001b[0m                 \u001b[0;31m# If a user specifies base64, we'll just return the encoded string.\u001b[0m\u001b[0;34m\u001b[0m\u001b[0;34m\u001b[0m\u001b[0m\n",
            "\u001b[0;32m/usr/local/lib/python3.10/dist-packages/openai/api_resources/abstract/engine_api_resource.py\u001b[0m in \u001b[0;36mcreate\u001b[0;34m(cls, api_key, api_base, api_type, request_id, api_version, organization, **params)\u001b[0m\n\u001b[1;32m    153\u001b[0m         )\n\u001b[1;32m    154\u001b[0m \u001b[0;34m\u001b[0m\u001b[0m\n\u001b[0;32m--> 155\u001b[0;31m         response, _, api_key = requestor.request(\n\u001b[0m\u001b[1;32m    156\u001b[0m             \u001b[0;34m\"post\"\u001b[0m\u001b[0;34m,\u001b[0m\u001b[0;34m\u001b[0m\u001b[0;34m\u001b[0m\u001b[0m\n\u001b[1;32m    157\u001b[0m             \u001b[0murl\u001b[0m\u001b[0;34m,\u001b[0m\u001b[0;34m\u001b[0m\u001b[0;34m\u001b[0m\u001b[0m\n",
            "\u001b[0;32m/usr/local/lib/python3.10/dist-packages/openai/api_requestor.py\u001b[0m in \u001b[0;36mrequest\u001b[0;34m(self, method, url, params, headers, files, stream, request_id, request_timeout)\u001b[0m\n\u001b[1;32m    297\u001b[0m             \u001b[0mrequest_timeout\u001b[0m\u001b[0;34m=\u001b[0m\u001b[0mrequest_timeout\u001b[0m\u001b[0;34m,\u001b[0m\u001b[0;34m\u001b[0m\u001b[0;34m\u001b[0m\u001b[0m\n\u001b[1;32m    298\u001b[0m         )\n\u001b[0;32m--> 299\u001b[0;31m         \u001b[0mresp\u001b[0m\u001b[0;34m,\u001b[0m \u001b[0mgot_stream\u001b[0m \u001b[0;34m=\u001b[0m \u001b[0mself\u001b[0m\u001b[0;34m.\u001b[0m\u001b[0m_interpret_response\u001b[0m\u001b[0;34m(\u001b[0m\u001b[0mresult\u001b[0m\u001b[0;34m,\u001b[0m \u001b[0mstream\u001b[0m\u001b[0;34m)\u001b[0m\u001b[0;34m\u001b[0m\u001b[0;34m\u001b[0m\u001b[0m\n\u001b[0m\u001b[1;32m    300\u001b[0m         \u001b[0;32mreturn\u001b[0m \u001b[0mresp\u001b[0m\u001b[0;34m,\u001b[0m \u001b[0mgot_stream\u001b[0m\u001b[0;34m,\u001b[0m \u001b[0mself\u001b[0m\u001b[0;34m.\u001b[0m\u001b[0mapi_key\u001b[0m\u001b[0;34m\u001b[0m\u001b[0;34m\u001b[0m\u001b[0m\n\u001b[1;32m    301\u001b[0m \u001b[0;34m\u001b[0m\u001b[0m\n",
            "\u001b[0;32m/usr/local/lib/python3.10/dist-packages/openai/api_requestor.py\u001b[0m in \u001b[0;36m_interpret_response\u001b[0;34m(self, result, stream)\u001b[0m\n\u001b[1;32m    708\u001b[0m         \u001b[0;32melse\u001b[0m\u001b[0;34m:\u001b[0m\u001b[0;34m\u001b[0m\u001b[0;34m\u001b[0m\u001b[0m\n\u001b[1;32m    709\u001b[0m             return (\n\u001b[0;32m--> 710\u001b[0;31m                 self._interpret_response_line(\n\u001b[0m\u001b[1;32m    711\u001b[0m                     \u001b[0mresult\u001b[0m\u001b[0;34m.\u001b[0m\u001b[0mcontent\u001b[0m\u001b[0;34m.\u001b[0m\u001b[0mdecode\u001b[0m\u001b[0;34m(\u001b[0m\u001b[0;34m\"utf-8\"\u001b[0m\u001b[0;34m)\u001b[0m\u001b[0;34m,\u001b[0m\u001b[0;34m\u001b[0m\u001b[0;34m\u001b[0m\u001b[0m\n\u001b[1;32m    712\u001b[0m                     \u001b[0mresult\u001b[0m\u001b[0;34m.\u001b[0m\u001b[0mstatus_code\u001b[0m\u001b[0;34m,\u001b[0m\u001b[0;34m\u001b[0m\u001b[0;34m\u001b[0m\u001b[0m\n",
            "\u001b[0;32m/usr/local/lib/python3.10/dist-packages/openai/api_requestor.py\u001b[0m in \u001b[0;36m_interpret_response_line\u001b[0;34m(self, rbody, rcode, rheaders, stream)\u001b[0m\n\u001b[1;32m    773\u001b[0m         \u001b[0mstream_error\u001b[0m \u001b[0;34m=\u001b[0m \u001b[0mstream\u001b[0m \u001b[0;32mand\u001b[0m \u001b[0;34m\"error\"\u001b[0m \u001b[0;32min\u001b[0m \u001b[0mresp\u001b[0m\u001b[0;34m.\u001b[0m\u001b[0mdata\u001b[0m\u001b[0;34m\u001b[0m\u001b[0;34m\u001b[0m\u001b[0m\n\u001b[1;32m    774\u001b[0m         \u001b[0;32mif\u001b[0m \u001b[0mstream_error\u001b[0m \u001b[0;32mor\u001b[0m \u001b[0;32mnot\u001b[0m \u001b[0;36m200\u001b[0m \u001b[0;34m<=\u001b[0m \u001b[0mrcode\u001b[0m \u001b[0;34m<\u001b[0m \u001b[0;36m300\u001b[0m\u001b[0;34m:\u001b[0m\u001b[0;34m\u001b[0m\u001b[0;34m\u001b[0m\u001b[0m\n\u001b[0;32m--> 775\u001b[0;31m             raise self.handle_error_response(\n\u001b[0m\u001b[1;32m    776\u001b[0m                 \u001b[0mrbody\u001b[0m\u001b[0;34m,\u001b[0m \u001b[0mrcode\u001b[0m\u001b[0;34m,\u001b[0m \u001b[0mresp\u001b[0m\u001b[0;34m.\u001b[0m\u001b[0mdata\u001b[0m\u001b[0;34m,\u001b[0m \u001b[0mrheaders\u001b[0m\u001b[0;34m,\u001b[0m \u001b[0mstream_error\u001b[0m\u001b[0;34m=\u001b[0m\u001b[0mstream_error\u001b[0m\u001b[0;34m\u001b[0m\u001b[0;34m\u001b[0m\u001b[0m\n\u001b[1;32m    777\u001b[0m             )\n",
            "\u001b[0;31mRateLimitError\u001b[0m: You exceeded your current quota, please check your plan and billing details."
          ]
        }
      ]
    },
    {
      "cell_type": "code",
      "source": [
        "import tensorflow as tf\n",
        "print(\"Num GPUs Available: \", len(tf.config.list_physical_devices('GPU')))"
      ],
      "metadata": {
        "colab": {
          "base_uri": "https://localhost:8080/"
        },
        "id": "TeR6W2oBeasU",
        "outputId": "5636a520-b62f-4e67-88f6-3b69b5350d3c"
      },
      "execution_count": 4,
      "outputs": [
        {
          "output_type": "stream",
          "name": "stdout",
          "text": [
            "Num GPUs Available:  1\n"
          ]
        }
      ]
    },
    {
      "cell_type": "code",
      "source": [
        "gpus = tf.config.list_physical_devices('GPU')\n",
        "if gpus:\n",
        "  # Create 2 virtual GPUs with 1GB memory each\n",
        "  try:\n",
        "    tf.config.set_logical_device_configuration(\n",
        "        gpus[0],\n",
        "        [tf.config.LogicalDeviceConfiguration(memory_limit=1024),\n",
        "         tf.config.LogicalDeviceConfiguration(memory_limit=1024)])\n",
        "    logical_gpus = tf.config.list_logical_devices('GPU')\n",
        "    print(len(gpus), \"Physical GPU,\", len(logical_gpus), \"Logical GPUs\")\n",
        "  except RuntimeError as e:\n",
        "    # Virtual devices must be set before GPUs have been initialized\n",
        "    print(e)"
      ],
      "metadata": {
        "colab": {
          "base_uri": "https://localhost:8080/"
        },
        "id": "D9n2JPgseR2V",
        "outputId": "0559fce5-8385-4bba-f296-c7e8d5a686c5"
      },
      "execution_count": 5,
      "outputs": [
        {
          "output_type": "stream",
          "name": "stdout",
          "text": [
            "1 Physical GPU, 2 Logical GPUs\n"
          ]
        }
      ]
    },
    {
      "cell_type": "code",
      "source": [
        "!pip install transformers accelerate einops langchain xformers bitsandbytes chromadb sentence_transformers"
      ],
      "metadata": {
        "id": "Td8osuMNvGLC",
        "colab": {
          "base_uri": "https://localhost:8080/"
        },
        "outputId": "0e96cb77-4450-46cb-997c-3429655b4d18"
      },
      "execution_count": 6,
      "outputs": [
        {
          "output_type": "stream",
          "name": "stdout",
          "text": [
            "Requirement already satisfied: transformers in /usr/local/lib/python3.10/dist-packages (4.34.1)\n",
            "Requirement already satisfied: accelerate in /usr/local/lib/python3.10/dist-packages (0.24.0)\n",
            "Requirement already satisfied: einops in /usr/local/lib/python3.10/dist-packages (0.7.0)\n",
            "Requirement already satisfied: langchain in /usr/local/lib/python3.10/dist-packages (0.0.325)\n",
            "Requirement already satisfied: xformers in /usr/local/lib/python3.10/dist-packages (0.0.22.post7)\n",
            "Requirement already satisfied: bitsandbytes in /usr/local/lib/python3.10/dist-packages (0.41.1)\n",
            "Requirement already satisfied: chromadb in /usr/local/lib/python3.10/dist-packages (0.4.15)\n",
            "Requirement already satisfied: sentence_transformers in /usr/local/lib/python3.10/dist-packages (2.2.2)\n",
            "Requirement already satisfied: filelock in /usr/local/lib/python3.10/dist-packages (from transformers) (3.12.4)\n",
            "Requirement already satisfied: huggingface-hub<1.0,>=0.16.4 in /usr/local/lib/python3.10/dist-packages (from transformers) (0.17.3)\n",
            "Requirement already satisfied: numpy>=1.17 in /usr/local/lib/python3.10/dist-packages (from transformers) (1.23.5)\n",
            "Requirement already satisfied: packaging>=20.0 in /usr/local/lib/python3.10/dist-packages (from transformers) (23.2)\n",
            "Requirement already satisfied: pyyaml>=5.1 in /usr/local/lib/python3.10/dist-packages (from transformers) (6.0.1)\n",
            "Requirement already satisfied: regex!=2019.12.17 in /usr/local/lib/python3.10/dist-packages (from transformers) (2023.6.3)\n",
            "Requirement already satisfied: requests in /usr/local/lib/python3.10/dist-packages (from transformers) (2.31.0)\n",
            "Requirement already satisfied: tokenizers<0.15,>=0.14 in /usr/local/lib/python3.10/dist-packages (from transformers) (0.14.1)\n",
            "Requirement already satisfied: safetensors>=0.3.1 in /usr/local/lib/python3.10/dist-packages (from transformers) (0.4.0)\n",
            "Requirement already satisfied: tqdm>=4.27 in /usr/local/lib/python3.10/dist-packages (from transformers) (4.66.1)\n",
            "Requirement already satisfied: psutil in /usr/local/lib/python3.10/dist-packages (from accelerate) (5.9.5)\n",
            "Requirement already satisfied: torch>=1.10.0 in /usr/local/lib/python3.10/dist-packages (from accelerate) (2.1.0+cu118)\n",
            "Requirement already satisfied: SQLAlchemy<3,>=1.4 in /usr/local/lib/python3.10/dist-packages (from langchain) (2.0.22)\n",
            "Requirement already satisfied: aiohttp<4.0.0,>=3.8.3 in /usr/local/lib/python3.10/dist-packages (from langchain) (3.8.6)\n",
            "Requirement already satisfied: anyio<4.0 in /usr/local/lib/python3.10/dist-packages (from langchain) (3.7.1)\n",
            "Requirement already satisfied: async-timeout<5.0.0,>=4.0.0 in /usr/local/lib/python3.10/dist-packages (from langchain) (4.0.3)\n",
            "Requirement already satisfied: dataclasses-json<0.7,>=0.5.7 in /usr/local/lib/python3.10/dist-packages (from langchain) (0.6.1)\n",
            "Requirement already satisfied: jsonpatch<2.0,>=1.33 in /usr/local/lib/python3.10/dist-packages (from langchain) (1.33)\n",
            "Requirement already satisfied: langsmith<0.1.0,>=0.0.52 in /usr/local/lib/python3.10/dist-packages (from langchain) (0.0.53)\n",
            "Requirement already satisfied: pydantic<3,>=1 in /usr/local/lib/python3.10/dist-packages (from langchain) (1.10.13)\n",
            "Requirement already satisfied: tenacity<9.0.0,>=8.1.0 in /usr/local/lib/python3.10/dist-packages (from langchain) (8.2.3)\n",
            "Requirement already satisfied: typing-extensions in /usr/local/lib/python3.10/dist-packages (from torch>=1.10.0->accelerate) (4.8.0)\n",
            "Requirement already satisfied: sympy in /usr/local/lib/python3.10/dist-packages (from torch>=1.10.0->accelerate) (1.12)\n",
            "Requirement already satisfied: networkx in /usr/local/lib/python3.10/dist-packages (from torch>=1.10.0->accelerate) (3.2)\n",
            "Requirement already satisfied: jinja2 in /usr/local/lib/python3.10/dist-packages (from torch>=1.10.0->accelerate) (3.1.2)\n",
            "Requirement already satisfied: fsspec in /usr/local/lib/python3.10/dist-packages (from torch>=1.10.0->accelerate) (2023.6.0)\n",
            "Requirement already satisfied: triton==2.1.0 in /usr/local/lib/python3.10/dist-packages (from torch>=1.10.0->accelerate) (2.1.0)\n",
            "Requirement already satisfied: chroma-hnswlib==0.7.3 in /usr/local/lib/python3.10/dist-packages (from chromadb) (0.7.3)\n",
            "Requirement already satisfied: fastapi>=0.95.2 in /usr/local/lib/python3.10/dist-packages (from chromadb) (0.104.0)\n",
            "Requirement already satisfied: uvicorn[standard]>=0.18.3 in /usr/local/lib/python3.10/dist-packages (from chromadb) (0.23.2)\n",
            "Requirement already satisfied: posthog>=2.4.0 in /usr/local/lib/python3.10/dist-packages (from chromadb) (3.0.2)\n",
            "Requirement already satisfied: pulsar-client>=3.1.0 in /usr/local/lib/python3.10/dist-packages (from chromadb) (3.3.0)\n",
            "Requirement already satisfied: onnxruntime>=1.14.1 in /usr/local/lib/python3.10/dist-packages (from chromadb) (1.16.1)\n",
            "Requirement already satisfied: opentelemetry-api>=1.2.0 in /usr/local/lib/python3.10/dist-packages (from chromadb) (1.20.0)\n",
            "Requirement already satisfied: opentelemetry-exporter-otlp-proto-grpc>=1.2.0 in /usr/local/lib/python3.10/dist-packages (from chromadb) (1.20.0)\n",
            "Requirement already satisfied: opentelemetry-sdk>=1.2.0 in /usr/local/lib/python3.10/dist-packages (from chromadb) (1.20.0)\n",
            "Requirement already satisfied: pypika>=0.48.9 in /usr/local/lib/python3.10/dist-packages (from chromadb) (0.48.9)\n",
            "Requirement already satisfied: overrides>=7.3.1 in /usr/local/lib/python3.10/dist-packages (from chromadb) (7.4.0)\n",
            "Requirement already satisfied: importlib-resources in /usr/local/lib/python3.10/dist-packages (from chromadb) (6.1.0)\n",
            "Requirement already satisfied: grpcio>=1.58.0 in /usr/local/lib/python3.10/dist-packages (from chromadb) (1.59.0)\n",
            "Requirement already satisfied: bcrypt>=4.0.1 in /usr/local/lib/python3.10/dist-packages (from chromadb) (4.0.1)\n",
            "Requirement already satisfied: typer>=0.9.0 in /usr/local/lib/python3.10/dist-packages (from chromadb) (0.9.0)\n",
            "Requirement already satisfied: kubernetes>=28.1.0 in /usr/local/lib/python3.10/dist-packages (from chromadb) (28.1.0)\n",
            "Requirement already satisfied: torchvision in /usr/local/lib/python3.10/dist-packages (from sentence_transformers) (0.16.0+cu118)\n",
            "Requirement already satisfied: scikit-learn in /usr/local/lib/python3.10/dist-packages (from sentence_transformers) (1.2.2)\n",
            "Requirement already satisfied: scipy in /usr/local/lib/python3.10/dist-packages (from sentence_transformers) (1.11.3)\n",
            "Requirement already satisfied: nltk in /usr/local/lib/python3.10/dist-packages (from sentence_transformers) (3.8.1)\n",
            "Requirement already satisfied: sentencepiece in /usr/local/lib/python3.10/dist-packages (from sentence_transformers) (0.1.99)\n",
            "Requirement already satisfied: attrs>=17.3.0 in /usr/local/lib/python3.10/dist-packages (from aiohttp<4.0.0,>=3.8.3->langchain) (23.1.0)\n",
            "Requirement already satisfied: charset-normalizer<4.0,>=2.0 in /usr/local/lib/python3.10/dist-packages (from aiohttp<4.0.0,>=3.8.3->langchain) (3.3.1)\n",
            "Requirement already satisfied: multidict<7.0,>=4.5 in /usr/local/lib/python3.10/dist-packages (from aiohttp<4.0.0,>=3.8.3->langchain) (6.0.4)\n",
            "Requirement already satisfied: yarl<2.0,>=1.0 in /usr/local/lib/python3.10/dist-packages (from aiohttp<4.0.0,>=3.8.3->langchain) (1.9.2)\n",
            "Requirement already satisfied: frozenlist>=1.1.1 in /usr/local/lib/python3.10/dist-packages (from aiohttp<4.0.0,>=3.8.3->langchain) (1.4.0)\n",
            "Requirement already satisfied: aiosignal>=1.1.2 in /usr/local/lib/python3.10/dist-packages (from aiohttp<4.0.0,>=3.8.3->langchain) (1.3.1)\n",
            "Requirement already satisfied: idna>=2.8 in /usr/local/lib/python3.10/dist-packages (from anyio<4.0->langchain) (3.4)\n",
            "Requirement already satisfied: sniffio>=1.1 in /usr/local/lib/python3.10/dist-packages (from anyio<4.0->langchain) (1.3.0)\n",
            "Requirement already satisfied: exceptiongroup in /usr/local/lib/python3.10/dist-packages (from anyio<4.0->langchain) (1.1.3)\n",
            "Requirement already satisfied: marshmallow<4.0.0,>=3.18.0 in /usr/local/lib/python3.10/dist-packages (from dataclasses-json<0.7,>=0.5.7->langchain) (3.20.1)\n",
            "Requirement already satisfied: typing-inspect<1,>=0.4.0 in /usr/local/lib/python3.10/dist-packages (from dataclasses-json<0.7,>=0.5.7->langchain) (0.9.0)\n",
            "Requirement already satisfied: starlette<0.28.0,>=0.27.0 in /usr/local/lib/python3.10/dist-packages (from fastapi>=0.95.2->chromadb) (0.27.0)\n",
            "Requirement already satisfied: jsonpointer>=1.9 in /usr/local/lib/python3.10/dist-packages (from jsonpatch<2.0,>=1.33->langchain) (2.4)\n",
            "Requirement already satisfied: certifi>=14.05.14 in /usr/local/lib/python3.10/dist-packages (from kubernetes>=28.1.0->chromadb) (2023.7.22)\n",
            "Requirement already satisfied: six>=1.9.0 in /usr/local/lib/python3.10/dist-packages (from kubernetes>=28.1.0->chromadb) (1.16.0)\n",
            "Requirement already satisfied: python-dateutil>=2.5.3 in /usr/local/lib/python3.10/dist-packages (from kubernetes>=28.1.0->chromadb) (2.8.2)\n",
            "Requirement already satisfied: google-auth>=1.0.1 in /usr/local/lib/python3.10/dist-packages (from kubernetes>=28.1.0->chromadb) (2.17.3)\n",
            "Requirement already satisfied: websocket-client!=0.40.0,!=0.41.*,!=0.42.*,>=0.32.0 in /usr/local/lib/python3.10/dist-packages (from kubernetes>=28.1.0->chromadb) (1.6.4)\n",
            "Requirement already satisfied: requests-oauthlib in /usr/local/lib/python3.10/dist-packages (from kubernetes>=28.1.0->chromadb) (1.3.1)\n",
            "Requirement already satisfied: oauthlib>=3.2.2 in /usr/local/lib/python3.10/dist-packages (from kubernetes>=28.1.0->chromadb) (3.2.2)\n",
            "Requirement already satisfied: urllib3<2.0,>=1.24.2 in /usr/local/lib/python3.10/dist-packages (from kubernetes>=28.1.0->chromadb) (1.26.18)\n",
            "Requirement already satisfied: coloredlogs in /usr/local/lib/python3.10/dist-packages (from onnxruntime>=1.14.1->chromadb) (15.0.1)\n",
            "Requirement already satisfied: flatbuffers in /usr/local/lib/python3.10/dist-packages (from onnxruntime>=1.14.1->chromadb) (23.5.26)\n",
            "Requirement already satisfied: protobuf in /usr/local/lib/python3.10/dist-packages (from onnxruntime>=1.14.1->chromadb) (3.20.3)\n",
            "Requirement already satisfied: deprecated>=1.2.6 in /usr/local/lib/python3.10/dist-packages (from opentelemetry-api>=1.2.0->chromadb) (1.2.14)\n",
            "Requirement already satisfied: importlib-metadata<7.0,>=6.0 in /usr/local/lib/python3.10/dist-packages (from opentelemetry-api>=1.2.0->chromadb) (6.8.0)\n",
            "Requirement already satisfied: backoff<3.0.0,>=1.10.0 in /usr/local/lib/python3.10/dist-packages (from opentelemetry-exporter-otlp-proto-grpc>=1.2.0->chromadb) (2.2.1)\n",
            "Requirement already satisfied: googleapis-common-protos~=1.52 in /usr/local/lib/python3.10/dist-packages (from opentelemetry-exporter-otlp-proto-grpc>=1.2.0->chromadb) (1.61.0)\n",
            "Requirement already satisfied: opentelemetry-exporter-otlp-proto-common==1.20.0 in /usr/local/lib/python3.10/dist-packages (from opentelemetry-exporter-otlp-proto-grpc>=1.2.0->chromadb) (1.20.0)\n",
            "Requirement already satisfied: opentelemetry-proto==1.20.0 in /usr/local/lib/python3.10/dist-packages (from opentelemetry-exporter-otlp-proto-grpc>=1.2.0->chromadb) (1.20.0)\n",
            "Requirement already satisfied: opentelemetry-semantic-conventions==0.41b0 in /usr/local/lib/python3.10/dist-packages (from opentelemetry-sdk>=1.2.0->chromadb) (0.41b0)\n",
            "Requirement already satisfied: monotonic>=1.5 in /usr/local/lib/python3.10/dist-packages (from posthog>=2.4.0->chromadb) (1.6)\n",
            "Requirement already satisfied: greenlet!=0.4.17 in /usr/local/lib/python3.10/dist-packages (from SQLAlchemy<3,>=1.4->langchain) (3.0.0)\n",
            "Requirement already satisfied: click<9.0.0,>=7.1.1 in /usr/local/lib/python3.10/dist-packages (from typer>=0.9.0->chromadb) (8.1.7)\n",
            "Requirement already satisfied: h11>=0.8 in /usr/local/lib/python3.10/dist-packages (from uvicorn[standard]>=0.18.3->chromadb) (0.14.0)\n",
            "Requirement already satisfied: httptools>=0.5.0 in /usr/local/lib/python3.10/dist-packages (from uvicorn[standard]>=0.18.3->chromadb) (0.6.1)\n",
            "Requirement already satisfied: python-dotenv>=0.13 in /usr/local/lib/python3.10/dist-packages (from uvicorn[standard]>=0.18.3->chromadb) (1.0.0)\n",
            "Requirement already satisfied: uvloop!=0.15.0,!=0.15.1,>=0.14.0 in /usr/local/lib/python3.10/dist-packages (from uvicorn[standard]>=0.18.3->chromadb) (0.19.0)\n",
            "Requirement already satisfied: watchfiles>=0.13 in /usr/local/lib/python3.10/dist-packages (from uvicorn[standard]>=0.18.3->chromadb) (0.21.0)\n",
            "Requirement already satisfied: websockets>=10.4 in /usr/local/lib/python3.10/dist-packages (from uvicorn[standard]>=0.18.3->chromadb) (12.0)\n",
            "Requirement already satisfied: joblib in /usr/local/lib/python3.10/dist-packages (from nltk->sentence_transformers) (1.3.2)\n",
            "Requirement already satisfied: threadpoolctl>=2.0.0 in /usr/local/lib/python3.10/dist-packages (from scikit-learn->sentence_transformers) (3.2.0)\n",
            "Requirement already satisfied: pillow!=8.3.*,>=5.3.0 in /usr/local/lib/python3.10/dist-packages (from torchvision->sentence_transformers) (9.4.0)\n",
            "Requirement already satisfied: wrapt<2,>=1.10 in /usr/local/lib/python3.10/dist-packages (from deprecated>=1.2.6->opentelemetry-api>=1.2.0->chromadb) (1.14.1)\n",
            "Requirement already satisfied: cachetools<6.0,>=2.0.0 in /usr/local/lib/python3.10/dist-packages (from google-auth>=1.0.1->kubernetes>=28.1.0->chromadb) (5.3.2)\n",
            "Requirement already satisfied: pyasn1-modules>=0.2.1 in /usr/local/lib/python3.10/dist-packages (from google-auth>=1.0.1->kubernetes>=28.1.0->chromadb) (0.3.0)\n",
            "Requirement already satisfied: rsa<5,>=3.1.4 in /usr/local/lib/python3.10/dist-packages (from google-auth>=1.0.1->kubernetes>=28.1.0->chromadb) (4.9)\n",
            "Requirement already satisfied: zipp>=0.5 in /usr/local/lib/python3.10/dist-packages (from importlib-metadata<7.0,>=6.0->opentelemetry-api>=1.2.0->chromadb) (3.17.0)\n",
            "Requirement already satisfied: mypy-extensions>=0.3.0 in /usr/local/lib/python3.10/dist-packages (from typing-inspect<1,>=0.4.0->dataclasses-json<0.7,>=0.5.7->langchain) (1.0.0)\n",
            "Requirement already satisfied: humanfriendly>=9.1 in /usr/local/lib/python3.10/dist-packages (from coloredlogs->onnxruntime>=1.14.1->chromadb) (10.0)\n",
            "Requirement already satisfied: MarkupSafe>=2.0 in /usr/local/lib/python3.10/dist-packages (from jinja2->torch>=1.10.0->accelerate) (2.1.3)\n",
            "Requirement already satisfied: mpmath>=0.19 in /usr/local/lib/python3.10/dist-packages (from sympy->torch>=1.10.0->accelerate) (1.3.0)\n",
            "Requirement already satisfied: pyasn1<0.6.0,>=0.4.6 in /usr/local/lib/python3.10/dist-packages (from pyasn1-modules>=0.2.1->google-auth>=1.0.1->kubernetes>=28.1.0->chromadb) (0.5.0)\n"
          ]
        }
      ]
    },
    {
      "cell_type": "code",
      "source": [
        "# !pip install light-the-torch\n",
        "# !ltt install torch torchvision"
      ],
      "metadata": {
        "id": "pOgX6RdXQl1F"
      },
      "execution_count": null,
      "outputs": []
    },
    {
      "cell_type": "code",
      "source": [
        "! pip install pypdf"
      ],
      "metadata": {
        "colab": {
          "base_uri": "https://localhost:8080/"
        },
        "id": "8jOAGA4INgpn",
        "outputId": "03a19f7c-8782-4392-9fd7-bfacd3eca9ce"
      },
      "execution_count": 7,
      "outputs": [
        {
          "output_type": "stream",
          "name": "stdout",
          "text": [
            "Requirement already satisfied: pypdf in /usr/local/lib/python3.10/dist-packages (3.16.4)\n"
          ]
        }
      ]
    },
    {
      "cell_type": "code",
      "source": [
        "from google.colab import drive\n",
        "drive.mount('/content/drive')"
      ],
      "metadata": {
        "colab": {
          "base_uri": "https://localhost:8080/"
        },
        "id": "Pk3Kx0Pr-Dpm",
        "outputId": "96098169-a2dc-4cd4-f3c5-74458f9ff53a"
      },
      "execution_count": 8,
      "outputs": [
        {
          "output_type": "stream",
          "name": "stdout",
          "text": [
            "Drive already mounted at /content/drive; to attempt to forcibly remount, call drive.mount(\"/content/drive\", force_remount=True).\n"
          ]
        }
      ]
    },
    {
      "cell_type": "code",
      "source": [
        "from torch import cuda, bfloat16\n",
        "import torch\n",
        "import transformers\n",
        "from transformers import AutoTokenizer, GPTQConfig\n",
        "from time import time\n",
        "import chromadb\n",
        "from chromadb.config import Settings\n",
        "from langchain.llms import HuggingFacePipeline\n",
        "from langchain.document_loaders import TextLoader\n",
        "from langchain.text_splitter import RecursiveCharacterTextSplitter\n",
        "from langchain.embeddings import HuggingFaceEmbeddings\n",
        "from langchain.chains import RetrievalQA\n",
        "from langchain.vectorstores import Chroma\n",
        "from langchain.document_loaders.pdf import PDFPlumberLoader, PyPDFLoader"
      ],
      "metadata": {
        "id": "rTrTBrCRmyob"
      },
      "execution_count": 9,
      "outputs": []
    },
    {
      "cell_type": "code",
      "source": [
        "!huggingface-cli login"
      ],
      "metadata": {
        "colab": {
          "base_uri": "https://localhost:8080/"
        },
        "id": "3BnUIouaos1D",
        "outputId": "3203fc30-f616-4e23-9ece-41390ad0b8b7"
      },
      "execution_count": 10,
      "outputs": [
        {
          "output_type": "stream",
          "name": "stdout",
          "text": [
            "\n",
            "    _|    _|  _|    _|    _|_|_|    _|_|_|  _|_|_|  _|      _|    _|_|_|      _|_|_|_|    _|_|      _|_|_|  _|_|_|_|\n",
            "    _|    _|  _|    _|  _|        _|          _|    _|_|    _|  _|            _|        _|    _|  _|        _|\n",
            "    _|_|_|_|  _|    _|  _|  _|_|  _|  _|_|    _|    _|  _|  _|  _|  _|_|      _|_|_|    _|_|_|_|  _|        _|_|_|\n",
            "    _|    _|  _|    _|  _|    _|  _|    _|    _|    _|    _|_|  _|    _|      _|        _|    _|  _|        _|\n",
            "    _|    _|    _|_|      _|_|_|    _|_|_|  _|_|_|  _|      _|    _|_|_|      _|        _|    _|    _|_|_|  _|_|_|_|\n",
            "    \n",
            "    A token is already saved on your machine. Run `huggingface-cli whoami` to get more information or `huggingface-cli logout` if you want to log out.\n",
            "    Setting a new token will erase the existing one.\n",
            "    To login, `huggingface_hub` requires a token generated from https://huggingface.co/settings/tokens .\n",
            "Token: \n",
            "Add token as git credential? (Y/n) Y\n",
            "Token is valid (permission: read).\n",
            "\u001b[1m\u001b[31mCannot authenticate through git-credential as no helper is defined on your machine.\n",
            "You might have to re-authenticate when pushing to the Hugging Face Hub.\n",
            "Run the following command in your terminal in case you want to set the 'store' credential helper as default.\n",
            "\n",
            "git config --global credential.helper store\n",
            "\n",
            "Read https://git-scm.com/book/en/v2/Git-Tools-Credential-Storage for more details.\u001b[0m\n",
            "Token has not been saved to git credential helper.\n",
            "Your token has been saved to /root/.cache/huggingface/token\n",
            "Login successful\n"
          ]
        }
      ]
    },
    {
      "cell_type": "code",
      "source": [
        "model_id = 'meta-llama/Llama-2-7b-hf'\n",
        "\n",
        "device = f'cuda:{cuda.current_device()}' if cuda.is_available() else 'cpu'\n",
        "\n",
        "# set quantization configuration to load large model with less GPU memory\n",
        "# this requires the `bitsandbytes` library\n",
        "bnb_config = transformers.BitsAndBytesConfig(\n",
        "    load_in_4bit=True,\n",
        "    bnb_4bit_quant_type='nf4',\n",
        "    bnb_4bit_use_double_quant=True,\n",
        "    bnb_4bit_compute_dtype=bfloat16\n",
        ")"
      ],
      "metadata": {
        "id": "m0lfuz6fm3QM"
      },
      "execution_count": 11,
      "outputs": []
    },
    {
      "cell_type": "code",
      "source": [
        "\n",
        "time_1 = time()\n",
        "model_config = transformers.AutoConfig.from_pretrained(\n",
        "    model_id,\n",
        ")\n",
        "\n",
        "tokenizer = AutoTokenizer.from_pretrained(model_id)\n",
        "\n",
        "quantization = GPTQConfig(bits=4,dataset = \"c4\", tokenizer=tokenizer)\n",
        "\n",
        "model = transformers.AutoModelForCausalLM.from_pretrained(\n",
        "    model_id,\n",
        "    trust_remote_code=True,\n",
        "    config=model_config,\n",
        "    #quantization_config=quantization,\n",
        "    device_map='auto',\n",
        ")\n",
        "\n",
        "\n",
        "time_2 = time()\n",
        "print(f\"Prepare model, tokenizer: {round(time_2-time_1, 3)} sec.\")"
      ],
      "metadata": {
        "colab": {
          "base_uri": "https://localhost:8080/",
          "height": 67,
          "referenced_widgets": [
            "9c97951969794bc09e5d255160525627",
            "de144d953c9f472a80181313f1168ba1",
            "3ee71dd713e64877ae12ae9d691f5120",
            "344c41e1ee5049e481949bd923dd13b8",
            "6cdad00fcb424ae6ac9b0f8dd6d55231",
            "b5676d0288fb42baa22b1aa9699a1522",
            "e5a71ed897a8451da3dc858448b0c19c",
            "427898fa1c314d0f9424f3220bdf0d49",
            "b9e01ea697744e8ab8082ce47cfa3938",
            "f6e3381fa42143efb06a442456d22475",
            "2dbda4961a944347b75d12be9cdbb5c9"
          ]
        },
        "id": "RFJqTt_7m9H3",
        "outputId": "f22cf9b8-20ea-4177-a962-78ce7ae19680"
      },
      "execution_count": 13,
      "outputs": [
        {
          "output_type": "display_data",
          "data": {
            "text/plain": [
              "Loading checkpoint shards:   0%|          | 0/2 [00:00<?, ?it/s]"
            ],
            "application/vnd.jupyter.widget-view+json": {
              "version_major": 2,
              "version_minor": 0,
              "model_id": "9c97951969794bc09e5d255160525627"
            }
          },
          "metadata": {}
        },
        {
          "output_type": "stream",
          "name": "stdout",
          "text": [
            "Prepare model, tokenizer: 65.756 sec.\n"
          ]
        }
      ]
    },
    {
      "cell_type": "code",
      "source": [
        "time_1 = time()\n",
        "query_pipeline = transformers.pipeline(\n",
        "        \"text-generation\",\n",
        "        model=model,\n",
        "        tokenizer=tokenizer,\n",
        "        torch_dtype=torch.float16,\n",
        "        device_map=\"auto\",)\n",
        "time_2 = time()\n",
        "print(f\"Prepare pipeline: {round(time_2-time_1, 3)} sec.\")"
      ],
      "metadata": {
        "colab": {
          "base_uri": "https://localhost:8080/"
        },
        "id": "Wxn-qO4ZnAUO",
        "outputId": "5074e813-834b-4ff8-98c1-7330f31258c6"
      },
      "execution_count": 14,
      "outputs": [
        {
          "output_type": "stream",
          "name": "stdout",
          "text": [
            "Prepare pipeline: 2.701 sec.\n"
          ]
        }
      ]
    },
    {
      "cell_type": "code",
      "source": [
        "sample_prompts = [\"What is the most common application of machine learning for inventory maangement?\",\n",
        "                  \"What is the most common application of machine learning for demand forcasting in supply chain maangement?\"]\n",
        "\n",
        "for prompt in sample_prompts:\n",
        "\n",
        "    #vanilla OpenAI Response\n",
        "    response = openai.Completion.create(\n",
        "        engine=\"text-davinci-003\",\n",
        "        prompt=prompt,\n",
        "        max_tokens = 500)\n",
        "\n",
        "    # RAG Augmented Response\n",
        "    response_rag = medium_qa_chain({\"query\":prompt})"
      ],
      "metadata": {
        "colab": {
          "base_uri": "https://localhost:8080/",
          "height": 417
        },
        "id": "kvo54F7OnGym",
        "outputId": "ab07db6d-320d-4783-b2f1-21d04a132b7f"
      },
      "execution_count": 36,
      "outputs": [
        {
          "output_type": "error",
          "ename": "RateLimitError",
          "evalue": "ignored",
          "traceback": [
            "\u001b[0;31m---------------------------------------------------------------------------\u001b[0m",
            "\u001b[0;31mRateLimitError\u001b[0m                            Traceback (most recent call last)",
            "\u001b[0;32m<ipython-input-36-5598ab945e4c>\u001b[0m in \u001b[0;36m<cell line: 4>\u001b[0;34m()\u001b[0m\n\u001b[1;32m      5\u001b[0m \u001b[0;34m\u001b[0m\u001b[0m\n\u001b[1;32m      6\u001b[0m     \u001b[0;31m#vanilla OpenAI Response\u001b[0m\u001b[0;34m\u001b[0m\u001b[0;34m\u001b[0m\u001b[0m\n\u001b[0;32m----> 7\u001b[0;31m     response = openai.Completion.create(\n\u001b[0m\u001b[1;32m      8\u001b[0m         \u001b[0mengine\u001b[0m\u001b[0;34m=\u001b[0m\u001b[0;34m\"text-davinci-003\"\u001b[0m\u001b[0;34m,\u001b[0m\u001b[0;34m\u001b[0m\u001b[0;34m\u001b[0m\u001b[0m\n\u001b[1;32m      9\u001b[0m         \u001b[0mprompt\u001b[0m\u001b[0;34m=\u001b[0m\u001b[0mprompt\u001b[0m\u001b[0;34m,\u001b[0m\u001b[0;34m\u001b[0m\u001b[0;34m\u001b[0m\u001b[0m\n",
            "\u001b[0;32m/usr/local/lib/python3.10/dist-packages/openai/api_resources/completion.py\u001b[0m in \u001b[0;36mcreate\u001b[0;34m(cls, *args, **kwargs)\u001b[0m\n\u001b[1;32m     23\u001b[0m         \u001b[0;32mwhile\u001b[0m \u001b[0;32mTrue\u001b[0m\u001b[0;34m:\u001b[0m\u001b[0;34m\u001b[0m\u001b[0;34m\u001b[0m\u001b[0m\n\u001b[1;32m     24\u001b[0m             \u001b[0;32mtry\u001b[0m\u001b[0;34m:\u001b[0m\u001b[0;34m\u001b[0m\u001b[0;34m\u001b[0m\u001b[0m\n\u001b[0;32m---> 25\u001b[0;31m                 \u001b[0;32mreturn\u001b[0m \u001b[0msuper\u001b[0m\u001b[0;34m(\u001b[0m\u001b[0;34m)\u001b[0m\u001b[0;34m.\u001b[0m\u001b[0mcreate\u001b[0m\u001b[0;34m(\u001b[0m\u001b[0;34m*\u001b[0m\u001b[0margs\u001b[0m\u001b[0;34m,\u001b[0m \u001b[0;34m**\u001b[0m\u001b[0mkwargs\u001b[0m\u001b[0;34m)\u001b[0m\u001b[0;34m\u001b[0m\u001b[0;34m\u001b[0m\u001b[0m\n\u001b[0m\u001b[1;32m     26\u001b[0m             \u001b[0;32mexcept\u001b[0m \u001b[0mTryAgain\u001b[0m \u001b[0;32mas\u001b[0m \u001b[0me\u001b[0m\u001b[0;34m:\u001b[0m\u001b[0;34m\u001b[0m\u001b[0;34m\u001b[0m\u001b[0m\n\u001b[1;32m     27\u001b[0m                 \u001b[0;32mif\u001b[0m \u001b[0mtimeout\u001b[0m \u001b[0;32mis\u001b[0m \u001b[0;32mnot\u001b[0m \u001b[0;32mNone\u001b[0m \u001b[0;32mand\u001b[0m \u001b[0mtime\u001b[0m\u001b[0;34m.\u001b[0m\u001b[0mtime\u001b[0m\u001b[0;34m(\u001b[0m\u001b[0;34m)\u001b[0m \u001b[0;34m>\u001b[0m \u001b[0mstart\u001b[0m \u001b[0;34m+\u001b[0m \u001b[0mtimeout\u001b[0m\u001b[0;34m:\u001b[0m\u001b[0;34m\u001b[0m\u001b[0;34m\u001b[0m\u001b[0m\n",
            "\u001b[0;32m/usr/local/lib/python3.10/dist-packages/openai/api_resources/abstract/engine_api_resource.py\u001b[0m in \u001b[0;36mcreate\u001b[0;34m(cls, api_key, api_base, api_type, request_id, api_version, organization, **params)\u001b[0m\n\u001b[1;32m    153\u001b[0m         )\n\u001b[1;32m    154\u001b[0m \u001b[0;34m\u001b[0m\u001b[0m\n\u001b[0;32m--> 155\u001b[0;31m         response, _, api_key = requestor.request(\n\u001b[0m\u001b[1;32m    156\u001b[0m             \u001b[0;34m\"post\"\u001b[0m\u001b[0;34m,\u001b[0m\u001b[0;34m\u001b[0m\u001b[0;34m\u001b[0m\u001b[0m\n\u001b[1;32m    157\u001b[0m             \u001b[0murl\u001b[0m\u001b[0;34m,\u001b[0m\u001b[0;34m\u001b[0m\u001b[0;34m\u001b[0m\u001b[0m\n",
            "\u001b[0;32m/usr/local/lib/python3.10/dist-packages/openai/api_requestor.py\u001b[0m in \u001b[0;36mrequest\u001b[0;34m(self, method, url, params, headers, files, stream, request_id, request_timeout)\u001b[0m\n\u001b[1;32m    297\u001b[0m             \u001b[0mrequest_timeout\u001b[0m\u001b[0;34m=\u001b[0m\u001b[0mrequest_timeout\u001b[0m\u001b[0;34m,\u001b[0m\u001b[0;34m\u001b[0m\u001b[0;34m\u001b[0m\u001b[0m\n\u001b[1;32m    298\u001b[0m         )\n\u001b[0;32m--> 299\u001b[0;31m         \u001b[0mresp\u001b[0m\u001b[0;34m,\u001b[0m \u001b[0mgot_stream\u001b[0m \u001b[0;34m=\u001b[0m \u001b[0mself\u001b[0m\u001b[0;34m.\u001b[0m\u001b[0m_interpret_response\u001b[0m\u001b[0;34m(\u001b[0m\u001b[0mresult\u001b[0m\u001b[0;34m,\u001b[0m \u001b[0mstream\u001b[0m\u001b[0;34m)\u001b[0m\u001b[0;34m\u001b[0m\u001b[0;34m\u001b[0m\u001b[0m\n\u001b[0m\u001b[1;32m    300\u001b[0m         \u001b[0;32mreturn\u001b[0m \u001b[0mresp\u001b[0m\u001b[0;34m,\u001b[0m \u001b[0mgot_stream\u001b[0m\u001b[0;34m,\u001b[0m \u001b[0mself\u001b[0m\u001b[0;34m.\u001b[0m\u001b[0mapi_key\u001b[0m\u001b[0;34m\u001b[0m\u001b[0;34m\u001b[0m\u001b[0m\n\u001b[1;32m    301\u001b[0m \u001b[0;34m\u001b[0m\u001b[0m\n",
            "\u001b[0;32m/usr/local/lib/python3.10/dist-packages/openai/api_requestor.py\u001b[0m in \u001b[0;36m_interpret_response\u001b[0;34m(self, result, stream)\u001b[0m\n\u001b[1;32m    708\u001b[0m         \u001b[0;32melse\u001b[0m\u001b[0;34m:\u001b[0m\u001b[0;34m\u001b[0m\u001b[0;34m\u001b[0m\u001b[0m\n\u001b[1;32m    709\u001b[0m             return (\n\u001b[0;32m--> 710\u001b[0;31m                 self._interpret_response_line(\n\u001b[0m\u001b[1;32m    711\u001b[0m                     \u001b[0mresult\u001b[0m\u001b[0;34m.\u001b[0m\u001b[0mcontent\u001b[0m\u001b[0;34m.\u001b[0m\u001b[0mdecode\u001b[0m\u001b[0;34m(\u001b[0m\u001b[0;34m\"utf-8\"\u001b[0m\u001b[0;34m)\u001b[0m\u001b[0;34m,\u001b[0m\u001b[0;34m\u001b[0m\u001b[0;34m\u001b[0m\u001b[0m\n\u001b[1;32m    712\u001b[0m                     \u001b[0mresult\u001b[0m\u001b[0;34m.\u001b[0m\u001b[0mstatus_code\u001b[0m\u001b[0;34m,\u001b[0m\u001b[0;34m\u001b[0m\u001b[0;34m\u001b[0m\u001b[0m\n",
            "\u001b[0;32m/usr/local/lib/python3.10/dist-packages/openai/api_requestor.py\u001b[0m in \u001b[0;36m_interpret_response_line\u001b[0;34m(self, rbody, rcode, rheaders, stream)\u001b[0m\n\u001b[1;32m    773\u001b[0m         \u001b[0mstream_error\u001b[0m \u001b[0;34m=\u001b[0m \u001b[0mstream\u001b[0m \u001b[0;32mand\u001b[0m \u001b[0;34m\"error\"\u001b[0m \u001b[0;32min\u001b[0m \u001b[0mresp\u001b[0m\u001b[0;34m.\u001b[0m\u001b[0mdata\u001b[0m\u001b[0;34m\u001b[0m\u001b[0;34m\u001b[0m\u001b[0m\n\u001b[1;32m    774\u001b[0m         \u001b[0;32mif\u001b[0m \u001b[0mstream_error\u001b[0m \u001b[0;32mor\u001b[0m \u001b[0;32mnot\u001b[0m \u001b[0;36m200\u001b[0m \u001b[0;34m<=\u001b[0m \u001b[0mrcode\u001b[0m \u001b[0;34m<\u001b[0m \u001b[0;36m300\u001b[0m\u001b[0;34m:\u001b[0m\u001b[0;34m\u001b[0m\u001b[0;34m\u001b[0m\u001b[0m\n\u001b[0;32m--> 775\u001b[0;31m             raise self.handle_error_response(\n\u001b[0m\u001b[1;32m    776\u001b[0m                 \u001b[0mrbody\u001b[0m\u001b[0;34m,\u001b[0m \u001b[0mrcode\u001b[0m\u001b[0;34m,\u001b[0m \u001b[0mresp\u001b[0m\u001b[0;34m.\u001b[0m\u001b[0mdata\u001b[0m\u001b[0;34m,\u001b[0m \u001b[0mrheaders\u001b[0m\u001b[0;34m,\u001b[0m \u001b[0mstream_error\u001b[0m\u001b[0;34m=\u001b[0m\u001b[0mstream_error\u001b[0m\u001b[0;34m\u001b[0m\u001b[0;34m\u001b[0m\u001b[0m\n\u001b[1;32m    777\u001b[0m             )\n",
            "\u001b[0;31mRateLimitError\u001b[0m: You exceeded your current quota, please check your plan and billing details."
          ]
        }
      ]
    },
    {
      "cell_type": "code",
      "source": [
        "def test_model(tokenizer, pipeline, prompt_to_test):\n",
        "    \"\"\"\n",
        "    Perform a query\n",
        "    print the result\n",
        "    Args:\n",
        "        tokenizer: the tokenizer\n",
        "        pipeline: the pipeline\n",
        "        prompt_to_test: the prompt\n",
        "    Returns\n",
        "        None\n",
        "    \"\"\"\n",
        "    # adapted from https://huggingface.co/blog/llama2#using-transformers\n",
        "    time_1 = time()\n",
        "    sequences = pipeline(\n",
        "        prompt_to_test,\n",
        "        do_sample=True,\n",
        "        top_k=10,\n",
        "        num_return_sequences=1,\n",
        "        eos_token_id=tokenizer.eos_token_id,\n",
        "        max_length=200,)\n",
        "    time_2 = time()\n",
        "    print(f\"Test inference: {round(time_2-time_1, 3)} sec.\")\n",
        "    for seq in sequences:\n",
        "        print(f\"Result: {seq['generated_text']}\")"
      ],
      "metadata": {
        "id": "UKhlXMKBtB-1"
      },
      "execution_count": 15,
      "outputs": []
    },
    {
      "cell_type": "code",
      "source": [
        "test_model(tokenizer,\n",
        "           query_pipeline,\n",
        "           \"What is the most common application of machine learning for inventory maangement?\")"
      ],
      "metadata": {
        "colab": {
          "base_uri": "https://localhost:8080/",
          "height": 363
        },
        "id": "NdkKnNzNnJ3Q",
        "outputId": "62f5935e-d2b9-4a71-a123-9cdf45e6b5eb"
      },
      "execution_count": 18,
      "outputs": [
        {
          "output_type": "error",
          "ename": "KeyboardInterrupt",
          "evalue": "ignored",
          "traceback": [
            "\u001b[0;31m---------------------------------------------------------------------------\u001b[0m",
            "\u001b[0;31mKeyboardInterrupt\u001b[0m                         Traceback (most recent call last)",
            "\u001b[0;32m<ipython-input-18-9c72b36aec5a>\u001b[0m in \u001b[0;36m<cell line: 1>\u001b[0;34m()\u001b[0m\n\u001b[0;32m----> 1\u001b[0;31m test_model(tokenizer,\n\u001b[0m\u001b[1;32m      2\u001b[0m            \u001b[0mquery_pipeline\u001b[0m\u001b[0;34m,\u001b[0m\u001b[0;34m\u001b[0m\u001b[0;34m\u001b[0m\u001b[0m\n\u001b[1;32m      3\u001b[0m            \"What is the most common application of machine learning for inventory maangement?\")\n",
            "\u001b[0;32m<ipython-input-17-966c75197648>\u001b[0m in \u001b[0;36mtest_model\u001b[0;34m(tokenizer, pipeline, prompt_to_test)\u001b[0m\n\u001b[1;32m     12\u001b[0m     \u001b[0;31m# adapted from https://huggingface.co/blog/llama2#using-transformers\u001b[0m\u001b[0;34m\u001b[0m\u001b[0;34m\u001b[0m\u001b[0m\n\u001b[1;32m     13\u001b[0m     \u001b[0mtime_1\u001b[0m \u001b[0;34m=\u001b[0m \u001b[0mtime\u001b[0m\u001b[0;34m(\u001b[0m\u001b[0;34m)\u001b[0m\u001b[0;34m\u001b[0m\u001b[0;34m\u001b[0m\u001b[0m\n\u001b[0;32m---> 14\u001b[0;31m     sequences = pipeline(\n\u001b[0m\u001b[1;32m     15\u001b[0m         \u001b[0mprompt_to_test\u001b[0m\u001b[0;34m,\u001b[0m\u001b[0;34m\u001b[0m\u001b[0;34m\u001b[0m\u001b[0m\n\u001b[1;32m     16\u001b[0m         \u001b[0mdo_sample\u001b[0m\u001b[0;34m=\u001b[0m\u001b[0;32mTrue\u001b[0m\u001b[0;34m,\u001b[0m\u001b[0;34m\u001b[0m\u001b[0;34m\u001b[0m\u001b[0m\n",
            "\u001b[0;32m/usr/local/lib/python3.10/dist-packages/transformers/pipelines/text_generation.py\u001b[0m in \u001b[0;36m__call__\u001b[0;34m(self, text_inputs, **kwargs)\u001b[0m\n\u001b[1;32m    206\u001b[0m               \u001b[0mids\u001b[0m \u001b[0mof\u001b[0m \u001b[0mthe\u001b[0m \u001b[0mgenerated\u001b[0m \u001b[0mtext\u001b[0m\u001b[0;34m.\u001b[0m\u001b[0;34m\u001b[0m\u001b[0;34m\u001b[0m\u001b[0m\n\u001b[1;32m    207\u001b[0m         \"\"\"\n\u001b[0;32m--> 208\u001b[0;31m         \u001b[0;32mreturn\u001b[0m \u001b[0msuper\u001b[0m\u001b[0;34m(\u001b[0m\u001b[0;34m)\u001b[0m\u001b[0;34m.\u001b[0m\u001b[0m__call__\u001b[0m\u001b[0;34m(\u001b[0m\u001b[0mtext_inputs\u001b[0m\u001b[0;34m,\u001b[0m \u001b[0;34m**\u001b[0m\u001b[0mkwargs\u001b[0m\u001b[0;34m)\u001b[0m\u001b[0;34m\u001b[0m\u001b[0;34m\u001b[0m\u001b[0m\n\u001b[0m\u001b[1;32m    209\u001b[0m \u001b[0;34m\u001b[0m\u001b[0m\n\u001b[1;32m    210\u001b[0m     def preprocess(\n",
            "\u001b[0;32m/usr/local/lib/python3.10/dist-packages/transformers/pipelines/base.py\u001b[0m in \u001b[0;36m__call__\u001b[0;34m(self, inputs, num_workers, batch_size, *args, **kwargs)\u001b[0m\n\u001b[1;32m   1138\u001b[0m             )\n\u001b[1;32m   1139\u001b[0m         \u001b[0;32melse\u001b[0m\u001b[0;34m:\u001b[0m\u001b[0;34m\u001b[0m\u001b[0;34m\u001b[0m\u001b[0m\n\u001b[0;32m-> 1140\u001b[0;31m             \u001b[0;32mreturn\u001b[0m \u001b[0mself\u001b[0m\u001b[0;34m.\u001b[0m\u001b[0mrun_single\u001b[0m\u001b[0;34m(\u001b[0m\u001b[0minputs\u001b[0m\u001b[0;34m,\u001b[0m \u001b[0mpreprocess_params\u001b[0m\u001b[0;34m,\u001b[0m \u001b[0mforward_params\u001b[0m\u001b[0;34m,\u001b[0m \u001b[0mpostprocess_params\u001b[0m\u001b[0;34m)\u001b[0m\u001b[0;34m\u001b[0m\u001b[0;34m\u001b[0m\u001b[0m\n\u001b[0m\u001b[1;32m   1141\u001b[0m \u001b[0;34m\u001b[0m\u001b[0m\n\u001b[1;32m   1142\u001b[0m     \u001b[0;32mdef\u001b[0m \u001b[0mrun_multi\u001b[0m\u001b[0;34m(\u001b[0m\u001b[0mself\u001b[0m\u001b[0;34m,\u001b[0m \u001b[0minputs\u001b[0m\u001b[0;34m,\u001b[0m \u001b[0mpreprocess_params\u001b[0m\u001b[0;34m,\u001b[0m \u001b[0mforward_params\u001b[0m\u001b[0;34m,\u001b[0m \u001b[0mpostprocess_params\u001b[0m\u001b[0;34m)\u001b[0m\u001b[0;34m:\u001b[0m\u001b[0;34m\u001b[0m\u001b[0;34m\u001b[0m\u001b[0m\n",
            "\u001b[0;32m/usr/local/lib/python3.10/dist-packages/transformers/pipelines/base.py\u001b[0m in \u001b[0;36mrun_single\u001b[0;34m(self, inputs, preprocess_params, forward_params, postprocess_params)\u001b[0m\n\u001b[1;32m   1145\u001b[0m     \u001b[0;32mdef\u001b[0m \u001b[0mrun_single\u001b[0m\u001b[0;34m(\u001b[0m\u001b[0mself\u001b[0m\u001b[0;34m,\u001b[0m \u001b[0minputs\u001b[0m\u001b[0;34m,\u001b[0m \u001b[0mpreprocess_params\u001b[0m\u001b[0;34m,\u001b[0m \u001b[0mforward_params\u001b[0m\u001b[0;34m,\u001b[0m \u001b[0mpostprocess_params\u001b[0m\u001b[0;34m)\u001b[0m\u001b[0;34m:\u001b[0m\u001b[0;34m\u001b[0m\u001b[0;34m\u001b[0m\u001b[0m\n\u001b[1;32m   1146\u001b[0m         \u001b[0mmodel_inputs\u001b[0m \u001b[0;34m=\u001b[0m \u001b[0mself\u001b[0m\u001b[0;34m.\u001b[0m\u001b[0mpreprocess\u001b[0m\u001b[0;34m(\u001b[0m\u001b[0minputs\u001b[0m\u001b[0;34m,\u001b[0m \u001b[0;34m**\u001b[0m\u001b[0mpreprocess_params\u001b[0m\u001b[0;34m)\u001b[0m\u001b[0;34m\u001b[0m\u001b[0;34m\u001b[0m\u001b[0m\n\u001b[0;32m-> 1147\u001b[0;31m         \u001b[0mmodel_outputs\u001b[0m \u001b[0;34m=\u001b[0m \u001b[0mself\u001b[0m\u001b[0;34m.\u001b[0m\u001b[0mforward\u001b[0m\u001b[0;34m(\u001b[0m\u001b[0mmodel_inputs\u001b[0m\u001b[0;34m,\u001b[0m \u001b[0;34m**\u001b[0m\u001b[0mforward_params\u001b[0m\u001b[0;34m)\u001b[0m\u001b[0;34m\u001b[0m\u001b[0;34m\u001b[0m\u001b[0m\n\u001b[0m\u001b[1;32m   1148\u001b[0m         \u001b[0moutputs\u001b[0m \u001b[0;34m=\u001b[0m \u001b[0mself\u001b[0m\u001b[0;34m.\u001b[0m\u001b[0mpostprocess\u001b[0m\u001b[0;34m(\u001b[0m\u001b[0mmodel_outputs\u001b[0m\u001b[0;34m,\u001b[0m \u001b[0;34m**\u001b[0m\u001b[0mpostprocess_params\u001b[0m\u001b[0;34m)\u001b[0m\u001b[0;34m\u001b[0m\u001b[0;34m\u001b[0m\u001b[0m\n\u001b[1;32m   1149\u001b[0m         \u001b[0;32mreturn\u001b[0m \u001b[0moutputs\u001b[0m\u001b[0;34m\u001b[0m\u001b[0;34m\u001b[0m\u001b[0m\n",
            "\u001b[0;32m/usr/local/lib/python3.10/dist-packages/transformers/pipelines/base.py\u001b[0m in \u001b[0;36mforward\u001b[0;34m(self, model_inputs, **forward_params)\u001b[0m\n\u001b[1;32m   1044\u001b[0m                 \u001b[0;32mwith\u001b[0m \u001b[0minference_context\u001b[0m\u001b[0;34m(\u001b[0m\u001b[0;34m)\u001b[0m\u001b[0;34m:\u001b[0m\u001b[0;34m\u001b[0m\u001b[0;34m\u001b[0m\u001b[0m\n\u001b[1;32m   1045\u001b[0m                     \u001b[0mmodel_inputs\u001b[0m \u001b[0;34m=\u001b[0m \u001b[0mself\u001b[0m\u001b[0;34m.\u001b[0m\u001b[0m_ensure_tensor_on_device\u001b[0m\u001b[0;34m(\u001b[0m\u001b[0mmodel_inputs\u001b[0m\u001b[0;34m,\u001b[0m \u001b[0mdevice\u001b[0m\u001b[0;34m=\u001b[0m\u001b[0mself\u001b[0m\u001b[0;34m.\u001b[0m\u001b[0mdevice\u001b[0m\u001b[0;34m)\u001b[0m\u001b[0;34m\u001b[0m\u001b[0;34m\u001b[0m\u001b[0m\n\u001b[0;32m-> 1046\u001b[0;31m                     \u001b[0mmodel_outputs\u001b[0m \u001b[0;34m=\u001b[0m \u001b[0mself\u001b[0m\u001b[0;34m.\u001b[0m\u001b[0m_forward\u001b[0m\u001b[0;34m(\u001b[0m\u001b[0mmodel_inputs\u001b[0m\u001b[0;34m,\u001b[0m \u001b[0;34m**\u001b[0m\u001b[0mforward_params\u001b[0m\u001b[0;34m)\u001b[0m\u001b[0;34m\u001b[0m\u001b[0;34m\u001b[0m\u001b[0m\n\u001b[0m\u001b[1;32m   1047\u001b[0m                     \u001b[0mmodel_outputs\u001b[0m \u001b[0;34m=\u001b[0m \u001b[0mself\u001b[0m\u001b[0;34m.\u001b[0m\u001b[0m_ensure_tensor_on_device\u001b[0m\u001b[0;34m(\u001b[0m\u001b[0mmodel_outputs\u001b[0m\u001b[0;34m,\u001b[0m \u001b[0mdevice\u001b[0m\u001b[0;34m=\u001b[0m\u001b[0mtorch\u001b[0m\u001b[0;34m.\u001b[0m\u001b[0mdevice\u001b[0m\u001b[0;34m(\u001b[0m\u001b[0;34m\"cpu\"\u001b[0m\u001b[0;34m)\u001b[0m\u001b[0;34m)\u001b[0m\u001b[0;34m\u001b[0m\u001b[0;34m\u001b[0m\u001b[0m\n\u001b[1;32m   1048\u001b[0m             \u001b[0;32melse\u001b[0m\u001b[0;34m:\u001b[0m\u001b[0;34m\u001b[0m\u001b[0;34m\u001b[0m\u001b[0m\n",
            "\u001b[0;32m/usr/local/lib/python3.10/dist-packages/transformers/pipelines/text_generation.py\u001b[0m in \u001b[0;36m_forward\u001b[0;34m(self, model_inputs, **generate_kwargs)\u001b[0m\n\u001b[1;32m    269\u001b[0m \u001b[0;34m\u001b[0m\u001b[0m\n\u001b[1;32m    270\u001b[0m         \u001b[0;31m# BS x SL\u001b[0m\u001b[0;34m\u001b[0m\u001b[0;34m\u001b[0m\u001b[0m\n\u001b[0;32m--> 271\u001b[0;31m         \u001b[0mgenerated_sequence\u001b[0m \u001b[0;34m=\u001b[0m \u001b[0mself\u001b[0m\u001b[0;34m.\u001b[0m\u001b[0mmodel\u001b[0m\u001b[0;34m.\u001b[0m\u001b[0mgenerate\u001b[0m\u001b[0;34m(\u001b[0m\u001b[0minput_ids\u001b[0m\u001b[0;34m=\u001b[0m\u001b[0minput_ids\u001b[0m\u001b[0;34m,\u001b[0m \u001b[0mattention_mask\u001b[0m\u001b[0;34m=\u001b[0m\u001b[0mattention_mask\u001b[0m\u001b[0;34m,\u001b[0m \u001b[0;34m**\u001b[0m\u001b[0mgenerate_kwargs\u001b[0m\u001b[0;34m)\u001b[0m\u001b[0;34m\u001b[0m\u001b[0;34m\u001b[0m\u001b[0m\n\u001b[0m\u001b[1;32m    272\u001b[0m         \u001b[0mout_b\u001b[0m \u001b[0;34m=\u001b[0m \u001b[0mgenerated_sequence\u001b[0m\u001b[0;34m.\u001b[0m\u001b[0mshape\u001b[0m\u001b[0;34m[\u001b[0m\u001b[0;36m0\u001b[0m\u001b[0;34m]\u001b[0m\u001b[0;34m\u001b[0m\u001b[0;34m\u001b[0m\u001b[0m\n\u001b[1;32m    273\u001b[0m         \u001b[0;32mif\u001b[0m \u001b[0mself\u001b[0m\u001b[0;34m.\u001b[0m\u001b[0mframework\u001b[0m \u001b[0;34m==\u001b[0m \u001b[0;34m\"pt\"\u001b[0m\u001b[0;34m:\u001b[0m\u001b[0;34m\u001b[0m\u001b[0;34m\u001b[0m\u001b[0m\n",
            "\u001b[0;32m/usr/local/lib/python3.10/dist-packages/torch/utils/_contextlib.py\u001b[0m in \u001b[0;36mdecorate_context\u001b[0;34m(*args, **kwargs)\u001b[0m\n\u001b[1;32m    113\u001b[0m     \u001b[0;32mdef\u001b[0m \u001b[0mdecorate_context\u001b[0m\u001b[0;34m(\u001b[0m\u001b[0;34m*\u001b[0m\u001b[0margs\u001b[0m\u001b[0;34m,\u001b[0m \u001b[0;34m**\u001b[0m\u001b[0mkwargs\u001b[0m\u001b[0;34m)\u001b[0m\u001b[0;34m:\u001b[0m\u001b[0;34m\u001b[0m\u001b[0;34m\u001b[0m\u001b[0m\n\u001b[1;32m    114\u001b[0m         \u001b[0;32mwith\u001b[0m \u001b[0mctx_factory\u001b[0m\u001b[0;34m(\u001b[0m\u001b[0;34m)\u001b[0m\u001b[0;34m:\u001b[0m\u001b[0;34m\u001b[0m\u001b[0;34m\u001b[0m\u001b[0m\n\u001b[0;32m--> 115\u001b[0;31m             \u001b[0;32mreturn\u001b[0m \u001b[0mfunc\u001b[0m\u001b[0;34m(\u001b[0m\u001b[0;34m*\u001b[0m\u001b[0margs\u001b[0m\u001b[0;34m,\u001b[0m \u001b[0;34m**\u001b[0m\u001b[0mkwargs\u001b[0m\u001b[0;34m)\u001b[0m\u001b[0;34m\u001b[0m\u001b[0;34m\u001b[0m\u001b[0m\n\u001b[0m\u001b[1;32m    116\u001b[0m \u001b[0;34m\u001b[0m\u001b[0m\n\u001b[1;32m    117\u001b[0m     \u001b[0;32mreturn\u001b[0m \u001b[0mdecorate_context\u001b[0m\u001b[0;34m\u001b[0m\u001b[0;34m\u001b[0m\u001b[0m\n",
            "\u001b[0;32m/usr/local/lib/python3.10/dist-packages/transformers/generation/utils.py\u001b[0m in \u001b[0;36mgenerate\u001b[0;34m(self, inputs, generation_config, logits_processor, stopping_criteria, prefix_allowed_tokens_fn, synced_gpus, assistant_model, streamer, negative_prompt_ids, negative_prompt_attention_mask, **kwargs)\u001b[0m\n\u001b[1;32m   1650\u001b[0m \u001b[0;34m\u001b[0m\u001b[0m\n\u001b[1;32m   1651\u001b[0m             \u001b[0;31m# 13. run sample\u001b[0m\u001b[0;34m\u001b[0m\u001b[0;34m\u001b[0m\u001b[0m\n\u001b[0;32m-> 1652\u001b[0;31m             return self.sample(\n\u001b[0m\u001b[1;32m   1653\u001b[0m                 \u001b[0minput_ids\u001b[0m\u001b[0;34m,\u001b[0m\u001b[0;34m\u001b[0m\u001b[0;34m\u001b[0m\u001b[0m\n\u001b[1;32m   1654\u001b[0m                 \u001b[0mlogits_processor\u001b[0m\u001b[0;34m=\u001b[0m\u001b[0mlogits_processor\u001b[0m\u001b[0;34m,\u001b[0m\u001b[0;34m\u001b[0m\u001b[0;34m\u001b[0m\u001b[0m\n",
            "\u001b[0;32m/usr/local/lib/python3.10/dist-packages/transformers/generation/utils.py\u001b[0m in \u001b[0;36msample\u001b[0;34m(self, input_ids, logits_processor, stopping_criteria, logits_warper, max_length, pad_token_id, eos_token_id, output_attentions, output_hidden_states, output_scores, return_dict_in_generate, synced_gpus, streamer, **model_kwargs)\u001b[0m\n\u001b[1;32m   2732\u001b[0m \u001b[0;34m\u001b[0m\u001b[0m\n\u001b[1;32m   2733\u001b[0m             \u001b[0;31m# forward pass to get next token\u001b[0m\u001b[0;34m\u001b[0m\u001b[0;34m\u001b[0m\u001b[0m\n\u001b[0;32m-> 2734\u001b[0;31m             outputs = self(\n\u001b[0m\u001b[1;32m   2735\u001b[0m                 \u001b[0;34m**\u001b[0m\u001b[0mmodel_inputs\u001b[0m\u001b[0;34m,\u001b[0m\u001b[0;34m\u001b[0m\u001b[0;34m\u001b[0m\u001b[0m\n\u001b[1;32m   2736\u001b[0m                 \u001b[0mreturn_dict\u001b[0m\u001b[0;34m=\u001b[0m\u001b[0;32mTrue\u001b[0m\u001b[0;34m,\u001b[0m\u001b[0;34m\u001b[0m\u001b[0;34m\u001b[0m\u001b[0m\n",
            "\u001b[0;32m/usr/local/lib/python3.10/dist-packages/torch/nn/modules/module.py\u001b[0m in \u001b[0;36m_wrapped_call_impl\u001b[0;34m(self, *args, **kwargs)\u001b[0m\n\u001b[1;32m   1516\u001b[0m             \u001b[0;32mreturn\u001b[0m \u001b[0mself\u001b[0m\u001b[0;34m.\u001b[0m\u001b[0m_compiled_call_impl\u001b[0m\u001b[0;34m(\u001b[0m\u001b[0;34m*\u001b[0m\u001b[0margs\u001b[0m\u001b[0;34m,\u001b[0m \u001b[0;34m**\u001b[0m\u001b[0mkwargs\u001b[0m\u001b[0;34m)\u001b[0m  \u001b[0;31m# type: ignore[misc]\u001b[0m\u001b[0;34m\u001b[0m\u001b[0;34m\u001b[0m\u001b[0m\n\u001b[1;32m   1517\u001b[0m         \u001b[0;32melse\u001b[0m\u001b[0;34m:\u001b[0m\u001b[0;34m\u001b[0m\u001b[0;34m\u001b[0m\u001b[0m\n\u001b[0;32m-> 1518\u001b[0;31m             \u001b[0;32mreturn\u001b[0m \u001b[0mself\u001b[0m\u001b[0;34m.\u001b[0m\u001b[0m_call_impl\u001b[0m\u001b[0;34m(\u001b[0m\u001b[0;34m*\u001b[0m\u001b[0margs\u001b[0m\u001b[0;34m,\u001b[0m \u001b[0;34m**\u001b[0m\u001b[0mkwargs\u001b[0m\u001b[0;34m)\u001b[0m\u001b[0;34m\u001b[0m\u001b[0;34m\u001b[0m\u001b[0m\n\u001b[0m\u001b[1;32m   1519\u001b[0m \u001b[0;34m\u001b[0m\u001b[0m\n\u001b[1;32m   1520\u001b[0m     \u001b[0;32mdef\u001b[0m \u001b[0m_call_impl\u001b[0m\u001b[0;34m(\u001b[0m\u001b[0mself\u001b[0m\u001b[0;34m,\u001b[0m \u001b[0;34m*\u001b[0m\u001b[0margs\u001b[0m\u001b[0;34m,\u001b[0m \u001b[0;34m**\u001b[0m\u001b[0mkwargs\u001b[0m\u001b[0;34m)\u001b[0m\u001b[0;34m:\u001b[0m\u001b[0;34m\u001b[0m\u001b[0;34m\u001b[0m\u001b[0m\n",
            "\u001b[0;32m/usr/local/lib/python3.10/dist-packages/torch/nn/modules/module.py\u001b[0m in \u001b[0;36m_call_impl\u001b[0;34m(self, *args, **kwargs)\u001b[0m\n\u001b[1;32m   1525\u001b[0m                 \u001b[0;32mor\u001b[0m \u001b[0m_global_backward_pre_hooks\u001b[0m \u001b[0;32mor\u001b[0m \u001b[0m_global_backward_hooks\u001b[0m\u001b[0;34m\u001b[0m\u001b[0;34m\u001b[0m\u001b[0m\n\u001b[1;32m   1526\u001b[0m                 or _global_forward_hooks or _global_forward_pre_hooks):\n\u001b[0;32m-> 1527\u001b[0;31m             \u001b[0;32mreturn\u001b[0m \u001b[0mforward_call\u001b[0m\u001b[0;34m(\u001b[0m\u001b[0;34m*\u001b[0m\u001b[0margs\u001b[0m\u001b[0;34m,\u001b[0m \u001b[0;34m**\u001b[0m\u001b[0mkwargs\u001b[0m\u001b[0;34m)\u001b[0m\u001b[0;34m\u001b[0m\u001b[0;34m\u001b[0m\u001b[0m\n\u001b[0m\u001b[1;32m   1528\u001b[0m \u001b[0;34m\u001b[0m\u001b[0m\n\u001b[1;32m   1529\u001b[0m         \u001b[0;32mtry\u001b[0m\u001b[0;34m:\u001b[0m\u001b[0;34m\u001b[0m\u001b[0;34m\u001b[0m\u001b[0m\n",
            "\u001b[0;32m/usr/local/lib/python3.10/dist-packages/accelerate/hooks.py\u001b[0m in \u001b[0;36mnew_forward\u001b[0;34m(module, *args, **kwargs)\u001b[0m\n\u001b[1;32m    162\u001b[0m                 \u001b[0moutput\u001b[0m \u001b[0;34m=\u001b[0m \u001b[0mmodule\u001b[0m\u001b[0;34m.\u001b[0m\u001b[0m_old_forward\u001b[0m\u001b[0;34m(\u001b[0m\u001b[0;34m*\u001b[0m\u001b[0margs\u001b[0m\u001b[0;34m,\u001b[0m \u001b[0;34m**\u001b[0m\u001b[0mkwargs\u001b[0m\u001b[0;34m)\u001b[0m\u001b[0;34m\u001b[0m\u001b[0;34m\u001b[0m\u001b[0m\n\u001b[1;32m    163\u001b[0m         \u001b[0;32melse\u001b[0m\u001b[0;34m:\u001b[0m\u001b[0;34m\u001b[0m\u001b[0;34m\u001b[0m\u001b[0m\n\u001b[0;32m--> 164\u001b[0;31m             \u001b[0moutput\u001b[0m \u001b[0;34m=\u001b[0m \u001b[0mmodule\u001b[0m\u001b[0;34m.\u001b[0m\u001b[0m_old_forward\u001b[0m\u001b[0;34m(\u001b[0m\u001b[0;34m*\u001b[0m\u001b[0margs\u001b[0m\u001b[0;34m,\u001b[0m \u001b[0;34m**\u001b[0m\u001b[0mkwargs\u001b[0m\u001b[0;34m)\u001b[0m\u001b[0;34m\u001b[0m\u001b[0;34m\u001b[0m\u001b[0m\n\u001b[0m\u001b[1;32m    165\u001b[0m         \u001b[0;32mreturn\u001b[0m \u001b[0mmodule\u001b[0m\u001b[0;34m.\u001b[0m\u001b[0m_hf_hook\u001b[0m\u001b[0;34m.\u001b[0m\u001b[0mpost_forward\u001b[0m\u001b[0;34m(\u001b[0m\u001b[0mmodule\u001b[0m\u001b[0;34m,\u001b[0m \u001b[0moutput\u001b[0m\u001b[0;34m)\u001b[0m\u001b[0;34m\u001b[0m\u001b[0;34m\u001b[0m\u001b[0m\n\u001b[1;32m    166\u001b[0m \u001b[0;34m\u001b[0m\u001b[0m\n",
            "\u001b[0;32m/usr/local/lib/python3.10/dist-packages/transformers/models/llama/modeling_llama.py\u001b[0m in \u001b[0;36mforward\u001b[0;34m(self, input_ids, attention_mask, position_ids, past_key_values, inputs_embeds, labels, use_cache, output_attentions, output_hidden_states, return_dict)\u001b[0m\n\u001b[1;32m   1036\u001b[0m \u001b[0;34m\u001b[0m\u001b[0m\n\u001b[1;32m   1037\u001b[0m         \u001b[0;31m# decoder outputs consists of (dec_features, layer_state, dec_hidden, dec_attn)\u001b[0m\u001b[0;34m\u001b[0m\u001b[0;34m\u001b[0m\u001b[0m\n\u001b[0;32m-> 1038\u001b[0;31m         outputs = self.model(\n\u001b[0m\u001b[1;32m   1039\u001b[0m             \u001b[0minput_ids\u001b[0m\u001b[0;34m=\u001b[0m\u001b[0minput_ids\u001b[0m\u001b[0;34m,\u001b[0m\u001b[0;34m\u001b[0m\u001b[0;34m\u001b[0m\u001b[0m\n\u001b[1;32m   1040\u001b[0m             \u001b[0mattention_mask\u001b[0m\u001b[0;34m=\u001b[0m\u001b[0mattention_mask\u001b[0m\u001b[0;34m,\u001b[0m\u001b[0;34m\u001b[0m\u001b[0;34m\u001b[0m\u001b[0m\n",
            "\u001b[0;32m/usr/local/lib/python3.10/dist-packages/torch/nn/modules/module.py\u001b[0m in \u001b[0;36m_wrapped_call_impl\u001b[0;34m(self, *args, **kwargs)\u001b[0m\n\u001b[1;32m   1516\u001b[0m             \u001b[0;32mreturn\u001b[0m \u001b[0mself\u001b[0m\u001b[0;34m.\u001b[0m\u001b[0m_compiled_call_impl\u001b[0m\u001b[0;34m(\u001b[0m\u001b[0;34m*\u001b[0m\u001b[0margs\u001b[0m\u001b[0;34m,\u001b[0m \u001b[0;34m**\u001b[0m\u001b[0mkwargs\u001b[0m\u001b[0;34m)\u001b[0m  \u001b[0;31m# type: ignore[misc]\u001b[0m\u001b[0;34m\u001b[0m\u001b[0;34m\u001b[0m\u001b[0m\n\u001b[1;32m   1517\u001b[0m         \u001b[0;32melse\u001b[0m\u001b[0;34m:\u001b[0m\u001b[0;34m\u001b[0m\u001b[0;34m\u001b[0m\u001b[0m\n\u001b[0;32m-> 1518\u001b[0;31m             \u001b[0;32mreturn\u001b[0m \u001b[0mself\u001b[0m\u001b[0;34m.\u001b[0m\u001b[0m_call_impl\u001b[0m\u001b[0;34m(\u001b[0m\u001b[0;34m*\u001b[0m\u001b[0margs\u001b[0m\u001b[0;34m,\u001b[0m \u001b[0;34m**\u001b[0m\u001b[0mkwargs\u001b[0m\u001b[0;34m)\u001b[0m\u001b[0;34m\u001b[0m\u001b[0;34m\u001b[0m\u001b[0m\n\u001b[0m\u001b[1;32m   1519\u001b[0m \u001b[0;34m\u001b[0m\u001b[0m\n\u001b[1;32m   1520\u001b[0m     \u001b[0;32mdef\u001b[0m \u001b[0m_call_impl\u001b[0m\u001b[0;34m(\u001b[0m\u001b[0mself\u001b[0m\u001b[0;34m,\u001b[0m \u001b[0;34m*\u001b[0m\u001b[0margs\u001b[0m\u001b[0;34m,\u001b[0m \u001b[0;34m**\u001b[0m\u001b[0mkwargs\u001b[0m\u001b[0;34m)\u001b[0m\u001b[0;34m:\u001b[0m\u001b[0;34m\u001b[0m\u001b[0;34m\u001b[0m\u001b[0m\n",
            "\u001b[0;32m/usr/local/lib/python3.10/dist-packages/torch/nn/modules/module.py\u001b[0m in \u001b[0;36m_call_impl\u001b[0;34m(self, *args, **kwargs)\u001b[0m\n\u001b[1;32m   1525\u001b[0m                 \u001b[0;32mor\u001b[0m \u001b[0m_global_backward_pre_hooks\u001b[0m \u001b[0;32mor\u001b[0m \u001b[0m_global_backward_hooks\u001b[0m\u001b[0;34m\u001b[0m\u001b[0;34m\u001b[0m\u001b[0m\n\u001b[1;32m   1526\u001b[0m                 or _global_forward_hooks or _global_forward_pre_hooks):\n\u001b[0;32m-> 1527\u001b[0;31m             \u001b[0;32mreturn\u001b[0m \u001b[0mforward_call\u001b[0m\u001b[0;34m(\u001b[0m\u001b[0;34m*\u001b[0m\u001b[0margs\u001b[0m\u001b[0;34m,\u001b[0m \u001b[0;34m**\u001b[0m\u001b[0mkwargs\u001b[0m\u001b[0;34m)\u001b[0m\u001b[0;34m\u001b[0m\u001b[0;34m\u001b[0m\u001b[0m\n\u001b[0m\u001b[1;32m   1528\u001b[0m \u001b[0;34m\u001b[0m\u001b[0m\n\u001b[1;32m   1529\u001b[0m         \u001b[0;32mtry\u001b[0m\u001b[0;34m:\u001b[0m\u001b[0;34m\u001b[0m\u001b[0;34m\u001b[0m\u001b[0m\n",
            "\u001b[0;32m/usr/local/lib/python3.10/dist-packages/transformers/models/llama/modeling_llama.py\u001b[0m in \u001b[0;36mforward\u001b[0;34m(self, input_ids, attention_mask, position_ids, past_key_values, inputs_embeds, use_cache, output_attentions, output_hidden_states, return_dict)\u001b[0m\n\u001b[1;32m    923\u001b[0m                 )\n\u001b[1;32m    924\u001b[0m             \u001b[0;32melse\u001b[0m\u001b[0;34m:\u001b[0m\u001b[0;34m\u001b[0m\u001b[0;34m\u001b[0m\u001b[0m\n\u001b[0;32m--> 925\u001b[0;31m                 layer_outputs = decoder_layer(\n\u001b[0m\u001b[1;32m    926\u001b[0m                     \u001b[0mhidden_states\u001b[0m\u001b[0;34m,\u001b[0m\u001b[0;34m\u001b[0m\u001b[0;34m\u001b[0m\u001b[0m\n\u001b[1;32m    927\u001b[0m                     \u001b[0mattention_mask\u001b[0m\u001b[0;34m=\u001b[0m\u001b[0mattention_mask\u001b[0m\u001b[0;34m,\u001b[0m\u001b[0;34m\u001b[0m\u001b[0;34m\u001b[0m\u001b[0m\n",
            "\u001b[0;32m/usr/local/lib/python3.10/dist-packages/torch/nn/modules/module.py\u001b[0m in \u001b[0;36m_wrapped_call_impl\u001b[0;34m(self, *args, **kwargs)\u001b[0m\n\u001b[1;32m   1516\u001b[0m             \u001b[0;32mreturn\u001b[0m \u001b[0mself\u001b[0m\u001b[0;34m.\u001b[0m\u001b[0m_compiled_call_impl\u001b[0m\u001b[0;34m(\u001b[0m\u001b[0;34m*\u001b[0m\u001b[0margs\u001b[0m\u001b[0;34m,\u001b[0m \u001b[0;34m**\u001b[0m\u001b[0mkwargs\u001b[0m\u001b[0;34m)\u001b[0m  \u001b[0;31m# type: ignore[misc]\u001b[0m\u001b[0;34m\u001b[0m\u001b[0;34m\u001b[0m\u001b[0m\n\u001b[1;32m   1517\u001b[0m         \u001b[0;32melse\u001b[0m\u001b[0;34m:\u001b[0m\u001b[0;34m\u001b[0m\u001b[0;34m\u001b[0m\u001b[0m\n\u001b[0;32m-> 1518\u001b[0;31m             \u001b[0;32mreturn\u001b[0m \u001b[0mself\u001b[0m\u001b[0;34m.\u001b[0m\u001b[0m_call_impl\u001b[0m\u001b[0;34m(\u001b[0m\u001b[0;34m*\u001b[0m\u001b[0margs\u001b[0m\u001b[0;34m,\u001b[0m \u001b[0;34m**\u001b[0m\u001b[0mkwargs\u001b[0m\u001b[0;34m)\u001b[0m\u001b[0;34m\u001b[0m\u001b[0;34m\u001b[0m\u001b[0m\n\u001b[0m\u001b[1;32m   1519\u001b[0m \u001b[0;34m\u001b[0m\u001b[0m\n\u001b[1;32m   1520\u001b[0m     \u001b[0;32mdef\u001b[0m \u001b[0m_call_impl\u001b[0m\u001b[0;34m(\u001b[0m\u001b[0mself\u001b[0m\u001b[0;34m,\u001b[0m \u001b[0;34m*\u001b[0m\u001b[0margs\u001b[0m\u001b[0;34m,\u001b[0m \u001b[0;34m**\u001b[0m\u001b[0mkwargs\u001b[0m\u001b[0;34m)\u001b[0m\u001b[0;34m:\u001b[0m\u001b[0;34m\u001b[0m\u001b[0;34m\u001b[0m\u001b[0m\n",
            "\u001b[0;32m/usr/local/lib/python3.10/dist-packages/torch/nn/modules/module.py\u001b[0m in \u001b[0;36m_call_impl\u001b[0;34m(self, *args, **kwargs)\u001b[0m\n\u001b[1;32m   1525\u001b[0m                 \u001b[0;32mor\u001b[0m \u001b[0m_global_backward_pre_hooks\u001b[0m \u001b[0;32mor\u001b[0m \u001b[0m_global_backward_hooks\u001b[0m\u001b[0;34m\u001b[0m\u001b[0;34m\u001b[0m\u001b[0m\n\u001b[1;32m   1526\u001b[0m                 or _global_forward_hooks or _global_forward_pre_hooks):\n\u001b[0;32m-> 1527\u001b[0;31m             \u001b[0;32mreturn\u001b[0m \u001b[0mforward_call\u001b[0m\u001b[0;34m(\u001b[0m\u001b[0;34m*\u001b[0m\u001b[0margs\u001b[0m\u001b[0;34m,\u001b[0m \u001b[0;34m**\u001b[0m\u001b[0mkwargs\u001b[0m\u001b[0;34m)\u001b[0m\u001b[0;34m\u001b[0m\u001b[0;34m\u001b[0m\u001b[0m\n\u001b[0m\u001b[1;32m   1528\u001b[0m \u001b[0;34m\u001b[0m\u001b[0m\n\u001b[1;32m   1529\u001b[0m         \u001b[0;32mtry\u001b[0m\u001b[0;34m:\u001b[0m\u001b[0;34m\u001b[0m\u001b[0;34m\u001b[0m\u001b[0m\n",
            "\u001b[0;32m/usr/local/lib/python3.10/dist-packages/accelerate/hooks.py\u001b[0m in \u001b[0;36mnew_forward\u001b[0;34m(module, *args, **kwargs)\u001b[0m\n\u001b[1;32m    162\u001b[0m                 \u001b[0moutput\u001b[0m \u001b[0;34m=\u001b[0m \u001b[0mmodule\u001b[0m\u001b[0;34m.\u001b[0m\u001b[0m_old_forward\u001b[0m\u001b[0;34m(\u001b[0m\u001b[0;34m*\u001b[0m\u001b[0margs\u001b[0m\u001b[0;34m,\u001b[0m \u001b[0;34m**\u001b[0m\u001b[0mkwargs\u001b[0m\u001b[0;34m)\u001b[0m\u001b[0;34m\u001b[0m\u001b[0;34m\u001b[0m\u001b[0m\n\u001b[1;32m    163\u001b[0m         \u001b[0;32melse\u001b[0m\u001b[0;34m:\u001b[0m\u001b[0;34m\u001b[0m\u001b[0;34m\u001b[0m\u001b[0m\n\u001b[0;32m--> 164\u001b[0;31m             \u001b[0moutput\u001b[0m \u001b[0;34m=\u001b[0m \u001b[0mmodule\u001b[0m\u001b[0;34m.\u001b[0m\u001b[0m_old_forward\u001b[0m\u001b[0;34m(\u001b[0m\u001b[0;34m*\u001b[0m\u001b[0margs\u001b[0m\u001b[0;34m,\u001b[0m \u001b[0;34m**\u001b[0m\u001b[0mkwargs\u001b[0m\u001b[0;34m)\u001b[0m\u001b[0;34m\u001b[0m\u001b[0;34m\u001b[0m\u001b[0m\n\u001b[0m\u001b[1;32m    165\u001b[0m         \u001b[0;32mreturn\u001b[0m \u001b[0mmodule\u001b[0m\u001b[0;34m.\u001b[0m\u001b[0m_hf_hook\u001b[0m\u001b[0;34m.\u001b[0m\u001b[0mpost_forward\u001b[0m\u001b[0;34m(\u001b[0m\u001b[0mmodule\u001b[0m\u001b[0;34m,\u001b[0m \u001b[0moutput\u001b[0m\u001b[0;34m)\u001b[0m\u001b[0;34m\u001b[0m\u001b[0;34m\u001b[0m\u001b[0m\n\u001b[1;32m    166\u001b[0m \u001b[0;34m\u001b[0m\u001b[0m\n",
            "\u001b[0;32m/usr/local/lib/python3.10/dist-packages/transformers/models/llama/modeling_llama.py\u001b[0m in \u001b[0;36mforward\u001b[0;34m(self, hidden_states, attention_mask, position_ids, past_key_value, output_attentions, use_cache, padding_mask)\u001b[0m\n\u001b[1;32m    633\u001b[0m \u001b[0;34m\u001b[0m\u001b[0m\n\u001b[1;32m    634\u001b[0m         \u001b[0;31m# Self Attention\u001b[0m\u001b[0;34m\u001b[0m\u001b[0;34m\u001b[0m\u001b[0m\n\u001b[0;32m--> 635\u001b[0;31m         hidden_states, self_attn_weights, present_key_value = self.self_attn(\n\u001b[0m\u001b[1;32m    636\u001b[0m             \u001b[0mhidden_states\u001b[0m\u001b[0;34m=\u001b[0m\u001b[0mhidden_states\u001b[0m\u001b[0;34m,\u001b[0m\u001b[0;34m\u001b[0m\u001b[0;34m\u001b[0m\u001b[0m\n\u001b[1;32m    637\u001b[0m             \u001b[0mattention_mask\u001b[0m\u001b[0;34m=\u001b[0m\u001b[0mattention_mask\u001b[0m\u001b[0;34m,\u001b[0m\u001b[0;34m\u001b[0m\u001b[0;34m\u001b[0m\u001b[0m\n",
            "\u001b[0;32m/usr/local/lib/python3.10/dist-packages/torch/nn/modules/module.py\u001b[0m in \u001b[0;36m_wrapped_call_impl\u001b[0;34m(self, *args, **kwargs)\u001b[0m\n\u001b[1;32m   1516\u001b[0m             \u001b[0;32mreturn\u001b[0m \u001b[0mself\u001b[0m\u001b[0;34m.\u001b[0m\u001b[0m_compiled_call_impl\u001b[0m\u001b[0;34m(\u001b[0m\u001b[0;34m*\u001b[0m\u001b[0margs\u001b[0m\u001b[0;34m,\u001b[0m \u001b[0;34m**\u001b[0m\u001b[0mkwargs\u001b[0m\u001b[0;34m)\u001b[0m  \u001b[0;31m# type: ignore[misc]\u001b[0m\u001b[0;34m\u001b[0m\u001b[0;34m\u001b[0m\u001b[0m\n\u001b[1;32m   1517\u001b[0m         \u001b[0;32melse\u001b[0m\u001b[0;34m:\u001b[0m\u001b[0;34m\u001b[0m\u001b[0;34m\u001b[0m\u001b[0m\n\u001b[0;32m-> 1518\u001b[0;31m             \u001b[0;32mreturn\u001b[0m \u001b[0mself\u001b[0m\u001b[0;34m.\u001b[0m\u001b[0m_call_impl\u001b[0m\u001b[0;34m(\u001b[0m\u001b[0;34m*\u001b[0m\u001b[0margs\u001b[0m\u001b[0;34m,\u001b[0m \u001b[0;34m**\u001b[0m\u001b[0mkwargs\u001b[0m\u001b[0;34m)\u001b[0m\u001b[0;34m\u001b[0m\u001b[0;34m\u001b[0m\u001b[0m\n\u001b[0m\u001b[1;32m   1519\u001b[0m \u001b[0;34m\u001b[0m\u001b[0m\n\u001b[1;32m   1520\u001b[0m     \u001b[0;32mdef\u001b[0m \u001b[0m_call_impl\u001b[0m\u001b[0;34m(\u001b[0m\u001b[0mself\u001b[0m\u001b[0;34m,\u001b[0m \u001b[0;34m*\u001b[0m\u001b[0margs\u001b[0m\u001b[0;34m,\u001b[0m \u001b[0;34m**\u001b[0m\u001b[0mkwargs\u001b[0m\u001b[0;34m)\u001b[0m\u001b[0;34m:\u001b[0m\u001b[0;34m\u001b[0m\u001b[0;34m\u001b[0m\u001b[0m\n",
            "\u001b[0;32m/usr/local/lib/python3.10/dist-packages/torch/nn/modules/module.py\u001b[0m in \u001b[0;36m_call_impl\u001b[0;34m(self, *args, **kwargs)\u001b[0m\n\u001b[1;32m   1525\u001b[0m                 \u001b[0;32mor\u001b[0m \u001b[0m_global_backward_pre_hooks\u001b[0m \u001b[0;32mor\u001b[0m \u001b[0m_global_backward_hooks\u001b[0m\u001b[0;34m\u001b[0m\u001b[0;34m\u001b[0m\u001b[0m\n\u001b[1;32m   1526\u001b[0m                 or _global_forward_hooks or _global_forward_pre_hooks):\n\u001b[0;32m-> 1527\u001b[0;31m             \u001b[0;32mreturn\u001b[0m \u001b[0mforward_call\u001b[0m\u001b[0;34m(\u001b[0m\u001b[0;34m*\u001b[0m\u001b[0margs\u001b[0m\u001b[0;34m,\u001b[0m \u001b[0;34m**\u001b[0m\u001b[0mkwargs\u001b[0m\u001b[0;34m)\u001b[0m\u001b[0;34m\u001b[0m\u001b[0;34m\u001b[0m\u001b[0m\n\u001b[0m\u001b[1;32m   1528\u001b[0m \u001b[0;34m\u001b[0m\u001b[0m\n\u001b[1;32m   1529\u001b[0m         \u001b[0;32mtry\u001b[0m\u001b[0;34m:\u001b[0m\u001b[0;34m\u001b[0m\u001b[0;34m\u001b[0m\u001b[0m\n",
            "\u001b[0;32m/usr/local/lib/python3.10/dist-packages/accelerate/hooks.py\u001b[0m in \u001b[0;36mnew_forward\u001b[0;34m(module, *args, **kwargs)\u001b[0m\n\u001b[1;32m    162\u001b[0m                 \u001b[0moutput\u001b[0m \u001b[0;34m=\u001b[0m \u001b[0mmodule\u001b[0m\u001b[0;34m.\u001b[0m\u001b[0m_old_forward\u001b[0m\u001b[0;34m(\u001b[0m\u001b[0;34m*\u001b[0m\u001b[0margs\u001b[0m\u001b[0;34m,\u001b[0m \u001b[0;34m**\u001b[0m\u001b[0mkwargs\u001b[0m\u001b[0;34m)\u001b[0m\u001b[0;34m\u001b[0m\u001b[0;34m\u001b[0m\u001b[0m\n\u001b[1;32m    163\u001b[0m         \u001b[0;32melse\u001b[0m\u001b[0;34m:\u001b[0m\u001b[0;34m\u001b[0m\u001b[0;34m\u001b[0m\u001b[0m\n\u001b[0;32m--> 164\u001b[0;31m             \u001b[0moutput\u001b[0m \u001b[0;34m=\u001b[0m \u001b[0mmodule\u001b[0m\u001b[0;34m.\u001b[0m\u001b[0m_old_forward\u001b[0m\u001b[0;34m(\u001b[0m\u001b[0;34m*\u001b[0m\u001b[0margs\u001b[0m\u001b[0;34m,\u001b[0m \u001b[0;34m**\u001b[0m\u001b[0mkwargs\u001b[0m\u001b[0;34m)\u001b[0m\u001b[0;34m\u001b[0m\u001b[0;34m\u001b[0m\u001b[0m\n\u001b[0m\u001b[1;32m    165\u001b[0m         \u001b[0;32mreturn\u001b[0m \u001b[0mmodule\u001b[0m\u001b[0;34m.\u001b[0m\u001b[0m_hf_hook\u001b[0m\u001b[0;34m.\u001b[0m\u001b[0mpost_forward\u001b[0m\u001b[0;34m(\u001b[0m\u001b[0mmodule\u001b[0m\u001b[0;34m,\u001b[0m \u001b[0moutput\u001b[0m\u001b[0;34m)\u001b[0m\u001b[0;34m\u001b[0m\u001b[0;34m\u001b[0m\u001b[0m\n\u001b[1;32m    166\u001b[0m \u001b[0;34m\u001b[0m\u001b[0m\n",
            "\u001b[0;32m/usr/local/lib/python3.10/dist-packages/transformers/models/llama/modeling_llama.py\u001b[0m in \u001b[0;36mforward\u001b[0;34m(self, hidden_states, attention_mask, position_ids, past_key_value, output_attentions, use_cache, padding_mask)\u001b[0m\n\u001b[1;32m    405\u001b[0m             \u001b[0mattn_output\u001b[0m \u001b[0;34m=\u001b[0m \u001b[0msum\u001b[0m\u001b[0;34m(\u001b[0m\u001b[0;34m[\u001b[0m\u001b[0mF\u001b[0m\u001b[0;34m.\u001b[0m\u001b[0mlinear\u001b[0m\u001b[0;34m(\u001b[0m\u001b[0mattn_output\u001b[0m\u001b[0;34m[\u001b[0m\u001b[0mi\u001b[0m\u001b[0;34m]\u001b[0m\u001b[0;34m,\u001b[0m \u001b[0mo_proj_slices\u001b[0m\u001b[0;34m[\u001b[0m\u001b[0mi\u001b[0m\u001b[0;34m]\u001b[0m\u001b[0;34m)\u001b[0m \u001b[0;32mfor\u001b[0m \u001b[0mi\u001b[0m \u001b[0;32min\u001b[0m \u001b[0mrange\u001b[0m\u001b[0;34m(\u001b[0m\u001b[0mself\u001b[0m\u001b[0;34m.\u001b[0m\u001b[0mconfig\u001b[0m\u001b[0;34m.\u001b[0m\u001b[0mpretraining_tp\u001b[0m\u001b[0;34m)\u001b[0m\u001b[0;34m]\u001b[0m\u001b[0;34m)\u001b[0m\u001b[0;34m\u001b[0m\u001b[0;34m\u001b[0m\u001b[0m\n\u001b[1;32m    406\u001b[0m         \u001b[0;32melse\u001b[0m\u001b[0;34m:\u001b[0m\u001b[0;34m\u001b[0m\u001b[0;34m\u001b[0m\u001b[0m\n\u001b[0;32m--> 407\u001b[0;31m             \u001b[0mattn_output\u001b[0m \u001b[0;34m=\u001b[0m \u001b[0mself\u001b[0m\u001b[0;34m.\u001b[0m\u001b[0mo_proj\u001b[0m\u001b[0;34m(\u001b[0m\u001b[0mattn_output\u001b[0m\u001b[0;34m)\u001b[0m\u001b[0;34m\u001b[0m\u001b[0;34m\u001b[0m\u001b[0m\n\u001b[0m\u001b[1;32m    408\u001b[0m \u001b[0;34m\u001b[0m\u001b[0m\n\u001b[1;32m    409\u001b[0m         \u001b[0;32mif\u001b[0m \u001b[0;32mnot\u001b[0m \u001b[0moutput_attentions\u001b[0m\u001b[0;34m:\u001b[0m\u001b[0;34m\u001b[0m\u001b[0;34m\u001b[0m\u001b[0m\n",
            "\u001b[0;32m/usr/local/lib/python3.10/dist-packages/torch/nn/modules/module.py\u001b[0m in \u001b[0;36m_wrapped_call_impl\u001b[0;34m(self, *args, **kwargs)\u001b[0m\n\u001b[1;32m   1516\u001b[0m             \u001b[0;32mreturn\u001b[0m \u001b[0mself\u001b[0m\u001b[0;34m.\u001b[0m\u001b[0m_compiled_call_impl\u001b[0m\u001b[0;34m(\u001b[0m\u001b[0;34m*\u001b[0m\u001b[0margs\u001b[0m\u001b[0;34m,\u001b[0m \u001b[0;34m**\u001b[0m\u001b[0mkwargs\u001b[0m\u001b[0;34m)\u001b[0m  \u001b[0;31m# type: ignore[misc]\u001b[0m\u001b[0;34m\u001b[0m\u001b[0;34m\u001b[0m\u001b[0m\n\u001b[1;32m   1517\u001b[0m         \u001b[0;32melse\u001b[0m\u001b[0;34m:\u001b[0m\u001b[0;34m\u001b[0m\u001b[0;34m\u001b[0m\u001b[0m\n\u001b[0;32m-> 1518\u001b[0;31m             \u001b[0;32mreturn\u001b[0m \u001b[0mself\u001b[0m\u001b[0;34m.\u001b[0m\u001b[0m_call_impl\u001b[0m\u001b[0;34m(\u001b[0m\u001b[0;34m*\u001b[0m\u001b[0margs\u001b[0m\u001b[0;34m,\u001b[0m \u001b[0;34m**\u001b[0m\u001b[0mkwargs\u001b[0m\u001b[0;34m)\u001b[0m\u001b[0;34m\u001b[0m\u001b[0;34m\u001b[0m\u001b[0m\n\u001b[0m\u001b[1;32m   1519\u001b[0m \u001b[0;34m\u001b[0m\u001b[0m\n\u001b[1;32m   1520\u001b[0m     \u001b[0;32mdef\u001b[0m \u001b[0m_call_impl\u001b[0m\u001b[0;34m(\u001b[0m\u001b[0mself\u001b[0m\u001b[0;34m,\u001b[0m \u001b[0;34m*\u001b[0m\u001b[0margs\u001b[0m\u001b[0;34m,\u001b[0m \u001b[0;34m**\u001b[0m\u001b[0mkwargs\u001b[0m\u001b[0;34m)\u001b[0m\u001b[0;34m:\u001b[0m\u001b[0;34m\u001b[0m\u001b[0;34m\u001b[0m\u001b[0m\n",
            "\u001b[0;32m/usr/local/lib/python3.10/dist-packages/torch/nn/modules/module.py\u001b[0m in \u001b[0;36m_call_impl\u001b[0;34m(self, *args, **kwargs)\u001b[0m\n\u001b[1;32m   1525\u001b[0m                 \u001b[0;32mor\u001b[0m \u001b[0m_global_backward_pre_hooks\u001b[0m \u001b[0;32mor\u001b[0m \u001b[0m_global_backward_hooks\u001b[0m\u001b[0;34m\u001b[0m\u001b[0;34m\u001b[0m\u001b[0m\n\u001b[1;32m   1526\u001b[0m                 or _global_forward_hooks or _global_forward_pre_hooks):\n\u001b[0;32m-> 1527\u001b[0;31m             \u001b[0;32mreturn\u001b[0m \u001b[0mforward_call\u001b[0m\u001b[0;34m(\u001b[0m\u001b[0;34m*\u001b[0m\u001b[0margs\u001b[0m\u001b[0;34m,\u001b[0m \u001b[0;34m**\u001b[0m\u001b[0mkwargs\u001b[0m\u001b[0;34m)\u001b[0m\u001b[0;34m\u001b[0m\u001b[0;34m\u001b[0m\u001b[0m\n\u001b[0m\u001b[1;32m   1528\u001b[0m \u001b[0;34m\u001b[0m\u001b[0m\n\u001b[1;32m   1529\u001b[0m         \u001b[0;32mtry\u001b[0m\u001b[0;34m:\u001b[0m\u001b[0;34m\u001b[0m\u001b[0;34m\u001b[0m\u001b[0m\n",
            "\u001b[0;32m/usr/local/lib/python3.10/dist-packages/accelerate/hooks.py\u001b[0m in \u001b[0;36mnew_forward\u001b[0;34m(module, *args, **kwargs)\u001b[0m\n\u001b[1;32m    157\u001b[0m \u001b[0;34m\u001b[0m\u001b[0m\n\u001b[1;32m    158\u001b[0m     \u001b[0;32mdef\u001b[0m \u001b[0mnew_forward\u001b[0m\u001b[0;34m(\u001b[0m\u001b[0mmodule\u001b[0m\u001b[0;34m,\u001b[0m \u001b[0;34m*\u001b[0m\u001b[0margs\u001b[0m\u001b[0;34m,\u001b[0m \u001b[0;34m**\u001b[0m\u001b[0mkwargs\u001b[0m\u001b[0;34m)\u001b[0m\u001b[0;34m:\u001b[0m\u001b[0;34m\u001b[0m\u001b[0;34m\u001b[0m\u001b[0m\n\u001b[0;32m--> 159\u001b[0;31m         \u001b[0margs\u001b[0m\u001b[0;34m,\u001b[0m \u001b[0mkwargs\u001b[0m \u001b[0;34m=\u001b[0m \u001b[0mmodule\u001b[0m\u001b[0;34m.\u001b[0m\u001b[0m_hf_hook\u001b[0m\u001b[0;34m.\u001b[0m\u001b[0mpre_forward\u001b[0m\u001b[0;34m(\u001b[0m\u001b[0mmodule\u001b[0m\u001b[0;34m,\u001b[0m \u001b[0;34m*\u001b[0m\u001b[0margs\u001b[0m\u001b[0;34m,\u001b[0m \u001b[0;34m**\u001b[0m\u001b[0mkwargs\u001b[0m\u001b[0;34m)\u001b[0m\u001b[0;34m\u001b[0m\u001b[0;34m\u001b[0m\u001b[0m\n\u001b[0m\u001b[1;32m    160\u001b[0m         \u001b[0;32mif\u001b[0m \u001b[0mmodule\u001b[0m\u001b[0;34m.\u001b[0m\u001b[0m_hf_hook\u001b[0m\u001b[0;34m.\u001b[0m\u001b[0mno_grad\u001b[0m\u001b[0;34m:\u001b[0m\u001b[0;34m\u001b[0m\u001b[0;34m\u001b[0m\u001b[0m\n\u001b[1;32m    161\u001b[0m             \u001b[0;32mwith\u001b[0m \u001b[0mtorch\u001b[0m\u001b[0;34m.\u001b[0m\u001b[0mno_grad\u001b[0m\u001b[0;34m(\u001b[0m\u001b[0;34m)\u001b[0m\u001b[0;34m:\u001b[0m\u001b[0;34m\u001b[0m\u001b[0;34m\u001b[0m\u001b[0m\n",
            "\u001b[0;32m/usr/local/lib/python3.10/dist-packages/accelerate/hooks.py\u001b[0m in \u001b[0;36mpre_forward\u001b[0;34m(self, module, *args, **kwargs)\u001b[0m\n\u001b[1;32m    285\u001b[0m                         \u001b[0mfp16_statistics\u001b[0m \u001b[0;34m=\u001b[0m \u001b[0mself\u001b[0m\u001b[0;34m.\u001b[0m\u001b[0mweights_map\u001b[0m\u001b[0;34m[\u001b[0m\u001b[0mname\u001b[0m\u001b[0;34m.\u001b[0m\u001b[0mreplace\u001b[0m\u001b[0;34m(\u001b[0m\u001b[0;34m\"weight\"\u001b[0m\u001b[0;34m,\u001b[0m \u001b[0;34m\"SCB\"\u001b[0m\u001b[0;34m)\u001b[0m\u001b[0;34m]\u001b[0m\u001b[0;34m\u001b[0m\u001b[0;34m\u001b[0m\u001b[0m\n\u001b[1;32m    286\u001b[0m                 set_module_tensor_to_device(\n\u001b[0;32m--> 287\u001b[0;31m                     \u001b[0mmodule\u001b[0m\u001b[0;34m,\u001b[0m \u001b[0mname\u001b[0m\u001b[0;34m,\u001b[0m \u001b[0mself\u001b[0m\u001b[0;34m.\u001b[0m\u001b[0mexecution_device\u001b[0m\u001b[0;34m,\u001b[0m \u001b[0mvalue\u001b[0m\u001b[0;34m=\u001b[0m\u001b[0mself\u001b[0m\u001b[0;34m.\u001b[0m\u001b[0mweights_map\u001b[0m\u001b[0;34m[\u001b[0m\u001b[0mname\u001b[0m\u001b[0;34m]\u001b[0m\u001b[0;34m,\u001b[0m \u001b[0mfp16_statistics\u001b[0m\u001b[0;34m=\u001b[0m\u001b[0mfp16_statistics\u001b[0m\u001b[0;34m\u001b[0m\u001b[0;34m\u001b[0m\u001b[0m\n\u001b[0m\u001b[1;32m    288\u001b[0m                 )\n\u001b[1;32m    289\u001b[0m \u001b[0;34m\u001b[0m\u001b[0m\n",
            "\u001b[0;32m/usr/local/lib/python3.10/dist-packages/accelerate/utils/offload.py\u001b[0m in \u001b[0;36m__getitem__\u001b[0;34m(self, key)\u001b[0m\n\u001b[1;32m    117\u001b[0m \u001b[0;34m\u001b[0m\u001b[0m\n\u001b[1;32m    118\u001b[0m     \u001b[0;32mdef\u001b[0m \u001b[0m__getitem__\u001b[0m\u001b[0;34m(\u001b[0m\u001b[0mself\u001b[0m\u001b[0;34m,\u001b[0m \u001b[0mkey\u001b[0m\u001b[0;34m)\u001b[0m\u001b[0;34m:\u001b[0m\u001b[0;34m\u001b[0m\u001b[0;34m\u001b[0m\u001b[0m\n\u001b[0;32m--> 119\u001b[0;31m         \u001b[0;32mreturn\u001b[0m \u001b[0mself\u001b[0m\u001b[0;34m.\u001b[0m\u001b[0mdataset\u001b[0m\u001b[0;34m[\u001b[0m\u001b[0;34mf\"{self.prefix}{key}\"\u001b[0m\u001b[0;34m]\u001b[0m\u001b[0;34m\u001b[0m\u001b[0;34m\u001b[0m\u001b[0m\n\u001b[0m\u001b[1;32m    120\u001b[0m \u001b[0;34m\u001b[0m\u001b[0m\n\u001b[1;32m    121\u001b[0m     \u001b[0;32mdef\u001b[0m \u001b[0m__iter__\u001b[0m\u001b[0;34m(\u001b[0m\u001b[0mself\u001b[0m\u001b[0;34m)\u001b[0m\u001b[0;34m:\u001b[0m\u001b[0;34m\u001b[0m\u001b[0;34m\u001b[0m\u001b[0m\n",
            "\u001b[0;32m/usr/local/lib/python3.10/dist-packages/accelerate/utils/offload.py\u001b[0m in \u001b[0;36m__getitem__\u001b[0;34m(self, key)\u001b[0m\n\u001b[1;32m    176\u001b[0m \u001b[0;34m\u001b[0m\u001b[0m\n\u001b[1;32m    177\u001b[0m             \u001b[0;32mif\u001b[0m \u001b[0;34m\"dtype\"\u001b[0m \u001b[0;32min\u001b[0m \u001b[0mweight_info\u001b[0m\u001b[0;34m:\u001b[0m\u001b[0;34m\u001b[0m\u001b[0;34m\u001b[0m\u001b[0m\n\u001b[0;32m--> 178\u001b[0;31m                 \u001b[0;32mreturn\u001b[0m \u001b[0mtensor\u001b[0m\u001b[0;34m.\u001b[0m\u001b[0mto\u001b[0m\u001b[0;34m(\u001b[0m\u001b[0mgetattr\u001b[0m\u001b[0;34m(\u001b[0m\u001b[0mtorch\u001b[0m\u001b[0;34m,\u001b[0m \u001b[0mweight_info\u001b[0m\u001b[0;34m[\u001b[0m\u001b[0;34m\"dtype\"\u001b[0m\u001b[0;34m]\u001b[0m\u001b[0;34m)\u001b[0m\u001b[0;34m)\u001b[0m\u001b[0;34m\u001b[0m\u001b[0;34m\u001b[0m\u001b[0m\n\u001b[0m\u001b[1;32m    179\u001b[0m             \u001b[0;32melse\u001b[0m\u001b[0;34m:\u001b[0m\u001b[0;34m\u001b[0m\u001b[0;34m\u001b[0m\u001b[0m\n\u001b[1;32m    180\u001b[0m                 \u001b[0;32mreturn\u001b[0m \u001b[0mtensor\u001b[0m\u001b[0;34m\u001b[0m\u001b[0;34m\u001b[0m\u001b[0m\n",
            "\u001b[0;31mKeyboardInterrupt\u001b[0m: "
          ]
        }
      ]
    },
    {
      "cell_type": "code",
      "source": [
        "llm = HuggingFacePipeline(pipeline=query_pipeline)\n",
        "# checking again that everything is working fine\n",
        "llm(prompt=\"What is the most common application of machine learning for inventory maangement?\")"
      ],
      "metadata": {
        "colab": {
          "base_uri": "https://localhost:8080/",
          "height": 363
        },
        "id": "InaGmW7anMt2",
        "outputId": "60cb9b16-4154-426a-b4fb-b0de59be6559"
      },
      "execution_count": 19,
      "outputs": [
        {
          "output_type": "error",
          "ename": "KeyboardInterrupt",
          "evalue": "ignored",
          "traceback": [
            "\u001b[0;31m---------------------------------------------------------------------------\u001b[0m",
            "\u001b[0;31mKeyboardInterrupt\u001b[0m                         Traceback (most recent call last)",
            "\u001b[0;32m<ipython-input-19-dc4cee5d0e4a>\u001b[0m in \u001b[0;36m<cell line: 3>\u001b[0;34m()\u001b[0m\n\u001b[1;32m      1\u001b[0m \u001b[0mllm\u001b[0m \u001b[0;34m=\u001b[0m \u001b[0mHuggingFacePipeline\u001b[0m\u001b[0;34m(\u001b[0m\u001b[0mpipeline\u001b[0m\u001b[0;34m=\u001b[0m\u001b[0mquery_pipeline\u001b[0m\u001b[0;34m)\u001b[0m\u001b[0;34m\u001b[0m\u001b[0;34m\u001b[0m\u001b[0m\n\u001b[1;32m      2\u001b[0m \u001b[0;31m# checking again that everything is working fine\u001b[0m\u001b[0;34m\u001b[0m\u001b[0;34m\u001b[0m\u001b[0m\n\u001b[0;32m----> 3\u001b[0;31m \u001b[0mllm\u001b[0m\u001b[0;34m(\u001b[0m\u001b[0mprompt\u001b[0m\u001b[0;34m=\u001b[0m\u001b[0;34m\"What is the most common application of machine learning for inventory maangement?\"\u001b[0m\u001b[0;34m)\u001b[0m\u001b[0;34m\u001b[0m\u001b[0;34m\u001b[0m\u001b[0m\n\u001b[0m",
            "\u001b[0;32m/usr/local/lib/python3.10/dist-packages/langchain/llms/base.py\u001b[0m in \u001b[0;36m__call__\u001b[0;34m(self, prompt, stop, callbacks, tags, metadata, **kwargs)\u001b[0m\n\u001b[1;32m    868\u001b[0m             )\n\u001b[1;32m    869\u001b[0m         return (\n\u001b[0;32m--> 870\u001b[0;31m             self.generate(\n\u001b[0m\u001b[1;32m    871\u001b[0m                 \u001b[0;34m[\u001b[0m\u001b[0mprompt\u001b[0m\u001b[0;34m]\u001b[0m\u001b[0;34m,\u001b[0m\u001b[0;34m\u001b[0m\u001b[0;34m\u001b[0m\u001b[0m\n\u001b[1;32m    872\u001b[0m                 \u001b[0mstop\u001b[0m\u001b[0;34m=\u001b[0m\u001b[0mstop\u001b[0m\u001b[0;34m,\u001b[0m\u001b[0;34m\u001b[0m\u001b[0;34m\u001b[0m\u001b[0m\n",
            "\u001b[0;32m/usr/local/lib/python3.10/dist-packages/langchain/llms/base.py\u001b[0m in \u001b[0;36mgenerate\u001b[0;34m(self, prompts, stop, callbacks, tags, metadata, run_name, **kwargs)\u001b[0m\n\u001b[1;32m    648\u001b[0m                 )\n\u001b[1;32m    649\u001b[0m             ]\n\u001b[0;32m--> 650\u001b[0;31m             output = self._generate_helper(\n\u001b[0m\u001b[1;32m    651\u001b[0m                 \u001b[0mprompts\u001b[0m\u001b[0;34m,\u001b[0m \u001b[0mstop\u001b[0m\u001b[0;34m,\u001b[0m \u001b[0mrun_managers\u001b[0m\u001b[0;34m,\u001b[0m \u001b[0mbool\u001b[0m\u001b[0;34m(\u001b[0m\u001b[0mnew_arg_supported\u001b[0m\u001b[0;34m)\u001b[0m\u001b[0;34m,\u001b[0m \u001b[0;34m**\u001b[0m\u001b[0mkwargs\u001b[0m\u001b[0;34m\u001b[0m\u001b[0;34m\u001b[0m\u001b[0m\n\u001b[1;32m    652\u001b[0m             )\n",
            "\u001b[0;32m/usr/local/lib/python3.10/dist-packages/langchain/llms/base.py\u001b[0m in \u001b[0;36m_generate_helper\u001b[0;34m(self, prompts, stop, run_managers, new_arg_supported, **kwargs)\u001b[0m\n\u001b[1;32m    536\u001b[0m             \u001b[0;32mfor\u001b[0m \u001b[0mrun_manager\u001b[0m \u001b[0;32min\u001b[0m \u001b[0mrun_managers\u001b[0m\u001b[0;34m:\u001b[0m\u001b[0;34m\u001b[0m\u001b[0;34m\u001b[0m\u001b[0m\n\u001b[1;32m    537\u001b[0m                 \u001b[0mrun_manager\u001b[0m\u001b[0;34m.\u001b[0m\u001b[0mon_llm_error\u001b[0m\u001b[0;34m(\u001b[0m\u001b[0me\u001b[0m\u001b[0;34m)\u001b[0m\u001b[0;34m\u001b[0m\u001b[0;34m\u001b[0m\u001b[0m\n\u001b[0;32m--> 538\u001b[0;31m             \u001b[0;32mraise\u001b[0m \u001b[0me\u001b[0m\u001b[0;34m\u001b[0m\u001b[0;34m\u001b[0m\u001b[0m\n\u001b[0m\u001b[1;32m    539\u001b[0m         \u001b[0mflattened_outputs\u001b[0m \u001b[0;34m=\u001b[0m \u001b[0moutput\u001b[0m\u001b[0;34m.\u001b[0m\u001b[0mflatten\u001b[0m\u001b[0;34m(\u001b[0m\u001b[0;34m)\u001b[0m\u001b[0;34m\u001b[0m\u001b[0;34m\u001b[0m\u001b[0m\n\u001b[1;32m    540\u001b[0m         \u001b[0;32mfor\u001b[0m \u001b[0mmanager\u001b[0m\u001b[0;34m,\u001b[0m \u001b[0mflattened_output\u001b[0m \u001b[0;32min\u001b[0m \u001b[0mzip\u001b[0m\u001b[0;34m(\u001b[0m\u001b[0mrun_managers\u001b[0m\u001b[0;34m,\u001b[0m \u001b[0mflattened_outputs\u001b[0m\u001b[0;34m)\u001b[0m\u001b[0;34m:\u001b[0m\u001b[0;34m\u001b[0m\u001b[0;34m\u001b[0m\u001b[0m\n",
            "\u001b[0;32m/usr/local/lib/python3.10/dist-packages/langchain/llms/base.py\u001b[0m in \u001b[0;36m_generate_helper\u001b[0;34m(self, prompts, stop, run_managers, new_arg_supported, **kwargs)\u001b[0m\n\u001b[1;32m    523\u001b[0m         \u001b[0;32mtry\u001b[0m\u001b[0;34m:\u001b[0m\u001b[0;34m\u001b[0m\u001b[0;34m\u001b[0m\u001b[0m\n\u001b[1;32m    524\u001b[0m             output = (\n\u001b[0;32m--> 525\u001b[0;31m                 self._generate(\n\u001b[0m\u001b[1;32m    526\u001b[0m                     \u001b[0mprompts\u001b[0m\u001b[0;34m,\u001b[0m\u001b[0;34m\u001b[0m\u001b[0;34m\u001b[0m\u001b[0m\n\u001b[1;32m    527\u001b[0m                     \u001b[0mstop\u001b[0m\u001b[0;34m=\u001b[0m\u001b[0mstop\u001b[0m\u001b[0;34m,\u001b[0m\u001b[0;34m\u001b[0m\u001b[0;34m\u001b[0m\u001b[0m\n",
            "\u001b[0;32m/usr/local/lib/python3.10/dist-packages/langchain/llms/huggingface_pipeline.py\u001b[0m in \u001b[0;36m_generate\u001b[0;34m(self, prompts, stop, run_manager, **kwargs)\u001b[0m\n\u001b[1;32m    193\u001b[0m \u001b[0;34m\u001b[0m\u001b[0m\n\u001b[1;32m    194\u001b[0m             \u001b[0;31m# Process batch of prompts\u001b[0m\u001b[0;34m\u001b[0m\u001b[0;34m\u001b[0m\u001b[0m\n\u001b[0;32m--> 195\u001b[0;31m             \u001b[0mresponses\u001b[0m \u001b[0;34m=\u001b[0m \u001b[0mself\u001b[0m\u001b[0;34m.\u001b[0m\u001b[0mpipeline\u001b[0m\u001b[0;34m(\u001b[0m\u001b[0mbatch_prompts\u001b[0m\u001b[0;34m)\u001b[0m\u001b[0;34m\u001b[0m\u001b[0;34m\u001b[0m\u001b[0m\n\u001b[0m\u001b[1;32m    196\u001b[0m \u001b[0;34m\u001b[0m\u001b[0m\n\u001b[1;32m    197\u001b[0m             \u001b[0;31m# Process each response in the batch\u001b[0m\u001b[0;34m\u001b[0m\u001b[0;34m\u001b[0m\u001b[0m\n",
            "\u001b[0;32m/usr/local/lib/python3.10/dist-packages/transformers/pipelines/text_generation.py\u001b[0m in \u001b[0;36m__call__\u001b[0;34m(self, text_inputs, **kwargs)\u001b[0m\n\u001b[1;32m    206\u001b[0m               \u001b[0mids\u001b[0m \u001b[0mof\u001b[0m \u001b[0mthe\u001b[0m \u001b[0mgenerated\u001b[0m \u001b[0mtext\u001b[0m\u001b[0;34m.\u001b[0m\u001b[0;34m\u001b[0m\u001b[0;34m\u001b[0m\u001b[0m\n\u001b[1;32m    207\u001b[0m         \"\"\"\n\u001b[0;32m--> 208\u001b[0;31m         \u001b[0;32mreturn\u001b[0m \u001b[0msuper\u001b[0m\u001b[0;34m(\u001b[0m\u001b[0;34m)\u001b[0m\u001b[0;34m.\u001b[0m\u001b[0m__call__\u001b[0m\u001b[0;34m(\u001b[0m\u001b[0mtext_inputs\u001b[0m\u001b[0;34m,\u001b[0m \u001b[0;34m**\u001b[0m\u001b[0mkwargs\u001b[0m\u001b[0;34m)\u001b[0m\u001b[0;34m\u001b[0m\u001b[0;34m\u001b[0m\u001b[0m\n\u001b[0m\u001b[1;32m    209\u001b[0m \u001b[0;34m\u001b[0m\u001b[0m\n\u001b[1;32m    210\u001b[0m     def preprocess(\n",
            "\u001b[0;32m/usr/local/lib/python3.10/dist-packages/transformers/pipelines/base.py\u001b[0m in \u001b[0;36m__call__\u001b[0;34m(self, inputs, num_workers, batch_size, *args, **kwargs)\u001b[0m\n\u001b[1;32m   1119\u001b[0m                     \u001b[0minputs\u001b[0m\u001b[0;34m,\u001b[0m \u001b[0mnum_workers\u001b[0m\u001b[0;34m,\u001b[0m \u001b[0mbatch_size\u001b[0m\u001b[0;34m,\u001b[0m \u001b[0mpreprocess_params\u001b[0m\u001b[0;34m,\u001b[0m \u001b[0mforward_params\u001b[0m\u001b[0;34m,\u001b[0m \u001b[0mpostprocess_params\u001b[0m\u001b[0;34m\u001b[0m\u001b[0;34m\u001b[0m\u001b[0m\n\u001b[1;32m   1120\u001b[0m                 )\n\u001b[0;32m-> 1121\u001b[0;31m                 \u001b[0moutputs\u001b[0m \u001b[0;34m=\u001b[0m \u001b[0mlist\u001b[0m\u001b[0;34m(\u001b[0m\u001b[0mfinal_iterator\u001b[0m\u001b[0;34m)\u001b[0m\u001b[0;34m\u001b[0m\u001b[0;34m\u001b[0m\u001b[0m\n\u001b[0m\u001b[1;32m   1122\u001b[0m                 \u001b[0;32mreturn\u001b[0m \u001b[0moutputs\u001b[0m\u001b[0;34m\u001b[0m\u001b[0;34m\u001b[0m\u001b[0m\n\u001b[1;32m   1123\u001b[0m             \u001b[0;32melse\u001b[0m\u001b[0;34m:\u001b[0m\u001b[0;34m\u001b[0m\u001b[0;34m\u001b[0m\u001b[0m\n",
            "\u001b[0;32m/usr/local/lib/python3.10/dist-packages/transformers/pipelines/pt_utils.py\u001b[0m in \u001b[0;36m__next__\u001b[0;34m(self)\u001b[0m\n\u001b[1;32m    122\u001b[0m \u001b[0;34m\u001b[0m\u001b[0m\n\u001b[1;32m    123\u001b[0m         \u001b[0;31m# We're out of items within a batch\u001b[0m\u001b[0;34m\u001b[0m\u001b[0;34m\u001b[0m\u001b[0m\n\u001b[0;32m--> 124\u001b[0;31m         \u001b[0mitem\u001b[0m \u001b[0;34m=\u001b[0m \u001b[0mnext\u001b[0m\u001b[0;34m(\u001b[0m\u001b[0mself\u001b[0m\u001b[0;34m.\u001b[0m\u001b[0miterator\u001b[0m\u001b[0;34m)\u001b[0m\u001b[0;34m\u001b[0m\u001b[0;34m\u001b[0m\u001b[0m\n\u001b[0m\u001b[1;32m    125\u001b[0m         \u001b[0mprocessed\u001b[0m \u001b[0;34m=\u001b[0m \u001b[0mself\u001b[0m\u001b[0;34m.\u001b[0m\u001b[0minfer\u001b[0m\u001b[0;34m(\u001b[0m\u001b[0mitem\u001b[0m\u001b[0;34m,\u001b[0m \u001b[0;34m**\u001b[0m\u001b[0mself\u001b[0m\u001b[0;34m.\u001b[0m\u001b[0mparams\u001b[0m\u001b[0;34m)\u001b[0m\u001b[0;34m\u001b[0m\u001b[0;34m\u001b[0m\u001b[0m\n\u001b[1;32m    126\u001b[0m         \u001b[0;31m# We now have a batch of \"inferred things\".\u001b[0m\u001b[0;34m\u001b[0m\u001b[0;34m\u001b[0m\u001b[0m\n",
            "\u001b[0;32m/usr/local/lib/python3.10/dist-packages/transformers/pipelines/pt_utils.py\u001b[0m in \u001b[0;36m__next__\u001b[0;34m(self)\u001b[0m\n\u001b[1;32m    123\u001b[0m         \u001b[0;31m# We're out of items within a batch\u001b[0m\u001b[0;34m\u001b[0m\u001b[0;34m\u001b[0m\u001b[0m\n\u001b[1;32m    124\u001b[0m         \u001b[0mitem\u001b[0m \u001b[0;34m=\u001b[0m \u001b[0mnext\u001b[0m\u001b[0;34m(\u001b[0m\u001b[0mself\u001b[0m\u001b[0;34m.\u001b[0m\u001b[0miterator\u001b[0m\u001b[0;34m)\u001b[0m\u001b[0;34m\u001b[0m\u001b[0;34m\u001b[0m\u001b[0m\n\u001b[0;32m--> 125\u001b[0;31m         \u001b[0mprocessed\u001b[0m \u001b[0;34m=\u001b[0m \u001b[0mself\u001b[0m\u001b[0;34m.\u001b[0m\u001b[0minfer\u001b[0m\u001b[0;34m(\u001b[0m\u001b[0mitem\u001b[0m\u001b[0;34m,\u001b[0m \u001b[0;34m**\u001b[0m\u001b[0mself\u001b[0m\u001b[0;34m.\u001b[0m\u001b[0mparams\u001b[0m\u001b[0;34m)\u001b[0m\u001b[0;34m\u001b[0m\u001b[0;34m\u001b[0m\u001b[0m\n\u001b[0m\u001b[1;32m    126\u001b[0m         \u001b[0;31m# We now have a batch of \"inferred things\".\u001b[0m\u001b[0;34m\u001b[0m\u001b[0;34m\u001b[0m\u001b[0m\n\u001b[1;32m    127\u001b[0m         \u001b[0;32mif\u001b[0m \u001b[0mself\u001b[0m\u001b[0;34m.\u001b[0m\u001b[0mloader_batch_size\u001b[0m \u001b[0;32mis\u001b[0m \u001b[0;32mnot\u001b[0m \u001b[0;32mNone\u001b[0m\u001b[0;34m:\u001b[0m\u001b[0;34m\u001b[0m\u001b[0;34m\u001b[0m\u001b[0m\n",
            "\u001b[0;32m/usr/local/lib/python3.10/dist-packages/transformers/pipelines/base.py\u001b[0m in \u001b[0;36mforward\u001b[0;34m(self, model_inputs, **forward_params)\u001b[0m\n\u001b[1;32m   1044\u001b[0m                 \u001b[0;32mwith\u001b[0m \u001b[0minference_context\u001b[0m\u001b[0;34m(\u001b[0m\u001b[0;34m)\u001b[0m\u001b[0;34m:\u001b[0m\u001b[0;34m\u001b[0m\u001b[0;34m\u001b[0m\u001b[0m\n\u001b[1;32m   1045\u001b[0m                     \u001b[0mmodel_inputs\u001b[0m \u001b[0;34m=\u001b[0m \u001b[0mself\u001b[0m\u001b[0;34m.\u001b[0m\u001b[0m_ensure_tensor_on_device\u001b[0m\u001b[0;34m(\u001b[0m\u001b[0mmodel_inputs\u001b[0m\u001b[0;34m,\u001b[0m \u001b[0mdevice\u001b[0m\u001b[0;34m=\u001b[0m\u001b[0mself\u001b[0m\u001b[0;34m.\u001b[0m\u001b[0mdevice\u001b[0m\u001b[0;34m)\u001b[0m\u001b[0;34m\u001b[0m\u001b[0;34m\u001b[0m\u001b[0m\n\u001b[0;32m-> 1046\u001b[0;31m                     \u001b[0mmodel_outputs\u001b[0m \u001b[0;34m=\u001b[0m \u001b[0mself\u001b[0m\u001b[0;34m.\u001b[0m\u001b[0m_forward\u001b[0m\u001b[0;34m(\u001b[0m\u001b[0mmodel_inputs\u001b[0m\u001b[0;34m,\u001b[0m \u001b[0;34m**\u001b[0m\u001b[0mforward_params\u001b[0m\u001b[0;34m)\u001b[0m\u001b[0;34m\u001b[0m\u001b[0;34m\u001b[0m\u001b[0m\n\u001b[0m\u001b[1;32m   1047\u001b[0m                     \u001b[0mmodel_outputs\u001b[0m \u001b[0;34m=\u001b[0m \u001b[0mself\u001b[0m\u001b[0;34m.\u001b[0m\u001b[0m_ensure_tensor_on_device\u001b[0m\u001b[0;34m(\u001b[0m\u001b[0mmodel_outputs\u001b[0m\u001b[0;34m,\u001b[0m \u001b[0mdevice\u001b[0m\u001b[0;34m=\u001b[0m\u001b[0mtorch\u001b[0m\u001b[0;34m.\u001b[0m\u001b[0mdevice\u001b[0m\u001b[0;34m(\u001b[0m\u001b[0;34m\"cpu\"\u001b[0m\u001b[0;34m)\u001b[0m\u001b[0;34m)\u001b[0m\u001b[0;34m\u001b[0m\u001b[0;34m\u001b[0m\u001b[0m\n\u001b[1;32m   1048\u001b[0m             \u001b[0;32melse\u001b[0m\u001b[0;34m:\u001b[0m\u001b[0;34m\u001b[0m\u001b[0;34m\u001b[0m\u001b[0m\n",
            "\u001b[0;32m/usr/local/lib/python3.10/dist-packages/transformers/pipelines/text_generation.py\u001b[0m in \u001b[0;36m_forward\u001b[0;34m(self, model_inputs, **generate_kwargs)\u001b[0m\n\u001b[1;32m    269\u001b[0m \u001b[0;34m\u001b[0m\u001b[0m\n\u001b[1;32m    270\u001b[0m         \u001b[0;31m# BS x SL\u001b[0m\u001b[0;34m\u001b[0m\u001b[0;34m\u001b[0m\u001b[0m\n\u001b[0;32m--> 271\u001b[0;31m         \u001b[0mgenerated_sequence\u001b[0m \u001b[0;34m=\u001b[0m \u001b[0mself\u001b[0m\u001b[0;34m.\u001b[0m\u001b[0mmodel\u001b[0m\u001b[0;34m.\u001b[0m\u001b[0mgenerate\u001b[0m\u001b[0;34m(\u001b[0m\u001b[0minput_ids\u001b[0m\u001b[0;34m=\u001b[0m\u001b[0minput_ids\u001b[0m\u001b[0;34m,\u001b[0m \u001b[0mattention_mask\u001b[0m\u001b[0;34m=\u001b[0m\u001b[0mattention_mask\u001b[0m\u001b[0;34m,\u001b[0m \u001b[0;34m**\u001b[0m\u001b[0mgenerate_kwargs\u001b[0m\u001b[0;34m)\u001b[0m\u001b[0;34m\u001b[0m\u001b[0;34m\u001b[0m\u001b[0m\n\u001b[0m\u001b[1;32m    272\u001b[0m         \u001b[0mout_b\u001b[0m \u001b[0;34m=\u001b[0m \u001b[0mgenerated_sequence\u001b[0m\u001b[0;34m.\u001b[0m\u001b[0mshape\u001b[0m\u001b[0;34m[\u001b[0m\u001b[0;36m0\u001b[0m\u001b[0;34m]\u001b[0m\u001b[0;34m\u001b[0m\u001b[0;34m\u001b[0m\u001b[0m\n\u001b[1;32m    273\u001b[0m         \u001b[0;32mif\u001b[0m \u001b[0mself\u001b[0m\u001b[0;34m.\u001b[0m\u001b[0mframework\u001b[0m \u001b[0;34m==\u001b[0m \u001b[0;34m\"pt\"\u001b[0m\u001b[0;34m:\u001b[0m\u001b[0;34m\u001b[0m\u001b[0;34m\u001b[0m\u001b[0m\n",
            "\u001b[0;32m/usr/local/lib/python3.10/dist-packages/torch/utils/_contextlib.py\u001b[0m in \u001b[0;36mdecorate_context\u001b[0;34m(*args, **kwargs)\u001b[0m\n\u001b[1;32m    113\u001b[0m     \u001b[0;32mdef\u001b[0m \u001b[0mdecorate_context\u001b[0m\u001b[0;34m(\u001b[0m\u001b[0;34m*\u001b[0m\u001b[0margs\u001b[0m\u001b[0;34m,\u001b[0m \u001b[0;34m**\u001b[0m\u001b[0mkwargs\u001b[0m\u001b[0;34m)\u001b[0m\u001b[0;34m:\u001b[0m\u001b[0;34m\u001b[0m\u001b[0;34m\u001b[0m\u001b[0m\n\u001b[1;32m    114\u001b[0m         \u001b[0;32mwith\u001b[0m \u001b[0mctx_factory\u001b[0m\u001b[0;34m(\u001b[0m\u001b[0;34m)\u001b[0m\u001b[0;34m:\u001b[0m\u001b[0;34m\u001b[0m\u001b[0;34m\u001b[0m\u001b[0m\n\u001b[0;32m--> 115\u001b[0;31m             \u001b[0;32mreturn\u001b[0m \u001b[0mfunc\u001b[0m\u001b[0;34m(\u001b[0m\u001b[0;34m*\u001b[0m\u001b[0margs\u001b[0m\u001b[0;34m,\u001b[0m \u001b[0;34m**\u001b[0m\u001b[0mkwargs\u001b[0m\u001b[0;34m)\u001b[0m\u001b[0;34m\u001b[0m\u001b[0;34m\u001b[0m\u001b[0m\n\u001b[0m\u001b[1;32m    116\u001b[0m \u001b[0;34m\u001b[0m\u001b[0m\n\u001b[1;32m    117\u001b[0m     \u001b[0;32mreturn\u001b[0m \u001b[0mdecorate_context\u001b[0m\u001b[0;34m\u001b[0m\u001b[0;34m\u001b[0m\u001b[0m\n",
            "\u001b[0;32m/usr/local/lib/python3.10/dist-packages/transformers/generation/utils.py\u001b[0m in \u001b[0;36mgenerate\u001b[0;34m(self, inputs, generation_config, logits_processor, stopping_criteria, prefix_allowed_tokens_fn, synced_gpus, assistant_model, streamer, negative_prompt_ids, negative_prompt_attention_mask, **kwargs)\u001b[0m\n\u001b[1;32m   1650\u001b[0m \u001b[0;34m\u001b[0m\u001b[0m\n\u001b[1;32m   1651\u001b[0m             \u001b[0;31m# 13. run sample\u001b[0m\u001b[0;34m\u001b[0m\u001b[0;34m\u001b[0m\u001b[0m\n\u001b[0;32m-> 1652\u001b[0;31m             return self.sample(\n\u001b[0m\u001b[1;32m   1653\u001b[0m                 \u001b[0minput_ids\u001b[0m\u001b[0;34m,\u001b[0m\u001b[0;34m\u001b[0m\u001b[0;34m\u001b[0m\u001b[0m\n\u001b[1;32m   1654\u001b[0m                 \u001b[0mlogits_processor\u001b[0m\u001b[0;34m=\u001b[0m\u001b[0mlogits_processor\u001b[0m\u001b[0;34m,\u001b[0m\u001b[0;34m\u001b[0m\u001b[0;34m\u001b[0m\u001b[0m\n",
            "\u001b[0;32m/usr/local/lib/python3.10/dist-packages/transformers/generation/utils.py\u001b[0m in \u001b[0;36msample\u001b[0;34m(self, input_ids, logits_processor, stopping_criteria, logits_warper, max_length, pad_token_id, eos_token_id, output_attentions, output_hidden_states, output_scores, return_dict_in_generate, synced_gpus, streamer, **model_kwargs)\u001b[0m\n\u001b[1;32m   2732\u001b[0m \u001b[0;34m\u001b[0m\u001b[0m\n\u001b[1;32m   2733\u001b[0m             \u001b[0;31m# forward pass to get next token\u001b[0m\u001b[0;34m\u001b[0m\u001b[0;34m\u001b[0m\u001b[0m\n\u001b[0;32m-> 2734\u001b[0;31m             outputs = self(\n\u001b[0m\u001b[1;32m   2735\u001b[0m                 \u001b[0;34m**\u001b[0m\u001b[0mmodel_inputs\u001b[0m\u001b[0;34m,\u001b[0m\u001b[0;34m\u001b[0m\u001b[0;34m\u001b[0m\u001b[0m\n\u001b[1;32m   2736\u001b[0m                 \u001b[0mreturn_dict\u001b[0m\u001b[0;34m=\u001b[0m\u001b[0;32mTrue\u001b[0m\u001b[0;34m,\u001b[0m\u001b[0;34m\u001b[0m\u001b[0;34m\u001b[0m\u001b[0m\n",
            "\u001b[0;32m/usr/local/lib/python3.10/dist-packages/torch/nn/modules/module.py\u001b[0m in \u001b[0;36m_wrapped_call_impl\u001b[0;34m(self, *args, **kwargs)\u001b[0m\n\u001b[1;32m   1516\u001b[0m             \u001b[0;32mreturn\u001b[0m \u001b[0mself\u001b[0m\u001b[0;34m.\u001b[0m\u001b[0m_compiled_call_impl\u001b[0m\u001b[0;34m(\u001b[0m\u001b[0;34m*\u001b[0m\u001b[0margs\u001b[0m\u001b[0;34m,\u001b[0m \u001b[0;34m**\u001b[0m\u001b[0mkwargs\u001b[0m\u001b[0;34m)\u001b[0m  \u001b[0;31m# type: ignore[misc]\u001b[0m\u001b[0;34m\u001b[0m\u001b[0;34m\u001b[0m\u001b[0m\n\u001b[1;32m   1517\u001b[0m         \u001b[0;32melse\u001b[0m\u001b[0;34m:\u001b[0m\u001b[0;34m\u001b[0m\u001b[0;34m\u001b[0m\u001b[0m\n\u001b[0;32m-> 1518\u001b[0;31m             \u001b[0;32mreturn\u001b[0m \u001b[0mself\u001b[0m\u001b[0;34m.\u001b[0m\u001b[0m_call_impl\u001b[0m\u001b[0;34m(\u001b[0m\u001b[0;34m*\u001b[0m\u001b[0margs\u001b[0m\u001b[0;34m,\u001b[0m \u001b[0;34m**\u001b[0m\u001b[0mkwargs\u001b[0m\u001b[0;34m)\u001b[0m\u001b[0;34m\u001b[0m\u001b[0;34m\u001b[0m\u001b[0m\n\u001b[0m\u001b[1;32m   1519\u001b[0m \u001b[0;34m\u001b[0m\u001b[0m\n\u001b[1;32m   1520\u001b[0m     \u001b[0;32mdef\u001b[0m \u001b[0m_call_impl\u001b[0m\u001b[0;34m(\u001b[0m\u001b[0mself\u001b[0m\u001b[0;34m,\u001b[0m \u001b[0;34m*\u001b[0m\u001b[0margs\u001b[0m\u001b[0;34m,\u001b[0m \u001b[0;34m**\u001b[0m\u001b[0mkwargs\u001b[0m\u001b[0;34m)\u001b[0m\u001b[0;34m:\u001b[0m\u001b[0;34m\u001b[0m\u001b[0;34m\u001b[0m\u001b[0m\n",
            "\u001b[0;32m/usr/local/lib/python3.10/dist-packages/torch/nn/modules/module.py\u001b[0m in \u001b[0;36m_call_impl\u001b[0;34m(self, *args, **kwargs)\u001b[0m\n\u001b[1;32m   1525\u001b[0m                 \u001b[0;32mor\u001b[0m \u001b[0m_global_backward_pre_hooks\u001b[0m \u001b[0;32mor\u001b[0m \u001b[0m_global_backward_hooks\u001b[0m\u001b[0;34m\u001b[0m\u001b[0;34m\u001b[0m\u001b[0m\n\u001b[1;32m   1526\u001b[0m                 or _global_forward_hooks or _global_forward_pre_hooks):\n\u001b[0;32m-> 1527\u001b[0;31m             \u001b[0;32mreturn\u001b[0m \u001b[0mforward_call\u001b[0m\u001b[0;34m(\u001b[0m\u001b[0;34m*\u001b[0m\u001b[0margs\u001b[0m\u001b[0;34m,\u001b[0m \u001b[0;34m**\u001b[0m\u001b[0mkwargs\u001b[0m\u001b[0;34m)\u001b[0m\u001b[0;34m\u001b[0m\u001b[0;34m\u001b[0m\u001b[0m\n\u001b[0m\u001b[1;32m   1528\u001b[0m \u001b[0;34m\u001b[0m\u001b[0m\n\u001b[1;32m   1529\u001b[0m         \u001b[0;32mtry\u001b[0m\u001b[0;34m:\u001b[0m\u001b[0;34m\u001b[0m\u001b[0;34m\u001b[0m\u001b[0m\n",
            "\u001b[0;32m/usr/local/lib/python3.10/dist-packages/accelerate/hooks.py\u001b[0m in \u001b[0;36mnew_forward\u001b[0;34m(module, *args, **kwargs)\u001b[0m\n\u001b[1;32m    162\u001b[0m                 \u001b[0moutput\u001b[0m \u001b[0;34m=\u001b[0m \u001b[0mmodule\u001b[0m\u001b[0;34m.\u001b[0m\u001b[0m_old_forward\u001b[0m\u001b[0;34m(\u001b[0m\u001b[0;34m*\u001b[0m\u001b[0margs\u001b[0m\u001b[0;34m,\u001b[0m \u001b[0;34m**\u001b[0m\u001b[0mkwargs\u001b[0m\u001b[0;34m)\u001b[0m\u001b[0;34m\u001b[0m\u001b[0;34m\u001b[0m\u001b[0m\n\u001b[1;32m    163\u001b[0m         \u001b[0;32melse\u001b[0m\u001b[0;34m:\u001b[0m\u001b[0;34m\u001b[0m\u001b[0;34m\u001b[0m\u001b[0m\n\u001b[0;32m--> 164\u001b[0;31m             \u001b[0moutput\u001b[0m \u001b[0;34m=\u001b[0m \u001b[0mmodule\u001b[0m\u001b[0;34m.\u001b[0m\u001b[0m_old_forward\u001b[0m\u001b[0;34m(\u001b[0m\u001b[0;34m*\u001b[0m\u001b[0margs\u001b[0m\u001b[0;34m,\u001b[0m \u001b[0;34m**\u001b[0m\u001b[0mkwargs\u001b[0m\u001b[0;34m)\u001b[0m\u001b[0;34m\u001b[0m\u001b[0;34m\u001b[0m\u001b[0m\n\u001b[0m\u001b[1;32m    165\u001b[0m         \u001b[0;32mreturn\u001b[0m \u001b[0mmodule\u001b[0m\u001b[0;34m.\u001b[0m\u001b[0m_hf_hook\u001b[0m\u001b[0;34m.\u001b[0m\u001b[0mpost_forward\u001b[0m\u001b[0;34m(\u001b[0m\u001b[0mmodule\u001b[0m\u001b[0;34m,\u001b[0m \u001b[0moutput\u001b[0m\u001b[0;34m)\u001b[0m\u001b[0;34m\u001b[0m\u001b[0;34m\u001b[0m\u001b[0m\n\u001b[1;32m    166\u001b[0m \u001b[0;34m\u001b[0m\u001b[0m\n",
            "\u001b[0;32m/usr/local/lib/python3.10/dist-packages/transformers/models/llama/modeling_llama.py\u001b[0m in \u001b[0;36mforward\u001b[0;34m(self, input_ids, attention_mask, position_ids, past_key_values, inputs_embeds, labels, use_cache, output_attentions, output_hidden_states, return_dict)\u001b[0m\n\u001b[1;32m   1036\u001b[0m \u001b[0;34m\u001b[0m\u001b[0m\n\u001b[1;32m   1037\u001b[0m         \u001b[0;31m# decoder outputs consists of (dec_features, layer_state, dec_hidden, dec_attn)\u001b[0m\u001b[0;34m\u001b[0m\u001b[0;34m\u001b[0m\u001b[0m\n\u001b[0;32m-> 1038\u001b[0;31m         outputs = self.model(\n\u001b[0m\u001b[1;32m   1039\u001b[0m             \u001b[0minput_ids\u001b[0m\u001b[0;34m=\u001b[0m\u001b[0minput_ids\u001b[0m\u001b[0;34m,\u001b[0m\u001b[0;34m\u001b[0m\u001b[0;34m\u001b[0m\u001b[0m\n\u001b[1;32m   1040\u001b[0m             \u001b[0mattention_mask\u001b[0m\u001b[0;34m=\u001b[0m\u001b[0mattention_mask\u001b[0m\u001b[0;34m,\u001b[0m\u001b[0;34m\u001b[0m\u001b[0;34m\u001b[0m\u001b[0m\n",
            "\u001b[0;32m/usr/local/lib/python3.10/dist-packages/torch/nn/modules/module.py\u001b[0m in \u001b[0;36m_wrapped_call_impl\u001b[0;34m(self, *args, **kwargs)\u001b[0m\n\u001b[1;32m   1516\u001b[0m             \u001b[0;32mreturn\u001b[0m \u001b[0mself\u001b[0m\u001b[0;34m.\u001b[0m\u001b[0m_compiled_call_impl\u001b[0m\u001b[0;34m(\u001b[0m\u001b[0;34m*\u001b[0m\u001b[0margs\u001b[0m\u001b[0;34m,\u001b[0m \u001b[0;34m**\u001b[0m\u001b[0mkwargs\u001b[0m\u001b[0;34m)\u001b[0m  \u001b[0;31m# type: ignore[misc]\u001b[0m\u001b[0;34m\u001b[0m\u001b[0;34m\u001b[0m\u001b[0m\n\u001b[1;32m   1517\u001b[0m         \u001b[0;32melse\u001b[0m\u001b[0;34m:\u001b[0m\u001b[0;34m\u001b[0m\u001b[0;34m\u001b[0m\u001b[0m\n\u001b[0;32m-> 1518\u001b[0;31m             \u001b[0;32mreturn\u001b[0m \u001b[0mself\u001b[0m\u001b[0;34m.\u001b[0m\u001b[0m_call_impl\u001b[0m\u001b[0;34m(\u001b[0m\u001b[0;34m*\u001b[0m\u001b[0margs\u001b[0m\u001b[0;34m,\u001b[0m \u001b[0;34m**\u001b[0m\u001b[0mkwargs\u001b[0m\u001b[0;34m)\u001b[0m\u001b[0;34m\u001b[0m\u001b[0;34m\u001b[0m\u001b[0m\n\u001b[0m\u001b[1;32m   1519\u001b[0m \u001b[0;34m\u001b[0m\u001b[0m\n\u001b[1;32m   1520\u001b[0m     \u001b[0;32mdef\u001b[0m \u001b[0m_call_impl\u001b[0m\u001b[0;34m(\u001b[0m\u001b[0mself\u001b[0m\u001b[0;34m,\u001b[0m \u001b[0;34m*\u001b[0m\u001b[0margs\u001b[0m\u001b[0;34m,\u001b[0m \u001b[0;34m**\u001b[0m\u001b[0mkwargs\u001b[0m\u001b[0;34m)\u001b[0m\u001b[0;34m:\u001b[0m\u001b[0;34m\u001b[0m\u001b[0;34m\u001b[0m\u001b[0m\n",
            "\u001b[0;32m/usr/local/lib/python3.10/dist-packages/torch/nn/modules/module.py\u001b[0m in \u001b[0;36m_call_impl\u001b[0;34m(self, *args, **kwargs)\u001b[0m\n\u001b[1;32m   1525\u001b[0m                 \u001b[0;32mor\u001b[0m \u001b[0m_global_backward_pre_hooks\u001b[0m \u001b[0;32mor\u001b[0m \u001b[0m_global_backward_hooks\u001b[0m\u001b[0;34m\u001b[0m\u001b[0;34m\u001b[0m\u001b[0m\n\u001b[1;32m   1526\u001b[0m                 or _global_forward_hooks or _global_forward_pre_hooks):\n\u001b[0;32m-> 1527\u001b[0;31m             \u001b[0;32mreturn\u001b[0m \u001b[0mforward_call\u001b[0m\u001b[0;34m(\u001b[0m\u001b[0;34m*\u001b[0m\u001b[0margs\u001b[0m\u001b[0;34m,\u001b[0m \u001b[0;34m**\u001b[0m\u001b[0mkwargs\u001b[0m\u001b[0;34m)\u001b[0m\u001b[0;34m\u001b[0m\u001b[0;34m\u001b[0m\u001b[0m\n\u001b[0m\u001b[1;32m   1528\u001b[0m \u001b[0;34m\u001b[0m\u001b[0m\n\u001b[1;32m   1529\u001b[0m         \u001b[0;32mtry\u001b[0m\u001b[0;34m:\u001b[0m\u001b[0;34m\u001b[0m\u001b[0;34m\u001b[0m\u001b[0m\n",
            "\u001b[0;32m/usr/local/lib/python3.10/dist-packages/transformers/models/llama/modeling_llama.py\u001b[0m in \u001b[0;36mforward\u001b[0;34m(self, input_ids, attention_mask, position_ids, past_key_values, inputs_embeds, use_cache, output_attentions, output_hidden_states, return_dict)\u001b[0m\n\u001b[1;32m    923\u001b[0m                 )\n\u001b[1;32m    924\u001b[0m             \u001b[0;32melse\u001b[0m\u001b[0;34m:\u001b[0m\u001b[0;34m\u001b[0m\u001b[0;34m\u001b[0m\u001b[0m\n\u001b[0;32m--> 925\u001b[0;31m                 layer_outputs = decoder_layer(\n\u001b[0m\u001b[1;32m    926\u001b[0m                     \u001b[0mhidden_states\u001b[0m\u001b[0;34m,\u001b[0m\u001b[0;34m\u001b[0m\u001b[0;34m\u001b[0m\u001b[0m\n\u001b[1;32m    927\u001b[0m                     \u001b[0mattention_mask\u001b[0m\u001b[0;34m=\u001b[0m\u001b[0mattention_mask\u001b[0m\u001b[0;34m,\u001b[0m\u001b[0;34m\u001b[0m\u001b[0;34m\u001b[0m\u001b[0m\n",
            "\u001b[0;32m/usr/local/lib/python3.10/dist-packages/torch/nn/modules/module.py\u001b[0m in \u001b[0;36m_wrapped_call_impl\u001b[0;34m(self, *args, **kwargs)\u001b[0m\n\u001b[1;32m   1516\u001b[0m             \u001b[0;32mreturn\u001b[0m \u001b[0mself\u001b[0m\u001b[0;34m.\u001b[0m\u001b[0m_compiled_call_impl\u001b[0m\u001b[0;34m(\u001b[0m\u001b[0;34m*\u001b[0m\u001b[0margs\u001b[0m\u001b[0;34m,\u001b[0m \u001b[0;34m**\u001b[0m\u001b[0mkwargs\u001b[0m\u001b[0;34m)\u001b[0m  \u001b[0;31m# type: ignore[misc]\u001b[0m\u001b[0;34m\u001b[0m\u001b[0;34m\u001b[0m\u001b[0m\n\u001b[1;32m   1517\u001b[0m         \u001b[0;32melse\u001b[0m\u001b[0;34m:\u001b[0m\u001b[0;34m\u001b[0m\u001b[0;34m\u001b[0m\u001b[0m\n\u001b[0;32m-> 1518\u001b[0;31m             \u001b[0;32mreturn\u001b[0m \u001b[0mself\u001b[0m\u001b[0;34m.\u001b[0m\u001b[0m_call_impl\u001b[0m\u001b[0;34m(\u001b[0m\u001b[0;34m*\u001b[0m\u001b[0margs\u001b[0m\u001b[0;34m,\u001b[0m \u001b[0;34m**\u001b[0m\u001b[0mkwargs\u001b[0m\u001b[0;34m)\u001b[0m\u001b[0;34m\u001b[0m\u001b[0;34m\u001b[0m\u001b[0m\n\u001b[0m\u001b[1;32m   1519\u001b[0m \u001b[0;34m\u001b[0m\u001b[0m\n\u001b[1;32m   1520\u001b[0m     \u001b[0;32mdef\u001b[0m \u001b[0m_call_impl\u001b[0m\u001b[0;34m(\u001b[0m\u001b[0mself\u001b[0m\u001b[0;34m,\u001b[0m \u001b[0;34m*\u001b[0m\u001b[0margs\u001b[0m\u001b[0;34m,\u001b[0m \u001b[0;34m**\u001b[0m\u001b[0mkwargs\u001b[0m\u001b[0;34m)\u001b[0m\u001b[0;34m:\u001b[0m\u001b[0;34m\u001b[0m\u001b[0;34m\u001b[0m\u001b[0m\n",
            "\u001b[0;32m/usr/local/lib/python3.10/dist-packages/torch/nn/modules/module.py\u001b[0m in \u001b[0;36m_call_impl\u001b[0;34m(self, *args, **kwargs)\u001b[0m\n\u001b[1;32m   1525\u001b[0m                 \u001b[0;32mor\u001b[0m \u001b[0m_global_backward_pre_hooks\u001b[0m \u001b[0;32mor\u001b[0m \u001b[0m_global_backward_hooks\u001b[0m\u001b[0;34m\u001b[0m\u001b[0;34m\u001b[0m\u001b[0m\n\u001b[1;32m   1526\u001b[0m                 or _global_forward_hooks or _global_forward_pre_hooks):\n\u001b[0;32m-> 1527\u001b[0;31m             \u001b[0;32mreturn\u001b[0m \u001b[0mforward_call\u001b[0m\u001b[0;34m(\u001b[0m\u001b[0;34m*\u001b[0m\u001b[0margs\u001b[0m\u001b[0;34m,\u001b[0m \u001b[0;34m**\u001b[0m\u001b[0mkwargs\u001b[0m\u001b[0;34m)\u001b[0m\u001b[0;34m\u001b[0m\u001b[0;34m\u001b[0m\u001b[0m\n\u001b[0m\u001b[1;32m   1528\u001b[0m \u001b[0;34m\u001b[0m\u001b[0m\n\u001b[1;32m   1529\u001b[0m         \u001b[0;32mtry\u001b[0m\u001b[0;34m:\u001b[0m\u001b[0;34m\u001b[0m\u001b[0;34m\u001b[0m\u001b[0m\n",
            "\u001b[0;32m/usr/local/lib/python3.10/dist-packages/accelerate/hooks.py\u001b[0m in \u001b[0;36mnew_forward\u001b[0;34m(module, *args, **kwargs)\u001b[0m\n\u001b[1;32m    162\u001b[0m                 \u001b[0moutput\u001b[0m \u001b[0;34m=\u001b[0m \u001b[0mmodule\u001b[0m\u001b[0;34m.\u001b[0m\u001b[0m_old_forward\u001b[0m\u001b[0;34m(\u001b[0m\u001b[0;34m*\u001b[0m\u001b[0margs\u001b[0m\u001b[0;34m,\u001b[0m \u001b[0;34m**\u001b[0m\u001b[0mkwargs\u001b[0m\u001b[0;34m)\u001b[0m\u001b[0;34m\u001b[0m\u001b[0;34m\u001b[0m\u001b[0m\n\u001b[1;32m    163\u001b[0m         \u001b[0;32melse\u001b[0m\u001b[0;34m:\u001b[0m\u001b[0;34m\u001b[0m\u001b[0;34m\u001b[0m\u001b[0m\n\u001b[0;32m--> 164\u001b[0;31m             \u001b[0moutput\u001b[0m \u001b[0;34m=\u001b[0m \u001b[0mmodule\u001b[0m\u001b[0;34m.\u001b[0m\u001b[0m_old_forward\u001b[0m\u001b[0;34m(\u001b[0m\u001b[0;34m*\u001b[0m\u001b[0margs\u001b[0m\u001b[0;34m,\u001b[0m \u001b[0;34m**\u001b[0m\u001b[0mkwargs\u001b[0m\u001b[0;34m)\u001b[0m\u001b[0;34m\u001b[0m\u001b[0;34m\u001b[0m\u001b[0m\n\u001b[0m\u001b[1;32m    165\u001b[0m         \u001b[0;32mreturn\u001b[0m \u001b[0mmodule\u001b[0m\u001b[0;34m.\u001b[0m\u001b[0m_hf_hook\u001b[0m\u001b[0;34m.\u001b[0m\u001b[0mpost_forward\u001b[0m\u001b[0;34m(\u001b[0m\u001b[0mmodule\u001b[0m\u001b[0;34m,\u001b[0m \u001b[0moutput\u001b[0m\u001b[0;34m)\u001b[0m\u001b[0;34m\u001b[0m\u001b[0;34m\u001b[0m\u001b[0m\n\u001b[1;32m    166\u001b[0m \u001b[0;34m\u001b[0m\u001b[0m\n",
            "\u001b[0;32m/usr/local/lib/python3.10/dist-packages/transformers/models/llama/modeling_llama.py\u001b[0m in \u001b[0;36mforward\u001b[0;34m(self, hidden_states, attention_mask, position_ids, past_key_value, output_attentions, use_cache, padding_mask)\u001b[0m\n\u001b[1;32m    647\u001b[0m         \u001b[0mresidual\u001b[0m \u001b[0;34m=\u001b[0m \u001b[0mhidden_states\u001b[0m\u001b[0;34m\u001b[0m\u001b[0;34m\u001b[0m\u001b[0m\n\u001b[1;32m    648\u001b[0m         \u001b[0mhidden_states\u001b[0m \u001b[0;34m=\u001b[0m \u001b[0mself\u001b[0m\u001b[0;34m.\u001b[0m\u001b[0mpost_attention_layernorm\u001b[0m\u001b[0;34m(\u001b[0m\u001b[0mhidden_states\u001b[0m\u001b[0;34m)\u001b[0m\u001b[0;34m\u001b[0m\u001b[0;34m\u001b[0m\u001b[0m\n\u001b[0;32m--> 649\u001b[0;31m         \u001b[0mhidden_states\u001b[0m \u001b[0;34m=\u001b[0m \u001b[0mself\u001b[0m\u001b[0;34m.\u001b[0m\u001b[0mmlp\u001b[0m\u001b[0;34m(\u001b[0m\u001b[0mhidden_states\u001b[0m\u001b[0;34m)\u001b[0m\u001b[0;34m\u001b[0m\u001b[0;34m\u001b[0m\u001b[0m\n\u001b[0m\u001b[1;32m    650\u001b[0m         \u001b[0mhidden_states\u001b[0m \u001b[0;34m=\u001b[0m \u001b[0mresidual\u001b[0m \u001b[0;34m+\u001b[0m \u001b[0mhidden_states\u001b[0m\u001b[0;34m\u001b[0m\u001b[0;34m\u001b[0m\u001b[0m\n\u001b[1;32m    651\u001b[0m \u001b[0;34m\u001b[0m\u001b[0m\n",
            "\u001b[0;32m/usr/local/lib/python3.10/dist-packages/torch/nn/modules/module.py\u001b[0m in \u001b[0;36m_wrapped_call_impl\u001b[0;34m(self, *args, **kwargs)\u001b[0m\n\u001b[1;32m   1516\u001b[0m             \u001b[0;32mreturn\u001b[0m \u001b[0mself\u001b[0m\u001b[0;34m.\u001b[0m\u001b[0m_compiled_call_impl\u001b[0m\u001b[0;34m(\u001b[0m\u001b[0;34m*\u001b[0m\u001b[0margs\u001b[0m\u001b[0;34m,\u001b[0m \u001b[0;34m**\u001b[0m\u001b[0mkwargs\u001b[0m\u001b[0;34m)\u001b[0m  \u001b[0;31m# type: ignore[misc]\u001b[0m\u001b[0;34m\u001b[0m\u001b[0;34m\u001b[0m\u001b[0m\n\u001b[1;32m   1517\u001b[0m         \u001b[0;32melse\u001b[0m\u001b[0;34m:\u001b[0m\u001b[0;34m\u001b[0m\u001b[0;34m\u001b[0m\u001b[0m\n\u001b[0;32m-> 1518\u001b[0;31m             \u001b[0;32mreturn\u001b[0m \u001b[0mself\u001b[0m\u001b[0;34m.\u001b[0m\u001b[0m_call_impl\u001b[0m\u001b[0;34m(\u001b[0m\u001b[0;34m*\u001b[0m\u001b[0margs\u001b[0m\u001b[0;34m,\u001b[0m \u001b[0;34m**\u001b[0m\u001b[0mkwargs\u001b[0m\u001b[0;34m)\u001b[0m\u001b[0;34m\u001b[0m\u001b[0;34m\u001b[0m\u001b[0m\n\u001b[0m\u001b[1;32m   1519\u001b[0m \u001b[0;34m\u001b[0m\u001b[0m\n\u001b[1;32m   1520\u001b[0m     \u001b[0;32mdef\u001b[0m \u001b[0m_call_impl\u001b[0m\u001b[0;34m(\u001b[0m\u001b[0mself\u001b[0m\u001b[0;34m,\u001b[0m \u001b[0;34m*\u001b[0m\u001b[0margs\u001b[0m\u001b[0;34m,\u001b[0m \u001b[0;34m**\u001b[0m\u001b[0mkwargs\u001b[0m\u001b[0;34m)\u001b[0m\u001b[0;34m:\u001b[0m\u001b[0;34m\u001b[0m\u001b[0;34m\u001b[0m\u001b[0m\n",
            "\u001b[0;32m/usr/local/lib/python3.10/dist-packages/torch/nn/modules/module.py\u001b[0m in \u001b[0;36m_call_impl\u001b[0;34m(self, *args, **kwargs)\u001b[0m\n\u001b[1;32m   1525\u001b[0m                 \u001b[0;32mor\u001b[0m \u001b[0m_global_backward_pre_hooks\u001b[0m \u001b[0;32mor\u001b[0m \u001b[0m_global_backward_hooks\u001b[0m\u001b[0;34m\u001b[0m\u001b[0;34m\u001b[0m\u001b[0m\n\u001b[1;32m   1526\u001b[0m                 or _global_forward_hooks or _global_forward_pre_hooks):\n\u001b[0;32m-> 1527\u001b[0;31m             \u001b[0;32mreturn\u001b[0m \u001b[0mforward_call\u001b[0m\u001b[0;34m(\u001b[0m\u001b[0;34m*\u001b[0m\u001b[0margs\u001b[0m\u001b[0;34m,\u001b[0m \u001b[0;34m**\u001b[0m\u001b[0mkwargs\u001b[0m\u001b[0;34m)\u001b[0m\u001b[0;34m\u001b[0m\u001b[0;34m\u001b[0m\u001b[0m\n\u001b[0m\u001b[1;32m   1528\u001b[0m \u001b[0;34m\u001b[0m\u001b[0m\n\u001b[1;32m   1529\u001b[0m         \u001b[0;32mtry\u001b[0m\u001b[0;34m:\u001b[0m\u001b[0;34m\u001b[0m\u001b[0;34m\u001b[0m\u001b[0m\n",
            "\u001b[0;32m/usr/local/lib/python3.10/dist-packages/accelerate/hooks.py\u001b[0m in \u001b[0;36mnew_forward\u001b[0;34m(module, *args, **kwargs)\u001b[0m\n\u001b[1;32m    162\u001b[0m                 \u001b[0moutput\u001b[0m \u001b[0;34m=\u001b[0m \u001b[0mmodule\u001b[0m\u001b[0;34m.\u001b[0m\u001b[0m_old_forward\u001b[0m\u001b[0;34m(\u001b[0m\u001b[0;34m*\u001b[0m\u001b[0margs\u001b[0m\u001b[0;34m,\u001b[0m \u001b[0;34m**\u001b[0m\u001b[0mkwargs\u001b[0m\u001b[0;34m)\u001b[0m\u001b[0;34m\u001b[0m\u001b[0;34m\u001b[0m\u001b[0m\n\u001b[1;32m    163\u001b[0m         \u001b[0;32melse\u001b[0m\u001b[0;34m:\u001b[0m\u001b[0;34m\u001b[0m\u001b[0;34m\u001b[0m\u001b[0m\n\u001b[0;32m--> 164\u001b[0;31m             \u001b[0moutput\u001b[0m \u001b[0;34m=\u001b[0m \u001b[0mmodule\u001b[0m\u001b[0;34m.\u001b[0m\u001b[0m_old_forward\u001b[0m\u001b[0;34m(\u001b[0m\u001b[0;34m*\u001b[0m\u001b[0margs\u001b[0m\u001b[0;34m,\u001b[0m \u001b[0;34m**\u001b[0m\u001b[0mkwargs\u001b[0m\u001b[0;34m)\u001b[0m\u001b[0;34m\u001b[0m\u001b[0;34m\u001b[0m\u001b[0m\n\u001b[0m\u001b[1;32m    165\u001b[0m         \u001b[0;32mreturn\u001b[0m \u001b[0mmodule\u001b[0m\u001b[0;34m.\u001b[0m\u001b[0m_hf_hook\u001b[0m\u001b[0;34m.\u001b[0m\u001b[0mpost_forward\u001b[0m\u001b[0;34m(\u001b[0m\u001b[0mmodule\u001b[0m\u001b[0;34m,\u001b[0m \u001b[0moutput\u001b[0m\u001b[0;34m)\u001b[0m\u001b[0;34m\u001b[0m\u001b[0;34m\u001b[0m\u001b[0m\n\u001b[1;32m    166\u001b[0m \u001b[0;34m\u001b[0m\u001b[0m\n",
            "\u001b[0;32m/usr/local/lib/python3.10/dist-packages/transformers/models/llama/modeling_llama.py\u001b[0m in \u001b[0;36mforward\u001b[0;34m(self, x)\u001b[0m\n\u001b[1;32m    245\u001b[0m             \u001b[0mdown_proj\u001b[0m \u001b[0;34m=\u001b[0m \u001b[0msum\u001b[0m\u001b[0;34m(\u001b[0m\u001b[0mdown_proj\u001b[0m\u001b[0;34m)\u001b[0m\u001b[0;34m\u001b[0m\u001b[0;34m\u001b[0m\u001b[0m\n\u001b[1;32m    246\u001b[0m         \u001b[0;32melse\u001b[0m\u001b[0;34m:\u001b[0m\u001b[0;34m\u001b[0m\u001b[0;34m\u001b[0m\u001b[0m\n\u001b[0;32m--> 247\u001b[0;31m             \u001b[0mdown_proj\u001b[0m \u001b[0;34m=\u001b[0m \u001b[0mself\u001b[0m\u001b[0;34m.\u001b[0m\u001b[0mdown_proj\u001b[0m\u001b[0;34m(\u001b[0m\u001b[0mself\u001b[0m\u001b[0;34m.\u001b[0m\u001b[0mact_fn\u001b[0m\u001b[0;34m(\u001b[0m\u001b[0mself\u001b[0m\u001b[0;34m.\u001b[0m\u001b[0mgate_proj\u001b[0m\u001b[0;34m(\u001b[0m\u001b[0mx\u001b[0m\u001b[0;34m)\u001b[0m\u001b[0;34m)\u001b[0m \u001b[0;34m*\u001b[0m \u001b[0mself\u001b[0m\u001b[0;34m.\u001b[0m\u001b[0mup_proj\u001b[0m\u001b[0;34m(\u001b[0m\u001b[0mx\u001b[0m\u001b[0;34m)\u001b[0m\u001b[0;34m)\u001b[0m\u001b[0;34m\u001b[0m\u001b[0;34m\u001b[0m\u001b[0m\n\u001b[0m\u001b[1;32m    248\u001b[0m \u001b[0;34m\u001b[0m\u001b[0m\n\u001b[1;32m    249\u001b[0m         \u001b[0;32mreturn\u001b[0m \u001b[0mdown_proj\u001b[0m\u001b[0;34m\u001b[0m\u001b[0;34m\u001b[0m\u001b[0m\n",
            "\u001b[0;32m/usr/local/lib/python3.10/dist-packages/torch/nn/modules/module.py\u001b[0m in \u001b[0;36m_wrapped_call_impl\u001b[0;34m(self, *args, **kwargs)\u001b[0m\n\u001b[1;32m   1516\u001b[0m             \u001b[0;32mreturn\u001b[0m \u001b[0mself\u001b[0m\u001b[0;34m.\u001b[0m\u001b[0m_compiled_call_impl\u001b[0m\u001b[0;34m(\u001b[0m\u001b[0;34m*\u001b[0m\u001b[0margs\u001b[0m\u001b[0;34m,\u001b[0m \u001b[0;34m**\u001b[0m\u001b[0mkwargs\u001b[0m\u001b[0;34m)\u001b[0m  \u001b[0;31m# type: ignore[misc]\u001b[0m\u001b[0;34m\u001b[0m\u001b[0;34m\u001b[0m\u001b[0m\n\u001b[1;32m   1517\u001b[0m         \u001b[0;32melse\u001b[0m\u001b[0;34m:\u001b[0m\u001b[0;34m\u001b[0m\u001b[0;34m\u001b[0m\u001b[0m\n\u001b[0;32m-> 1518\u001b[0;31m             \u001b[0;32mreturn\u001b[0m \u001b[0mself\u001b[0m\u001b[0;34m.\u001b[0m\u001b[0m_call_impl\u001b[0m\u001b[0;34m(\u001b[0m\u001b[0;34m*\u001b[0m\u001b[0margs\u001b[0m\u001b[0;34m,\u001b[0m \u001b[0;34m**\u001b[0m\u001b[0mkwargs\u001b[0m\u001b[0;34m)\u001b[0m\u001b[0;34m\u001b[0m\u001b[0;34m\u001b[0m\u001b[0m\n\u001b[0m\u001b[1;32m   1519\u001b[0m \u001b[0;34m\u001b[0m\u001b[0m\n\u001b[1;32m   1520\u001b[0m     \u001b[0;32mdef\u001b[0m \u001b[0m_call_impl\u001b[0m\u001b[0;34m(\u001b[0m\u001b[0mself\u001b[0m\u001b[0;34m,\u001b[0m \u001b[0;34m*\u001b[0m\u001b[0margs\u001b[0m\u001b[0;34m,\u001b[0m \u001b[0;34m**\u001b[0m\u001b[0mkwargs\u001b[0m\u001b[0;34m)\u001b[0m\u001b[0;34m:\u001b[0m\u001b[0;34m\u001b[0m\u001b[0;34m\u001b[0m\u001b[0m\n",
            "\u001b[0;32m/usr/local/lib/python3.10/dist-packages/torch/nn/modules/module.py\u001b[0m in \u001b[0;36m_call_impl\u001b[0;34m(self, *args, **kwargs)\u001b[0m\n\u001b[1;32m   1525\u001b[0m                 \u001b[0;32mor\u001b[0m \u001b[0m_global_backward_pre_hooks\u001b[0m \u001b[0;32mor\u001b[0m \u001b[0m_global_backward_hooks\u001b[0m\u001b[0;34m\u001b[0m\u001b[0;34m\u001b[0m\u001b[0m\n\u001b[1;32m   1526\u001b[0m                 or _global_forward_hooks or _global_forward_pre_hooks):\n\u001b[0;32m-> 1527\u001b[0;31m             \u001b[0;32mreturn\u001b[0m \u001b[0mforward_call\u001b[0m\u001b[0;34m(\u001b[0m\u001b[0;34m*\u001b[0m\u001b[0margs\u001b[0m\u001b[0;34m,\u001b[0m \u001b[0;34m**\u001b[0m\u001b[0mkwargs\u001b[0m\u001b[0;34m)\u001b[0m\u001b[0;34m\u001b[0m\u001b[0;34m\u001b[0m\u001b[0m\n\u001b[0m\u001b[1;32m   1528\u001b[0m \u001b[0;34m\u001b[0m\u001b[0m\n\u001b[1;32m   1529\u001b[0m         \u001b[0;32mtry\u001b[0m\u001b[0;34m:\u001b[0m\u001b[0;34m\u001b[0m\u001b[0;34m\u001b[0m\u001b[0m\n",
            "\u001b[0;32m/usr/local/lib/python3.10/dist-packages/accelerate/hooks.py\u001b[0m in \u001b[0;36mnew_forward\u001b[0;34m(module, *args, **kwargs)\u001b[0m\n\u001b[1;32m    157\u001b[0m \u001b[0;34m\u001b[0m\u001b[0m\n\u001b[1;32m    158\u001b[0m     \u001b[0;32mdef\u001b[0m \u001b[0mnew_forward\u001b[0m\u001b[0;34m(\u001b[0m\u001b[0mmodule\u001b[0m\u001b[0;34m,\u001b[0m \u001b[0;34m*\u001b[0m\u001b[0margs\u001b[0m\u001b[0;34m,\u001b[0m \u001b[0;34m**\u001b[0m\u001b[0mkwargs\u001b[0m\u001b[0;34m)\u001b[0m\u001b[0;34m:\u001b[0m\u001b[0;34m\u001b[0m\u001b[0;34m\u001b[0m\u001b[0m\n\u001b[0;32m--> 159\u001b[0;31m         \u001b[0margs\u001b[0m\u001b[0;34m,\u001b[0m \u001b[0mkwargs\u001b[0m \u001b[0;34m=\u001b[0m \u001b[0mmodule\u001b[0m\u001b[0;34m.\u001b[0m\u001b[0m_hf_hook\u001b[0m\u001b[0;34m.\u001b[0m\u001b[0mpre_forward\u001b[0m\u001b[0;34m(\u001b[0m\u001b[0mmodule\u001b[0m\u001b[0;34m,\u001b[0m \u001b[0;34m*\u001b[0m\u001b[0margs\u001b[0m\u001b[0;34m,\u001b[0m \u001b[0;34m**\u001b[0m\u001b[0mkwargs\u001b[0m\u001b[0;34m)\u001b[0m\u001b[0;34m\u001b[0m\u001b[0;34m\u001b[0m\u001b[0m\n\u001b[0m\u001b[1;32m    160\u001b[0m         \u001b[0;32mif\u001b[0m \u001b[0mmodule\u001b[0m\u001b[0;34m.\u001b[0m\u001b[0m_hf_hook\u001b[0m\u001b[0;34m.\u001b[0m\u001b[0mno_grad\u001b[0m\u001b[0;34m:\u001b[0m\u001b[0;34m\u001b[0m\u001b[0;34m\u001b[0m\u001b[0m\n\u001b[1;32m    161\u001b[0m             \u001b[0;32mwith\u001b[0m \u001b[0mtorch\u001b[0m\u001b[0;34m.\u001b[0m\u001b[0mno_grad\u001b[0m\u001b[0;34m(\u001b[0m\u001b[0;34m)\u001b[0m\u001b[0;34m:\u001b[0m\u001b[0;34m\u001b[0m\u001b[0;34m\u001b[0m\u001b[0m\n",
            "\u001b[0;32m/usr/local/lib/python3.10/dist-packages/accelerate/hooks.py\u001b[0m in \u001b[0;36mpre_forward\u001b[0;34m(self, module, *args, **kwargs)\u001b[0m\n\u001b[1;32m    285\u001b[0m                         \u001b[0mfp16_statistics\u001b[0m \u001b[0;34m=\u001b[0m \u001b[0mself\u001b[0m\u001b[0;34m.\u001b[0m\u001b[0mweights_map\u001b[0m\u001b[0;34m[\u001b[0m\u001b[0mname\u001b[0m\u001b[0;34m.\u001b[0m\u001b[0mreplace\u001b[0m\u001b[0;34m(\u001b[0m\u001b[0;34m\"weight\"\u001b[0m\u001b[0;34m,\u001b[0m \u001b[0;34m\"SCB\"\u001b[0m\u001b[0;34m)\u001b[0m\u001b[0;34m]\u001b[0m\u001b[0;34m\u001b[0m\u001b[0;34m\u001b[0m\u001b[0m\n\u001b[1;32m    286\u001b[0m                 set_module_tensor_to_device(\n\u001b[0;32m--> 287\u001b[0;31m                     \u001b[0mmodule\u001b[0m\u001b[0;34m,\u001b[0m \u001b[0mname\u001b[0m\u001b[0;34m,\u001b[0m \u001b[0mself\u001b[0m\u001b[0;34m.\u001b[0m\u001b[0mexecution_device\u001b[0m\u001b[0;34m,\u001b[0m \u001b[0mvalue\u001b[0m\u001b[0;34m=\u001b[0m\u001b[0mself\u001b[0m\u001b[0;34m.\u001b[0m\u001b[0mweights_map\u001b[0m\u001b[0;34m[\u001b[0m\u001b[0mname\u001b[0m\u001b[0;34m]\u001b[0m\u001b[0;34m,\u001b[0m \u001b[0mfp16_statistics\u001b[0m\u001b[0;34m=\u001b[0m\u001b[0mfp16_statistics\u001b[0m\u001b[0;34m\u001b[0m\u001b[0;34m\u001b[0m\u001b[0m\n\u001b[0m\u001b[1;32m    288\u001b[0m                 )\n\u001b[1;32m    289\u001b[0m \u001b[0;34m\u001b[0m\u001b[0m\n",
            "\u001b[0;32m/usr/local/lib/python3.10/dist-packages/accelerate/utils/offload.py\u001b[0m in \u001b[0;36m__getitem__\u001b[0;34m(self, key)\u001b[0m\n\u001b[1;32m    117\u001b[0m \u001b[0;34m\u001b[0m\u001b[0m\n\u001b[1;32m    118\u001b[0m     \u001b[0;32mdef\u001b[0m \u001b[0m__getitem__\u001b[0m\u001b[0;34m(\u001b[0m\u001b[0mself\u001b[0m\u001b[0;34m,\u001b[0m \u001b[0mkey\u001b[0m\u001b[0;34m)\u001b[0m\u001b[0;34m:\u001b[0m\u001b[0;34m\u001b[0m\u001b[0;34m\u001b[0m\u001b[0m\n\u001b[0;32m--> 119\u001b[0;31m         \u001b[0;32mreturn\u001b[0m \u001b[0mself\u001b[0m\u001b[0;34m.\u001b[0m\u001b[0mdataset\u001b[0m\u001b[0;34m[\u001b[0m\u001b[0;34mf\"{self.prefix}{key}\"\u001b[0m\u001b[0;34m]\u001b[0m\u001b[0;34m\u001b[0m\u001b[0;34m\u001b[0m\u001b[0m\n\u001b[0m\u001b[1;32m    120\u001b[0m \u001b[0;34m\u001b[0m\u001b[0m\n\u001b[1;32m    121\u001b[0m     \u001b[0;32mdef\u001b[0m \u001b[0m__iter__\u001b[0m\u001b[0;34m(\u001b[0m\u001b[0mself\u001b[0m\u001b[0;34m)\u001b[0m\u001b[0;34m:\u001b[0m\u001b[0;34m\u001b[0m\u001b[0;34m\u001b[0m\u001b[0m\n",
            "\u001b[0;32m/usr/local/lib/python3.10/dist-packages/accelerate/utils/offload.py\u001b[0m in \u001b[0;36m__getitem__\u001b[0;34m(self, key)\u001b[0m\n\u001b[1;32m    176\u001b[0m \u001b[0;34m\u001b[0m\u001b[0m\n\u001b[1;32m    177\u001b[0m             \u001b[0;32mif\u001b[0m \u001b[0;34m\"dtype\"\u001b[0m \u001b[0;32min\u001b[0m \u001b[0mweight_info\u001b[0m\u001b[0;34m:\u001b[0m\u001b[0;34m\u001b[0m\u001b[0;34m\u001b[0m\u001b[0m\n\u001b[0;32m--> 178\u001b[0;31m                 \u001b[0;32mreturn\u001b[0m \u001b[0mtensor\u001b[0m\u001b[0;34m.\u001b[0m\u001b[0mto\u001b[0m\u001b[0;34m(\u001b[0m\u001b[0mgetattr\u001b[0m\u001b[0;34m(\u001b[0m\u001b[0mtorch\u001b[0m\u001b[0;34m,\u001b[0m \u001b[0mweight_info\u001b[0m\u001b[0;34m[\u001b[0m\u001b[0;34m\"dtype\"\u001b[0m\u001b[0;34m]\u001b[0m\u001b[0;34m)\u001b[0m\u001b[0;34m)\u001b[0m\u001b[0;34m\u001b[0m\u001b[0;34m\u001b[0m\u001b[0m\n\u001b[0m\u001b[1;32m    179\u001b[0m             \u001b[0;32melse\u001b[0m\u001b[0;34m:\u001b[0m\u001b[0;34m\u001b[0m\u001b[0;34m\u001b[0m\u001b[0m\n\u001b[1;32m    180\u001b[0m                 \u001b[0;32mreturn\u001b[0m \u001b[0mtensor\u001b[0m\u001b[0;34m\u001b[0m\u001b[0;34m\u001b[0m\u001b[0m\n",
            "\u001b[0;31mKeyboardInterrupt\u001b[0m: "
          ]
        }
      ]
    },
    {
      "cell_type": "code",
      "source": [
        "# Create a TokenTextSplitter instance\n",
        "#text_splitter = TokenTextSplitter(chunk_size=500, chunk_overlap=25)\n",
        "\n",
        "pdf_file_path = '/content/drive/My Drive/Colab/Transformer/result.pdf'\n",
        "\n",
        "pdf_loader = PyPDFLoader(pdf_file_path) #UnstructuredPDFLoader not working\n",
        "\n",
        "pages = pdf_loader.load_and_split()\n",
        "\n",
        "\n",
        "\n",
        "\n",
        "# loader = TextLoader(\"/content/result.pdf\",\n",
        "#                     encoding=\"utf8\")\n",
        "# documents = loader.load()"
      ],
      "metadata": {
        "id": "xfdXXRHDnPNl"
      },
      "execution_count": 16,
      "outputs": []
    },
    {
      "cell_type": "code",
      "source": [
        "# text_splitter = RecursiveCharacterTextSplitter(chunk_size=1000, chunk_overlap=20)\n",
        "# all_splits = text_splitter.split_documents(documents)"
      ],
      "metadata": {
        "id": "piHwa4o3nWWX"
      },
      "execution_count": null,
      "outputs": []
    },
    {
      "cell_type": "code",
      "source": [
        "model_name = \"bert-base-uncased\" #sentence-transformers/all-mpnet-base-v2\"\n",
        "model_kwargs = {\"device\": \"cuda\"}\n",
        "\n",
        "# from transformers import BertConfig, BertModel\n",
        "\n",
        "# # Initializing a BERT bert-base-uncased style configuration\n",
        "# configuration = BertConfig()\n",
        "\n",
        "# # Initializing a model (with random weights) from the bert-base-uncased style configuration\n",
        "# model = BertModel(configuration)\n",
        "\n",
        "embeddings = HuggingFaceEmbeddings(model_name=model_name, model_kwargs=model_kwargs)"
      ],
      "metadata": {
        "colab": {
          "base_uri": "https://localhost:8080/"
        },
        "id": "D7Ts8sHUnafJ",
        "outputId": "6b5c4889-43f7-42dd-c457-1f3daa10894d"
      },
      "execution_count": 17,
      "outputs": [
        {
          "output_type": "stream",
          "name": "stderr",
          "text": [
            "WARNING:sentence_transformers.SentenceTransformer:No sentence-transformers model found with name /root/.cache/torch/sentence_transformers/bert-base-uncased. Creating a new one with MEAN pooling.\n"
          ]
        }
      ]
    },
    {
      "cell_type": "code",
      "source": [
        "# db = Chroma.from_documents(pages, embeddings)\n",
        "# retriever = db.as_retriever()"
      ],
      "metadata": {
        "id": "ruOU7U6URv6L"
      },
      "execution_count": null,
      "outputs": []
    },
    {
      "cell_type": "code",
      "source": [
        "# import torch\n",
        "\n",
        "# # Check if a GPU is available\n",
        "# if torch.cuda.is_available():\n",
        "#     device = torch.device(\"cuda\")\n",
        "# else:\n",
        "#     device = torch.device(\"cpu\")\n",
        "\n",
        "# # Your model and data operations\n",
        "# # model.to(device)\n",
        "# pages.to(device)"
      ],
      "metadata": {
        "id": "7FYHUqMCbqz6"
      },
      "execution_count": null,
      "outputs": []
    },
    {
      "cell_type": "code",
      "source": [
        "\n",
        "vectordb = Chroma.from_documents(documents=pages, embedding=embeddings, persist_directory=\"chroma_db\")"
      ],
      "metadata": {
        "id": "-48A1v4QneYx"
      },
      "execution_count": null,
      "outputs": []
    },
    {
      "cell_type": "code",
      "source": [
        "retriever = vectordb.as_retriever()\n",
        "llm = HuggingFacePipeline(pipeline=query_pipeline)\n",
        "\n",
        "qa = RetrievalQA.from_chain_type(\n",
        "    llm=llm,\n",
        "    chain_type=\"stuff\",\n",
        "    retriever=retriever,\n",
        "    verbose=True\n",
        ")"
      ],
      "metadata": {
        "id": "p_Tuwbb6ng4-"
      },
      "execution_count": null,
      "outputs": []
    },
    {
      "cell_type": "code",
      "source": [
        "def test_rag(qa, query):\n",
        "    print(f\"Query: {query}\\n\")\n",
        "    time_1 = time()\n",
        "    result = qa.run(query)\n",
        "    time_2 = time()\n",
        "    print(f\"Inference time: {round(time_2-time_1, 3)} sec.\")\n",
        "    print(\"\\nResult: \", result)"
      ],
      "metadata": {
        "id": "KxWmeheAnjZS"
      },
      "execution_count": null,
      "outputs": []
    },
    {
      "cell_type": "code",
      "source": [
        "import torch\n",
        "torch.cuda.empty_cache()"
      ],
      "metadata": {
        "id": "Ef0VB8KfV-uK"
      },
      "execution_count": 17,
      "outputs": []
    },
    {
      "cell_type": "code",
      "source": [
        "query = \"What is the most common application of machine learning for inventory management? Summarize. Keep it under 200 words.\"\n",
        "test_rag(qa, query)"
      ],
      "metadata": {
        "id": "aYJUV-11nlbR"
      },
      "execution_count": null,
      "outputs": []
    },
    {
      "cell_type": "code",
      "source": [
        "query = \"WWhat is the most common application of machine learning for demand forcasting in supply chain management? Summarize. Keep it under 200 words.\"\n",
        "test_rag(qa, query)"
      ],
      "metadata": {
        "id": "v8G2Blmkno3v"
      },
      "execution_count": null,
      "outputs": []
    },
    {
      "cell_type": "code",
      "source": [
        "\n",
        "docs = vectordb.similarity_search(query)\n",
        "print(f\"Query: {query}\")\n",
        "print(f\"Retrieved documents: {len(docs)}\")\n",
        "for doc in docs:\n",
        "    doc_details = doc.to_json()['kwargs']\n",
        "    print(\"Source: \", doc_details['metadata']['source'])\n",
        "    print(\"Text: \", doc_details['page_content'], \"\\n\")"
      ],
      "metadata": {
        "id": "bJxwLRDBnrqN"
      },
      "execution_count": null,
      "outputs": []
    }
  ]
}